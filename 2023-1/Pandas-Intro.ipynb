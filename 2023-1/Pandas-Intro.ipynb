{
 "cells": [
  {
   "cell_type": "markdown",
   "id": "613a44cb-9dac-4b2c-a221-645849573429",
   "metadata": {},
   "source": [
    "# Python Pandas"
   ]
  },
  {
   "cell_type": "code",
   "execution_count": 1,
   "id": "5e23a326-7454-4541-a5ed-f35087184edd",
   "metadata": {
    "tags": []
   },
   "outputs": [
    {
     "data": {
      "text/html": [
       "<div>\n",
       "<style scoped>\n",
       "    .dataframe tbody tr th:only-of-type {\n",
       "        vertical-align: middle;\n",
       "    }\n",
       "\n",
       "    .dataframe tbody tr th {\n",
       "        vertical-align: top;\n",
       "    }\n",
       "\n",
       "    .dataframe thead th {\n",
       "        text-align: right;\n",
       "    }\n",
       "</style>\n",
       "<table border=\"1\" class=\"dataframe\">\n",
       "  <thead>\n",
       "    <tr style=\"text-align: right;\">\n",
       "      <th></th>\n",
       "      <th>Código</th>\n",
       "      <th>Produto</th>\n",
       "      <th>Quantidade</th>\n",
       "      <th>Preço</th>\n",
       "    </tr>\n",
       "  </thead>\n",
       "  <tbody>\n",
       "    <tr>\n",
       "      <th>0</th>\n",
       "      <td>217</td>\n",
       "      <td>Banana</td>\n",
       "      <td>49</td>\n",
       "      <td>99.75</td>\n",
       "    </tr>\n",
       "    <tr>\n",
       "      <th>1</th>\n",
       "      <td>6144</td>\n",
       "      <td>Uva</td>\n",
       "      <td>7</td>\n",
       "      <td>91.84</td>\n",
       "    </tr>\n",
       "    <tr>\n",
       "      <th>2</th>\n",
       "      <td>1866</td>\n",
       "      <td>Maçã</td>\n",
       "      <td>1</td>\n",
       "      <td>34.21</td>\n",
       "    </tr>\n",
       "    <tr>\n",
       "      <th>3</th>\n",
       "      <td>3464</td>\n",
       "      <td>Meia</td>\n",
       "      <td>50</td>\n",
       "      <td>52.22</td>\n",
       "    </tr>\n",
       "    <tr>\n",
       "      <th>4</th>\n",
       "      <td>5710</td>\n",
       "      <td>Boné</td>\n",
       "      <td>22</td>\n",
       "      <td>87.73</td>\n",
       "    </tr>\n",
       "  </tbody>\n",
       "</table>\n",
       "</div>"
      ],
      "text/plain": [
       "   Código Produto  Quantidade  Preço\n",
       "0     217  Banana          49  99.75\n",
       "1    6144     Uva           7  91.84\n",
       "2    1866    Maçã           1  34.21\n",
       "3    3464    Meia          50  52.22\n",
       "4    5710    Boné          22  87.73"
      ]
     },
     "metadata": {},
     "output_type": "display_data"
    }
   ],
   "source": [
    "import numpy as np\n",
    "import pandas as pd\n",
    "import random\n",
    "from IPython.core.display import HTML, Markdown\n",
    "\n",
    "# Gerando dados aleatórios para a tabela de exemplo\n",
    "palavras_exemplo = ['Camiseta', 'Calça', 'Sapato', 'Meia', 'Boné', 'Maçã', 'Banana', 'Laranja', 'Uva', 'Abacaxi', 'Morango', 'Pêra', 'Kiwi', 'Melancia', 'Mamão']\n",
    "num_linhas = 100\n",
    "palavras_aleatorias = random.choices(palavras_exemplo, k=num_linhas)\n",
    "quantidades = [random.randint(1, 50) for _ in range(num_linhas)]\n",
    "precos = [round(random.uniform(10.0, 100.0), 2) for _ in range(num_linhas)]\n",
    "\n",
    "# Criando o DataFrame via dicionário\n",
    "data = {\n",
    "    'Código': np.random.randint(1, 9000, 100),\n",
    "    'Produto': palavras_aleatorias,\n",
    "    'Quantidade': quantidades,\n",
    "    'Preço': precos\n",
    "}\n",
    "\n",
    "df = pd.DataFrame(data)\n",
    "\n",
    "# Salvando em arquivo \n",
    "df.to_csv('vendas.csv', index=False)\n",
    "\n",
    "# montrando na tela \n",
    "display(df.head())\n",
    "\n"
   ]
  },
  {
   "cell_type": "code",
   "execution_count": 2,
   "id": "ffeb0d04-e4f6-410c-b9aa-1cd6322b1dbd",
   "metadata": {
    "tags": []
   },
   "outputs": [
    {
     "data": {
      "text/html": [
       "<div>\n",
       "<style scoped>\n",
       "    .dataframe tbody tr th:only-of-type {\n",
       "        vertical-align: middle;\n",
       "    }\n",
       "\n",
       "    .dataframe tbody tr th {\n",
       "        vertical-align: top;\n",
       "    }\n",
       "\n",
       "    .dataframe thead th {\n",
       "        text-align: right;\n",
       "    }\n",
       "</style>\n",
       "<table border=\"1\" class=\"dataframe\">\n",
       "  <thead>\n",
       "    <tr style=\"text-align: right;\">\n",
       "      <th></th>\n",
       "      <th>Código</th>\n",
       "      <th>Produto</th>\n",
       "      <th>Quantidade</th>\n",
       "      <th>Preço</th>\n",
       "    </tr>\n",
       "  </thead>\n",
       "  <tbody>\n",
       "    <tr>\n",
       "      <th>0</th>\n",
       "      <td>217</td>\n",
       "      <td>Banana</td>\n",
       "      <td>49</td>\n",
       "      <td>99.75</td>\n",
       "    </tr>\n",
       "    <tr>\n",
       "      <th>1</th>\n",
       "      <td>6144</td>\n",
       "      <td>Uva</td>\n",
       "      <td>7</td>\n",
       "      <td>91.84</td>\n",
       "    </tr>\n",
       "    <tr>\n",
       "      <th>2</th>\n",
       "      <td>1866</td>\n",
       "      <td>Maçã</td>\n",
       "      <td>1</td>\n",
       "      <td>34.21</td>\n",
       "    </tr>\n",
       "    <tr>\n",
       "      <th>3</th>\n",
       "      <td>3464</td>\n",
       "      <td>Meia</td>\n",
       "      <td>50</td>\n",
       "      <td>52.22</td>\n",
       "    </tr>\n",
       "    <tr>\n",
       "      <th>4</th>\n",
       "      <td>5710</td>\n",
       "      <td>Boné</td>\n",
       "      <td>22</td>\n",
       "      <td>87.73</td>\n",
       "    </tr>\n",
       "  </tbody>\n",
       "</table>\n",
       "</div>"
      ],
      "text/plain": [
       "   Código Produto  Quantidade  Preço\n",
       "0     217  Banana          49  99.75\n",
       "1    6144     Uva           7  91.84\n",
       "2    1866    Maçã           1  34.21\n",
       "3    3464    Meia          50  52.22\n",
       "4    5710    Boné          22  87.73"
      ]
     },
     "metadata": {},
     "output_type": "display_data"
    }
   ],
   "source": [
    "# Lendo o arquivo csv gerado \n",
    "df = pd.read_csv('vendas.csv')\n",
    "\n",
    "# Exibindo parte inicial do arquivo lido \n",
    "display(df.head())"
   ]
  },
  {
   "cell_type": "code",
   "execution_count": 3,
   "id": "8253ecd0-79f8-43d9-a9c4-ccd99ae8009c",
   "metadata": {},
   "outputs": [
    {
     "name": "stdout",
     "output_type": "stream",
     "text": [
      "Total de quantidades vendidas: 2867\n",
      "Média de preços: R$ 51.66\n"
     ]
    }
   ],
   "source": [
    "# Calcular a soma total das quantidades vendidas:\n",
    "total_quantidade = df['Quantidade'].sum()\n",
    "print('Total de quantidades vendidas:', total_quantidade)\n",
    "\n",
    "# Calcular a média dos preços dos produtos:\n",
    "media_preco = df['Preço'].mean()\n",
    "print('Média de preços: R$ {:.2f}'.format(media_preco))"
   ]
  },
  {
   "cell_type": "code",
   "execution_count": 4,
   "id": "ae2a2319-93c1-4ec3-9948-e03a0cdadfa7",
   "metadata": {
    "tags": []
   },
   "outputs": [
    {
     "name": "stdout",
     "output_type": "stream",
     "text": [
      "Produtos com quantidades acima de 40\n",
      "    Código   Produto  Quantidade  Preço\n",
      "0      217    Banana          49  99.75\n",
      "3     3464      Meia          50  52.22\n",
      "11    5073      Meia          50  80.93\n",
      "17    5103       Uva          44  67.96\n",
      "18    3352   Laranja          49  25.44\n",
      "19    4500       Uva          46  35.43\n",
      "21    1905  Melancia          48  44.84\n",
      "31    2148   Laranja          42  39.60\n",
      "43    1667       Uva          48  17.35\n",
      "46    6956    Banana          46  19.11\n",
      "50    8396  Camiseta          46  66.70\n",
      "52    1158    Sapato          42  55.68\n",
      "55      64      Boné          45  76.37\n",
      "63    2998   Laranja          44  25.76\n",
      "69    5486   Laranja          46  25.57\n",
      "75    8777     Mamão          45  21.15\n",
      "78     120      Maçã          44  52.88\n",
      "79       8   Abacaxi          42  53.64\n",
      "80    7206      Maçã          48  19.37\n",
      "85     872     Calça          43  91.03\n",
      "94    3070  Melancia          50  47.24\n",
      "96    6304    Banana          50  86.96\n",
      "98    4431     Calça          46  93.44\n",
      "99    4122   Abacaxi          45  85.82\n"
     ]
    }
   ],
   "source": [
    "# Filtrar os produtos com quantidades vendidas acima de um determinado valor:\n",
    "quantidade_limite = 40\n",
    "produtos_acima_limite = df[df['Quantidade'] > quantidade_limite]\n",
    "print('Produtos com quantidades acima de', quantidade_limite)\n",
    "print(produtos_acima_limite)\n"
   ]
  },
  {
   "cell_type": "code",
   "execution_count": 5,
   "id": "6eb5dc58-2a5c-46ce-b9fe-ae65028068d0",
   "metadata": {
    "tags": []
   },
   "outputs": [
    {
     "name": "stdout",
     "output_type": "stream",
     "text": [
      "Total de quantidades vendidas por produto:\n",
      "Produto\n",
      "Abacaxi     322\n",
      "Banana      324\n",
      "Boné        235\n",
      "Calça       138\n",
      "Camiseta    152\n",
      "Kiwi         61\n",
      "Laranja     220\n",
      "Mamão       133\n",
      "Maçã        249\n",
      "Meia        228\n",
      "Melancia    282\n",
      "Morango     151\n",
      "Pêra         33\n",
      "Sapato      158\n",
      "Uva         181\n",
      "Name: Quantidade, dtype: int64\n"
     ]
    }
   ],
   "source": [
    "# Agrupar os dados por produto e calcular a soma das quantidades vendidas por produto:\n",
    "quantidade_por_produto = df.groupby('Produto')['Quantidade'].sum()\n",
    "print('Total de quantidades vendidas por produto:')\n",
    "print(quantidade_por_produto)\n"
   ]
  },
  {
   "cell_type": "code",
   "execution_count": 6,
   "id": "720a8f2c-91e0-4cf3-ac52-92328d5ed441",
   "metadata": {
    "tags": []
   },
   "outputs": [
    {
     "data": {
      "text/plain": [
       "Produto\n",
       "Abacaxi      True\n",
       "Banana       True\n",
       "Boné         True\n",
       "Calça       False\n",
       "Camiseta    False\n",
       "Kiwi        False\n",
       "Laranja      True\n",
       "Mamão       False\n",
       "Maçã         True\n",
       "Meia         True\n",
       "Melancia     True\n",
       "Morango     False\n",
       "Pêra        False\n",
       "Sapato      False\n",
       "Uva         False\n",
       "Name: Quantidade, dtype: bool"
      ]
     },
     "execution_count": 6,
     "metadata": {},
     "output_type": "execute_result"
    }
   ],
   "source": [
    "quantidade_por_produto > 200"
   ]
  },
  {
   "cell_type": "code",
   "execution_count": 7,
   "id": "81478368-9c5a-4295-a4f2-647220ff02c0",
   "metadata": {
    "tags": []
   },
   "outputs": [
    {
     "data": {
      "text/plain": [
       "Produto\n",
       "Abacaxi     322\n",
       "Banana      324\n",
       "Boné        235\n",
       "Laranja     220\n",
       "Maçã        249\n",
       "Meia        228\n",
       "Melancia    282\n",
       "Name: Quantidade, dtype: int64"
      ]
     },
     "execution_count": 7,
     "metadata": {},
     "output_type": "execute_result"
    }
   ],
   "source": [
    "quantidade_por_produto[quantidade_por_produto > 200]"
   ]
  },
  {
   "cell_type": "code",
   "execution_count": 8,
   "id": "2afd9081-017e-4668-aa8c-ed87a262d189",
   "metadata": {
    "tags": []
   },
   "outputs": [
    {
     "data": {
      "text/plain": [
       "pandas.core.series.Series"
      ]
     },
     "execution_count": 8,
     "metadata": {},
     "output_type": "execute_result"
    }
   ],
   "source": [
    "type(_)"
   ]
  },
  {
   "cell_type": "code",
   "execution_count": 9,
   "id": "125ac2b7-d90e-417c-9bb8-8c3dc18feaed",
   "metadata": {
    "tags": []
   },
   "outputs": [],
   "source": [
    "# ordenação \n",
    "preco_total_por_produto = df.groupby('Produto')['Preço'].sum().sort_values(ascending=False)"
   ]
  },
  {
   "cell_type": "code",
   "execution_count": 10,
   "id": "4e655fb5-f8b7-449d-9cba-9796aed114d7",
   "metadata": {
    "tags": []
   },
   "outputs": [
    {
     "data": {
      "text/markdown": [
       "| Produto   |   Preço |\n",
       "|:----------|--------:|\n",
       "| Abacaxi   |  797.49 |\n",
       "| Melancia  |  523.14 |\n",
       "| Boné      |  490.86 |\n",
       "| Maçã      |  431.22 |\n",
       "| Banana    |  404.84 |\n",
       "| Meia      |  391.97 |\n",
       "| Mamão     |  318.08 |\n",
       "| Calça     |  303.33 |\n",
       "| Sapato    |  270.48 |\n",
       "| Uva       |  258.9  |\n",
       "| Laranja   |  254.45 |\n",
       "| Camiseta  |  250.88 |\n",
       "| Morango   |  231.64 |\n",
       "| Kiwi      |  173.43 |\n",
       "| Pêra      |   65.29 |"
      ],
      "text/plain": [
       "<IPython.core.display.Markdown object>"
      ]
     },
     "metadata": {},
     "output_type": "display_data"
    }
   ],
   "source": [
    "display(Markdown(preco_total_por_produto.to_markdown()))"
   ]
  },
  {
   "cell_type": "markdown",
   "id": "4eae12a8-c39d-4624-be3a-889ac9951118",
   "metadata": {
    "tags": []
   },
   "source": [
    "## Web scraping with Python"
   ]
  },
  {
   "cell_type": "code",
   "execution_count": 14,
   "id": "70b7fe23-9869-4bfe-a168-7823ecb8f877",
   "metadata": {
    "tags": []
   },
   "outputs": [],
   "source": [
    "import requests\n",
    "from bs4 import BeautifulSoup\n",
    "\n",
    "url = 'https://www.imdb.com/chart/top/'\n",
    "headers = {\n",
    "    'User-Agent': 'Mozilla/5.0 (Windows NT 10.0; Win64; x64) AppleWebKit/537.36 (KHTML, like Gecko) Chrome/58.0.3029.110 Safari/537.3'\n",
    "}\n",
    "\n",
    "response = requests.get(url, headers=headers)\n",
    "html_content = response.text\n",
    "\n",
    "# Create a Beautiful Soup object to parse the HTML\n",
    "soup = BeautifulSoup(html_content, 'html.parser')\n",
    "\n",
    "# Find the table rows containing movie information\n",
    "movie_rows = soup.select('tbody.lister-list tr')\n",
    "\n",
    "# Iterate over each movie row and extract the desired information\n",
    "movies = []\n",
    "for row in movie_rows:\n",
    "    title_column = row.select_one('.titleColumn')\n",
    "    title = title_column.a.text\n",
    "    year = title_column.span.text.strip('()')\n",
    "    rating = row.select_one('.ratingColumn strong').text\n",
    "    movie = {\n",
    "        'Title': title,\n",
    "        'Year': year,\n",
    "        'Rating': rating\n",
    "    }\n",
    "    movies.append(movie)\n",
    "    \n"
   ]
  },
  {
   "cell_type": "code",
   "execution_count": 15,
   "id": "8e24b65f-7851-459b-bb7c-f7d8e1528706",
   "metadata": {
    "tags": []
   },
   "outputs": [
    {
     "data": {
      "text/html": [
       "<div>\n",
       "<style scoped>\n",
       "    .dataframe tbody tr th:only-of-type {\n",
       "        vertical-align: middle;\n",
       "    }\n",
       "\n",
       "    .dataframe tbody tr th {\n",
       "        vertical-align: top;\n",
       "    }\n",
       "\n",
       "    .dataframe thead th {\n",
       "        text-align: right;\n",
       "    }\n",
       "</style>\n",
       "<table border=\"1\" class=\"dataframe\">\n",
       "  <thead>\n",
       "    <tr style=\"text-align: right;\">\n",
       "      <th></th>\n",
       "    </tr>\n",
       "  </thead>\n",
       "  <tbody>\n",
       "  </tbody>\n",
       "</table>\n",
       "</div>"
      ],
      "text/plain": [
       "Empty DataFrame\n",
       "Columns: []\n",
       "Index: []"
      ]
     },
     "metadata": {},
     "output_type": "display_data"
    }
   ],
   "source": [
    "# convert to dataFrame\n",
    "movies_df = pd.DataFrame(movies)\n",
    "display(movies_df)\n",
    "movies_df.to_csv(\"movies.csv\")"
   ]
  },
  {
   "cell_type": "code",
   "execution_count": null,
   "id": "4c5ad9d2-2f4c-4929-b1ff-748b68bf5544",
   "metadata": {
    "tags": []
   },
   "outputs": [],
   "source": [
    "url = 'https://www.amazon.com.br/gp/bestsellers/books'\n",
    "\n",
    "# Send a GET request to the URL and fetch the HTML content\n",
    "response = requests.get(url, headers=headers)\n",
    "html_content = response.text\n",
    "\n",
    "# Create a Beautiful Soup object to parse the HTML\n",
    "soup = BeautifulSoup(html_content, 'html.parser')\n",
    "\n",
    "# Find the list items containing book information\n",
    "book_items = soup.find_all('div', id='gridItemRoot')\n",
    "#print(book_items)\n",
    "\n",
    "# Iterate over each book item and extract the desired information\n",
    "books = []\n",
    "for item in book_items:\n",
    "    print(item)\n",
    "    title = item.find('div', class_='_cDEzb_p13n-sc-css-line-clamp-1_1Fn1y').text.strip()\n",
    "    author = item.find('div', class_='_cDEzb_p13n-sc-css-line-clamp-1_1Fn1y').text.strip()\n",
    "    #price = item.find('span', class_='p13n-sc-price').text.strip()\n",
    "    rating = item.find('span', class_='a-icon-alt').text.strip()\n",
    "    book = {\n",
    "       'Title': title,\n",
    "       'Author': author,\n",
    "       #'Price': price,\n",
    "       'Rating': rating\n",
    "    }\n",
    "    books.append(book)\n"
   ]
  },
  {
   "cell_type": "code",
   "execution_count": null,
   "id": "425bf5c6-11d4-4897-832b-048af4cf12b5",
   "metadata": {
    "tags": []
   },
   "outputs": [],
   "source": [
    "# convert to dataFrame\n",
    "books_df = pd.DataFrame(books)\n",
    "display(books_df)"
   ]
  },
  {
   "cell_type": "code",
   "execution_count": null,
   "id": "2becb415-f66d-4392-89e8-e1bf735909ea",
   "metadata": {},
   "outputs": [],
   "source": []
  }
 ],
 "metadata": {
  "kernelspec": {
   "display_name": "Python 3 (ipykernel)",
   "language": "python",
   "name": "python3"
  },
  "language_info": {
   "codemirror_mode": {
    "name": "ipython",
    "version": 3
   },
   "file_extension": ".py",
   "mimetype": "text/x-python",
   "name": "python",
   "nbconvert_exporter": "python",
   "pygments_lexer": "ipython3",
   "version": "3.10.11"
  }
 },
 "nbformat": 4,
 "nbformat_minor": 5
}
