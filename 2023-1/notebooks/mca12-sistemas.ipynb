{
 "cells": [
  {
   "attachments": {},
   "cell_type": "markdown",
   "id": "afa3edf0-054f-4026-9856-fc8d12feda2d",
   "metadata": {},
   "source": [
    "<div style=\"width:90%; text-align:center; border-width: 0px; display:block; margin-left:auto; margin-right:auto;\">\n",
    "<div class=\"alert alert-block alert-success\" style=\"text-align:center; color:navy;\">\n",
    "<img src=\"https://raw.githubusercontent.com/bgeneto/MCA/main/imagens/logo_unb.png\" style=\"width: 200px; opacity:0.85;\">\n",
    "<h1>Universidade de Brasília</h1>\n",
    "<h2>Instituto de Física</h2>\n",
    "<hr style=\"width:44%;border:1px solid navy;\">\n",
    "<h3>Métodos Computacionais A (MCA)</h3> \n",
    "<h4>Prof. Bernhard Enders</h4>\n",
    "<hr style=\"width:44%;border:1px solid navy;\">\n",
    "</div>\n",
    "</div>"
   ]
  },
  {
   "attachments": {},
   "cell_type": "markdown",
   "id": "28db0ec7-c9a5-4b37-aad5-f9230913bcc9",
   "metadata": {},
   "source": [
    "# **➲ Aula 12 - Sistemas de Equações Lineares**\n",
    "\n",
    "Um dos problemas mais clássicos em computação científica é a resolução de sistemas lineares. \n",
    "\n",
    "Vale recordar que qualquer sistema linear de $n$ variáveis e $n$ incógnitas pode ser descrito em forma matricial. Ou seja, podemos descrever o problema de resolução de sistemas por uma equação.\n",
    "\\begin{equation*}\n",
    "Ax = b,\n",
    "\\end{equation*}\n",
    "em que $A$ é uma matriz de $\\mathbb{R}^{n \\times n}$ e $b$ um vetor do $\\mathbb{R}^n$. É claro que também é possível usar o mesmo tipo de notação para sistemas com números diferentes entre variáveis e incógnitas e nesse caso a matriz deixa de ser quadrada.\n",
    "\n",
    "Uma primeira pergunta natural é: Quão fácil é resolver um sistema? A resposta para isso não é única. Pensando em um sistema geral, com centenas de variáveis por exemplo, ficamos com a impressão que é muito difícil. Mas se a matriz $A$ tiver estrutura especial, pode ser que a resolução do sistema seja fácil. Dois exemplos são:\n",
    "\n",
    "* $A$ é a identidade. Nesse caso o solução é trivial $x = b$.\n",
    "* $A$ é diagonal (todos os elementos fora da diagonal principal de $A$ são nulos). Mais uma vez a solução do sistema também é fácil, basta definir $x_i = b_i / a_{ii},\\ i = 1, \\ldots, n$, considerando que todos os elementos da diagonal são não nulos.\n",
    "   \n",
    "## Sistemas triangulares\n",
    "   \n",
    "Outro caso interessante ocorre quando $A$ é triangular inferior, ou superior, com todos os elementos da diagonal não nulos. Nesse caso podemos resolver o sistema por substituição. Vejamos um exemplo triangular superior.\n",
    "\n",
    "\\begin{equation*}\n",
    "\\left\\{\n",
    "\\begin{array}{lclclcll}\n",
    "a_{11}x_1 &+& a_{12}x_2 &+& a_{13}x_3 &+& a_{14}x_4 &= b_1 \\\\\n",
    "          & & a_{22}x_2 &+& a_{23}x_3 &+& a_{24}x_4 &= b_2 \\\\\n",
    "          & &           & & a_{33}x_3 &+& a_{34}x_4 &= b_3 \\\\\n",
    "          & &           & &           & & a_{44}x_4 &= b_4. \n",
    "\\end{array}\n",
    "\\right.\n",
    "\\end{equation*}\n",
    "\n",
    "Nesse caso é fácil achar o valor de $x_4$ usando a última equação. Susbtituindo o valor encontrado na penúltima equação passa a ser fácil encontrar encontrar o valor de $x_3$ e a assim por diante. Obtemos:\n",
    "\n",
    "\\begin{align*}\n",
    "x_4 &= b_4 / a_{44} \\\\\n",
    "x_3 &= (b_3 - a_{34} x_4)/a_{33} \\\\\n",
    "x_2 &= (b_2 - a_{23} x_3 - a_{24} x_4)/a_{22} \\\\\n",
    "x_1 &= (b_1 - a_{12}x_2 - a_{13} x_3 - a_{14} x_4)/a_{11}. \\\\\n",
    "\\end{align*}\n",
    "\n",
    "Isso pode ser facilmente generalizado para o caso de mais variáveis. Chegamos à fórmula\n",
    "\\begin{equation}\n",
    "x_i = \\frac{b_i - \\sum_{j = i + 1}^n a_{ij} x_j}{a_{ii}},\\ i = 1, \\ldots, n.\n",
    "\\end{equation}\n",
    "\n",
    "Vejamos uma implementação simples em Python para a solução de sistemas triangulares."
   ]
  },
  {
   "cell_type": "code",
   "execution_count": 636,
   "id": "1fba98fb-45ea-488f-bc35-4b2461d1d43a",
   "metadata": {
    "tags": []
   },
   "outputs": [
    {
     "name": "stdout",
     "output_type": "stream",
     "text": [
      "A solução obtida é  [ 1.          0.         -0.16666667 -0.15      ]\n",
      "A*x deve ser igual a b...\n"
     ]
    },
    {
     "data": {
      "text/plain": [
       "array([1., 2., 3., 4.])"
      ]
     },
     "execution_count": 636,
     "metadata": {},
     "output_type": "execute_result"
    }
   ],
   "source": [
    "# Funcao para resolver sistema triangular inferior por substituição progressiva\n",
    "import numpy as np\n",
    "\n",
    "\n",
    "def triangular_inferior(A, b):\n",
    "    n = len(b)\n",
    "    x = np.zeros(n)\n",
    "    for i in range(n):\n",
    "        x[i] = b[i]\n",
    "        for j in range(i):\n",
    "            x[i] -= A[i][j] * x[j]\n",
    "        x[i] /= A[i][i]\n",
    "\n",
    "    return x\n",
    "\n",
    "\n",
    "# Exemplo\n",
    "A = np.array([[1, 0, 0, 0], [2, 3, 0, 0], [4, 5, 6, 0], [7, 8, 9, 10]])\n",
    "\n",
    "b = np.array([1, 2, 3, 4])\n",
    "\n",
    "# Resolve o sistema\n",
    "x = triangular_inferior(A, b)\n",
    "print(\"A solução obtida é \", x)\n",
    "\n",
    "# Verifica a resposta\n",
    "print(\"A*x deve ser igual a b...\")\n",
    "A.dot(x)"
   ]
  },
  {
   "cell_type": "code",
   "execution_count": 637,
   "id": "5121869a-3932-473b-bebe-097ad8d93e3e",
   "metadata": {
    "tags": []
   },
   "outputs": [
    {
     "name": "stdout",
     "output_type": "stream",
     "text": [
      "A solução obtida é  [-0.93333333 -0.23333333 -0.1         0.4       ]\n",
      "É uma resposta válida? True\n"
     ]
    }
   ],
   "source": [
    "# Funcao para resolver sistema triangular superior por retrosubstituição\n",
    "def triangular_superior(A, b):\n",
    "    n = len(b)\n",
    "    x = np.zeros(n)\n",
    "    for i in range(n - 1, -1, -1):\n",
    "        x[i] = b[i]\n",
    "        for j in range(i + 1, n):\n",
    "            x[i] -= A[i][j] * x[j]\n",
    "        x[i] /= A[i][i]\n",
    "\n",
    "    return x\n",
    "\n",
    "\n",
    "# Exemplo\n",
    "x = triangular_superior(A.T, b)\n",
    "print(\"A solução obtida é \", x)\n",
    "print(\"É uma resposta válida?\", np.allclose(np.dot(A.T, x), b))"
   ]
  },
  {
   "attachments": {},
   "cell_type": "markdown",
   "id": "ada03616-8ab7-499b-ab12-9d8625ce4d57",
   "metadata": {},
   "source": [
    "\n",
    "## ➥ Métodos Iterativos vs Métodos Diretos\n",
    "---\n",
    "\n",
    "Os métodos iterativos e os métodos diretos são duas abordagens diferentes para a resolução de sistemas de equações lineares. \n",
    "\n",
    "- **Métodos Diretos:** Métodos diretos, como a eliminação Gaussiana e a decomposição LU, resolvem o sistema de equações lineares em um número finito de etapas. Eles são baseados em operações algébricas para manipular as equações do sistema e chegar a uma solução exata. Esses métodos geralmente envolvem a criação de uma matriz triangular, onde a solução do sistema pode ser obtida diretamente por substituição de variáveis. Nos métodos diretos há garantias de encontrar a solução exata, desde que o sistema seja bem condicionado e a matriz do sistema não seja singular. No entanto, eles podem ser computacionalmente intensivos em termos de memória e tempo de execução, especialmente para sistemas de grande porte.\n",
    "\n",
    "- **Métodos Iterativos:** Métodos iterativos, como o método de Gauss-Seidel e o método de Jacobi, abordam a resolução do sistema de equações lineares de maneira iterativa, isto é, eles partem de uma estimativa inicial da solução e, em seguida, iterativamente refinam essa estimativa até que uma solução aproximada seja encontrada dentro da tolerância desejada. Esses métodos envolvem um processo iterativo de atualização das variáveis desconhecidas com base nas equações do sistema. Os métodos iterativos geralmente convergem para a solução com uma precisão desejada, mas podem exigir um número muito grande de iterações para alcançar a precisão desejada, especialmente em sistemas mal condicionados. Eles podem ser mais eficientes (que os métodos diretos) em termos de memória e tempo de execução para sistemas grandes e esparsos, pois não exigem a manipulação direta de toda a matriz do sistema.\n",
    "\n",
    "## ➥ Método de Jacobi\n",
    "---\n",
    "\n"
   ]
  },
  {
   "attachments": {},
   "cell_type": "markdown",
   "id": "5a4af35d-26a4-4fcb-8dff-506286f71d02",
   "metadata": {},
   "source": [
    "Vamos utilizar o seguinte exemplo de sistema de equações lineares de ordem $2$ por $2$:\n",
    "\n",
    "$$\n",
    "\\left\\{ \\begin{array}{rcrcl}\n",
    "2.5x &-& y &=& 1.5 \\\\\n",
    "x &-& 2y &=& -1.\n",
    "\\end{array}\\right.\n",
    "$$\n",
    "\n",
    "Podemos facilmente resolver o sistema e verificarque é solução é em $(x, y) = (1, 1)$. Veja o gráfico dele abaixo"
   ]
  },
  {
   "cell_type": "code",
   "execution_count": 638,
   "id": "9171b8dc-bbd4-4cb1-9883-a82bcd37334d",
   "metadata": {
    "tags": []
   },
   "outputs": [
    {
     "data": {
      "image/png": "[encoded data removed]",
      "text/plain": [
       "<Figure size 640x480 with 1 Axes>"
      ]
     },
     "metadata": {},
     "output_type": "display_data"
    }
   ],
   "source": [
    "from matplotlib import pyplot as plt\n",
    "\n",
    "x = np.linspace(0.8, 2.0, 100)\n",
    "eq1 = lambda x: 2.5 * x - 1.5\n",
    "eq2 = lambda x: 0.5 * (1.0 + x)\n",
    "\n",
    "fig, ax = plt.subplots()\n",
    "ax.plot(x, eq1(x), color=\"blue\", label=\"Eq. 1\")\n",
    "ax.plot(x, eq2(x), color=\"red\", label=\"Eq. 2\")\n",
    "ax.legend()\n",
    "plt.show()"
   ]
  },
  {
   "attachments": {},
   "cell_type": "markdown",
   "id": "ae302bd2-da68-4fa7-9d23-3ebcf313607a",
   "metadata": {},
   "source": [
    "Uma outra forma de encarar as equações do sistema é vê-las como fórmulas de como calcular uma das variáveis das soluções se conhecêssemos a outra. Isso fica claro se reorganizarmos um pouco as duas equações.\n",
    "\\begin{align*}\n",
    "x &= (1.5 + y)/2.5 \\\\\n",
    "y &= (1 + x)/2.\n",
    "\\end{align*}\n",
    "A ideia do método de Jacobi é melhorar uma aproximação da solução que obtivemos até o momento $k$, que vamos denotar por $(x^k, y^k)$, usando essas duas equações como se elas estivessem partindo da solução exata. Isto é fazer\n",
    "\\begin{align*}\n",
    "x^{k+1} &= (1.5 + y^k)/2.5 \\\\\n",
    "y^{k+1} &= (1 + x^k)/2.\n",
    "\\end{align*}\n",
    "\n",
    "Geometricamente, o que a primeira equação faz é encontrar a coordenada $x$ do ponto na reta azul que tem coordenada $y = y^k$, ou seja a intersecção da reta azul com uma reta paralela ao eixo x que passar por $(x^k, y^k)$. Já a segunda equação busca a coordenada $y$ do ponto na reta vermelha que cruza com uma reta vertical que passa também por $(x^k, y^k)$.\n",
    "\n",
    "Para entender isso melhor, imagine que temos $(x^k, y^k) = (1.8, 2.5)$. O código abaixo representa as contas feitas a apresenta o novo ponto calculado bem como o ponto de partida. Note que o novo ponto se aproxima da solução que é a intersecção das retas."
   ]
  },
  {
   "cell_type": "code",
   "execution_count": 639,
   "id": "6e8b896d-bbb5-4bfa-885a-4c3697437e74",
   "metadata": {
    "tags": []
   },
   "outputs": [
    {
     "data": {
      "image/png": "[encoded data removed]",
      "text/plain": [
       "<Figure size 640x480 with 1 Axes>"
      ]
     },
     "metadata": {},
     "output_type": "display_data"
    }
   ],
   "source": [
    "# Apresenta o grafico inicial\n",
    "x = np.linspace(0, 3, 100)\n",
    "plt.plot(x, eq1(x), color=\"blue\")\n",
    "plt.plot(x, eq2(x), color=\"red\")\n",
    "\n",
    "# Apresenta o ponto de partida e as linhas que geram o novo ponto\n",
    "xk, yk = 1.8, 2.5\n",
    "plt.plot(xk, yk, marker=\"o\", color=\"black\")\n",
    "plt.annotate(r\"$x^k$\", (xk + 0.035, yk + 0.125))\n",
    "\n",
    "# Calcula o novo ponto e o apresenta\n",
    "xk1 = (1.5 + yk) / 2.5\n",
    "yk1 = (1.0 + xk) / 2\n",
    "deltax = np.linspace(xk1, xk, 100)\n",
    "deltay = np.linspace(yk1, yk, 100)\n",
    "plt.plot(deltax, yk * np.ones(len(deltax)), linestyle=\"--\", color=\"black\")\n",
    "plt.plot(xk * np.ones(len(deltay)), deltay, linestyle=\"--\", color=\"black\")\n",
    "plt.plot(xk1, yk1, marker=\"o\", color=\"black\")\n",
    "plt.plot(deltax, yk1 * np.ones(len(deltax)), linestyle=\"--\", color=\"black\")\n",
    "plt.plot(xk1 * np.ones(len(deltay)), deltay, linestyle=\"--\", color=\"black\")\n",
    "plt.annotate(r\"$x^{k+1}$\", (xk1 + 0.07, yk1 + 0.125))\n",
    "\n",
    "plt.show()"
   ]
  },
  {
   "cell_type": "code",
   "execution_count": 640,
   "id": "091215c8-da2a-4111-b0f2-ef5b787418d0",
   "metadata": {
    "tags": []
   },
   "outputs": [
    {
     "data": {
      "image/png": "[encoded data removed]",
      "text/plain": [
       "<Figure size 640x480 with 1 Axes>"
      ]
     },
     "metadata": {},
     "output_type": "display_data"
    }
   ],
   "source": [
    "# Ponto incial\n",
    "xk, yk = 1.8, 2.5\n",
    "# Numero de iteracoes\n",
    "maxiter = 5\n",
    "\n",
    "# Apresenta o grafico inicial\n",
    "x = np.linspace(0, 3, 100)\n",
    "plt.plot(x, eq1(x), color=\"blue\")\n",
    "plt.plot(x, eq2(x), color=\"red\")\n",
    "\n",
    "# Apresenta o ponto de partida em verde e as linhas que geram o novo ponto\n",
    "y = np.linspace(0.5, 3.0, 100)\n",
    "plt.plot(xk, yk, marker=\"o\", color=\"green\")\n",
    "plt.annotate(r\"$x^0$\", (xk + 0.035, yk + 0.125))\n",
    "\n",
    "# Calcula os novos pontos e os apresenta\n",
    "for i in range(maxiter):\n",
    "    xk1 = (1.5 + yk) / 2.5\n",
    "    yk1 = (1.0 + xk) / 2.0\n",
    "    deltax = np.linspace(xk1, xk, 100)\n",
    "    deltay = np.linspace(yk1, yk, 100)\n",
    "    plt.plot(deltax, yk * np.ones(len(deltax)), linestyle=\"--\", color=\"black\")\n",
    "    plt.plot(xk * np.ones(len(deltay)), deltay, linestyle=\"--\", color=\"black\")\n",
    "    plt.plot(xk1, yk1, marker=\"o\", color=\"black\")\n",
    "    plt.plot(deltax, yk1 * np.ones(len(deltax)), linestyle=\"--\", color=\"black\")\n",
    "    plt.plot(xk1 * np.ones(len(deltay)), deltay, linestyle=\"--\", color=\"black\")\n",
    "    xk, yk = xk1, yk1\n",
    "\n",
    "# Apresenta o ponto final em cyan\n",
    "plt.plot(xk, yk, marker=\"o\", color=\"cyan\")\n",
    "label = f\"$x^{{{maxiter}}}$\"\n",
    "plt.annotate(label, (xk - 0.01, yk + 0.125))\n",
    "plt.show()"
   ]
  },
  {
   "cell_type": "code",
   "execution_count": 641,
   "id": "d2351ab1-3dee-4f08-a293-6e1e8e39383c",
   "metadata": {
    "tags": []
   },
   "outputs": [],
   "source": [
    "# implemente o método de Jacobi para resolver um sistema de equações lineares de qualquer ordem\n",
    "def jacobi(A, b, x0, tol=1e-10, max_iterations=5000):\n",
    "    \"\"\"\n",
    "    Esta função implementa o método iterativo de Jacobi para resolver sistemas de equações lineares\n",
    "    com uma matriz A e vetor b. Ele retorna uma estimativa para o vetor x que satisfaz a equação Ax = b dentro\n",
    "    de uma tolerância especificada.\n",
    "\n",
    "    Parâmetros:\n",
    "    -- A: uma matriz numpy bidimensional representando o sistema de equações lineares\n",
    "    -- b: um vetor numpy unidimensional representando o lado direito do sistema de equações lineares\n",
    "    -- tol (opcional): um float representando a tolerância de convergência do método iterativo de Jacobi (padrão é 1e-13)\n",
    "    -- max_iterations (opcional): um inteiro representando o número máximo de iterações que o método iterativo de Jacobi deve executar (padrão é 5000)\n",
    "\n",
    "    Retorna:\n",
    "    -- x: um vetor numpy unidimensional representando uma estimativa para o vetor x que satisfaz Ax = b\n",
    "    -- k: um inteiro representando o número de iterações que o método iterativo de Jacobi executou\n",
    "    \"\"\"\n",
    "    # diagonal de A\n",
    "    diag = np.diag(A)\n",
    "    # estimativa inicial\n",
    "    x = x0.copy()\n",
    "    # matriz A sem a diagonal principal\n",
    "    T = A - np.diag(diag)\n",
    "    # iterações de Jacobi\n",
    "    for k in range(max_iterations):\n",
    "        x_old = x.copy()\n",
    "        x[:] = (b - np.dot(T, x)) / diag\n",
    "        if np.linalg.norm(x - x_old, ord=np.inf) / np.linalg.norm(x, ord=np.inf) < tol:\n",
    "            break\n",
    "    else:\n",
    "        raise ValueError(\"O método de Jacobi não convergiu após {} iterações\".format(k))\n",
    "\n",
    "    return x, k\n"
   ]
  },
  {
   "cell_type": "code",
   "execution_count": 642,
   "id": "fb9a02cf",
   "metadata": {},
   "outputs": [],
   "source": [
    "def is_diagonally_dominant(A):\n",
    "    \"\"\"\n",
    "    Esta função verifica se uma determinada matriz A é diagonalmente dominante ou não.\n",
    "    Uma matriz é considerada diagonalmente dominante se o valor absoluto do elemento diagonal\n",
    "    em cada linha for maior ou igual à soma dos valores absolutos dos elementos fora da diagonal nessa linha.\n",
    "\n",
    "    Parâmetros:\n",
    "    -- A: uma matriz numpy bidimensional representando a matriz a ser verificada\n",
    "\n",
    "    Retorna:\n",
    "    -- True se a matriz for diagonalmente dominante, False caso contrário.\n",
    "    \"\"\"\n",
    "    abs_diag = np.abs(np.diag(A))\n",
    "    abs_off_diag_sum = np.sum(np.abs(A), axis=1) - abs_diag\n",
    "    return np.all(abs_diag >= abs_off_diag_sum)"
   ]
  },
  {
   "cell_type": "code",
   "execution_count": 643,
   "id": "8225f095",
   "metadata": {},
   "outputs": [],
   "source": [
    "def generate_test_matrix(n):\n",
    "    \"\"\"\n",
    "    Esta função gera uma matriz simétrica positiva definida aleatória de tamanho n\n",
    "    e, em seguida, a torna diagonalmente dominante.\n",
    "    \"\"\"\n",
    "    # Generate a random matrix\n",
    "    A = np.random.rand(n, n)\n",
    "    # Make it symmetric by using its transpose\n",
    "    A = np.dot(A, A.transpose())\n",
    "    # Make the matrix diagonally dominant\n",
    "    new_diagonal = (\n",
    "        np.abs(np.diag(A)) + np.max(np.sum(np.abs(A), axis=1) - np.abs(np.diag(A))) + 1\n",
    "    )\n",
    "    np.fill_diagonal(A, new_diagonal)\n",
    "    return A"
   ]
  },
  {
   "cell_type": "code",
   "execution_count": 644,
   "id": "0dbecff1",
   "metadata": {},
   "outputs": [],
   "source": [
    "n = 1500\n",
    "A = generate_test_matrix(n)\n"
   ]
  },
  {
   "cell_type": "code",
   "execution_count": 645,
   "id": "2218e61e",
   "metadata": {},
   "outputs": [
    {
     "data": {
      "text/plain": [
       "True"
      ]
     },
     "execution_count": 645,
     "metadata": {},
     "output_type": "execute_result"
    }
   ],
   "source": [
    "is_diagonally_dominant(A)\n"
   ]
  },
  {
   "cell_type": "code",
   "execution_count": 646,
   "id": "08281b9e",
   "metadata": {},
   "outputs": [
    {
     "name": "stdout",
     "output_type": "stream",
     "text": [
      "Iterações executadas: 483\n"
     ]
    },
    {
     "data": {
      "text/plain": [
       "True"
      ]
     },
     "execution_count": 646,
     "metadata": {},
     "output_type": "execute_result"
    }
   ],
   "source": [
    "b = np.random.rand(n)\n",
    "x0 = b / np.diag(A)\n",
    "x, k = jacobi(A, b, x0)\n",
    "print(\"Iterações executadas:\", k)\n",
    "np.allclose(A.dot(x), b)\n"
   ]
  },
  {
   "cell_type": "code",
   "execution_count": 647,
   "id": "40a5e544",
   "metadata": {},
   "outputs": [],
   "source": [
    "def gauss_seidel(A, b, x0, tol=1e-10, max_iter=1000):\n",
    "    \"\"\"Solve a linear system Ax=b using Gauss-Seidel method.\n",
    "\n",
    "    Parameters\n",
    "    ----------\n",
    "    A : ndarray of shape (n, n)\n",
    "        Coefficient matrix\n",
    "    b : ndarray of shape (n,)\n",
    "        Right-hand side vector\n",
    "    x0 : ndarray of shape (n,)\n",
    "        Initial guess for the solution\n",
    "    tol : float, optional\n",
    "        Tolerance for convergence\n",
    "    max_iter : int, optional\n",
    "        Maximum number of iterations\n",
    "\n",
    "    Returns\n",
    "    -------\n",
    "    x : ndarray of shape (n,)\n",
    "        Solution vector\n",
    "    \"\"\"\n",
    "    n = len(b)\n",
    "    x_old = x0.copy()\n",
    "    for k in range(max_iter):\n",
    "        for i in range(n):\n",
    "            x[i] = (\n",
    "                b[i]\n",
    "                - np.dot(A[i, :i], x[:i])\n",
    "                - np.dot(A[i, (i + 1) :], x_old[(i + 1) :])\n",
    "            ) / A[i, i]\n",
    "        if np.linalg.norm(x - x_old, ord=np.inf) / np.linalg.norm(x, ord=np.inf) < tol:\n",
    "            break\n",
    "        x_old[:] = x\n",
    "    else:\n",
    "        raise ValueError(\"O método não convergiu após {} iterações\".format(k))\n",
    "\n",
    "    return x, k"
   ]
  },
  {
   "cell_type": "code",
   "execution_count": 648,
   "id": "c175e1c5",
   "metadata": {},
   "outputs": [],
   "source": [
    "def gauss_seidel2(A, b, x0, tol=1e-10, max_iter=1000):\n",
    "    \"\"\"Solve a linear system Ax=b using Gauss-Seidel method.\n",
    "\n",
    "    Parameters\n",
    "    ----------\n",
    "    A : ndarray of shape (n, n)\n",
    "        Coefficient matrix\n",
    "    b : ndarray of shape (n,)\n",
    "        Right-hand side vector\n",
    "    x0 : ndarray of shape (n,)\n",
    "        Initial guess for the solution\n",
    "    tol : float, optional\n",
    "        Tolerance for convergence\n",
    "    max_iter : int, optional\n",
    "        Maximum number of iterations\n",
    "\n",
    "    Returns\n",
    "    -------\n",
    "    x : ndarray of shape (n,)\n",
    "        Solution vector\n",
    "    \"\"\"\n",
    "    n = len(A)\n",
    "    x = x0.copy()\n",
    "    for k in range(max_iter):\n",
    "        x_new = np.zeros_like(x, dtype=np.double)\n",
    "        for i in range(n):\n",
    "            sum_ax = A[i, :i].dot(x_new[:i])\n",
    "            sum_ax += A[i, i + 1 :].dot(x[i + 1 :])\n",
    "            x_new[i] = (b[i] - sum_ax) / A[i, i]\n",
    "        if np.linalg.norm(x - x_new, ord=np.inf) / np.linalg.norm(x, ord=np.inf) < tol:\n",
    "            break\n",
    "        x = x_new\n",
    "    else:\n",
    "        raise ValueError(\"O método não convergiu após {} iterações\".format(k))\n",
    "    return x, k"
   ]
  },
  {
   "cell_type": "code",
   "execution_count": 649,
   "id": "a28cda26",
   "metadata": {},
   "outputs": [
    {
     "name": "stdout",
     "output_type": "stream",
     "text": [
      "Iterações executadas: 15\n"
     ]
    },
    {
     "data": {
      "text/plain": [
       "True"
      ]
     },
     "execution_count": 649,
     "metadata": {},
     "output_type": "execute_result"
    }
   ],
   "source": [
    "x, k = gauss_seidel(A, b, x0)\n",
    "print(\"Iterações executadas:\", k)\n",
    "np.allclose(A.dot(x), b)"
   ]
  },
  {
   "cell_type": "code",
   "execution_count": 650,
   "id": "d0857598",
   "metadata": {},
   "outputs": [
    {
     "name": "stdout",
     "output_type": "stream",
     "text": [
      "Iterações executadas: 15\n"
     ]
    },
    {
     "data": {
      "text/plain": [
       "True"
      ]
     },
     "execution_count": 650,
     "metadata": {},
     "output_type": "execute_result"
    }
   ],
   "source": [
    "x, k = gauss_seidel2(A, b, x0)\n",
    "print(\"Iterações executadas:\", k)\n",
    "np.allclose(A.dot(x), b)"
   ]
  },
  {
   "cell_type": "code",
   "execution_count": 651,
   "id": "5db1146f",
   "metadata": {},
   "outputs": [
    {
     "name": "stdout",
     "output_type": "stream",
     "text": [
      "48.5 ms ± 4.21 ms per loop (mean ± std. dev. of 7 runs, 10 loops each)\n"
     ]
    }
   ],
   "source": [
    "%%timeit\n",
    "jacobi(A, b, x0)"
   ]
  },
  {
   "cell_type": "code",
   "execution_count": 652,
   "id": "86c1ed52",
   "metadata": {},
   "outputs": [
    {
     "name": "stdout",
     "output_type": "stream",
     "text": [
      "40.1 ms ± 718 µs per loop (mean ± std. dev. of 7 runs, 10 loops each)\n"
     ]
    }
   ],
   "source": [
    "%%timeit\n",
    "gauss_seidel(A, b, x0)"
   ]
  },
  {
   "cell_type": "code",
   "execution_count": 653,
   "id": "b72cfd35",
   "metadata": {},
   "outputs": [
    {
     "name": "stdout",
     "output_type": "stream",
     "text": [
      "30.5 ms ± 701 µs per loop (mean ± std. dev. of 7 runs, 10 loops each)\n"
     ]
    }
   ],
   "source": [
    "%%timeit\n",
    "gauss_seidel2(A, b, x0)"
   ]
  }
 ],
 "metadata": {
  "kernelspec": {
   "display_name": "Python 3 (ipykernel)",
   "language": "python",
   "name": "python3"
  },
  "language_info": {
   "codemirror_mode": {
    "name": "ipython",
    "version": 3
   },
   "file_extension": ".py",
   "mimetype": "text/x-python",
   "name": "python",
   "nbconvert_exporter": "python",
   "pygments_lexer": "ipython3",
   "version": "3.10.10"
  }
 },
 "nbformat": 4,
 "nbformat_minor": 5
}
