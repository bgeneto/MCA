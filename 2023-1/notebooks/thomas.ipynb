{
 "cells": [
  {
   "cell_type": "code",
   "execution_count": 325,
   "id": "6a57cccf-f140-4f9f-a1bb-6d5962870da2",
   "metadata": {
    "tags": []
   },
   "outputs": [],
   "source": [
    "import numpy as np "
   ]
  },
  {
   "cell_type": "code",
   "execution_count": 326,
   "id": "0b3a7cc3-fb0c-4e76-8042-43f8b4e6cfee",
   "metadata": {
    "tags": []
   },
   "outputs": [],
   "source": [
    "h = 0.001\n",
    "h2 = h*h\n",
    "xi = np.arange(0, 1+h, h)\n",
    "n = len(xi)\n",
    "y0 = 3 \n",
    "yn = 0\n",
    "\n",
    "# diagonal inferior\n",
    "a = 1 + 2.5*h*xi  # estava com o sinal trocado com eq. p/ c\n",
    "# diagonal principal\n",
    "b = -2 + h2*xi**2 \n",
    "# diagonal superior\n",
    "c = 1 - 2.5*h*xi  # estava com o sinal trocado com eq. p/ a\n",
    "d = h2*np.exp(xi)\n",
    "\n",
    "d[0] = d[0] - a[0]*y0\n",
    "d[-1] = d[-1] - a[-1]*yn"
   ]
  },
  {
   "cell_type": "code",
   "execution_count": 327,
   "id": "840fafe2-0fba-4f78-bdc7-85da9f057e64",
   "metadata": {
    "tags": []
   },
   "outputs": [],
   "source": [
    "def TDMASolve(a, b, c, d):\n",
    "    n = len(d)#n em números é linhas\n",
    "\n",
    "    # Modifica o primeiro coeficiente de cada linha\n",
    "    c[0] /= b[0] # Risco de divisão por zero.\n",
    "    d[0] /= b[0]\n",
    "\n",
    "    for i in range(1, n):\n",
    "        ptemp = b[i] - (a[i] * c[i-1])\n",
    "        c[i] /= ptemp\n",
    "        d[i] = (d[i] - a[i] * d[i-1])/ptemp\n",
    "\n",
    "    # retrosubstituição\n",
    "    x = [0 for i in range(n)]\n",
    "    x[-1] = d[-1]\n",
    "    for i in range(-2, -n-1, -1):\n",
    "        x[i] = d[i] - c[i] * x[i+1]\n",
    "    \n",
    "    return x"
   ]
  },
  {
   "cell_type": "code",
   "execution_count": 328,
   "id": "41acb7fb-31d2-4d58-a17c-39642881ba6d",
   "metadata": {
    "tags": []
   },
   "outputs": [],
   "source": [
    "yi = TDMASolve(a, b, c, d)"
   ]
  },
  {
   "cell_type": "code",
   "execution_count": 329,
   "id": "7996c3d1-a490-4b65-9fb1-2fca7996733a",
   "metadata": {
    "tags": []
   },
   "outputs": [
    {
     "data": {
      "image/png": "[encoded data removed]",
      "text/plain": [
       "<Figure size 640x480 with 1 Axes>"
      ]
     },
     "metadata": {},
     "output_type": "display_data"
    }
   ],
   "source": [
    "from matplotlib import pyplot as plt \n",
    "plt.plot(xi, yi)\n",
    "plt.show()"
   ]
  },
  {
   "cell_type": "code",
   "execution_count": null,
   "id": "17b2d297-470b-4726-aad0-f65f6efb394a",
   "metadata": {
    "tags": []
   },
   "outputs": [],
   "source": []
  },
  {
   "cell_type": "code",
   "execution_count": 330,
   "id": "5579a44a-f095-466b-8b52-73cf379988ff",
   "metadata": {},
   "outputs": [],
   "source": [
    "def d2y(a,b,c):\n",
    "    return (c - 2*b + a) / h2\n",
    "\n",
    "def dy(a,b):\n",
    "    return 0.5*(b - a) / h\n"
   ]
  },
  {
   "cell_type": "code",
   "execution_count": 331,
   "id": "201c7129-3858-4e00-8db1-3d112d4b52bd",
   "metadata": {
    "tags": []
   },
   "outputs": [],
   "source": [
    "i = 150\n",
    "x = xi[i]\n",
    "y = yi[i]\n",
    "lhs = d2y(yi[i-1], yi[i], yi[i+1]) - 5*x*dy(yi[i-1], yi[i+1]) + y*x**2\n",
    "rhs = np.exp(x)"
   ]
  },
  {
   "cell_type": "code",
   "execution_count": 332,
   "id": "475ee78d-240d-4ed4-a030-345fb956ef27",
   "metadata": {
    "tags": []
   },
   "outputs": [
    {
     "data": {
      "text/plain": [
       "1.1618342420429328"
      ]
     },
     "execution_count": 332,
     "metadata": {},
     "output_type": "execute_result"
    }
   ],
   "source": [
    "lhs"
   ]
  },
  {
   "cell_type": "code",
   "execution_count": 333,
   "id": "1a16e26c-d419-4fea-9dbf-12e891ac7a55",
   "metadata": {
    "tags": []
   },
   "outputs": [
    {
     "data": {
      "text/plain": [
       "1.161834242728283"
      ]
     },
     "execution_count": 333,
     "metadata": {},
     "output_type": "execute_result"
    }
   ],
   "source": [
    "rhs"
   ]
  },
  {
   "cell_type": "code",
   "execution_count": 334,
   "id": "902db2bb-043c-4a39-8729-4babb38a58cf",
   "metadata": {
    "tags": []
   },
   "outputs": [
    {
     "data": {
      "text/plain": [
       "True"
      ]
     },
     "execution_count": 334,
     "metadata": {},
     "output_type": "execute_result"
    }
   ],
   "source": [
    "np.isclose(lhs, rhs)"
   ]
  },
  {
   "cell_type": "code",
   "execution_count": 335,
   "id": "2d4360e0-a214-4d4d-91d1-e01feb92cd7f",
   "metadata": {
    "tags": []
   },
   "outputs": [
    {
     "data": {
      "text/plain": [
       "2.998531043574957"
      ]
     },
     "execution_count": 335,
     "metadata": {},
     "output_type": "execute_result"
    }
   ],
   "source": [
    "yi[0]"
   ]
  },
  {
   "cell_type": "code",
   "execution_count": 336,
   "id": "96f450c9-ba54-43a2-9469-cb45a8b6d61c",
   "metadata": {},
   "outputs": [
    {
     "data": {
      "text/plain": [
       "0.01038802822034332"
      ]
     },
     "execution_count": 336,
     "metadata": {},
     "output_type": "execute_result"
    }
   ],
   "source": [
    "yi[-1]"
   ]
  }
 ],
 "metadata": {
  "kernelspec": {
   "display_name": "Python 3 (ipykernel)",
   "language": "python",
   "name": "python3"
  },
  "language_info": {
   "codemirror_mode": {
    "name": "ipython",
    "version": 3
   },
   "file_extension": ".py",
   "mimetype": "text/x-python",
   "name": "python",
   "nbconvert_exporter": "python",
   "pygments_lexer": "ipython3",
   "version": "3.10.10"
  }
 },
 "nbformat": 4,
 "nbformat_minor": 5
}
