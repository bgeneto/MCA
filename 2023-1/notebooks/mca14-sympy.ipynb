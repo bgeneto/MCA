{
 "cells": [
  {
   "cell_type": "markdown",
   "id": "8e652a5c-0e2f-4341-9766-d15f11f041ea",
   "metadata": {},
   "source": [
    "<div style=\"width:90%; text-align:center; border-width: 0px; display:block; margin-left:auto; margin-right:auto;\">\n",
    "<div class=\"alert alert-block alert-success\" style=\"text-align:center; color:navy;\">\n",
    "<img src=\"https://raw.githubusercontent.com/bgeneto/MCA/main/imagens/logo_unb.png\" style=\"width: 200px; opacity:0.85;\">\n",
    "<h1>Universidade de Brasília</h1>\n",
    "<h2>Instituto de Física</h2>\n",
    "<hr style=\"width:44%;border:1px solid navy;\">\n",
    "<h3>Métodos Computacionais A (MCA)</h3> \n",
    "<h4>Prof. Bernhard Enders</h4>\n",
    "<hr style=\"width:44%;border:1px solid navy;\">\n",
    "</div>\n",
    "</div>"
   ]
  },
  {
   "cell_type": "markdown",
   "id": "28588a9f-5d96-4a81-9235-588f4563b144",
   "metadata": {},
   "source": [
    "# **➲ Aula - Computação Simbólica**\n",
    "\n",
    "## ➥ Computação Simbólica com Python\n",
    "---"
   ]
  },
  {
   "cell_type": "markdown",
   "id": "45ee4c23-b3a7-472d-9c32-571dfd68b4f6",
   "metadata": {},
   "source": [
    "## O que é Computação Simbólica?\n",
    "\n",
    "A computação simbólica lida com a computação de objetos matemáticos simbolicamente. Isso significa que os objetos matemáticos são representados exatamente, não aproximadamente, e as expressões matemáticas com variáveis não avaliadas são deixadas em forma simbólica.\n",
    "\n",
    "Em computação simbólica, os símbolos matemáticos, como variáveis, constantes e funções, são tratados como objetos primitivos. As expressões matemáticas são representadas simbolicamente em vez de serem avaliadas numericamente. Isso permite realizar operações como simplificação de expressões, diferenciação simbólica, integração simbólica, resolução simbólica de equações, entre outras. Exemplos de de sistemas de álgebra computacional que utilizam computação simbólica são: Mathematica, Maple, Maxima, SymPy... \n",
    "\n",
    "![sympy](https://www.sympy.org/static/images/logo.png)"
   ]
  },
  {
   "cell_type": "markdown",
   "id": "d15c171d-d6ae-47d1-90e5-56ccd29d3918",
   "metadata": {},
   "source": [
    "Na computação numérica, temos:"
   ]
  },
  {
   "cell_type": "code",
   "execution_count": 36,
   "id": "bdfd725d-0670-47e0-863d-08bef778c107",
   "metadata": {},
   "outputs": [
    {
     "data": {
      "image/png": "[encoded data removed]",
      "text/latex": [
       "$\\displaystyle 2.82842712474619$"
      ],
      "text/plain": [
       "2.8284271247461903"
      ]
     },
     "execution_count": 36,
     "metadata": {},
     "output_type": "execute_result"
    }
   ],
   "source": [
    "import math\n",
    "\n",
    "math.sqrt(8)"
   ]
  },
  {
   "cell_type": "markdown",
   "id": "3dfbe9b3-dac1-4100-9e85-76d718e4f5e6",
   "metadata": {},
   "source": [
    "Já na computação algébrica simbólica (usando sympy), temos:"
   ]
  },
  {
   "cell_type": "code",
   "execution_count": 37,
   "id": "6da5d402-b029-4df9-b501-1cf8268b9a7a",
   "metadata": {},
   "outputs": [
    {
     "data": {
      "image/png": "[encoded data removed]",
      "text/latex": [
       "$\\displaystyle 2 \\sqrt{2}$"
      ],
      "text/plain": [
       "2⋅√2"
      ]
     },
     "execution_count": 37,
     "metadata": {},
     "output_type": "execute_result"
    }
   ],
   "source": [
    "import sympy\n",
    "\n",
    "sympy.sqrt(8)"
   ]
  },
  {
   "cell_type": "markdown",
   "id": "a19bab52-4c72-4ef3-ad4c-7781dc6a5fc2",
   "metadata": {},
   "source": [
    "O real poder de um sistema de computação simbólica como o **SymPy** é a capacidade de fazer todos os tipos de cálculos simbolicamente. O SymPy pode simplificar expressões, calcular derivadas, integrais e limites, resolver equações, trabalhar com matrizes e muito, muito mais... e tudo isso simbolicamente. Inclui módulos para plot de gráficos, impressão (como saída 2D impressa de fórmulas matemáticas ou usando LaTeX), geração de código, física, estatística, combinatória, teoria dos números, geometria, lógica e muito mais."
   ]
  },
  {
   "cell_type": "markdown",
   "id": "e504328a-e8aa-4df6-bca8-4518a3bac5ab",
   "metadata": {},
   "source": [
    "## Exemplos Simples\n",
    "\n",
    "O SymPy é uma biblioteca Python para computação simbólica e, ao usar o comando `symbols()`, você pode criar uma ou diversas variáveis simbólicas em um único comando. Essas variáveis podem ser usadas para construir expressões matemáticas simbólicas e realizar diversas operações, como simplificação, diferenciação, integração, resolução de equações, entre outras.\n",
    "\n",
    "A sintaxe básica para usar o symbols() é a seguinte:"
   ]
  },
  {
   "cell_type": "code",
   "execution_count": 38,
   "id": "7bed54d0-e258-49c3-91e5-b0ff3d247b08",
   "metadata": {
    "tags": []
   },
   "outputs": [],
   "source": [
    "# para facilitar o uso do sympy importaremos tudo da biblioteca\n",
    "from sympy import *\n",
    "\n",
    "x = symbols('x')"
   ]
  },
  {
   "cell_type": "markdown",
   "id": "0d23642e-9e5a-4b50-8f71-3a3306559413",
   "metadata": {},
   "source": [
    "Você também pode criar várias variáveis simbólicas em um único comando, separando-as por vírgula:"
   ]
  },
  {
   "cell_type": "code",
   "execution_count": 39,
   "id": "ce5f2a16-d9c9-43fa-9abd-ec9666878071",
   "metadata": {
    "tags": []
   },
   "outputs": [],
   "source": [
    "x, y, z, t = symbols('x, y, z, t')"
   ]
  },
  {
   "cell_type": "markdown",
   "id": "9c65904b-5f10-43bb-b554-3769e6db4c6f",
   "metadata": {
    "tags": []
   },
   "source": [
    "Utilizamos unicode para configurar a exibição de saída do SymPy de maneira mais legível e agradável visualmente:"
   ]
  },
  {
   "cell_type": "code",
   "execution_count": 40,
   "id": "878c7b6c-cf0f-4d59-b5a4-34acbf1aed9f",
   "metadata": {
    "tags": []
   },
   "outputs": [],
   "source": [
    "init_printing(use_unicode=True)"
   ]
  },
  {
   "cell_type": "markdown",
   "id": "4a0c6498-7640-46b8-b202-df36917cbd20",
   "metadata": {
    "tags": []
   },
   "source": [
    "### ✏️ Derivada de $f(x) = \\sin(x)\\,\\text{e}^x$"
   ]
  },
  {
   "cell_type": "code",
   "execution_count": 41,
   "id": "e9fa270a-62ec-4f4b-92c4-0c0a8f14edca",
   "metadata": {},
   "outputs": [
    {
     "data": {
      "image/png": "[encoded data removed]",
      "text/latex": [
       "$\\displaystyle e^{x} \\sin{\\left(x \\right)} + e^{x} \\cos{\\left(x \\right)}$"
      ],
      "text/plain": [
       " x           x       \n",
       "ℯ ⋅sin(x) + ℯ ⋅cos(x)"
      ]
     },
     "execution_count": 41,
     "metadata": {},
     "output_type": "execute_result"
    }
   ],
   "source": [
    "diff(sin(x)*exp(x), x)"
   ]
  },
  {
   "cell_type": "markdown",
   "id": "061574e5-ff75-448d-a377-034fb49a5d68",
   "metadata": {},
   "source": [
    "### ✏️ Integrais indefinidas: $\\int[\\text{e}^x\\sin{(x)} + \\text{e}^x\\cos{(x)}]\\,\\text{d}x$"
   ]
  },
  {
   "cell_type": "code",
   "execution_count": 42,
   "id": "d877bb73-99f1-4e04-9a2d-6fc7e7217272",
   "metadata": {},
   "outputs": [
    {
     "data": {
      "image/png": "[encoded data removed]",
      "text/latex": [
       "$\\displaystyle e^{x} \\sin{\\left(x \\right)}$"
      ],
      "text/plain": [
       " x       \n",
       "ℯ ⋅sin(x)"
      ]
     },
     "execution_count": 42,
     "metadata": {},
     "output_type": "execute_result"
    }
   ],
   "source": [
    "integrate(exp(x)*sin(x) + exp(x)*cos(x), x)"
   ]
  },
  {
   "cell_type": "markdown",
   "id": "9efde863-53c5-4379-8793-f91e08e2b999",
   "metadata": {
    "tags": []
   },
   "source": [
    "### ✏️ Integrais definidas: $\\int_{-\\infty}^\\infty \\sin{x^2}\\,\\text{d}x$"
   ]
  },
  {
   "cell_type": "code",
   "execution_count": 43,
   "id": "e42d2553-bbfd-4ddf-b926-2b6da0d162a6",
   "metadata": {},
   "outputs": [
    {
     "data": {
      "image/png": "[encoded data removed]",
      "text/latex": [
       "$\\displaystyle \\frac{\\sqrt{2} \\sqrt{\\pi}}{2}$"
      ],
      "text/plain": [
       "√2⋅√π\n",
       "─────\n",
       "  2  "
      ]
     },
     "execution_count": 43,
     "metadata": {},
     "output_type": "execute_result"
    }
   ],
   "source": [
    "integrate(sin(x**2), (x, -oo, oo))"
   ]
  },
  {
   "cell_type": "markdown",
   "id": "a67c3a51-2f41-4bce-b487-8de61cc24048",
   "metadata": {},
   "source": [
    "> Note que o símbolo de infinito é um duplo \"o\""
   ]
  },
  {
   "cell_type": "markdown",
   "id": "182772a4-4991-400e-a0c8-8cfdb34756de",
   "metadata": {},
   "source": [
    "### ✏️ Realiza somatórios com infinitos termos \n",
    "$$\\text{e}^x = 1 + x + \\frac{x^2}{2!} + \\frac{x^3}{3!} + \\cdots = \\sum_{n=0}^{\\infty}\\frac{x^n}{n!}$$"
   ]
  },
  {
   "cell_type": "code",
   "execution_count": 44,
   "id": "20b6923a-a90d-475f-b695-9c1f6daf897b",
   "metadata": {},
   "outputs": [
    {
     "data": {
      "image/png": "[encoded data removed]",
      "text/latex": [
       "$\\displaystyle e^{5}$"
      ],
      "text/plain": [
       " 5\n",
       "ℯ "
      ]
     },
     "execution_count": 44,
     "metadata": {},
     "output_type": "execute_result"
    }
   ],
   "source": [
    "n = symbols('n')\n",
    "ex = x**n/factorial(n)\n",
    "summation(ex.subs({x:5}), [n, 0, oo])"
   ]
  },
  {
   "cell_type": "code",
   "execution_count": 45,
   "id": "63237d76-dce5-4f4a-bc0b-c9da4a4655bb",
   "metadata": {},
   "outputs": [
    {
     "data": {
      "image/png": "[encoded data removed]",
      "text/latex": [
       "$\\displaystyle 148.413159102577$"
      ],
      "text/plain": [
       "148.413159102577"
      ]
     },
     "execution_count": 45,
     "metadata": {},
     "output_type": "execute_result"
    }
   ],
   "source": [
    "_.evalf()"
   ]
  },
  {
   "cell_type": "code",
   "execution_count": 46,
   "id": "c37278de-7345-4f44-89f6-9df7e7f0014a",
   "metadata": {},
   "outputs": [
    {
     "data": {
      "image/png": "[encoded data removed]",
      "text/latex": [
       "$\\displaystyle 148.413159102577$"
      ],
      "text/plain": [
       "148.4131591025766"
      ]
     },
     "execution_count": 46,
     "metadata": {},
     "output_type": "execute_result"
    }
   ],
   "source": [
    "math.exp(5)"
   ]
  },
  {
   "cell_type": "markdown",
   "id": "6a531d12-f468-47a1-9c28-c2ab9d17297e",
   "metadata": {},
   "source": [
    "### ✏️ Computa limites: $\\displaystyle\\lim_{x\\to 0}\\dfrac{\\sin{(x)}}{x}$"
   ]
  },
  {
   "cell_type": "code",
   "execution_count": 47,
   "id": "2c7f9282-9dad-4217-8995-11d490888db2",
   "metadata": {},
   "outputs": [
    {
     "data": {
      "image/png": "[encoded data removed]",
      "text/latex": [
       "$\\displaystyle 1$"
      ],
      "text/plain": [
       "1"
      ]
     },
     "execution_count": 47,
     "metadata": {},
     "output_type": "execute_result"
    }
   ],
   "source": [
    "limit(sin(x)/x, x, 0)"
   ]
  },
  {
   "cell_type": "markdown",
   "id": "0115607a-263d-4c31-992c-6302a93fa22a",
   "metadata": {
    "tags": []
   },
   "source": [
    "### ✏️ Resolve equações: $x^2 + 2x - 8 = 0$"
   ]
  },
  {
   "cell_type": "code",
   "execution_count": 48,
   "id": "42c8726f-80ba-4169-b21e-435765d93b86",
   "metadata": {},
   "outputs": [
    {
     "data": {
      "image/png": "[encoded data removed]",
      "text/latex": [
       "$\\displaystyle \\left[ -4, \\  2\\right]$"
      ],
      "text/plain": [
       "[-4, 2]"
      ]
     },
     "execution_count": 48,
     "metadata": {},
     "output_type": "execute_result"
    }
   ],
   "source": [
    "solve(x**2 + 2*x -8, x)"
   ]
  },
  {
   "cell_type": "code",
   "execution_count": 49,
   "id": "abf2b4d1-c6c8-4145-becf-7d800c0ccb3f",
   "metadata": {},
   "outputs": [
    {
     "data": {
      "image/png": "[encoded data removed]",
      "text/latex": [
       "$\\displaystyle \\left[ \\frac{- b - \\sqrt{- 4 a c + b^{2}}}{2 a}, \\  \\frac{- b + \\sqrt{- 4 a c + b^{2}}}{2 a}\\right]$"
      ],
      "text/plain": [
       "⎡        _____________          _____________⎤\n",
       "⎢       ╱           2          ╱           2 ⎥\n",
       "⎢-b - ╲╱  -4⋅a⋅c + b    -b + ╲╱  -4⋅a⋅c + b  ⎥\n",
       "⎢─────────────────────, ─────────────────────⎥\n",
       "⎣         2⋅a                    2⋅a         ⎦"
      ]
     },
     "execution_count": 49,
     "metadata": {},
     "output_type": "execute_result"
    }
   ],
   "source": [
    "a, b, c = symbols('a, b, c')\n",
    "sol = solve( a*x**2 + b*x + c, x )\n",
    "sol"
   ]
  },
  {
   "cell_type": "markdown",
   "id": "e279a361-9219-4b98-80b2-da842d4a36e7",
   "metadata": {},
   "source": [
    "Permite substituição de coeficientes:"
   ]
  },
  {
   "cell_type": "code",
   "execution_count": 50,
   "id": "a105625a-fa4f-4f4d-a071-3153f329a3b5",
   "metadata": {},
   "outputs": [
    {
     "data": {
      "image/png": "[encoded data removed]",
      "text/latex": [
       "$\\displaystyle -4$"
      ],
      "text/plain": [
       "-4"
      ]
     },
     "execution_count": 50,
     "metadata": {},
     "output_type": "execute_result"
    }
   ],
   "source": [
    "coefs = {'a': 1, 'b': 2, 'c': -8}\n",
    "sol[0].subs(coefs)"
   ]
  },
  {
   "cell_type": "markdown",
   "id": "9bed30e5-0da0-4a6a-974a-59ab4547c69f",
   "metadata": {},
   "source": [
    "Substituição para todas as soluções:"
   ]
  },
  {
   "cell_type": "code",
   "execution_count": 51,
   "id": "7c76812b-3fd4-4120-9304-596c32f200b7",
   "metadata": {},
   "outputs": [
    {
     "data": {
      "image/png": "[encoded data removed]",
      "text/latex": [
       "$\\displaystyle \\left[ -4, \\  2\\right]$"
      ],
      "text/plain": [
       "[-4, 2]"
      ]
     },
     "execution_count": 51,
     "metadata": {},
     "output_type": "execute_result"
    }
   ],
   "source": [
    "[s.subs(coefs) for s in sol]"
   ]
  },
  {
   "cell_type": "markdown",
   "id": "e1debb68-4175-4c0b-88bf-742feaebfd58",
   "metadata": {},
   "source": [
    "### ✏️ Simplifica expressões"
   ]
  },
  {
   "cell_type": "code",
   "execution_count": 52,
   "id": "614f95ac-2c34-4fda-ad7f-4335540bff87",
   "metadata": {
    "tags": []
   },
   "outputs": [
    {
     "data": {
      "image/png": "[encoded data removed]",
      "text/latex": [
       "$\\displaystyle \\frac{x^{2} + 2 x + 1}{x + 1}$"
      ],
      "text/plain": [
       " 2          \n",
       "x  + 2⋅x + 1\n",
       "────────────\n",
       "   x + 1    "
      ]
     },
     "execution_count": 52,
     "metadata": {},
     "output_type": "execute_result"
    }
   ],
   "source": [
    "expression = (x**2 + 2*x + 1) / (x + 1)\n",
    "expression"
   ]
  },
  {
   "cell_type": "code",
   "execution_count": 53,
   "id": "07ab6e8c-88e1-4de3-baaf-6695416af81e",
   "metadata": {
    "tags": []
   },
   "outputs": [
    {
     "data": {
      "image/png": "[encoded data removed]",
      "text/latex": [
       "$\\displaystyle x + 1$"
      ],
      "text/plain": [
       "x + 1"
      ]
     },
     "execution_count": 53,
     "metadata": {},
     "output_type": "execute_result"
    }
   ],
   "source": [
    "simplified_expr = simplify(expression)\n",
    "simplified_expr"
   ]
  },
  {
   "cell_type": "markdown",
   "id": "b3ff9a9d-4b1b-497a-b9b7-40cdcc35d20c",
   "metadata": {},
   "source": [
    "### ✏️ Resolve sistema de equações lineares"
   ]
  },
  {
   "cell_type": "code",
   "execution_count": 54,
   "id": "9e755776-0c35-438b-a05a-239e2669fc1b",
   "metadata": {},
   "outputs": [
    {
     "data": {
      "image/png": "[encoded data removed]",
      "text/latex": [
       "$\\displaystyle \\left\\{ x : \\frac{6}{5}, \\  y : \\frac{9}{5}\\right\\}$"
      ],
      "text/plain": [
       "{x: 6/5, y: 9/5}"
      ]
     },
     "execution_count": 54,
     "metadata": {},
     "output_type": "execute_result"
    }
   ],
   "source": [
    "solve([x + y - 3, 3*x - 2*y], [x, y])"
   ]
  },
  {
   "cell_type": "markdown",
   "id": "25e57b1d-7b61-43b2-b962-16da6e1815e7",
   "metadata": {
    "tags": []
   },
   "source": [
    "### ✏️ Resolve equações diferenciais...\n",
    "\n",
    "> mas antes vejamos como a **igualdade relacional** functiona em sympy:"
   ]
  },
  {
   "cell_type": "code",
   "execution_count": 55,
   "id": "743fbc07-4e22-4203-b232-6ee69c4d5d8e",
   "metadata": {},
   "outputs": [
    {
     "data": {
      "image/png": "[encoded data removed]",
      "text/latex": [
       "$\\displaystyle e^{x} = \\sinh{\\left(x \\right)} + \\cosh{\\left(x \\right)}$"
      ],
      "text/plain": [
       " x                    \n",
       "ℯ  = sinh(x) + cosh(x)"
      ]
     },
     "execution_count": 55,
     "metadata": {},
     "output_type": "execute_result"
    }
   ],
   "source": [
    "Eq(exp(x), sinh(x) + cosh(x))"
   ]
  },
  {
   "cell_type": "code",
   "execution_count": 56,
   "id": "d027763e-17a7-46f5-99ff-745621745b9c",
   "metadata": {},
   "outputs": [
    {
     "data": {
      "text/latex": [
       "$\\displaystyle \\text{True}$"
      ],
      "text/plain": [
       "True"
      ]
     },
     "execution_count": 56,
     "metadata": {},
     "output_type": "execute_result"
    }
   ],
   "source": [
    "simplify(_)"
   ]
  },
  {
   "cell_type": "code",
   "execution_count": 57,
   "id": "caf29a15-f4f9-4cfa-a438-31e4bbea3602",
   "metadata": {},
   "outputs": [
    {
     "data": {
      "image/png": "[encoded data removed]",
      "text/latex": [
       "$\\displaystyle - \\sin^{2}{\\left(x \\right)} + \\cos^{2}{\\left(x \\right)} = \\cos{\\left(2 x \\right)}$"
      ],
      "text/plain": [
       "     2         2              \n",
       "- sin (x) + cos (x) = cos(2⋅x)"
      ]
     },
     "execution_count": 57,
     "metadata": {},
     "output_type": "execute_result"
    }
   ],
   "source": [
    "Eq(cos(x)**2 - sin(x)**2,  cos(2*x))"
   ]
  },
  {
   "cell_type": "code",
   "execution_count": 58,
   "id": "26cffcb3-bb46-490b-9dbf-b8a86cef4d24",
   "metadata": {},
   "outputs": [
    {
     "data": {
      "text/latex": [
       "$\\displaystyle \\text{True}$"
      ],
      "text/plain": [
       "True"
      ]
     },
     "execution_count": 58,
     "metadata": {},
     "output_type": "execute_result"
    }
   ],
   "source": [
    "simplify(_)"
   ]
  },
  {
   "cell_type": "markdown",
   "id": "acc5ef37-3679-4bd1-ab9b-5d286795df13",
   "metadata": {},
   "source": [
    "> Note que o operador == não é o mesmo que Eq():"
   ]
  },
  {
   "cell_type": "code",
   "execution_count": 59,
   "id": "60381383-bd04-4eff-b551-7c0194dc3fe5",
   "metadata": {},
   "outputs": [
    {
     "data": {
      "text/plain": [
       "False"
      ]
     },
     "execution_count": 59,
     "metadata": {},
     "output_type": "execute_result"
    }
   ],
   "source": [
    "cos(x)**2 - sin(x)**2 == cos(2*x)"
   ]
  },
  {
   "cell_type": "code",
   "execution_count": 60,
   "id": "1bf35426-90c8-478f-b7e2-b5c09796e9fe",
   "metadata": {},
   "outputs": [
    {
     "data": {
      "text/latex": [
       "$\\displaystyle \\text{False}$"
      ],
      "text/plain": [
       "False"
      ]
     },
     "execution_count": 60,
     "metadata": {},
     "output_type": "execute_result"
    }
   ],
   "source": [
    "simplify(_)"
   ]
  },
  {
   "cell_type": "code",
   "execution_count": 61,
   "id": "72593901-0787-4fe7-baaf-c8db7ac32a0c",
   "metadata": {},
   "outputs": [
    {
     "data": {
      "text/plain": [
       "True"
      ]
     },
     "execution_count": 61,
     "metadata": {},
     "output_type": "execute_result"
    }
   ],
   "source": [
    "simplify(cos(x)**2 - sin(x)**2 - cos(2*x)) == 0"
   ]
  },
  {
   "cell_type": "markdown",
   "id": "a6a73747-c36a-490e-aecc-5ea112b4eaa9",
   "metadata": {},
   "source": [
    "> Agora podemos resolver a eq. diferencial: $\\dfrac{d^2y}{dt^2} - y = \\text{e}^t$"
   ]
  },
  {
   "cell_type": "code",
   "execution_count": 62,
   "id": "d0447e8e-8cae-406c-ae0e-d50da17a8e57",
   "metadata": {},
   "outputs": [
    {
     "data": {
      "image/png": "[encoded data removed]",
      "text/latex": [
       "$\\displaystyle y{\\left(t \\right)} = C_{2} e^{- t} + \\left(C_{1} + \\frac{t}{2}\\right) e^{t}$"
      ],
      "text/plain": [
       "           -t   ⎛     t⎞  t\n",
       "y(t) = C₂⋅ℯ   + ⎜C₁ + ─⎟⋅ℯ \n",
       "                ⎝     2⎠   "
      ]
     },
     "execution_count": 62,
     "metadata": {},
     "output_type": "execute_result"
    }
   ],
   "source": [
    "y = Function('y')\n",
    "dsolve( Eq( y(t).diff(t, 2) - y(t), exp(t) ) )"
   ]
  },
  {
   "cell_type": "markdown",
   "id": "5e7e042b-a839-4b56-80b3-8b9f8fcf3012",
   "metadata": {},
   "source": [
    "> também podemos utilizar a sintaxe:"
   ]
  },
  {
   "cell_type": "code",
   "execution_count": 63,
   "id": "7ae3e046-9bee-4abb-8c7c-5bed18930523",
   "metadata": {},
   "outputs": [
    {
     "data": {
      "image/png": "[encoded data removed]",
      "text/latex": [
       "$\\displaystyle y{\\left(t \\right)} = C_{2} e^{- t} + \\left(C_{1} + \\frac{t}{2}\\right) e^{t}$"
      ],
      "text/plain": [
       "           -t   ⎛     t⎞  t\n",
       "y(t) = C₂⋅ℯ   + ⎜C₁ + ─⎟⋅ℯ \n",
       "                ⎝     2⎠   "
      ]
     },
     "execution_count": 63,
     "metadata": {},
     "output_type": "execute_result"
    }
   ],
   "source": [
    "dsolve( Derivative( y(t), t, 2) - y(t) - exp(t) ) "
   ]
  },
  {
   "cell_type": "markdown",
   "id": "5e80616e-aa34-4b36-8277-a287ceef1a6a",
   "metadata": {},
   "source": [
    "### ✏️ Resolve problemas de valor inicial: $y'(x)=1 + 2x, y(0)=3$"
   ]
  },
  {
   "cell_type": "code",
   "execution_count": 64,
   "id": "8871b557-8eae-4cf5-a7af-b55e39002e55",
   "metadata": {},
   "outputs": [
    {
     "data": {
      "text/plain": [
       "(True, 0)"
      ]
     },
     "execution_count": 64,
     "metadata": {},
     "output_type": "execute_result"
    }
   ],
   "source": [
    "ode = Eq( Derivative(y(x), x), 1 + 2*x ) \n",
    "sol = dsolve(ode, y(x), ics={y(0):3}) \n",
    "checkodesol(ode,sol) "
   ]
  },
  {
   "cell_type": "code",
   "execution_count": 65,
   "id": "e84694e6-a61d-405b-88e7-cebca4531145",
   "metadata": {},
   "outputs": [
    {
     "data": {
      "image/png": "[encoded data removed]",
      "text/latex": [
       "$\\displaystyle y{\\left(x \\right)} = x^{2} + x + 3$"
      ],
      "text/plain": [
       "        2        \n",
       "y(x) = x  + x + 3"
      ]
     },
     "execution_count": 65,
     "metadata": {},
     "output_type": "execute_result"
    }
   ],
   "source": [
    "sol"
   ]
  },
  {
   "cell_type": "markdown",
   "id": "f2bf3ee9-5e15-4739-80de-78bb8754b758",
   "metadata": {},
   "source": [
    "### ✏️ Álgebra Linear"
   ]
  },
  {
   "cell_type": "code",
   "execution_count": 66,
   "id": "bee29b8a-2e87-42f4-9373-d9eded498e9b",
   "metadata": {
    "tags": []
   },
   "outputs": [
    {
     "data": {
      "text/latex": [
       "$\\displaystyle \\left[\\begin{matrix}6 & 8\\\\10 & 12\\end{matrix}\\right]$"
      ],
      "text/plain": [
       "⎡6   8 ⎤\n",
       "⎢      ⎥\n",
       "⎣10  12⎦"
      ]
     },
     "execution_count": 66,
     "metadata": {},
     "output_type": "execute_result"
    }
   ],
   "source": [
    "A = Matrix([[1, 2], [3, 4]])\n",
    "B = Matrix([[5, 6], [7, 8]])\n",
    "C = A + B  # Soma de matrizes\n",
    "D = A * B  # Produto de matrizes\n",
    "E = A.inv()  # Matriz inversa\n",
    "C"
   ]
  },
  {
   "cell_type": "code",
   "execution_count": 67,
   "id": "9117b3d4-c39e-4e21-b1dc-b2fd8a2e89aa",
   "metadata": {
    "tags": []
   },
   "outputs": [
    {
     "data": {
      "text/latex": [
       "$\\displaystyle \\left[\\begin{matrix}19 & 22\\\\43 & 50\\end{matrix}\\right]$"
      ],
      "text/plain": [
       "⎡19  22⎤\n",
       "⎢      ⎥\n",
       "⎣43  50⎦"
      ]
     },
     "metadata": {},
     "output_type": "display_data"
    },
    {
     "data": {
      "text/latex": [
       "$\\displaystyle \\left[\\begin{matrix}-2 & 1\\\\\\frac{3}{2} & - \\frac{1}{2}\\end{matrix}\\right]$"
      ],
      "text/plain": [
       "⎡-2    1  ⎤\n",
       "⎢         ⎥\n",
       "⎣3/2  -1/2⎦"
      ]
     },
     "metadata": {},
     "output_type": "display_data"
    }
   ],
   "source": [
    "display(D)\n",
    "display(E)"
   ]
  },
  {
   "cell_type": "markdown",
   "id": "2e84c7f8-1b37-418d-adac-ef5ef1288ee2",
   "metadata": {},
   "source": [
    "### ✏️ Encontra os autovalores de uma matriz: $\\left[\\begin{smallmatrix}1 & 2\\\\2 &\n",
    "2\\end{smallmatrix}\\right]$"
   ]
  },
  {
   "cell_type": "code",
   "execution_count": 68,
   "id": "df8ccf17-eacb-48ff-8310-0755b3503ac7",
   "metadata": {},
   "outputs": [
    {
     "data": {
      "text/plain": [
       "True"
      ]
     },
     "execution_count": 68,
     "metadata": {},
     "output_type": "execute_result"
    }
   ],
   "source": [
    "M = Matrix([[1, 2], [2, 2]])\n",
    "M.is_diagonalizable()"
   ]
  },
  {
   "cell_type": "code",
   "execution_count": 69,
   "id": "aa09588f-a501-4b01-8674-ebfb786cfdf7",
   "metadata": {},
   "outputs": [
    {
     "data": {
      "text/plain": [
       "False"
      ]
     },
     "execution_count": 69,
     "metadata": {},
     "output_type": "execute_result"
    }
   ],
   "source": [
    "M.is_positive_definite"
   ]
  },
  {
   "cell_type": "code",
   "execution_count": 70,
   "id": "4b9fdb5d-51ef-46a2-b203-e32ad68611d8",
   "metadata": {},
   "outputs": [
    {
     "data": {
      "image/png": "[encoded data removed]",
      "text/latex": [
       "$\\displaystyle \\left[ \\frac{3}{2} - \\frac{\\sqrt{17}}{2}, \\  \\frac{3}{2} + \\frac{\\sqrt{17}}{2}\\right]$"
      ],
      "text/plain": [
       "⎡3   √17  3   √17⎤\n",
       "⎢─ - ───, ─ + ───⎥\n",
       "⎣2    2   2    2 ⎦"
      ]
     },
     "execution_count": 70,
     "metadata": {},
     "output_type": "execute_result"
    }
   ],
   "source": [
    "M.eigenvals(multiple=True)"
   ]
  },
  {
   "cell_type": "code",
   "execution_count": 71,
   "id": "2409b457-0d89-4c1d-9003-c955d8969861",
   "metadata": {},
   "outputs": [
    {
     "data": {
      "image/png": "[encoded data removed]",
      "text/latex": [
       "$\\displaystyle \\left\\{ - i : 1, \\  i : 1\\right\\}$"
      ],
      "text/plain": [
       "{-ⅈ: 1, ⅈ: 1}"
      ]
     },
     "execution_count": 71,
     "metadata": {},
     "output_type": "execute_result"
    }
   ],
   "source": [
    "Matrix([[0, 1], [-1, 0]]).eigenvals()"
   ]
  },
  {
   "cell_type": "markdown",
   "id": "4999c2de-9210-4d93-8231-ed860941d6dd",
   "metadata": {},
   "source": [
    "## Problemas aplicados à Física\n",
    "\n",
    "SymPy não está focado somente em problemas puramente matemáticos, a biblioteca fornece também uma enorme quantidade de de funções úteis dentro do seu pacote `physics`."
   ]
  },
  {
   "cell_type": "markdown",
   "id": "5e08571b-e824-44bb-a2ef-473727b24769",
   "metadata": {},
   "source": [
    "### 📝 Conversão de unidades"
   ]
  },
  {
   "cell_type": "code",
   "execution_count": 72,
   "id": "6b50588c-fcb4-4528-adfe-83105c1b8480",
   "metadata": {},
   "outputs": [
    {
     "data": {
      "text/latex": [
       "$\\displaystyle \\text{c}$"
      ],
      "text/plain": [
       "speed_of_light"
      ]
     },
     "execution_count": 72,
     "metadata": {},
     "output_type": "execute_result"
    }
   ],
   "source": [
    "from sympy.physics.units import *\n",
    "speed_of_light"
   ]
  },
  {
   "cell_type": "code",
   "execution_count": 73,
   "id": "15c27000-bc15-4458-bcea-796fe88aa9a5",
   "metadata": {},
   "outputs": [
    {
     "data": {
      "text/latex": [
       "$\\displaystyle \\frac{299792458 \\text{m}}{\\text{s}}$"
      ],
      "text/plain": [
       "299792458⋅meter\n",
       "───────────────\n",
       "     second    "
      ]
     },
     "execution_count": 73,
     "metadata": {},
     "output_type": "execute_result"
    }
   ],
   "source": [
    "convert_to(speed_of_light, meter/second)"
   ]
  },
  {
   "cell_type": "code",
   "execution_count": 74,
   "id": "55011a84-cba5-4e0a-bad8-a59f74bf11f6",
   "metadata": {},
   "outputs": [
    {
     "data": {
      "text/latex": [
       "$\\displaystyle \\frac{25146 \\text{km}}{15625}$"
      ],
      "text/plain": [
       "25146⋅kilometer\n",
       "───────────────\n",
       "     15625     "
      ]
     },
     "execution_count": 74,
     "metadata": {},
     "output_type": "execute_result"
    }
   ],
   "source": [
    "convert_to(mile, kilometer)"
   ]
  },
  {
   "cell_type": "code",
   "execution_count": 75,
   "id": "b5afc2f1-1a33-4b08-b5cd-81b67bded9e4",
   "metadata": {},
   "outputs": [
    {
     "data": {
      "text/latex": [
       "$\\displaystyle 1.609344 \\text{km}$"
      ],
      "text/plain": [
       "1.609344⋅kilometer"
      ]
     },
     "execution_count": 75,
     "metadata": {},
     "output_type": "execute_result"
    }
   ],
   "source": [
    "convert_to(mile, kilometer).n()"
   ]
  },
  {
   "cell_type": "code",
   "execution_count": 76,
   "id": "3a83868a-7fc4-4147-b24e-22ce64804b5e",
   "metadata": {},
   "outputs": [
    {
     "data": {
      "text/latex": [
       "$\\displaystyle \\frac{2 \\text{kg} \\text{m}}{\\text{s}^{2}}$"
      ],
      "text/plain": [
       "2⋅kilogram⋅meter\n",
       "────────────────\n",
       "          2     \n",
       "    second      "
      ]
     },
     "execution_count": 76,
     "metadata": {},
     "output_type": "execute_result"
    }
   ],
   "source": [
    "convert_to(2*newton, kilogram*meter/second**2)"
   ]
  },
  {
   "cell_type": "markdown",
   "id": "dc99d35d-84af-4b33-a5b3-d6419d0ac5cc",
   "metadata": {},
   "source": [
    "### 📝 Operações com vetores\n",
    "\n",
    "Um vetor 2D (ou 3D) em SymPy pode ser representado como uma matriz linha da seguinte maneira:"
   ]
  },
  {
   "cell_type": "code",
   "execution_count": 77,
   "id": "91c8ee72-8c70-43ac-add6-8ddb8d56b7a2",
   "metadata": {},
   "outputs": [],
   "source": [
    "F_1 = Matrix([3, 0])\n",
    "F_2 = Matrix([0, 4])\n",
    "F_R = F_1 + F_2"
   ]
  },
  {
   "cell_type": "code",
   "execution_count": 78,
   "id": "1abc1b1f-fa3f-4a0d-88ed-52ce27632f49",
   "metadata": {},
   "outputs": [
    {
     "data": {
      "image/png": "[encoded data removed]",
      "text/latex": [
       "$\\displaystyle 5$"
      ],
      "text/plain": [
       "5"
      ]
     },
     "execution_count": 78,
     "metadata": {},
     "output_type": "execute_result"
    }
   ],
   "source": [
    "F_R.norm()"
   ]
  },
  {
   "cell_type": "markdown",
   "id": "5056a0ca-8a2a-43f4-b7e7-2b5efa05f35a",
   "metadata": {},
   "source": [
    "Outra possibilidade (mais poderosa) é estabelecer um sistema de referêncial newtoniano:"
   ]
  },
  {
   "cell_type": "code",
   "execution_count": 79,
   "id": "eb6ef228-a620-4299-8830-f50f9b62f08d",
   "metadata": {},
   "outputs": [],
   "source": [
    "from sympy.physics.mechanics import *\n",
    "N = ReferenceFrame('N')"
   ]
  },
  {
   "cell_type": "code",
   "execution_count": 80,
   "id": "8bd98051-f0ea-4326-a16e-60ae4dd517ac",
   "metadata": {},
   "outputs": [
    {
     "data": {
      "image/png": "[encoded data removed]",
      "text/latex": [
       "$\\displaystyle 3\\mathbf{\\hat{n}_x} + 4\\mathbf{\\hat{n}_y}$"
      ],
      "text/plain": [
       "3 n_x + 4 n_y"
      ]
     },
     "execution_count": 80,
     "metadata": {},
     "output_type": "execute_result"
    }
   ],
   "source": [
    "F_1 = 3*N.x\n",
    "F_2 = 4*N.y\n",
    "F_R = F_1 + F_2\n",
    "F_R"
   ]
  },
  {
   "cell_type": "code",
   "execution_count": 81,
   "id": "a1120b9c-1e6e-4aed-b792-fc1d6867556b",
   "metadata": {},
   "outputs": [
    {
     "data": {
      "image/png": "[encoded data removed]",
      "text/latex": [
       "$\\displaystyle 5$"
      ],
      "text/plain": [
       "5"
      ]
     },
     "execution_count": 81,
     "metadata": {},
     "output_type": "execute_result"
    }
   ],
   "source": [
    "F_R.magnitude()"
   ]
  },
  {
   "cell_type": "markdown",
   "id": "0fc31faa-4eb7-40b0-97ed-92dc9c2c9f57",
   "metadata": {},
   "source": [
    "Normalização ou: como obter um vetor unitário na mesma direção de um vetor\n"
   ]
  },
  {
   "cell_type": "code",
   "execution_count": 82,
   "id": "cba83b67-f211-4df1-abff-875f34f1b786",
   "metadata": {},
   "outputs": [
    {
     "data": {
      "image/png": "[encoded data removed]",
      "text/latex": [
       "$\\displaystyle \\frac{3}{5}\\mathbf{\\hat{n}_x} + \\frac{4}{5}\\mathbf{\\hat{n}_y}$"
      ],
      "text/plain": [
       "3/5 n_x + 4/5 n_y"
      ]
     },
     "execution_count": 82,
     "metadata": {},
     "output_type": "execute_result"
    }
   ],
   "source": [
    "u = F_R.normalize()\n",
    "u"
   ]
  },
  {
   "cell_type": "code",
   "execution_count": 83,
   "id": "0d087857-26bb-488f-83ee-70eb0921ed51",
   "metadata": {},
   "outputs": [
    {
     "data": {
      "image/png": "[encoded data removed]",
      "text/latex": [
       "$\\displaystyle 0$"
      ],
      "text/plain": [
       "0"
      ]
     },
     "execution_count": 83,
     "metadata": {},
     "output_type": "execute_result"
    }
   ],
   "source": [
    "F_R.angle_between(u)"
   ]
  },
  {
   "cell_type": "code",
   "execution_count": 84,
   "id": "aeb8282b-9895-4d7e-a235-933c3be6a2f9",
   "metadata": {},
   "outputs": [
    {
     "data": {
      "image/png": "[encoded data removed]",
      "text/latex": [
       "$\\displaystyle \\operatorname{acos}{\\left(\\frac{3}{5} \\right)}$"
      ],
      "text/plain": [
       "acos(3/5)"
      ]
     },
     "execution_count": 84,
     "metadata": {},
     "output_type": "execute_result"
    }
   ],
   "source": [
    "F_R.angle_between(N.x)"
   ]
  },
  {
   "cell_type": "code",
   "execution_count": 85,
   "id": "8ac7f8a6-555b-4b59-81c7-f7562d44fbaa",
   "metadata": {
    "tags": []
   },
   "outputs": [
    {
     "data": {
      "image/png": "[encoded data removed]",
      "text/latex": [
       "$\\displaystyle 53.130102354156$"
      ],
      "text/plain": [
       "53.13010235415598"
      ]
     },
     "execution_count": 85,
     "metadata": {},
     "output_type": "execute_result"
    }
   ],
   "source": [
    "math.degrees(_.evalf())"
   ]
  }
 ],
 "metadata": {
  "kernelspec": {
   "display_name": "Python 3 (ipykernel)",
   "language": "python",
   "name": "python3"
  },
  "language_info": {
   "codemirror_mode": {
    "name": "ipython",
    "version": 3
   },
   "file_extension": ".py",
   "mimetype": "text/x-python",
   "name": "python",
   "nbconvert_exporter": "python",
   "pygments_lexer": "ipython3",
   "version": "3.10.10"
  }
 },
 "nbformat": 4,
 "nbformat_minor": 5
}
