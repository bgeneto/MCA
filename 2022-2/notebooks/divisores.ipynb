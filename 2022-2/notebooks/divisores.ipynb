{
  "nbformat": 4,
  "nbformat_minor": 0,
  "metadata": {
    "colab": {
      "provenance": []
    },
    "kernelspec": {
      "name": "python3",
      "display_name": "Python 3"
    },
    "language_info": {
      "name": "python"
    },
    "accelerator": "GPU",
    "gpuClass": "standard"
  },
  "cells": [
    {
      "cell_type": "code",
      "execution_count": 37,
      "metadata": {
        "id": "n3NI4gmdx-hi"
      },
      "outputs": [],
      "source": [
        "import sys\n",
        "import time\n",
        "import numba as nb\n",
        "import numpy as np\n",
        "\n",
        "\n",
        "def ser_divisors(num: np.uint32) -> np.uint32:\n",
        "    \"\"\"Returns the number of divisors of a number.\n",
        "    (serial version)\n",
        "    \"\"\"\n",
        "    count: np.uint32 = 0\n",
        "    for val in range(1, num + 1):\n",
        "        if num % val == 0:\n",
        "            count += 1\n",
        "    return count\n",
        "\n",
        "\n",
        "@nb.jit\n",
        "def chatgpt_divisors(n):\n",
        "    return np.sum(np.mod(n, np.arange(1, n + 1)) == 0)\n",
        "\n",
        "\n",
        "@nb.vectorize([nb.uint32(nb.uint32)], nopython=True, fastmath=True, target=\"parallel\")\n",
        "def chatgpt_divisors_vec(n):\n",
        "    return np.sum(n % np.arange(1, n + 1) == 0)\n",
        "\n",
        "\n",
        "@nb.njit(nb.uint32(nb.uint32), parallel=True, fastmath=True)\n",
        "def par_divisors(num: np.uint32) -> np.uint32:\n",
        "    \"\"\"Returns the number of divisors of a number.\n",
        "    (parallel version)\n",
        "    \"\"\"\n",
        "    count: np.uint32 = 0\n",
        "    for val in nb.prange(1, num + 1):\n",
        "        if num % val == 0:\n",
        "            count += 1\n",
        "    return count\n",
        "\n",
        "\n",
        "@nb.njit(nb.uint32[:](nb.uint32[:]), parallel=True, fastmath=True)\n",
        "def para_divisors(num):\n",
        "    \"\"\"Returns the number of divisors of a number.\n",
        "    (parallel version)\n",
        "    \"\"\"\n",
        "    c = []\n",
        "    for n in nb.prange(num[0], num[-1] + 1):\n",
        "        count: np.uint32 = 0\n",
        "        for val in range(1, n + 1):\n",
        "            if n % val == 0:\n",
        "                count += 1\n",
        "        c.append(count)\n",
        "    return np.array(c, dtype=nb.uint32)\n",
        "\n",
        "\n",
        "@nb.vectorize([nb.uint32(nb.uint32)], nopython=True, fastmath=True, target=\"parallel\")\n",
        "def vec_divisors(num: np.uint32) -> np.uint32:\n",
        "    \"\"\"Returns an array with the number of divisors from a vector of integers.\n",
        "    (vectorized [ufunc] version)\n",
        "    \"\"\"\n",
        "    count: np.uint32 = 0\n",
        "    for val in range(1, num + 1):\n",
        "        if num % val == 0:\n",
        "            count += 1\n",
        "    return count\n",
        "\n",
        "\n",
        "@nb.vectorize([nb.uint32(nb.uint32)], target=\"cuda\")\n",
        "def gpu_divisors(num: np.uint32) -> np.uint32:\n",
        "    \"\"\"Returns an array with the number of divisors from a vector of integers.\n",
        "    (gpu version)\n",
        "    \"\"\"\n",
        "    count: np.uint32 = 0\n",
        "    for val in range(1, num + 1):\n",
        "        if num % val == 0:\n",
        "            count += 1\n",
        "    return count"
      ]
    },
    {
      "cell_type": "code",
      "source": [
        "# detect Google's GPU hardware capabilities \n",
        "nb.cuda.detect()"
      ],
      "metadata": {
        "colab": {
          "base_uri": "https://localhost:8080/"
        },
        "id": "n4NmX5Ur6RpI",
        "outputId": "47eaea2f-8c27-4351-b52f-bc157454e735"
      },
      "execution_count": 38,
      "outputs": [
        {
          "output_type": "stream",
          "name": "stdout",
          "text": [
            "Found 1 CUDA devices\n",
            "id 0             b'Tesla T4'                              [SUPPORTED]\n",
            "                      Compute Capability: 7.5\n",
            "                           PCI Device ID: 4\n",
            "                              PCI Bus ID: 0\n",
            "                                    UUID: GPU-9eca05b3-f109-9d8c-a0a6-0d214465aee3\n",
            "                                Watchdog: Disabled\n",
            "             FP32/FP64 Performance Ratio: 32\n",
            "Summary:\n",
            "\t1/1 devices are supported\n"
          ]
        },
        {
          "output_type": "execute_result",
          "data": {
            "text/plain": [
              "True"
            ]
          },
          "metadata": {},
          "execution_count": 38
        }
      ]
    },
    {
      "cell_type": "code",
      "source": [
        "# generate all numbers in order to find its (number of) divisors \n",
        "start_number, end_number = 1, int(1e4)\n",
        "x = np.arange(start_number, end_number + 1, dtype=np.uint32)"
      ],
      "metadata": {
        "id": "IJlZ6V5W6Vo9"
      },
      "execution_count": 39,
      "outputs": []
    },
    {
      "cell_type": "code",
      "source": [
        "# warm-up to avoid accounting the compilation time in the following (below timeit)\n",
        "chatgpt_divisors_vec(np.array([1], dtype=np.uint32))\n",
        "vec_divisors(np.array([1], dtype=np.uint32))\n",
        "para_divisors(np.array([1], dtype=np.uint32))\n",
        "par_divisors(1)\n",
        "chatgpt_divisors(28)"
      ],
      "metadata": {
        "colab": {
          "base_uri": "https://localhost:8080/"
        },
        "id": "17WsS6iEAbQ-",
        "outputId": "5dbd73c8-8597-4e21-8ee4-b58615ec6e4c"
      },
      "execution_count": 40,
      "outputs": [
        {
          "output_type": "execute_result",
          "data": {
            "text/plain": [
              "6"
            ]
          },
          "metadata": {},
          "execution_count": 40
        }
      ]
    },
    {
      "cell_type": "code",
      "source": [
        "%%timeit\n",
        "# chatgpt code\n",
        "chatgpt_divisors_vec(x)"
      ],
      "metadata": {
        "colab": {
          "base_uri": "https://localhost:8080/"
        },
        "id": "QTKK9z8uASbk",
        "outputId": "b6418753-eeb0-4f8f-b709-897af9e794f5"
      },
      "execution_count": 41,
      "outputs": [
        {
          "output_type": "stream",
          "name": "stdout",
          "text": [
            "170 ms ± 2.03 ms per loop (mean ± std. dev. of 7 runs, 10 loops each)\n"
          ]
        }
      ]
    },
    {
      "cell_type": "code",
      "source": [
        "%%timeit\n",
        "# chatgpt code\n",
        "[chatgpt_divisors(n) for n in x]"
      ],
      "metadata": {
        "colab": {
          "base_uri": "https://localhost:8080/"
        },
        "id": "xgJskOiJGkUv",
        "outputId": "1e5be2cc-b1be-423c-c954-b878693ed48c"
      },
      "execution_count": 42,
      "outputs": [
        {
          "output_type": "stream",
          "name": "stdout",
          "text": [
            "231 ms ± 7.6 ms per loop (mean ± std. dev. of 7 runs, 1 loop each)\n"
          ]
        }
      ]
    },
    {
      "cell_type": "code",
      "source": [
        "%%timeit\n",
        "# my cpu code (parallel)\n",
        "[par_divisors(n) for n in x]"
      ],
      "metadata": {
        "colab": {
          "base_uri": "https://localhost:8080/"
        },
        "id": "F1GNUdU36VvC",
        "outputId": "9f3c9c15-4733-4c5e-c90f-cd3a9ed9e17c"
      },
      "execution_count": 43,
      "outputs": [
        {
          "output_type": "stream",
          "name": "stdout",
          "text": [
            "184 ms ± 2.16 ms per loop (mean ± std. dev. of 7 runs, 10 loops each)\n"
          ]
        }
      ]
    },
    {
      "cell_type": "code",
      "source": [
        "%%timeit\n",
        "# chatgpt cpu code (parallel)\n",
        "vec_divisors(x)"
      ],
      "metadata": {
        "colab": {
          "base_uri": "https://localhost:8080/"
        },
        "id": "b97B3cuh6w5f",
        "outputId": "3879b067-321f-4248-ea27-0360c2b064f1"
      },
      "execution_count": 35,
      "outputs": [
        {
          "output_type": "stream",
          "name": "stdout",
          "text": [
            "129 ms ± 20.1 ms per loop (mean ± std. dev. of 7 runs, 10 loops each)\n"
          ]
        }
      ]
    },
    {
      "cell_type": "code",
      "source": [
        "%%timeit\n",
        "# chatgpt cpu code (parallel)\n",
        "para_divisors(x)"
      ],
      "metadata": {
        "colab": {
          "base_uri": "https://localhost:8080/"
        },
        "id": "weXS_Sb_65Yd",
        "outputId": "2a6128c4-d8be-4178-c9a8-8e57e45c70c0"
      },
      "execution_count": 36,
      "outputs": [
        {
          "output_type": "stream",
          "name": "stdout",
          "text": [
            "174 ms ± 1.35 ms per loop (mean ± std. dev. of 7 runs, 10 loops each)\n"
          ]
        }
      ]
    },
    {
      "cell_type": "code",
      "source": [],
      "metadata": {
        "id": "AT6mV1WA6Vxy"
      },
      "execution_count": 36,
      "outputs": []
    }
  ]
}