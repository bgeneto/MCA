{
 "cells": [
  {
   "cell_type": "markdown",
   "id": "cc5d8309-a733-48ef-b130-199cc8407dc3",
   "metadata": {},
   "source": [
    "# Universidade de Brasília\n",
    "## Instituto de Física\n",
    "---\n",
    "### Métodos Computacionais A (MCA) - Prof. Bernhard Enders\n",
    "---"
   ]
  },
  {
   "cell_type": "markdown",
   "id": "28a391a6-cbc1-4344-aaee-132f27771580",
   "metadata": {},
   "source": [
    "## **➲ Aula 03 - Programação Orientada a Objetos**\n",
    "\n",
    "### O que é isso? Pra quê isso serve?"
   ]
  },
  {
   "cell_type": "code",
   "execution_count": 15,
   "id": "c30b9e55-6676-4cf4-b2f9-9d0f21cf0e3c",
   "metadata": {},
   "outputs": [],
   "source": [
    "import math \n",
    "\n",
    "class Triang:\n",
    "    \n",
    "    def __init__(self, a, b, c):\n",
    "        self.a = a\n",
    "        self.b = b\n",
    "        self.c = c\n",
    "    \n",
    "    def __repr__(self):\n",
    "        return f\"({self.a}, {self.b}, {self.c})\"\n",
    "    \n",
    "    def is_triang(self):\n",
    "        if self.a + self.b >= self.c and \\\n",
    "           self.b + self.c >= self.a and \\\n",
    "           self.c + self.a >= self.b:\n",
    "            return True\n",
    "        return False\n",
    "    \n",
    "    def area(self):\n",
    "        if not self.is_triang():\n",
    "            return None\n",
    "        a, b, c = sorted([self.a, self.b, self.c], reverse=True)\n",
    "        ret = 0.25*math.sqrt((a+(b+c))*(c-(a-b))*(c+(a-b))*(a+(b-c)))\n",
    "        return ret\n",
    "\n"
   ]
  },
  {
   "cell_type": "code",
   "execution_count": 16,
   "id": "e93b2b62-a2e9-48f5-bcbe-4725bc125cff",
   "metadata": {},
   "outputs": [
    {
     "name": "stdout",
     "output_type": "stream",
     "text": [
      "Informe os lados do triângulo:  3,4,9\n"
     ]
    }
   ],
   "source": [
    "a, b, c = input('Informe os lados do triângulo: ').split(\",\")"
   ]
  },
  {
   "cell_type": "code",
   "execution_count": 17,
   "id": "c2f1c38c-dafd-43e4-a5f8-434c51703b1a",
   "metadata": {},
   "outputs": [
    {
     "name": "stdout",
     "output_type": "stream",
     "text": [
      "(3, 4, 9) NÃO é um triângulo válido!\n",
      "A área do triângulo (3, 4, 9) é igual a None\n"
     ]
    }
   ],
   "source": [
    "    \n",
    "# Cria um objeto do tipo triângulo \n",
    "t = Triang(a, b, c)    \n",
    "\n",
    "if t.is_triang():\n",
    "    print(t, 'é um triângulo válido!')\n",
    "else:\n",
    "    print(t, 'NÃO é um triângulo válido!')\n",
    "    \n",
    "print('A área do triângulo', t, 'é igual a', t.area())"
   ]
  },
  {
   "cell_type": "code",
   "execution_count": null,
   "id": "9a8fc51c-d80d-4bed-9e62-af4c62e6560e",
   "metadata": {},
   "outputs": [],
   "source": []
  }
 ],
 "metadata": {
  "kernelspec": {
   "display_name": "Python 3.10.8 64-bit",
   "language": "python",
   "name": "python3"
  },
  "language_info": {
   "codemirror_mode": {
    "name": "ipython",
    "version": 3
   },
   "file_extension": ".py",
   "mimetype": "text/x-python",
   "name": "python",
   "nbconvert_exporter": "python",
   "pygments_lexer": "ipython3",
   "version": "3.10.8"
  },
  "vscode": {
   "interpreter": {
    "hash": "c6f5971c4b8f55c07f21d358e9303b9e57f31eec2f7748b3e83dfc05726d64d8"
   }
  }
 },
 "nbformat": 4,
 "nbformat_minor": 5
}
