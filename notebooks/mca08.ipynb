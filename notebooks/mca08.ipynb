{
  "cells": [
    {
      "cell_type": "markdown",
      "metadata": {
        "id": "c8ca80e5-5cf2-48fa-a048-b10764f133c3"
      },
      "source": [
        "# Universidade de Brasília\n",
        "## Instituto de Física\n",
        "---\n",
        "### Métodos Computacionais A (MCA) \n",
        "#### Prof. Bernhard Enders\n",
        "---"
      ]
    },
    {
      "attachments": {},
      "cell_type": "markdown",
      "metadata": {
        "id": "060dc954-dbfb-4c68-99b7-35fa98d15b76"
      },
      "source": [
        "# **➲ AULA 13.12: Diferenciação Numérica**\n",
        "\n",
        "## Aproximações por Diferenças Finitas\n",
        "\n",
        "A solução de uma equação diferencial (ED) implica na determinação dos valores da variável dependente em cada ponto do intervalo de interesse. Computacionalmente, podemos lidar apenas com uma região contínua se for possível determinar uma expressão analítica para a solução da equação diferencial. Nesse caso, o computador pode ser utilizado para calcular a solução em qualquer ponto desejado da região, com o uso da solução analítica. Contudo, no caso de técnicas numéricas de solução, não é possível tratar a região de interesse como contínua, já que, em geral, os métodos numéricos obtêm a solução do problema em pontos preestabelecidos. O processo de transformação do domínio contínuo em domínio discreto é chamado de discretização, onde o conjunto de pontos discretos escolhidos para representar o domínio de interesse é chamado de malha. A Figura abaixo mostra uma malha de pontos uniformemente espaçados, o passo da malha é definido como sendo a distância entre dois pontos adjacentes e é dado por $Δx = x_i − x_{i-1}$.\n",
        "\n",
        "<div style=\"margin:auto; text-align:center; width:75%;\">\n",
        "  <center>\n",
        "  <img src=\"https://raw.githubusercontent.com/bgeneto/MCA/main/imagens/malha.png\" align=\"center\"/>\n",
        "  <p style=\"text-align:center; font-style:italic;\">\n",
        "    Uma malha de pontos uniformemente espaçados.\n",
        "  </p> \n",
        "  </center>\n",
        "</div>\n",
        "\n",
        "Para que seja possível tratar numericamente as equações diferenciais, elas devem ser expressas sob a forma de operações aritméticas que o computador possa executar. Essen- cialmente, devemos representar os operadores diferenciais (contínuos) presentes na ED por expressões algébricas (discretas), ou seja, devemos discretizar a ED. Portanto, antes de resolver a ED numericamente é preciso encontrar, para os termos que nela aparecem, as respectivas expressões escritas em função dos pontos (finitos) da malha. Essas expressões são denominadas aproximações por diferenças finitas. O resultado final desse processo é uma equação algébrica denominada equação de diferenças finitas (EDF). A EDF é escrita para cada ponto da região discretizada em que se deseja calcular a solução do problema. Resolvendo-se as EDFs, encontra-se a solução aproximada do problema. Tal solução não é exata devido a:\n",
        "\n",
        "- erros inerentes ao processo de discretização das equação;\n",
        "- erros de arredondamento nos cálculos feitos pelo computador;\n",
        "- erros na aproximação numérica das condições auxiliares.  \n",
        "\n",
        "Pode-se obter uma aproximação de diferenças finitas diretamente da definição de derivada de uma função $f$ contínua,\n",
        "\n",
        "\\begin{equation*}\n",
        "\\frac{df}{dx} = \\lim_{\\Delta x\\to 0}\\frac{f(x+\\Delta x)-f(x)}{\\Delta x}.\n",
        "\\end{equation*}\n",
        "\n",
        "Para tanto, basta que $\\Delta x$ assuma um valor fixo (não-nulo) — que chamaremos de $h$ — ao invés de tender a zero, para que o lado direito da equação represente uma aproximação (avançada) de diferenças finitas:\n",
        "\n",
        "\\begin{equation*}\n",
        "\\frac{df}{dx} \\approx \\frac{f(x+h)-f(x)}{h}.\n",
        "\\end{equation*}\n",
        "\n",
        "Desse modo, utilizando-se dois valores de $f$ separados por uma distância (finita) $\\Delta x$, a expressão representa uma aproximação algébrica para a primeira derivada de $f$. Essa situação está ilustrada na figura abaixo, onde os dois pontos, $x$ e $x+\\Delta x$, afastados entre si por uma distância $\\Delta x$, formam a reta secante cuja declividade serve de aproximação para a derivada da função $f$ no ponto $x$. Quando a separação $\\Delta x$ diminui, a reta secante se aproxima da reta tangente (derivada real), melhorando assim o valor estimado para a derivada.\n",
        "\n",
        "\n",
        "<div style=\"margin:auto; text-align:center; width:75%;\">\n",
        "  <center>\n",
        "  <img src=\"https://raw.githubusercontent.com/bgeneto/MCA/main/imagens/derivada.png\" align=\"center\"/>\n",
        "  <p style=\"text-align:center; font-style:italic;\">\n",
        "    Aproximação da derivada primeira da função genérica f(x) no ponto x por uma reta secante.\n",
        "  </p> \n",
        "  </center>\n",
        "</div>\n",
        "\n",
        "Aproximações de diferenças finitas, como a mostrada anteriormente, podem ser obtidas de várias formas. As técnicas mais comuns são a expansão em série de Taylor e a interpolação polinomial. O método da expansão em série de Taylor será utilizado na obtenção de aproximações de diferenças finitas de primeira e segunda ordem para as derivadas primeira, segunda e mista de uma função $f$. A técnica de interpolação é geralmente utilizada no contexto em que se faz necessário o uso de malhas cujo espaçamento não é uniforme.\n"
      ]
    },
    {
      "attachments": {},
      "cell_type": "markdown",
      "metadata": {
        "id": "B1vgyzMLVUUk"
      },
      "source": [
        "## Aproximações para a derivada primeira\n",
        "\n",
        "\n",
        "As aproximações de diferenças finitas têm como base a expansão em série de Taylor de uma função $f$. Supondo que $f$ seja contínua no intervalo $[a,b]$ de interesse e que possua derivadas até ordem $N$ contínuas nesse intervalo, o teorema de Taylor nos permite escrever, para todo ponto $x \\in [a,b]$,\n",
        "\n",
        "\\begin{equation*}\n",
        "f(x) = f(x_0) + (\\Delta x)\\left. \\frac{df}{dx} \\right|_{x_0} + \\frac{{(\\Delta x)^2 }}\n",
        "{{2!}}\\left. \\frac{d^2 f}{dx^2} \\right|_{x_0} + \\frac{{(\\Delta x)^3 }}\n",
        "{{3!}}\\left. \\frac{d^3 f}{dx^3} \\right|_{x_0 } +  \\cdots  + R_N,\n",
        "\\end{equation*}\n",
        "\n",
        "em que $\\Delta x = x - x_0$ e $R_N$ é o resto (de Lagrange), definido como\n",
        "\n",
        "\\begin{equation*}\n",
        "R_N = \\frac{{(\\Delta x)^N}}{{N!}}\\left.\\frac{d^Nf}{dx^N}\\right|_\\xi,\\quad\\xi\\in [a,b].\n",
        "\\end{equation*}\n",
        "\n",
        "Para aproximar a derivada primeira de uma função $f$ no ponto $x_i$ vamos expandir $f(x_i+\\Delta x)$ em série de Taylor em torno do ponto $x_i$,\n",
        "\n",
        "\\begin{equation*}\n",
        "f(x_i  + \\Delta x) = f(x_i) + (\\Delta x)\\left. {\\frac{df}{dx}} \\right|_{x_i}  + \\frac{{(\\Delta x)^2 }}\n",
        "{{2!}}\\left. \\frac{d^2 f}{dx^2} \\right|_{x_i}  + \\frac{{(\\Delta x)^3 }}\n",
        "{{3!}}\\left. {\\frac{d^3 f}{dx^3}} \\right|_{x_i}  +  \\cdots\\,,\n",
        "\\end{equation*}\n",
        "\n",
        "onde as reticências indicam os termos restantes da série de Taylor até o resto $R_N$. Após isolar a primeira derivada, podemos escrever\n",
        "\n",
        "\\begin{equation*}\n",
        "\\left. {\\frac{df}{dx}} \\right|_{x_i}  = \\frac{{f(x_i  + \\Delta x) - f(x_i )}}\n",
        "{{\\Delta x}} + \\left[ { - \\frac{{(\\Delta x)}}\n",
        "{{2!}}\\left. {\\frac{d^2 f}{dx^2}} \\right|_{x_i}  - \\frac{{(\\Delta x)^2 }}\n",
        "{{3!}}\\left. {\\frac{d^3 f}{dx^3}} \\right|_{x_i}  -  \\cdots } \\right].\n",
        "\\end{equation*}\n",
        "\n",
        "Note que, para isolar a primeira derivada, todos os termos da série de Taylor foram divididos pelo espaçamento $\\Delta x$. Podemos então dizer que a primeira derivada é igual ao quociente\n",
        "\n",
        "\\begin{equation*}\n",
        "\\frac{{f(x_i + \\Delta x) - f(x_i )}}{{\\Delta x}},\n",
        "\\end{equation*}\n",
        "\n",
        "mais o erro local de truncamento (ELT), dado por:\n",
        "\n",
        "\\begin{equation*}\n",
        "\\left[ { - \\frac{{(\\Delta x)}}\n",
        "{{2!}}\\left. {\\frac{d^2 f}{dx^2}} \\right|_{x_i}  - \\frac{{(\\Delta x)^2 }}\n",
        "{{3!}}\\left. {\\frac{d^3 f}{dx^3}} \\right|_{x_i}  -  \\cdots } \\right].\n",
        "\\end{equation*}\n",
        "\n",
        "O ELT aparece naturalmente devido à utilização de um número finito de termos na série de Taylor. Como não podemos tratar os infinitos termos dessa série na aproximação numérica para a derivada de $f$, a série foi truncada a partir da derivada de segunda ordem inclusive. O \\ELT fornece uma medida da diferença entre o valor exato da derivada e sua aproximação numérica, indicando também que essa diferença varia linearmente com a redução do espaçamento $\\Delta x$, isto é, com o refinamento da malha. Assim, para reduzirmos o erro por quatro, por exemplo, devemos utilizar um espaçamento 1/4 do original e portanto, quatro vezes mais pontos na malha. Dessa forma, os termos do \\ELT serão representados por $\\mathcal O(\\Delta x)$. Deve-se notar que uma expressão do tipo $\\mathcal O(\\Delta x)$ só indica como \\ELT varia com o refinamento da malha, e não o valor do erro.\n",
        "\n",
        "Podemos simplificar a notação se escrevendo $f_i$ para $f(x_i)$ e $f'_i$ para $f'(x_i)$ ou, em geral, $f_{i\\pm k}$ para $f(x_i\\pm k\\Delta x)$. Com isso, a equação anterior torna-se:\n",
        "\n",
        "\\begin{equation*}\n",
        "f'_i  = \\frac{{f_{i + 1}  - f_i }}{h} + \\mathcal O(h),\n",
        "\\end{equation*}\n",
        "\n",
        "na qual usamos a identidade $h = \\Delta x$. Esta é uma equação de diferenças finitas que representa uma aproximação de primeira ordem para a primeira derivada de $f$, utilizando diferença avançada, visto que no cálculo da derivada no ponto $x_i$ foi utilizado um ponto adiante de $x_i$, no caso, $x_{i+1}$. A declividade (primeira derivada) de $f$ em $x_i$ é aproximada pela declividade da reta secante formada pelos pontos $(x_i,f_i)$ e $(x_{i+1},f_{i+1})$, conforme mostra a figura abaixo.\n",
        "\n",
        "<div style=\"margin:auto; text-align:center; width:75%;\">\n",
        "  <center>\n",
        "  <img src=\"https://raw.githubusercontent.com/bgeneto/MCA/main/imagens/avancada.png\" width=\"500\" align=\"center\"/>\n",
        "  <p style=\"text-align:center; font-style:italic;\">\n",
        "    Pontos utilizados na aproximação para a primeira derivada de f(x) por diferença avançada.\n",
        "  </p> \n",
        "  </center>\n",
        "</div>\n",
        "\n",
        "Uma segunda aproximação de diferenças finitas pode ser obtida a partir da expansão de $f(x_i-\\Delta x)$ em série de Taylor em torno do ponto $x_i$:\n",
        "\n",
        "\\begin{equation*}\n",
        "f(x_i  - \\Delta x) = f(x_i ) - (\\Delta x)\\left. {\\frac{df}{dx}} \\right|_{x_i}  + \\frac{{(\\Delta x)^2 }}\n",
        "{{2!}}\\left. {\\frac{d^2f}{dx^2}} \\right|_{x_i}  + \\mathcal O(\\Delta x)^3.\n",
        "\\end{equation*}\n",
        "\n",
        "Isolando a primeira derivada e simplificando a notação, temos\n",
        "\n",
        "\\begin{equation*}\n",
        "f'_i = \\frac{{f_i  - f_{i - 1} }}{h} + \\mathcal O(h),\n",
        "\\end{equation*}\n",
        "\n",
        "que é outra aproximação de primeira ordem para a primeira derivada de $f$. Diferentemente da fórmula avançada, na qual utiliza-se um ponto adiante de $x_i$, a fórmula atrasada utiliza o ponto $x_{i-1}$, ponto este anterior a $x_i$. Por essa razão, essa equação de diferenças é chamada de aproximação por diferenças atrasadas. A \\Figref[vref]{atrasada} mostra os pontos utilizados nessa aproximação. A declividade da função~$f$ no ponto $x_i$ é aproximada pela declividade da reta secante aos pontos $(x_{i-1},f_{i-1})$ e $(x_{i},f_{i})$.\n",
        "\n",
        "\n",
        "<div style=\"margin:auto; text-align:center; width:75%;\">\n",
        "  <center>\n",
        "  <img src=\"https://raw.githubusercontent.com/bgeneto/MCA/main/imagens/atrasada.png\"  width=\"500\" align=\"center\"/>\n",
        "  <p style=\"text-align:center; font-style:italic;\">\n",
        "    Pontos utilizados na aproximação para a primeira derivada de f(x) por diferença atrasada.\n",
        "  </p> \n",
        "  </center>\n",
        "</div>\n",
        "\n",
        "\n",
        "Até agora obtivemos somente aproximações de primeira ordem para a derivada primeira de $f$, uma aproximação de $\\mathcal O(\\Delta x)^2$ ainda para a primeira derivada pode ser obtida ao subtrairmos as expansões em série de Taylor representadas pelas fórmulas anteriores:\n",
        "\\begin{equation*}\n",
        "f(x_i  + \\Delta x) - f(x_i  - \\Delta x) = 2(\\Delta x)\\left. {\\frac{df}{dx}} \\right|_{x_i}  + \\mathcal O(\\Delta x)^3,\n",
        "\\end{equation*}\n",
        "\n",
        "ou, isolando a derivada,\n",
        "\n",
        "\\begin{equation*}\n",
        "f'_i = \\frac{{f_{i+1} - f_{i-1}}}{2h} + \\mathcal O(h)^2.\n",
        "\\end{equation*}\n",
        "\n",
        "Note que a aproximação dada pela fórmula central utiliza os pontos $x_{i-1}$ e $x_{i+1}$ para o cálculo da primeira derivada de $f$ no ponto central $x_i$. Por essa razão, ela é denominada aproximação por diferenças centrais. Neste caso, conforme mostra a figura a seguir, a derivada de $f$ em $x_i$ é aproximada pela declividade da reta secante que passa pelos pontos $(x_{i-1},f_{i-1})$ e $(x_{i+1},f_{i+1})$.\n",
        "\n",
        "\n",
        "<div style=\"margin:auto; text-align:center; width:75%;\">\n",
        "  <center>\n",
        "  <img src=\"https://raw.githubusercontent.com/bgeneto/MCA/main/imagens/central.png\"  width=\"500\" align=\"center\"/>\n",
        "  <p style=\"text-align:center; font-style:italic;\">\n",
        "    Pontos utilizados na aproximação de segunda ordem para a primeira derivada de f(x) por diferença central.\n",
        "  </p> \n",
        "  </center>\n",
        "</div>\n",
        "\n",
        "No caso de aproximações de segunda ordem, reduções sucessivas no passo $\\Delta x$ da malha provocam uma redução quadrática no erro da aproximação da primeira derivada de $f$ pela aproximação central. Ao dividirmos o passo por dois, por exemplo, o erro é dividido por quatro, sem precisarmos de quatro vezes mais pontos, como nas expressões de primeira ordem. Isso é uma propriedade extremamente útil, já que, com menor número de pontos e, portanto, menor esforço computacional, podemos conseguir uma aproximação melhor que aquelas fornecidas pelas fórmulas atrasadas e avançadas.\n",
        "\n",
        "Em resumo, as três fórmulas para a primeira derivada de $f$ deduzidas anteriormente, a partir da expansão em série de Taylor, são:\n",
        "\n",
        "\\begin{align*}\n",
        "f'_i &\\approx \\frac{f_{i+1} - f_i}{h}, && \\textsf{fórmula avançada de $\\mathcal O(h)$}\\\\\n",
        "f'_i &\\approx \\frac{f_{i} - f_{i-1}}{h}, && \\textsf{fórmula atrasada de $\\mathcal O(h)$}\\\\\n",
        "f'_i &\\approx \\frac{f_{i+1} - f_{i-1}}{2h}. && \\textsf{fórmula central de $\\mathcal O(h)^2$}\n",
        "\\end{align*}\n"
      ]
    },
    {
      "attachments": {},
      "cell_type": "markdown",
      "metadata": {},
      "source": [
        "## Fórmulas de ordem mais alta\n",
        "\n",
        "A princípio, quanto mais pontos tomarmos para a aproximação da derivada mais precisa será a aproximação. Até agora utilizamos apenas dois pontos nas aproximações anteriores. Vamos propor uma aproximação para a derivada primeira de $f(x)$ no ponto $x_i$ que utiliza a informação de dois pontos antes e dois pontos após. Para tanto faremos uso, mais uma vez, da expansão em série de Taylor em torno do ponto $x_i$ para as seguintes funções: "
      ]
    },
    {
      "attachments": {},
      "cell_type": "markdown",
      "metadata": {},
      "source": [
        "\\begin{align*}\n",
        "f(x_{i-2}) &= f(x_i) - 2hf'(x_i) + 2h^2f''(x_i) - \\frac{4h^3}{3}f'''(x_i) + \\frac{2h^4}{3}f''''(x_i) - \\mathcal O(h^5)\\\\\n",
        "f(x_{i+2}) &= f(x_i) + 2hf'(x_i) + 2h^2f''(x_i) + \\frac{4h^3}{3}f'''(x_i) + \\frac{2h^4}{3}h^4f''''(x_i) + \\mathcal O(h^5)\\\\\n",
        "f(x_{i+1}) &= f(x_i) + hf'(x_i) + \\frac{h^2}{2}f''(x_i) + \\frac{h^3}{6}f'''(x_i) + \\frac{h^4}{24}f''''(x_i) + \\mathcal O(h^5)\\\\\n",
        "f(x_{i-1}) &= f(x_i) - hf'(x_i) + \\frac{h^2}{2}f''(x_i) - \\frac{h^3}{6}f'''(x_i) + \\frac{h^4}{24}f''''(x_i) - \\mathcal O(h^5)\n",
        "\\end{align*}"
      ]
    },
    {
      "attachments": {},
      "cell_type": "markdown",
      "metadata": {},
      "source": [
        "Fazendo $f(x_{i−2}) - 8f(x_{i−1}) + 8f(x_{i+1}) - f(x_{i+2})$ e isolando $f'(x_{i})$, obtemos uma aproximação para a primeira derivada com ELT da ordem de $h^5$: "
      ]
    },
    {
      "attachments": {},
      "cell_type": "markdown",
      "metadata": {},
      "source": [
        "$$\n",
        "f´_i  \\approx \\frac{f_{i-2} - 8f_{i−1} + 8f_{i+1} - f_{i+2}}{12h} + \\mathcal O(h^5)\n",
        "$$"
      ]
    },
    {
      "attachments": {},
      "cell_type": "markdown",
      "metadata": {},
      "source": [
        "## Implementação em Python\n",
        "\n",
        "Vamos agora implementar as aproximações obtidas aqui em um módulo python."
      ]
    },
    {
      "cell_type": "code",
      "execution_count": 52,
      "metadata": {},
      "outputs": [],
      "source": [
        "'''\n",
        "Module for computing derivative approximations using finite difference methods.\n",
        "'''\n",
        "\n",
        "\n",
        "def forward(f, x, h=2**-20):\n",
        "    return (f(x+h) - f(x))/h\n",
        "\n",
        "\n",
        "def forward_discrete(xi, yi):\n",
        "    h = xi[1] - xi[0]\n",
        "    d = []\n",
        "    for i in range(len(yi)-1):\n",
        "        d.append((yi[i+1] - yi[i])/h)\n",
        "    return d\n",
        "\n",
        "\n",
        "def backward(f, x, h=2**-20):\n",
        "    return (f(x) - f(x-h))/h\n",
        "\n",
        "\n",
        "def backward_discrete(xi, yi):\n",
        "    h = xi[1] - xi[0]\n",
        "    d = []\n",
        "    for i in range(1, len(yi)):\n",
        "        d.append((yi[i] - yi[i-1])/h)\n",
        "    return d\n",
        "\n",
        "\n",
        "def central(f, x, h=2**-20):\n",
        "    return 0.5*(f(x+h) - f(x-h))/h\n",
        "\n",
        "\n",
        "def central_discrete(xi, yi):\n",
        "    h = xi[1] - xi[0]\n",
        "    d = []\n",
        "    for i in range(1, len(yi)-1):\n",
        "        d.append((yi[i+1] - yi[i-1])/(2*h))\n",
        "    return d\n",
        "\n",
        "\n",
        "def high_order(f, x, h=2**-10):\n",
        "    return (f(x-2*h) - 8*f(x-h) + 8*f(x+h) - f(x+2*h))/(12*h)\n",
        "\n",
        "\n",
        "def high_order_discrete(xi, yi):\n",
        "    h = xi[1] - xi[0]\n",
        "    d = []\n",
        "    for i in range(2, len(yi)-2):\n",
        "        d.append((yi[i-2] - 8*yi[i-1] + 8*yi[i+1] - yi[i+2])/(12*h))\n",
        "    return d\n"
      ]
    },
    {
      "cell_type": "code",
      "execution_count": 53,
      "metadata": {},
      "outputs": [],
      "source": [
        "import math\n",
        "import numpy as np\n",
        "\n",
        "x0 = math.pi\n",
        "\n",
        "\n",
        "def f(x):\n",
        "    return np.sin(1/x)\n",
        "\n",
        "\n",
        "def g(x):\n",
        "    return x*x\n"
      ]
    },
    {
      "cell_type": "code",
      "execution_count": 54,
      "metadata": {},
      "outputs": [
        {
          "data": {
            "text/plain": [
              "-0.0962313864653576"
            ]
          },
          "execution_count": 54,
          "metadata": {},
          "output_type": "execute_result"
        }
      ],
      "source": [
        "high_order(f, x0)\n"
      ]
    },
    {
      "cell_type": "code",
      "execution_count": 55,
      "metadata": {},
      "outputs": [
        {
          "data": {
            "text/plain": [
              "-0.09623138647293672"
            ]
          },
          "execution_count": 55,
          "metadata": {},
          "output_type": "execute_result"
        }
      ],
      "source": [
        "central(f, x0)\n"
      ]
    },
    {
      "cell_type": "code",
      "execution_count": 56,
      "metadata": {},
      "outputs": [
        {
          "data": {
            "text/plain": [
              "-0.09623135882429779"
            ]
          },
          "execution_count": 56,
          "metadata": {},
          "output_type": "execute_result"
        }
      ],
      "source": [
        "forward(f, x0)\n"
      ]
    },
    {
      "cell_type": "code",
      "execution_count": 57,
      "metadata": {},
      "outputs": [
        {
          "data": {
            "text/plain": [
              "-0.09623141412157565"
            ]
          },
          "execution_count": 57,
          "metadata": {},
          "output_type": "execute_result"
        }
      ],
      "source": [
        "backward(f, x0)\n"
      ]
    },
    {
      "cell_type": "code",
      "execution_count": 58,
      "metadata": {},
      "outputs": [],
      "source": [
        "xi = np.linspace(0.125, 1, 1024)\n",
        "yi = f(xi)\n"
      ]
    },
    {
      "cell_type": "code",
      "execution_count": 59,
      "metadata": {},
      "outputs": [
        {
          "data": {
            "application/vnd.plotly.v1+json": {
              "config": {
                "plotlyServerURL": "https://plot.ly"
              },
              "data": [
                {
                  "hovertemplate": "x=%{x}<br>y=%{y}<extra></extra>",
                  "legendgroup": "",
                  "line": {
                    "color": "#636efa",
                    "dash": "solid"
                  },
                  "marker": {
                    "symbol": "circle"
                  },
                  "mode": "lines",
                  "name": "",
                  "showlegend": false,
                  "type": "scattergl",
                  "x": [
                    0.125,
                    0.1258553274682307,
                    0.1267106549364614,
                    0.12756598240469208,
                    0.12842130987292277,
                    0.12927663734115347,
                    0.13013196480938416,
                    0.13098729227761485,
                    0.13184261974584555,
                    0.13269794721407624,
                    0.13355327468230693,
                    0.13440860215053763,
                    0.13526392961876832,
                    0.136119257086999,
                    0.1369745845552297,
                    0.1378299120234604,
                    0.1386852394916911,
                    0.13954056695992179,
                    0.14039589442815248,
                    0.14125122189638317,
                    0.14210654936461387,
                    0.1429618768328446,
                    0.14381720430107528,
                    0.14467253176930597,
                    0.14552785923753667,
                    0.14638318670576736,
                    0.14723851417399805,
                    0.14809384164222875,
                    0.14894916911045944,
                    0.14980449657869013,
                    0.15065982404692083,
                    0.15151515151515152,
                    0.1523704789833822,
                    0.1532258064516129,
                    0.1540811339198436,
                    0.1549364613880743,
                    0.15579178885630499,
                    0.15664711632453568,
                    0.15750244379276637,
                    0.15835777126099707,
                    0.15921309872922776,
                    0.16006842619745845,
                    0.16092375366568915,
                    0.16177908113391984,
                    0.16263440860215053,
                    0.16348973607038123,
                    0.16434506353861192,
                    0.1652003910068426,
                    0.1660557184750733,
                    0.166911045943304,
                    0.1677663734115347,
                    0.1686217008797654,
                    0.1694770283479961,
                    0.1703323558162268,
                    0.1711876832844575,
                    0.17204301075268819,
                    0.17289833822091888,
                    0.17375366568914957,
                    0.17460899315738027,
                    0.17546432062561096,
                    0.17631964809384165,
                    0.17717497556207235,
                    0.17803030303030304,
                    0.17888563049853373,
                    0.17974095796676443,
                    0.18059628543499512,
                    0.1814516129032258,
                    0.1823069403714565,
                    0.1831622678396872,
                    0.1840175953079179,
                    0.18487292277614858,
                    0.18572825024437928,
                    0.18658357771260997,
                    0.18743890518084066,
                    0.18829423264907136,
                    0.18914956011730205,
                    0.19000488758553274,
                    0.19086021505376344,
                    0.19171554252199413,
                    0.19257086999022482,
                    0.19342619745845552,
                    0.1942815249266862,
                    0.1951368523949169,
                    0.1959921798631476,
                    0.1968475073313783,
                    0.19770283479960898,
                    0.19855816226783968,
                    0.19941348973607037,
                    0.20026881720430106,
                    0.20112414467253176,
                    0.20197947214076245,
                    0.20283479960899314,
                    0.20369012707722384,
                    0.20454545454545453,
                    0.20540078201368522,
                    0.20625610948191592,
                    0.2071114369501466,
                    0.2079667644183773,
                    0.208822091886608,
                    0.2096774193548387,
                    0.21053274682306938,
                    0.2113880742913001,
                    0.2122434017595308,
                    0.2130987292277615,
                    0.21395405669599218,
                    0.21480938416422288,
                    0.21566471163245357,
                    0.21652003910068426,
                    0.21737536656891496,
                    0.21823069403714565,
                    0.21908602150537634,
                    0.21994134897360704,
                    0.22079667644183773,
                    0.22165200391006842,
                    0.22250733137829912,
                    0.2233626588465298,
                    0.2242179863147605,
                    0.2250733137829912,
                    0.2259286412512219,
                    0.2267839687194526,
                    0.2276392961876833,
                    0.228494623655914,
                    0.2293499511241447,
                    0.23020527859237538,
                    0.23106060606060608,
                    0.23191593352883677,
                    0.23277126099706746,
                    0.23362658846529816,
                    0.23448191593352885,
                    0.23533724340175954,
                    0.23619257086999024,
                    0.23704789833822093,
                    0.23790322580645162,
                    0.23875855327468232,
                    0.239613880742913,
                    0.2404692082111437,
                    0.2413245356793744,
                    0.2421798631476051,
                    0.24303519061583578,
                    0.24389051808406648,
                    0.24474584555229717,
                    0.24560117302052786,
                    0.24645650048875856,
                    0.24731182795698925,
                    0.24816715542521994,
                    0.24902248289345064,
                    0.24987781036168133,
                    0.250733137829912,
                    0.2515884652981427,
                    0.2524437927663734,
                    0.2532991202346041,
                    0.2541544477028348,
                    0.2550097751710655,
                    0.2558651026392962,
                    0.2567204301075269,
                    0.25757575757575757,
                    0.25843108504398826,
                    0.25928641251221896,
                    0.26014173998044965,
                    0.26099706744868034,
                    0.26185239491691104,
                    0.26270772238514173,
                    0.2635630498533724,
                    0.2644183773216031,
                    0.2652737047898338,
                    0.2661290322580645,
                    0.2669843597262952,
                    0.2678396871945259,
                    0.2686950146627566,
                    0.2695503421309873,
                    0.27040566959921797,
                    0.27126099706744866,
                    0.27211632453567935,
                    0.27297165200391005,
                    0.27382697947214074,
                    0.27468230694037143,
                    0.27553763440860213,
                    0.2763929618768328,
                    0.2772482893450635,
                    0.2781036168132942,
                    0.2789589442815249,
                    0.2798142717497556,
                    0.2806695992179863,
                    0.281524926686217,
                    0.2823802541544477,
                    0.28323558162267837,
                    0.28409090909090906,
                    0.28494623655913975,
                    0.28580156402737045,
                    0.28665689149560114,
                    0.28751221896383183,
                    0.2883675464320625,
                    0.2892228739002932,
                    0.2900782013685239,
                    0.2909335288367546,
                    0.2917888563049853,
                    0.292644183773216,
                    0.2934995112414467,
                    0.2943548387096774,
                    0.2952101661779081,
                    0.29606549364613877,
                    0.29692082111436946,
                    0.2977761485826002,
                    0.2986314760508309,
                    0.2994868035190616,
                    0.3003421309872923,
                    0.301197458455523,
                    0.3020527859237537,
                    0.30290811339198437,
                    0.30376344086021506,
                    0.30461876832844575,
                    0.30547409579667645,
                    0.30632942326490714,
                    0.30718475073313783,
                    0.30804007820136853,
                    0.3088954056695992,
                    0.3097507331378299,
                    0.3106060606060606,
                    0.3114613880742913,
                    0.312316715542522,
                    0.3131720430107527,
                    0.3140273704789834,
                    0.3148826979472141,
                    0.31573802541544477,
                    0.31659335288367546,
                    0.31744868035190615,
                    0.31830400782013685,
                    0.31915933528836754,
                    0.32001466275659823,
                    0.3208699902248289,
                    0.3217253176930596,
                    0.3225806451612903,
                    0.323435972629521,
                    0.3242913000977517,
                    0.3251466275659824,
                    0.3260019550342131,
                    0.3268572825024438,
                    0.3277126099706745,
                    0.3285679374389052,
                    0.3294232649071359,
                    0.3302785923753666,
                    0.3311339198435973,
                    0.331989247311828,
                    0.3328445747800587,
                    0.3336999022482894,
                    0.3345552297165201,
                    0.33541055718475077,
                    0.33626588465298146,
                    0.33712121212121215,
                    0.33797653958944285,
                    0.33883186705767354,
                    0.33968719452590423,
                    0.34054252199413493,
                    0.3413978494623656,
                    0.3422531769305963,
                    0.343108504398827,
                    0.3439638318670577,
                    0.3448191593352884,
                    0.3456744868035191,
                    0.3465298142717498,
                    0.3473851417399805,
                    0.34824046920821117,
                    0.34909579667644186,
                    0.34995112414467255,
                    0.35080645161290325,
                    0.35166177908113394,
                    0.35251710654936463,
                    0.3533724340175953,
                    0.354227761485826,
                    0.3550830889540567,
                    0.3559384164222874,
                    0.3567937438905181,
                    0.3576490713587488,
                    0.3585043988269795,
                    0.3593597262952102,
                    0.3602150537634409,
                    0.36107038123167157,
                    0.36192570869990226,
                    0.36278103616813295,
                    0.36363636363636365,
                    0.36449169110459434,
                    0.36534701857282503,
                    0.3662023460410557,
                    0.3670576735092864,
                    0.3679130009775171,
                    0.3687683284457478,
                    0.3696236559139785,
                    0.3704789833822092,
                    0.3713343108504399,
                    0.3721896383186706,
                    0.3730449657869013,
                    0.37390029325513197,
                    0.37475562072336266,
                    0.37561094819159335,
                    0.37646627565982405,
                    0.37732160312805474,
                    0.37817693059628543,
                    0.3790322580645161,
                    0.3798875855327468,
                    0.3807429130009775,
                    0.3815982404692082,
                    0.3824535679374389,
                    0.3833088954056696,
                    0.3841642228739003,
                    0.385019550342131,
                    0.38587487781036167,
                    0.38673020527859236,
                    0.38758553274682306,
                    0.38844086021505375,
                    0.38929618768328444,
                    0.39015151515151514,
                    0.39100684261974583,
                    0.3918621700879765,
                    0.3927174975562072,
                    0.3935728250244379,
                    0.3944281524926686,
                    0.3952834799608993,
                    0.39613880742913,
                    0.3969941348973607,
                    0.3978494623655914,
                    0.39870478983382207,
                    0.39956011730205276,
                    0.40041544477028346,
                    0.40127077223851415,
                    0.40212609970674484,
                    0.40298142717497554,
                    0.40383675464320623,
                    0.4046920821114369,
                    0.4055474095796676,
                    0.4064027370478983,
                    0.40725806451612906,
                    0.40811339198435975,
                    0.40896871945259045,
                    0.40982404692082114,
                    0.41067937438905183,
                    0.4115347018572825,
                    0.4123900293255132,
                    0.4132453567937439,
                    0.4141006842619746,
                    0.4149560117302053,
                    0.415811339198436,
                    0.4166666666666667,
                    0.4175219941348974,
                    0.41837732160312807,
                    0.41923264907135877,
                    0.42008797653958946,
                    0.42094330400782015,
                    0.42179863147605084,
                    0.42265395894428154,
                    0.42350928641251223,
                    0.4243646138807429,
                    0.4252199413489736,
                    0.4260752688172043,
                    0.426930596285435,
                    0.4277859237536657,
                    0.4286412512218964,
                    0.4294965786901271,
                    0.4303519061583578,
                    0.43120723362658847,
                    0.43206256109481916,
                    0.43291788856304986,
                    0.43377321603128055,
                    0.43462854349951124,
                    0.43548387096774194,
                    0.43633919843597263,
                    0.4371945259042033,
                    0.438049853372434,
                    0.4389051808406647,
                    0.4397605083088954,
                    0.4406158357771261,
                    0.4414711632453568,
                    0.4423264907135875,
                    0.4431818181818182,
                    0.44403714565004887,
                    0.44489247311827956,
                    0.44574780058651026,
                    0.44660312805474095,
                    0.44745845552297164,
                    0.44831378299120234,
                    0.44916911045943303,
                    0.4500244379276637,
                    0.4508797653958944,
                    0.4517350928641251,
                    0.4525904203323558,
                    0.4534457478005865,
                    0.4543010752688172,
                    0.4551564027370479,
                    0.4560117302052786,
                    0.45686705767350927,
                    0.45772238514173996,
                    0.45857771260997066,
                    0.45943304007820135,
                    0.46028836754643204,
                    0.46114369501466274,
                    0.46199902248289343,
                    0.4628543499511241,
                    0.4637096774193548,
                    0.4645650048875855,
                    0.4654203323558162,
                    0.4662756598240469,
                    0.4671309872922776,
                    0.4679863147605083,
                    0.468841642228739,
                    0.4696969696969697,
                    0.4705522971652004,
                    0.4714076246334311,
                    0.4722629521016618,
                    0.4731182795698925,
                    0.4739736070381232,
                    0.4748289345063539,
                    0.4756842619745846,
                    0.47653958944281527,
                    0.47739491691104596,
                    0.47825024437927666,
                    0.47910557184750735,
                    0.47996089931573804,
                    0.48081622678396874,
                    0.48167155425219943,
                    0.4825268817204301,
                    0.4833822091886608,
                    0.4842375366568915,
                    0.4850928641251222,
                    0.4859481915933529,
                    0.4868035190615836,
                    0.4876588465298143,
                    0.488514173998045,
                    0.48936950146627567,
                    0.49022482893450636,
                    0.49108015640273706,
                    0.49193548387096775,
                    0.49279081133919844,
                    0.49364613880742914,
                    0.49450146627565983,
                    0.4953567937438905,
                    0.4962121212121212,
                    0.4970674486803519,
                    0.4979227761485826,
                    0.4987781036168133,
                    0.499633431085044,
                    0.5004887585532747,
                    0.5013440860215054,
                    0.5021994134897361,
                    0.5030547409579668,
                    0.5039100684261975,
                    0.5047653958944281,
                    0.5056207233626588,
                    0.5064760508308895,
                    0.5073313782991202,
                    0.5081867057673509,
                    0.5090420332355816,
                    0.5098973607038123,
                    0.510752688172043,
                    0.5116080156402737,
                    0.5124633431085044,
                    0.5133186705767351,
                    0.5141739980449658,
                    0.5150293255131965,
                    0.5158846529814272,
                    0.5167399804496579,
                    0.5175953079178885,
                    0.5184506353861192,
                    0.5193059628543499,
                    0.5201612903225806,
                    0.5210166177908113,
                    0.521871945259042,
                    0.5227272727272727,
                    0.5235826001955034,
                    0.5244379276637341,
                    0.5252932551319648,
                    0.5261485826001955,
                    0.5270039100684262,
                    0.5278592375366569,
                    0.5287145650048876,
                    0.5295698924731183,
                    0.530425219941349,
                    0.5312805474095796,
                    0.5321358748778104,
                    0.532991202346041,
                    0.5338465298142718,
                    0.5347018572825024,
                    0.5355571847507332,
                    0.5364125122189638,
                    0.5372678396871946,
                    0.5381231671554252,
                    0.538978494623656,
                    0.5398338220918866,
                    0.5406891495601174,
                    0.541544477028348,
                    0.5423998044965788,
                    0.5432551319648093,
                    0.5441104594330402,
                    0.5449657869012707,
                    0.5458211143695015,
                    0.5466764418377321,
                    0.5475317693059629,
                    0.5483870967741935,
                    0.5492424242424243,
                    0.5500977517106549,
                    0.5509530791788857,
                    0.5518084066471163,
                    0.5526637341153471,
                    0.5535190615835777,
                    0.5543743890518085,
                    0.555229716520039,
                    0.5560850439882699,
                    0.5569403714565004,
                    0.5577956989247312,
                    0.5586510263929618,
                    0.5595063538611926,
                    0.5603616813294232,
                    0.561217008797654,
                    0.5620723362658846,
                    0.5629276637341154,
                    0.563782991202346,
                    0.5646383186705768,
                    0.5654936461388074,
                    0.5663489736070382,
                    0.5672043010752688,
                    0.5680596285434996,
                    0.5689149560117301,
                    0.569770283479961,
                    0.5706256109481915,
                    0.5714809384164223,
                    0.5723362658846529,
                    0.5731915933528837,
                    0.5740469208211143,
                    0.5749022482893451,
                    0.5757575757575757,
                    0.5766129032258065,
                    0.5774682306940371,
                    0.5783235581622679,
                    0.5791788856304985,
                    0.5800342130987293,
                    0.5808895405669598,
                    0.5817448680351907,
                    0.5826001955034212,
                    0.583455522971652,
                    0.5843108504398826,
                    0.5851661779081134,
                    0.586021505376344,
                    0.5868768328445748,
                    0.5877321603128054,
                    0.5885874877810362,
                    0.5894428152492668,
                    0.5902981427174976,
                    0.5911534701857282,
                    0.592008797653959,
                    0.5928641251221896,
                    0.5937194525904204,
                    0.594574780058651,
                    0.5954301075268817,
                    0.5962854349951124,
                    0.5971407624633431,
                    0.5979960899315738,
                    0.5988514173998045,
                    0.5997067448680352,
                    0.6005620723362659,
                    0.6014173998044966,
                    0.6022727272727273,
                    0.603128054740958,
                    0.6039833822091887,
                    0.6048387096774194,
                    0.6056940371456501,
                    0.6065493646138808,
                    0.6074046920821115,
                    0.6082600195503421,
                    0.6091153470185728,
                    0.6099706744868035,
                    0.6108260019550342,
                    0.6116813294232649,
                    0.6125366568914956,
                    0.6133919843597263,
                    0.614247311827957,
                    0.6151026392961877,
                    0.6159579667644184,
                    0.6168132942326491,
                    0.6176686217008798,
                    0.6185239491691105,
                    0.6193792766373412,
                    0.6202346041055719,
                    0.6210899315738025,
                    0.6219452590420332,
                    0.6228005865102639,
                    0.6236559139784946,
                    0.6245112414467253,
                    0.625366568914956,
                    0.6262218963831867,
                    0.6270772238514174,
                    0.6279325513196481,
                    0.6287878787878788,
                    0.6296432062561095,
                    0.6304985337243402,
                    0.6313538611925709,
                    0.6322091886608016,
                    0.6330645161290323,
                    0.6339198435972629,
                    0.6347751710654936,
                    0.6356304985337243,
                    0.636485826001955,
                    0.6373411534701857,
                    0.6381964809384164,
                    0.6390518084066471,
                    0.6399071358748778,
                    0.6407624633431085,
                    0.6416177908113392,
                    0.6424731182795699,
                    0.6433284457478006,
                    0.6441837732160313,
                    0.645039100684262,
                    0.6458944281524927,
                    0.6467497556207233,
                    0.647605083088954,
                    0.6484604105571847,
                    0.6493157380254154,
                    0.6501710654936461,
                    0.6510263929618768,
                    0.6518817204301075,
                    0.6527370478983382,
                    0.6535923753665689,
                    0.6544477028347996,
                    0.6553030303030303,
                    0.656158357771261,
                    0.6570136852394917,
                    0.6578690127077224,
                    0.658724340175953,
                    0.6595796676441837,
                    0.6604349951124144,
                    0.6612903225806451,
                    0.6621456500488758,
                    0.6630009775171065,
                    0.6638563049853372,
                    0.6647116324535679,
                    0.6655669599217986,
                    0.6664222873900293,
                    0.66727761485826,
                    0.6681329423264907,
                    0.6689882697947214,
                    0.6698435972629521,
                    0.6706989247311828,
                    0.6715542521994134,
                    0.6724095796676441,
                    0.6732649071358748,
                    0.6741202346041055,
                    0.6749755620723362,
                    0.6758308895405669,
                    0.6766862170087976,
                    0.6775415444770283,
                    0.678396871945259,
                    0.6792521994134897,
                    0.6801075268817204,
                    0.6809628543499511,
                    0.6818181818181818,
                    0.6826735092864125,
                    0.6835288367546432,
                    0.6843841642228738,
                    0.6852394916911045,
                    0.6860948191593352,
                    0.6869501466275659,
                    0.6878054740957966,
                    0.6886608015640274,
                    0.6895161290322581,
                    0.6903714565004888,
                    0.6912267839687195,
                    0.6920821114369502,
                    0.6929374389051809,
                    0.6937927663734116,
                    0.6946480938416423,
                    0.695503421309873,
                    0.6963587487781037,
                    0.6972140762463344,
                    0.698069403714565,
                    0.6989247311827957,
                    0.6997800586510264,
                    0.7006353861192571,
                    0.7014907135874878,
                    0.7023460410557185,
                    0.7032013685239492,
                    0.7040566959921799,
                    0.7049120234604106,
                    0.7057673509286413,
                    0.706622678396872,
                    0.7074780058651027,
                    0.7083333333333334,
                    0.7091886608015641,
                    0.7100439882697948,
                    0.7108993157380255,
                    0.7117546432062561,
                    0.7126099706744868,
                    0.7134652981427175,
                    0.7143206256109482,
                    0.7151759530791789,
                    0.7160312805474096,
                    0.7168866080156403,
                    0.717741935483871,
                    0.7185972629521017,
                    0.7194525904203324,
                    0.7203079178885631,
                    0.7211632453567938,
                    0.7220185728250245,
                    0.7228739002932552,
                    0.7237292277614858,
                    0.7245845552297165,
                    0.7254398826979472,
                    0.7262952101661779,
                    0.7271505376344086,
                    0.7280058651026393,
                    0.72886119257087,
                    0.7297165200391007,
                    0.7305718475073314,
                    0.7314271749755621,
                    0.7322825024437928,
                    0.7331378299120235,
                    0.7339931573802542,
                    0.7348484848484849,
                    0.7357038123167156,
                    0.7365591397849462,
                    0.7374144672531769,
                    0.7382697947214076,
                    0.7391251221896383,
                    0.739980449657869,
                    0.7408357771260997,
                    0.7416911045943304,
                    0.7425464320625611,
                    0.7434017595307918,
                    0.7442570869990225,
                    0.7451124144672532,
                    0.7459677419354839,
                    0.7468230694037146,
                    0.7476783968719453,
                    0.748533724340176,
                    0.7493890518084066,
                    0.7502443792766373,
                    0.751099706744868,
                    0.7519550342130987,
                    0.7528103616813294,
                    0.7536656891495601,
                    0.7545210166177908,
                    0.7553763440860215,
                    0.7562316715542522,
                    0.7570869990224829,
                    0.7579423264907136,
                    0.7587976539589443,
                    0.759652981427175,
                    0.7605083088954057,
                    0.7613636363636364,
                    0.762218963831867,
                    0.7630742913000977,
                    0.7639296187683284,
                    0.7647849462365591,
                    0.7656402737047898,
                    0.7664956011730205,
                    0.7673509286412512,
                    0.7682062561094819,
                    0.7690615835777126,
                    0.7699169110459433,
                    0.770772238514174,
                    0.7716275659824047,
                    0.7724828934506354,
                    0.7733382209188661,
                    0.7741935483870968,
                    0.7750488758553274,
                    0.7759042033235581,
                    0.7767595307917888,
                    0.7776148582600195,
                    0.7784701857282502,
                    0.7793255131964809,
                    0.7801808406647116,
                    0.7810361681329423,
                    0.781891495601173,
                    0.7827468230694037,
                    0.7836021505376344,
                    0.7844574780058651,
                    0.7853128054740958,
                    0.7861681329423265,
                    0.7870234604105572,
                    0.7878787878787878,
                    0.7887341153470185,
                    0.7895894428152492,
                    0.7904447702834799,
                    0.7913000977517106,
                    0.7921554252199413,
                    0.793010752688172,
                    0.7938660801564027,
                    0.7947214076246334,
                    0.7955767350928641,
                    0.7964320625610948,
                    0.7972873900293255,
                    0.7981427174975562,
                    0.7989980449657869,
                    0.7998533724340176,
                    0.8007086999022482,
                    0.8015640273704789,
                    0.8024193548387096,
                    0.8032746823069403,
                    0.804130009775171,
                    0.8049853372434017,
                    0.8058406647116324,
                    0.8066959921798631,
                    0.8075513196480938,
                    0.8084066471163245,
                    0.8092619745845552,
                    0.8101173020527859,
                    0.8109726295210166,
                    0.8118279569892473,
                    0.812683284457478,
                    0.8135386119257088,
                    0.8143939393939394,
                    0.8152492668621701,
                    0.8161045943304008,
                    0.8169599217986315,
                    0.8178152492668622,
                    0.8186705767350929,
                    0.8195259042033236,
                    0.8203812316715543,
                    0.821236559139785,
                    0.8220918866080157,
                    0.8229472140762464,
                    0.8238025415444771,
                    0.8246578690127078,
                    0.8255131964809385,
                    0.8263685239491692,
                    0.8272238514173998,
                    0.8280791788856305,
                    0.8289345063538612,
                    0.8297898338220919,
                    0.8306451612903226,
                    0.8315004887585533,
                    0.832355816226784,
                    0.8332111436950147,
                    0.8340664711632454,
                    0.8349217986314761,
                    0.8357771260997068,
                    0.8366324535679375,
                    0.8374877810361682,
                    0.8383431085043989,
                    0.8391984359726296,
                    0.8400537634408602,
                    0.8409090909090909,
                    0.8417644183773216,
                    0.8426197458455523,
                    0.843475073313783,
                    0.8443304007820137,
                    0.8451857282502444,
                    0.8460410557184751,
                    0.8468963831867058,
                    0.8477517106549365,
                    0.8486070381231672,
                    0.8494623655913979,
                    0.8503176930596286,
                    0.8511730205278593,
                    0.85202834799609,
                    0.8528836754643206,
                    0.8537390029325513,
                    0.854594330400782,
                    0.8554496578690127,
                    0.8563049853372434,
                    0.8571603128054741,
                    0.8580156402737048,
                    0.8588709677419355,
                    0.8597262952101662,
                    0.8605816226783969,
                    0.8614369501466276,
                    0.8622922776148583,
                    0.863147605083089,
                    0.8640029325513197,
                    0.8648582600195504,
                    0.865713587487781,
                    0.8665689149560117,
                    0.8674242424242424,
                    0.8682795698924731,
                    0.8691348973607038,
                    0.8699902248289345,
                    0.8708455522971652,
                    0.8717008797653959,
                    0.8725562072336266,
                    0.8734115347018573,
                    0.874266862170088,
                    0.8751221896383187,
                    0.8759775171065494,
                    0.8768328445747801,
                    0.8776881720430108,
                    0.8785434995112414,
                    0.8793988269794721,
                    0.8802541544477028,
                    0.8811094819159335,
                    0.8819648093841642,
                    0.8828201368523949,
                    0.8836754643206256,
                    0.8845307917888563,
                    0.885386119257087,
                    0.8862414467253177,
                    0.8870967741935484,
                    0.8879521016617791,
                    0.8888074291300098,
                    0.8896627565982405,
                    0.8905180840664711,
                    0.8913734115347018,
                    0.8922287390029325,
                    0.8930840664711632,
                    0.8939393939393939,
                    0.8947947214076246,
                    0.8956500488758553,
                    0.896505376344086,
                    0.8973607038123167,
                    0.8982160312805474,
                    0.8990713587487781,
                    0.8999266862170088,
                    0.9007820136852395,
                    0.9016373411534702,
                    0.9024926686217009,
                    0.9033479960899315,
                    0.9042033235581622,
                    0.9050586510263929,
                    0.9059139784946236,
                    0.9067693059628543,
                    0.907624633431085,
                    0.9084799608993157,
                    0.9093352883675464,
                    0.9101906158357771,
                    0.9110459433040078,
                    0.9119012707722385,
                    0.9127565982404692,
                    0.9136119257086999,
                    0.9144672531769306,
                    0.9153225806451613,
                    0.916177908113392,
                    0.9170332355816226,
                    0.9178885630498533,
                    0.918743890518084,
                    0.9195992179863147,
                    0.9204545454545454,
                    0.9213098729227761,
                    0.9221652003910068,
                    0.9230205278592375,
                    0.9238758553274682,
                    0.9247311827956989,
                    0.9255865102639296,
                    0.9264418377321603,
                    0.927297165200391,
                    0.9281524926686217,
                    0.9290078201368523,
                    0.929863147605083,
                    0.9307184750733137,
                    0.9315738025415444,
                    0.9324291300097751,
                    0.9332844574780058,
                    0.9341397849462365,
                    0.9349951124144672,
                    0.9358504398826979,
                    0.9367057673509286,
                    0.9375610948191593,
                    0.9384164222873901,
                    0.9392717497556208,
                    0.9401270772238515,
                    0.9409824046920822,
                    0.9418377321603129,
                    0.9426930596285436,
                    0.9435483870967742,
                    0.9444037145650049,
                    0.9452590420332356,
                    0.9461143695014663,
                    0.946969696969697,
                    0.9478250244379277,
                    0.9486803519061584,
                    0.9495356793743891,
                    0.9503910068426198,
                    0.9512463343108505,
                    0.9521016617790812,
                    0.9529569892473119,
                    0.9538123167155426,
                    0.9546676441837733,
                    0.955522971652004,
                    0.9563782991202346,
                    0.9572336265884653,
                    0.958088954056696,
                    0.9589442815249267,
                    0.9597996089931574,
                    0.9606549364613881,
                    0.9615102639296188,
                    0.9623655913978495,
                    0.9632209188660802,
                    0.9640762463343109,
                    0.9649315738025416,
                    0.9657869012707723,
                    0.966642228739003,
                    0.9674975562072337,
                    0.9683528836754643,
                    0.969208211143695,
                    0.9700635386119257,
                    0.9709188660801564,
                    0.9717741935483871,
                    0.9726295210166178,
                    0.9734848484848485,
                    0.9743401759530792,
                    0.9751955034213099,
                    0.9760508308895406,
                    0.9769061583577713,
                    0.977761485826002,
                    0.9786168132942327,
                    0.9794721407624634,
                    0.980327468230694,
                    0.9811827956989247,
                    0.9820381231671554,
                    0.9828934506353861,
                    0.9837487781036168,
                    0.9846041055718475,
                    0.9854594330400782,
                    0.9863147605083089,
                    0.9871700879765396,
                    0.9880254154447703,
                    0.988880742913001,
                    0.9897360703812317,
                    0.9905913978494624,
                    0.9914467253176931,
                    0.9923020527859238,
                    0.9931573802541545,
                    0.9940127077223851,
                    0.9948680351906158,
                    0.9957233626588465,
                    0.9965786901270772,
                    0.9974340175953079,
                    0.9982893450635386,
                    0.9991446725317693,
                    1
                  ],
                  "xaxis": "x",
                  "y": [
                    0.9893582466233818,
                    0.9958031295351271,
                    0.9992775355716806,
                    0.9998889795579828,
                    0.9977488357969969,
                    0.9929714828803886,
                    0.9856735206751016,
                    0.9759730561680212,
                    0.9639890547343697,
                    0.9498407533307184,
                    0.9336471320924549,
                    0.9155264408310896,
                    0.8955957769726051,
                    0.8739707115486329,
                    0.8507649599427333,
                    0.8260900942002487,
                    0.8000552938284676,
                    0.7727671321409948,
                    0.7443293953336293,
                    0.714842931616376,
                    0.6844055278655362,
                    0.6531118113994895,
                    0.6210531746205135,
                    0.58831772040152,
                    0.554990226230271,
                    0.5211521252534236,
                    0.48688150248842477,
                    0.45225310459212203,
                    0.4173383616908568,
                    0.38220541988744233,
                    0.3469191831657305,
                    0.31154136351337786,
                    0.2761305381778839,
                    0.24074221306012997,
                    0.20542889133352865,
                    0.1702401464556169,
                    0.13522269881271035,
                    0.10042049530715284,
                    0.06587479126102438,
                    0.0316242340700257,
                    -0.0022950519031044773,
                    -0.03584937965468846,
                    -0.06900741349700844,
                    -0.10174008301311954,
                    -0.1340204973360083,
                    -0.16582386004097435,
                    -0.197127384905663,
                    -0.22791021276053694,
                    -0.2581533296235758,
                    -0.2878394862865268,
                    -0.31695311949582217,
                    -0.34548027484927973,
                    -0.37340853150967557,
                    -0.4007269288181455,
                    -0.42742589487392574,
                    -0.4534971771321392,
                    -0.4789337750579703,
                    -0.5037298748636072,
                    -0.5278807863435804,
                    -0.5513828818145612,
                    -0.5742335371571994,
                    -0.5964310749500047,
                    -0.6179747096786617,
                    -0.6388644949983542,
                    -0.6591012730215569,
                    -0.6786866255994093,
                    -0.697622827560965,
                    -0.71591280187142,
                    -0.7335600766677169,
                    -0.7505687441276809,
                    -0.766943421127014,
                    -0.7826892116370503,
                    -0.7978116708150412,
                    -0.8123167707379625,
                    -0.8262108677302925,
                    -0.8395006712359271,
                    -0.8521932141843317,
                    -0.8642958248011443,
                    -0.8758160998137398,
                    -0.8867618790026974,
                    -0.897141221050695,
                    -0.9069623806410105,
                    -0.9162337867586179,
                    -0.9249640221476982,
                    -0.9331618038803345,
                    -0.9408359649921436,
                    -0.9479954371416289,
                    -0.9546492342511292,
                    -0.9608064370883262,
                    -0.9664761787484223,
                    -0.9716676309982293,
                    -0.9763899914445759,
                    -0.980652471490596,
                    -0.9844642850446192,
                    -0.987834637947549,
                    -0.9907727180857474,
                    -0.9932876861575957,
                    -0.9953886670630121,
                    -0.997084741886321,
                    -0.9983849404439477,
                    -0.9992982343694843,
                    -0.9998335307097168,
                    -0.9999996660062197,
                    -0.9998054008381277,
                    -0.9992594148026622,
                    -0.9983703019109362,
                    -0.9971465663774858,
                    -0.9955966187828637,
                    -0.9937287725895043,
                    -0.9915512409919043,
                    -0.9890721340829807,
                    -0.9862994563192542,
                    -0.9832411042682677,
                    -0.9799048646223827,
                    -0.9762984124638101,
                    -0.9724293097664116,
                    -0.9683050041204724,
                    -0.9639328276672757,
                    -0.9593199962309269,
                    -0.9544736086354584,
                    -0.9494006461958164,
                    -0.9441079723718694,
                    -0.9386023325751053,
                    -0.9328903541181819,
                    -0.9269785462979755,
                    -0.9208733006032387,
                    -0.9145808910384124,
                    -0.9081074745555686,
                    -0.9014590915868604,
                    -0.894641666670246,
                    -0.8876610091616253,
                    -0.8805228140268847,
                    -0.8732326627076785,
                    -0.8657960240551136,
                    -0.858218255325796,
                    -0.8505046032350136,
                    -0.8426602050621018,
                    -0.834690089803304,
                    -0.8265991793677111,
                    -0.8183922898121043,
                    -0.810074132610744,
                    -0.8016493159564057,
                    -0.7931223460891388,
                    -0.7844976286494536,
                    -0.7757794700528265,
                    -0.7669720788825909,
                    -0.7580795672984698,
                    -0.7491059524581585,
                    -0.7400551579495354,
                    -0.7309310152312245,
                    -0.7217372650793731,
                    -0.712477559038652,
                    -0.7031554608756083,
                    -0.6937744480326268,
                    -0.6843379130808671,
                    -0.6748491651706653,
                    -0.6653114314779794,
                    -0.6557278586455666,
                    -0.6461015142176747,
                    -0.6364353880671103,
                    -0.6267323938136431,
                    -0.6169953702327755,
                    -0.6072270826539852,
                    -0.5974302243476279,
                    -0.5876074178997357,
                    -0.5777612165740371,
                    -0.5678941056605576,
                    -0.5580085038102398,
                    -0.5481067643550582,
                    -0.5381911766131692,
                    -0.528263967178671,
                    -0.5183273011956041,
                    -0.5083832836158624,
                    -0.4984339604407144,
                    -0.4884813199456966,
                    -0.4785272938886439,
                    -0.4685737587006835,
                    -0.45862253666003355,
                    -0.44867539704848064,
                    -0.43873405729044224,
                    -0.42880018407453624,
                    -0.41887539445761746,
                    -0.40896125695124674,
                    -0.3990592925905925,
                    -0.3891709759857822,
                    -0.37929773635572606,
                    -0.3694409585444775,
                    -0.35960198402018007,
                    -0.34978211185669267,
                    -0.33998259969798184,
                    -0.33020466470538135,
                    -0.32044948448785066,
                    -0.3107181980153405,
                    -0.30101190651542387,
                    -0.29133167435332075,
                    -0.2816785298954823,
                    -0.27205346635689326,
                    -0.2624574426322589,
                    -0.25289138411125717,
                    -0.2433561834780293,
                    -0.23385270149509718,
                    -0.22438176777190139,
                    -0.2149441815181441,
                    -0.20554071228214524,
                    -0.1961721006743965,
                    -0.18683905907653453,
                    -0.17754227233591993,
                    -0.16828239844604062,
                    -0.15906006921294152,
                    -0.14987589090789033,
                    -0.14073044490649061,
                    -0.13162428831444956,
                    -0.12255795458021353,
                    -0.11353195409468081,
                    -0.10454677477820093,
                    -0.09560288265507194,
                    -0.08670072241574195,
                    -0.07784071796692679,
                    -0.06902327296984925,
                    -0.060248771366806446,
                    -0.05151757789626738,
                    -0.0428300385967101,
                    -0.034186481299394465,
                    -0.025587216110275902,
                    -0.017032535881250796,
                    -0.0085227166709411,
                    -0.00005801819520298224,
                    0.00836131573244342,
                    0.016735056770272153,
                    0.02506299162751205,
                    0.03334492165302118,
                    0.04158066243329049,
                    0.04977004339960082,
                    0.05791290744414683,
                    0.06600911054495437,
                    0.0740585213994204,
                    0.0820610210662955,
                    0.09001650261594939,
                    0.09792487078874319,
                    0.10578604166134824,
                    0.11359994232085481,
                    0.1213665105465003,
                    0.1290856944988683,
                    0.13675745241640086,
                    0.144381752319074,
                    0.15195857171908372,
                    0.15948789733840008,
                    0.16696972483304037,
                    0.1744040585239252,
                    0.1817909111341695,
                    0.18913030353268145,
                    0.19642226448392455,
                    0.20366683040372185,
                    0.21086404512096052,
                    0.21801395964507775,
                    0.22511663193920142,
                    0.232172126698819,
                    0.23918051513585745,
                    0.24614187476805716,
                    0.2530562892135175,
                    0.2599238479903094,
                    0.2667446463210343,
                    0.27351878494222626,
                    0.2802463699184878,
                    0.2869275124612519,
                    0.29356232875207267,
                    0.3001509397703378,
                    0.3066934711253056,
                    0.3131900528923715,
                    0.3196408194534663,
                    0.326045909341494,
                    0.33240546508871777,
                    0.33871963307900416,
                    0.3449885634038383,
                    0.3512124097220246,
                    0.35739132912298677,
                    0.3635254819935897,
                    0.369615031888395,
                    0.3756601454032793,
                    0.3816609920523317,
                    0.3876177441479593,
                    0.3935305766841227,
                    0.399399667222633,
                    0.4052251957824355,
                    0.41100734473181505,
                    0.4167462986834494,
                    0.4224422443922496,
                    0.4280953706559195,
                    0.43370586821817064,
                    0.43927392967453194,
                    0.444799749380691,
                    0.45028352336330907,
                    0.45572544923325176,
                    0.4611257261011762,
                    0.466484554495421,
                    0.4718021362821444,
                    0.47707867458765535,
                    0.48231437372288716,
                    0.4875094391099624,
                    0.49266407721079974,
                    0.4977784954577106,
                    0.5028529021859436,
                    0.5078875065681244,
                    0.5128825185505499,
                    0.5178381487912901,
                    0.5227546086000515,
                    0.527632109879768,
                    0.5324708650698649,
                    0.5372710870911679,
                    0.5420329892924095,
                    0.5467567853982963,
                    0.5514426894590987,
                    0.5560909158017263,
                    0.5607016789822544,
                    0.5652751937398619,
                    0.5698116749521496,
                    0.5743113375918041,
                    0.5787743966845743,
                    0.5832010672685264,
                    0.5875915643545472,
                    0.5919461028880684,
                    0.596264897711974,
                    0.600548163530666,
                    0.6047961148752637,
                    0.6090089660698979,
                    0.6131869311990817,
                    0.617330224076129,
                    0.6214390582125908,
                    0.6255136467886887,
                    0.6295542026247152,
                    0.6335609381533844,
                    0.6375340653930975,
                    0.6414737959221133,
                    0.6453803408535899,
                    0.6492539108114803,
                    0.6530947159072601,
                    0.6569029657174669,
                    0.6606788692620261,
                    0.6644226349833479,
                    0.6681344707261757,
                    0.6718145837181605,
                    0.675463180551151,
                    0.6790804671631749,
                    0.6826666488210951,
                    0.6862219301039247,
                    0.6897465148867817,
                    0.6932406063254681,
                    0.696704406841655,
                    0.7001381181086629,
                    0.7035419410378129,
                    0.7069160757653431,
                    0.7102607216398696,
                    0.7135760772103779,
                    0.7168623402147332,
                    0.7201197075686944,
                    0.7233483753554172,
                    0.7265485388154352,
                    0.7297203923371047,
                    0.7328641294475022,
                    0.7359799428037599,
                    0.7390680241848299,
                    0.7421285644836645,
                    0.7451617536998004,
                    0.748167780932337,
                    0.7511468343732971,
                    0.7540991013013598,
                    0.7570247680759559,
                    0.7599240201317131,
                    0.7627970419732474,
                    0.7656440171702815,
                    0.7684651283530917,
                    0.7712605572082637,
                    0.7740304844747582,
                    0.7767750899402697,
                    0.7794945524378752,
                    0.782189049842961,
                    0.7848587590704235,
                    0.7875038560721308,
                    0.7901245158346437,
                    0.7927209123771831,
                    0.7952932187498398,
                    0.7978416070320186,
                    0.8003662483311091,
                    0.8028673127813788,
                    0.8053449695430781,
                    0.8077993868017541,
                    0.8102307317677663,
                    0.8126391706759954,
                    0.8150248687857442,
                    0.817387990380819,
                    0.8197286987697914,
                    0.82204715628643,
                    0.824343524290301,
                    0.8266179631675288,
                    0.8288706323317139,
                    0.8311016902250018,
                    0.833311294319299,
                    0.8354996011176298,
                    0.8376667661556322,
                    0.8398129440031841,
                    0.8419382882661598,
                    0.8440429515883088,
                    0.8461270856532569,
                    0.8481908411866201,
                    0.8502343679582316,
                    0.8522578147844778,
                    0.854261329530737,
                    0.8562450591139191,
                    0.8582091495051016,
                    0.8601537457322613,
                    0.862078991883092,
                    0.8639850311079129,
                    0.8658720056226586,
                    0.8677400567119498,
                    0.8695893247322408,
                    0.8714199491150424,
                    0.8732320683702155,
                    0.8750258200893334,
                    0.8768013409491107,
                    0.8785587667148936,
                    0.8802982322442133,
                    0.8820198714903958,
                    0.8837238175062273,
                    0.8854102024476733,
                    0.8870791575776488,
                    0.8887308132698365,
                    0.8903652990125518,
                    0.891982743412651,
                    0.8935832741994842,
                    0.8951670182288843,
                    0.8967341014871981,
                    0.898284649095351,
                    0.8998187853129466,
                    0.9013366335423991,
                    0.9028383163330971,
                    0.9043239553855934,
                    0.9057936715558268,
                    0.9072475848593642,
                    0.9086858144756716,
                    0.9101084787524044,
                    0.91151569520972,
                    0.9129075805446094,
                    0.9142842506352482,
                    0.9156458205453625,
                    0.9169924045286117,
                    0.9183241160329848,
                    0.9196410677052099,
                    0.9209433713951747,
                    0.9222311381603583,
                    0.9235044782702717,
                    0.9247635012109072,
                    0.9260083156891938,
                    0.9272390296374595,
                    0.9284557502178987,
                    0.9296585838270426,
                    0.9308476361002344,
                    0.9320230119161046,
                    0.9331848154010494,
                    0.934333149933708,
                    0.9354681181494405,
                    0.9365898219448039,
                    0.9376983624820255,
                    0.9387938401934749,
                    0.9398763547861305,
                    0.9409460052460439,
                    0.942002889842796,
                    0.9430471061339512,
                    0.9440787509695018,
                    0.9450979204963077,
                    0.946104710162527,
                    0.9470992147220391,
                    0.948081528238859,
                    0.9490517440915417,
                    0.9500099549775766,
                    0.9509562529177726,
                    0.9518907292606312,
                    0.9528134746867083,
                    0.9537245792129638,
                    0.9546241321971012,
                    0.9555122223418899,
                    0.9563889376994795,
                    0.9572543656756961,
                    0.9581085930343282,
                    0.9589517059013948,
                    0.9597837897694025,
                    0.9606049295015838,
                    0.9614152093361239,
                    0.9622147128903673,
                    0.9630035231650136,
                    0.9637817225482918,
                    0.9645493928201225,
                    0.9653066151562599,
                    0.966053470132419,
                    0.9667900377283839,
                    0.9675163973320996,
                    0.9682326277437451,
                    0.9689388071797899,
                    0.9696350132770296,
                    0.9703213230966072,
                    0.9709978131280109,
                    0.9716645592930577,
                    0.9723216369498545,
                    0.9729691208967429,
                    0.9736070853762222,
                    0.9742356040788552,
                    0.9748547501471532,
                    0.9754645961794415,
                    0.9760652142337056,
                    0.9766566758314176,
                    0.977239051961341,
                    0.9778124130833186,
                    0.9783768291320362,
                    0.9789323695207703,
                    0.9794791031451116,
                    0.9800170983866711,
                    0.9805464231167634,
                    0.9810671447000723,
                    0.9815793299982918,
                    0.982083045373751,
                    0.9825783566930146,
                    0.9830653293304654,
                    0.9835440281718638,
                    0.9840145176178888,
                    0.9844768615876561,
                    0.9849311235222175,
                    0.9853773663880371,
                    0.9858156526804491,
                    0.9862460444270932,
                    0.9866686031913298,
                    0.9870833900756337,
                    0.9874904657249688,
                    0.9878898903301392,
                    0.9882817236311224,
                    0.9886660249203794,
                    0.9890428530461456,
                    0.9894122664157003,
                    0.9897743229986162,
                    0.9901290803299866,
                    0.9904765955136339,
                    0.9908169252252965,
                    0.9911501257157956,
                    0.991476252814181,
                    0.9917953619308565,
                    0.9921075080606855,
                    0.992412745786076,
                    0.9927111292800445,
                    0.9930027123092607,
                    0.9932875482370718,
                    0.9935656900265059,
                    0.9938371902432561,
                    0.9941021010586449,
                    0.9943604742525674,
                    0.9946123612164155,
                    0.9948578129559826,
                    0.9950968800943477,
                    0.99532961287474,
                    0.9955560611633846,
                    0.995776274452328,
                    0.9959903018622445,
                    0.9961981921452225,
                    0.9963999936875332,
                    0.9965957545123776,
                    0.9967855222826171,
                    0.9969693443034825,
                    0.9971472675252663,
                    0.9973193385459941,
                    0.9974856036140788,
                    0.9976461086309552,
                    0.9978008991536963,
                    0.9979500203976108,
                    0.9980935172388228,
                    0.9982314342168318,
                    0.9983638155370563,
                    0.9984907050733578,
                    0.9986121463705468,
                    0.998728182646872,
                    0.9988388567964898,
                    0.9989442113919176,
                    0.9990442886864686,
                    0.9991391306166689,
                    0.9992287788046578,
                    0.9993132745605693,
                    0.9993926588848983,
                    0.9994669724708471,
                    0.9995362557066573,
                    0.9996005486779223,
                    0.9996598911698846,
                    0.9997143226697157,
                    0.9997638823687788,
                    0.999808609164875,
                    0.9998485416644739,
                    0.9998837181849262,
                    0.999914176756661,
                    0.9999399551253668,
                    0.9999610907541557,
                    0.9999776208257117,
                    0.999989582244424,
                    0.999997011638503,
                    0.999999945362081,
                    0.9999984194972983,
                    0.9999924698563719,
                    0.99998213198365,
                    0.9999674411576509,
                    0.9999484323930858,
                    0.999925140442868,
                    0.9998975998001052,
                    0.9998658447000783,
                    0.9998299091222043,
                    0.9997898267919847,
                    0.9997456311829396,
                    0.9996973555185266,
                    0.9996450327740456,
                    0.9995886956785288,
                    0.9995283767166167,
                    0.9994641081304197,
                    0.9993959219213663,
                    0.999323849852035,
                    0.9992479234479759,
                    0.9991681739995147,
                    0.999084632563546,
                    0.9989973299653102,
                    0.9989062968001597,
                    0.9988115634353093,
                    0.9987131600115743,
                    0.9986111164450949,
                    0.9985054624290483,
                    0.998396227435346,
                    0.9982834407163199,
                    0.9981671313063948,
                    0.998047328023747,
                    0.997924059471952,
                    0.9977973540416184,
                    0.9976672399120098,
                    0.9975337450526531,
                    0.9973968972249364,
                    0.9972567239836926,
                    0.9971132526787723,
                    0.9969665104566034,
                    0.9968165242617398,
                    0.9966633208383973,
                    0.9965069267319775,
                    0.9963473682905817,
                    0.9961846716665103,
                    0.996018862817753,
                    0.9958499675094662,
                    0.9956780113154396,
                    0.9955030196195511,
                    0.9953250176172106,
                    0.9951440303167923,
                    0.9949600825410567,
                    0.9947731989285604,
                    0.9945834039350564,
                    0.9943907218348821,
                    0.9941951767223375,
                    0.9939967925130525,
                    0.9937955929453434,
                    0.9935916015815587,
                    0.9933848418094156,
                    0.9931753368433238,
                    0.9929631097257023,
                    0.9927481833282824,
                    0.9925305803534032,
                    0.9923103233352962,
                    0.9920874346413594,
                    0.991861936473422,
                    0.9916338508689997,
                    0.991403199702539,
                    0.991170004686653,
                    0.9909342873733468,
                    0.9906960691552341,
                    0.9904553712667435,
                    0.9902122147853161,
                    0.9899666206325932,
                    0.9897186095755952,
                    0.9894682022278911,
                    0.9892154190507589,
                    0.9889602803543371,
                    0.9887028062987671,
                    0.9884430168953263,
                    0.9881809320075535,
                    0.9879165713523641,
                    0.9876499545011578,
                    0.9873811008809169,
                    0.9871100297752963,
                    0.9868367603257052,
                    0.9865613115323801,
                    0.9862837022554494,
                    0.9860039512159896,
                    0.9857220769970741,
                    0.9854380980448126,
                    0.9851520326693832,
                    0.9848638990460563,
                    0.9845737152162101,
                    0.9842814990883388,
                    0.9839872684390529,
                    0.9836910409140709,
                    0.983392834029204,
                    0.9830926651713331,
                    0.9827905515993782,
                    0.9824865104452595,
                    0.982180558714852,
                    0.9818727132889319,
                    0.9815629909241166,
                    0.9812514082537958,
                    0.9809379817890569,
                    0.9806227279196023,
                    0.9803056629146599,
                    0.9799868029238864,
                    0.9796661639782634,
                    0.9793437619909869,
                    0.9790196127583495,
                    0.9786937319606156,
                    0.9783661351628908,
                    0.978036837815983,
                    0.9777058552572582,
                    0.9773732027114882,
                    0.9770388952916936,
                    0.9767029479999781,
                    0.9763653757283582,
                    0.9760261932595848,
                    0.9756854152679597,
                    0.9753430563201454,
                    0.9749991308759679,
                    0.974653653289214,
                    0.9743066378084227,
                    0.9739580985776692,
                    0.9736080496373437,
                    0.9732565049249245,
                    0.9729034782757442,
                    0.9725489834237501,
                    0.9721930340022594,
                    0.9718356435447079,
                    0.9714768254853927,
                    0.9711165931602103,
                    0.9707549598073869,
                    0.9703919385682056,
                    0.9700275424877257,
                    0.9696617845154976,
                    0.969294677506272,
                    0.9689262342207037,
                    0.9685564673260493,
                    0.9681853893968602,
                    0.9678130129156698,
                    0.9674393502736757,
                    0.9670644137714167,
                    0.9666882156194436,
                    0.9663107679389863,
                    0.9659320827626141,
                    0.9655521720348931,
                    0.9651710476130352,
                    0.9647887212675461,
                    0.9644052046828646,
                    0.9640205094579998,
                    0.9636346471071611,
                    0.9632476290603851,
                    0.9628594666641568,
                    0.9624701711820258,
                    0.9620797537952188,
                    0.9616882256032458,
                    0.9612955976245033,
                    0.9609018807968712,
                    0.9605070859783067,
                    0.9601112239474323,
                    0.9597143054041201,
                    0.959316340970071,
                    0.9589173411893905,
                    0.9585173165291583,
                    0.9581162773799949,
                    0.957714234056624,
                    0.9573111967984294,
                    0.9569071757700081,
                    0.95650218106172,
                    0.9560962226902325,
                    0.9556893105990603,
                    0.9552814546591027,
                    0.9548726646691761,
                    0.9544629503565407,
                    0.9540523213774266,
                    0.9536407873175526,
                    0.9532283576926432,
                    0.9528150419489401,
                    0.9524008494637108,
                    0.951985789545753,
                    0.9515698714358949,
                    0.9511531043074924,
                    0.9507354972669212,
                    0.9503170593540665,
                    0.9498977995428082,
                    0.9494777267415022,
                    0.9490568497934588,
                    0.948635177477417,
                    0.9482127185080149,
                    0.947789481536257,
                    0.9473654751499773,
                    0.9469407078743,
                    0.9465151881720955,
                    0.9460889244444333,
                    0.9456619250310319,
                    0.9452341982107044,
                    0.944805752201802,
                    0.9443765951626523,
                    0.9439467351919961,
                    0.94351618032942,
                    0.943084938555785,
                    0.9426530177936538,
                    0.9422204259077124,
                    0.941787170705191,
                    0.9413532599362795,
                    0.9409187012945412,
                    0.9404835024173231,
                    0.9400476708861624,
                    0.9396112142271913,
                    0.9391741399115371,
                    0.9387364553557204,
                    0.9382981679220498,
                    0.9378592849190144,
                    0.9374198136016716,
                    0.9369797611720337,
                    0.936539134779451,
                    0.9360979415209916,
                    0.9356561884418184,
                    0.9352138825355644,
                    0.9347710307447034,
                    0.9343276399609192,
                    0.9338837170254712,
                    0.9334392687295582,
                    0.932994301814678,
                    0.9325488229729861,
                    0.9321028388476501,
                    0.9316563560332023,
                    0.9312093810758894,
                    0.9307619204740194,
                    0.9303139806783066,
                    0.9298655680922129,
                    0.9294166890722872,
                    0.9289673499285026,
                    0.9285175569245901,
                    0.9280673162783707,
                    0.9276166341620843,
                    0.9271655167027165,
                    0.9267139699823236,
                    0.9262620000383529,
                    0.925809612863964,
                    0.9253568144083446,
                    0.9249036105770255,
                    0.9244500072321932,
                    0.9239960101929996,
                    0.9235416252358696,
                    0.9230868580948067,
                    0.9226317144616962,
                    0.9221761999866056,
                    0.9217203202780833,
                    0.921264080903455,
                    0.9208074873891182,
                    0.9203505452208336,
                    0.9198932598440147,
                    0.9194356366640163,
                    0.9189776810464187,
                    0.9185193983173124,
                    0.9180607937635781,
                    0.9176018726331665,
                    0.9171426401353753,
                    0.9166831014411236,
                    0.916223261683226,
                    0.915763125956662,
                    0.9153026993188463,
                    0.9148419867898949,
                    0.9143809933528901,
                    0.9139197239541436,
                    0.9134581835034574,
                    0.9129963768743832,
                    0.9125343089044788,
                    0.9120719843955645,
                    0.9116094081139748,
                    0.9111465847908118,
                    0.910683519122193,
                    0.9102202157695007,
                    0.9097566793596267,
                    0.9092929144852168,
                    0.9088289257049132,
                    0.9083647175435955,
                    0.9079002944926184,
                    0.9074356610100496,
                    0.9069708215209042,
                    0.9065057804173795,
                    0.9060405420590854,
                    0.905575110773275,
                    0.9051094908550736,
                    0.9046436865677044,
                    0.9041777021427142,
                    0.9037115417801965,
                    0.9032452096490132,
                    0.9027787098870155,
                    0.9023120466012606,
                    0.9018452238682308,
                    0.9013782457340471,
                    0.9009111162146839,
                    0.9004438392961804,
                    0.899976418934852,
                    0.899508859057499,
                    0.8990411635616135,
                    0.8985733363155866,
                    0.8981053811589119,
                    0.8976373019023892,
                    0.8971691023283257,
                    0.8967007861907358,
                    0.8962323572155402,
                    0.8957638191007624,
                    0.8952951755167253,
                    0.8948264301062449,
                    0.8943575864848227,
                    0.893888648240838,
                    0.8934196189357378,
                    0.892950502104225,
                    0.8924813012544459,
                    0.8920120198681767,
                    0.891542661401007,
                    0.8910732292825239,
                    0.8906037269164937,
                    0.8901341576810422,
                    0.8896645249288344,
                    0.8891948319872521,
                    0.8887250821585712,
                    0.8882552787201358,
                    0.8877854249245338,
                    0.8873155239997692,
                    0.8868455791494333,
                    0.8863755935528758,
                    0.8859055703653731,
                    0.8854355127182971,
                    0.8849654237192812,
                    0.8844953064523866,
                    0.8840251639782654,
                    0.8835549993343248,
                    0.8830848155348886,
                    0.882614615571358,
                    0.8821444024123711,
                    0.8816741790039616,
                    0.8812039482697162,
                    0.8807337131109299,
                    0.8802634764067625,
                    0.8797932410143914,
                    0.8793230097691647,
                    0.8788527854847533,
                    0.8783825709533013,
                    0.8779123689455753,
                    0.8774421822111134,
                    0.8769720134783721,
                    0.8765018654548732,
                    0.8760317408273487,
                    0.8755616422618854,
                    0.8750915724040674,
                    0.8746215338791197,
                    0.8741515292920479,
                    0.8736815612277792,
                    0.8732116322513016,
                    0.8727417449078017,
                    0.8722719017228021,
                    0.8718021052022978,
                    0.8713323578328911,
                    0.8708626620819261,
                    0.8703930203976219,
                    0.8699234352092049,
                    0.8694539089270406,
                    0.8689844439427636,
                    0.8685150426294076,
                    0.8680457073415334,
                    0.8675764404153576,
                    0.8671072441688784,
                    0.8666381209020021,
                    0.8661690728966678,
                    0.8657001024169719,
                    0.865231211709291,
                    0.8647624030024043,
                    0.8642936785076151,
                    0.863825040418872,
                    0.8633564909128876,
                    0.8628880321492581,
                    0.8624196662705816,
                    0.8619513954025747,
                    0.8614832216541896,
                    0.8610151471177289,
                    0.8605471738689612,
                    0.8600793039672344,
                    0.8596115394555895,
                    0.8591438823608722,
                    0.8586763346938453,
                    0.8582088984492985,
                    0.8577415756061594,
                    0.8572743681276019,
                    0.8568072779611552,
                    0.8563403070388114,
                    0.8558734572771318,
                    0.8554067305773544,
                    0.8549401288254975,
                    0.854473653892466,
                    0.8540073076341548,
                    0.8535410918915514,
                    0.8530750084908393,
                    0.8526090592434993,
                    0.8521432459464106,
                    0.8516775703819512,
                    0.8512120343180973,
                    0.8507466395085229,
                    0.8502813876926972,
                    0.8498162805959825,
                    0.8493513199297313,
                    0.8488865073913824,
                    0.8484218446645558,
                    0.8479573334191488,
                    0.847492975311429,
                    0.847028771984128,
                    0.8465647250665354,
                    0.8461008361745892,
                    0.8456371069109693,
                    0.8451735388651866,
                    0.8447101336136751,
                    0.8442468927198796,
                    0.8437838177343469,
                    0.8433209101948121,
                    0.8428581716262887,
                    0.8423956035411533,
                    0.8419332074392343,
                    0.8414709848078965
                  ],
                  "yaxis": "y"
                }
              ],
              "layout": {
                "legend": {
                  "tracegroupgap": 0
                },
                "template": {
                  "data": {
                    "bar": [
                      {
                        "error_x": {
                          "color": "#2a3f5f"
                        },
                        "error_y": {
                          "color": "#2a3f5f"
                        },
                        "marker": {
                          "line": {
                            "color": "#E5ECF6",
                            "width": 0.5
                          },
                          "pattern": {
                            "fillmode": "overlay",
                            "size": 10,
                            "solidity": 0.2
                          }
                        },
                        "type": "bar"
                      }
                    ],
                    "barpolar": [
                      {
                        "marker": {
                          "line": {
                            "color": "#E5ECF6",
                            "width": 0.5
                          },
                          "pattern": {
                            "fillmode": "overlay",
                            "size": 10,
                            "solidity": 0.2
                          }
                        },
                        "type": "barpolar"
                      }
                    ],
                    "carpet": [
                      {
                        "aaxis": {
                          "endlinecolor": "#2a3f5f",
                          "gridcolor": "white",
                          "linecolor": "white",
                          "minorgridcolor": "white",
                          "startlinecolor": "#2a3f5f"
                        },
                        "baxis": {
                          "endlinecolor": "#2a3f5f",
                          "gridcolor": "white",
                          "linecolor": "white",
                          "minorgridcolor": "white",
                          "startlinecolor": "#2a3f5f"
                        },
                        "type": "carpet"
                      }
                    ],
                    "choropleth": [
                      {
                        "colorbar": {
                          "outlinewidth": 0,
                          "ticks": ""
                        },
                        "type": "choropleth"
                      }
                    ],
                    "contour": [
                      {
                        "colorbar": {
                          "outlinewidth": 0,
                          "ticks": ""
                        },
                        "colorscale": [
                          [
                            0,
                            "#0d0887"
                          ],
                          [
                            0.1111111111111111,
                            "#46039f"
                          ],
                          [
                            0.2222222222222222,
                            "#7201a8"
                          ],
                          [
                            0.3333333333333333,
                            "#9c179e"
                          ],
                          [
                            0.4444444444444444,
                            "#bd3786"
                          ],
                          [
                            0.5555555555555556,
                            "#d8576b"
                          ],
                          [
                            0.6666666666666666,
                            "#ed7953"
                          ],
                          [
                            0.7777777777777778,
                            "#fb9f3a"
                          ],
                          [
                            0.8888888888888888,
                            "#fdca26"
                          ],
                          [
                            1,
                            "#f0f921"
                          ]
                        ],
                        "type": "contour"
                      }
                    ],
                    "contourcarpet": [
                      {
                        "colorbar": {
                          "outlinewidth": 0,
                          "ticks": ""
                        },
                        "type": "contourcarpet"
                      }
                    ],
                    "heatmap": [
                      {
                        "colorbar": {
                          "outlinewidth": 0,
                          "ticks": ""
                        },
                        "colorscale": [
                          [
                            0,
                            "#0d0887"
                          ],
                          [
                            0.1111111111111111,
                            "#46039f"
                          ],
                          [
                            0.2222222222222222,
                            "#7201a8"
                          ],
                          [
                            0.3333333333333333,
                            "#9c179e"
                          ],
                          [
                            0.4444444444444444,
                            "#bd3786"
                          ],
                          [
                            0.5555555555555556,
                            "#d8576b"
                          ],
                          [
                            0.6666666666666666,
                            "#ed7953"
                          ],
                          [
                            0.7777777777777778,
                            "#fb9f3a"
                          ],
                          [
                            0.8888888888888888,
                            "#fdca26"
                          ],
                          [
                            1,
                            "#f0f921"
                          ]
                        ],
                        "type": "heatmap"
                      }
                    ],
                    "heatmapgl": [
                      {
                        "colorbar": {
                          "outlinewidth": 0,
                          "ticks": ""
                        },
                        "colorscale": [
                          [
                            0,
                            "#0d0887"
                          ],
                          [
                            0.1111111111111111,
                            "#46039f"
                          ],
                          [
                            0.2222222222222222,
                            "#7201a8"
                          ],
                          [
                            0.3333333333333333,
                            "#9c179e"
                          ],
                          [
                            0.4444444444444444,
                            "#bd3786"
                          ],
                          [
                            0.5555555555555556,
                            "#d8576b"
                          ],
                          [
                            0.6666666666666666,
                            "#ed7953"
                          ],
                          [
                            0.7777777777777778,
                            "#fb9f3a"
                          ],
                          [
                            0.8888888888888888,
                            "#fdca26"
                          ],
                          [
                            1,
                            "#f0f921"
                          ]
                        ],
                        "type": "heatmapgl"
                      }
                    ],
                    "histogram": [
                      {
                        "marker": {
                          "pattern": {
                            "fillmode": "overlay",
                            "size": 10,
                            "solidity": 0.2
                          }
                        },
                        "type": "histogram"
                      }
                    ],
                    "histogram2d": [
                      {
                        "colorbar": {
                          "outlinewidth": 0,
                          "ticks": ""
                        },
                        "colorscale": [
                          [
                            0,
                            "#0d0887"
                          ],
                          [
                            0.1111111111111111,
                            "#46039f"
                          ],
                          [
                            0.2222222222222222,
                            "#7201a8"
                          ],
                          [
                            0.3333333333333333,
                            "#9c179e"
                          ],
                          [
                            0.4444444444444444,
                            "#bd3786"
                          ],
                          [
                            0.5555555555555556,
                            "#d8576b"
                          ],
                          [
                            0.6666666666666666,
                            "#ed7953"
                          ],
                          [
                            0.7777777777777778,
                            "#fb9f3a"
                          ],
                          [
                            0.8888888888888888,
                            "#fdca26"
                          ],
                          [
                            1,
                            "#f0f921"
                          ]
                        ],
                        "type": "histogram2d"
                      }
                    ],
                    "histogram2dcontour": [
                      {
                        "colorbar": {
                          "outlinewidth": 0,
                          "ticks": ""
                        },
                        "colorscale": [
                          [
                            0,
                            "#0d0887"
                          ],
                          [
                            0.1111111111111111,
                            "#46039f"
                          ],
                          [
                            0.2222222222222222,
                            "#7201a8"
                          ],
                          [
                            0.3333333333333333,
                            "#9c179e"
                          ],
                          [
                            0.4444444444444444,
                            "#bd3786"
                          ],
                          [
                            0.5555555555555556,
                            "#d8576b"
                          ],
                          [
                            0.6666666666666666,
                            "#ed7953"
                          ],
                          [
                            0.7777777777777778,
                            "#fb9f3a"
                          ],
                          [
                            0.8888888888888888,
                            "#fdca26"
                          ],
                          [
                            1,
                            "#f0f921"
                          ]
                        ],
                        "type": "histogram2dcontour"
                      }
                    ],
                    "mesh3d": [
                      {
                        "colorbar": {
                          "outlinewidth": 0,
                          "ticks": ""
                        },
                        "type": "mesh3d"
                      }
                    ],
                    "parcoords": [
                      {
                        "line": {
                          "colorbar": {
                            "outlinewidth": 0,
                            "ticks": ""
                          }
                        },
                        "type": "parcoords"
                      }
                    ],
                    "pie": [
                      {
                        "automargin": true,
                        "type": "pie"
                      }
                    ],
                    "scatter": [
                      {
                        "fillpattern": {
                          "fillmode": "overlay",
                          "size": 10,
                          "solidity": 0.2
                        },
                        "type": "scatter"
                      }
                    ],
                    "scatter3d": [
                      {
                        "line": {
                          "colorbar": {
                            "outlinewidth": 0,
                            "ticks": ""
                          }
                        },
                        "marker": {
                          "colorbar": {
                            "outlinewidth": 0,
                            "ticks": ""
                          }
                        },
                        "type": "scatter3d"
                      }
                    ],
                    "scattercarpet": [
                      {
                        "marker": {
                          "colorbar": {
                            "outlinewidth": 0,
                            "ticks": ""
                          }
                        },
                        "type": "scattercarpet"
                      }
                    ],
                    "scattergeo": [
                      {
                        "marker": {
                          "colorbar": {
                            "outlinewidth": 0,
                            "ticks": ""
                          }
                        },
                        "type": "scattergeo"
                      }
                    ],
                    "scattergl": [
                      {
                        "marker": {
                          "colorbar": {
                            "outlinewidth": 0,
                            "ticks": ""
                          }
                        },
                        "type": "scattergl"
                      }
                    ],
                    "scattermapbox": [
                      {
                        "marker": {
                          "colorbar": {
                            "outlinewidth": 0,
                            "ticks": ""
                          }
                        },
                        "type": "scattermapbox"
                      }
                    ],
                    "scatterpolar": [
                      {
                        "marker": {
                          "colorbar": {
                            "outlinewidth": 0,
                            "ticks": ""
                          }
                        },
                        "type": "scatterpolar"
                      }
                    ],
                    "scatterpolargl": [
                      {
                        "marker": {
                          "colorbar": {
                            "outlinewidth": 0,
                            "ticks": ""
                          }
                        },
                        "type": "scatterpolargl"
                      }
                    ],
                    "scatterternary": [
                      {
                        "marker": {
                          "colorbar": {
                            "outlinewidth": 0,
                            "ticks": ""
                          }
                        },
                        "type": "scatterternary"
                      }
                    ],
                    "surface": [
                      {
                        "colorbar": {
                          "outlinewidth": 0,
                          "ticks": ""
                        },
                        "colorscale": [
                          [
                            0,
                            "#0d0887"
                          ],
                          [
                            0.1111111111111111,
                            "#46039f"
                          ],
                          [
                            0.2222222222222222,
                            "#7201a8"
                          ],
                          [
                            0.3333333333333333,
                            "#9c179e"
                          ],
                          [
                            0.4444444444444444,
                            "#bd3786"
                          ],
                          [
                            0.5555555555555556,
                            "#d8576b"
                          ],
                          [
                            0.6666666666666666,
                            "#ed7953"
                          ],
                          [
                            0.7777777777777778,
                            "#fb9f3a"
                          ],
                          [
                            0.8888888888888888,
                            "#fdca26"
                          ],
                          [
                            1,
                            "#f0f921"
                          ]
                        ],
                        "type": "surface"
                      }
                    ],
                    "table": [
                      {
                        "cells": {
                          "fill": {
                            "color": "#EBF0F8"
                          },
                          "line": {
                            "color": "white"
                          }
                        },
                        "header": {
                          "fill": {
                            "color": "#C8D4E3"
                          },
                          "line": {
                            "color": "white"
                          }
                        },
                        "type": "table"
                      }
                    ]
                  },
                  "layout": {
                    "annotationdefaults": {
                      "arrowcolor": "#2a3f5f",
                      "arrowhead": 0,
                      "arrowwidth": 1
                    },
                    "autotypenumbers": "strict",
                    "coloraxis": {
                      "colorbar": {
                        "outlinewidth": 0,
                        "ticks": ""
                      }
                    },
                    "colorscale": {
                      "diverging": [
                        [
                          0,
                          "#8e0152"
                        ],
                        [
                          0.1,
                          "#c51b7d"
                        ],
                        [
                          0.2,
                          "#de77ae"
                        ],
                        [
                          0.3,
                          "#f1b6da"
                        ],
                        [
                          0.4,
                          "#fde0ef"
                        ],
                        [
                          0.5,
                          "#f7f7f7"
                        ],
                        [
                          0.6,
                          "#e6f5d0"
                        ],
                        [
                          0.7,
                          "#b8e186"
                        ],
                        [
                          0.8,
                          "#7fbc41"
                        ],
                        [
                          0.9,
                          "#4d9221"
                        ],
                        [
                          1,
                          "#276419"
                        ]
                      ],
                      "sequential": [
                        [
                          0,
                          "#0d0887"
                        ],
                        [
                          0.1111111111111111,
                          "#46039f"
                        ],
                        [
                          0.2222222222222222,
                          "#7201a8"
                        ],
                        [
                          0.3333333333333333,
                          "#9c179e"
                        ],
                        [
                          0.4444444444444444,
                          "#bd3786"
                        ],
                        [
                          0.5555555555555556,
                          "#d8576b"
                        ],
                        [
                          0.6666666666666666,
                          "#ed7953"
                        ],
                        [
                          0.7777777777777778,
                          "#fb9f3a"
                        ],
                        [
                          0.8888888888888888,
                          "#fdca26"
                        ],
                        [
                          1,
                          "#f0f921"
                        ]
                      ],
                      "sequentialminus": [
                        [
                          0,
                          "#0d0887"
                        ],
                        [
                          0.1111111111111111,
                          "#46039f"
                        ],
                        [
                          0.2222222222222222,
                          "#7201a8"
                        ],
                        [
                          0.3333333333333333,
                          "#9c179e"
                        ],
                        [
                          0.4444444444444444,
                          "#bd3786"
                        ],
                        [
                          0.5555555555555556,
                          "#d8576b"
                        ],
                        [
                          0.6666666666666666,
                          "#ed7953"
                        ],
                        [
                          0.7777777777777778,
                          "#fb9f3a"
                        ],
                        [
                          0.8888888888888888,
                          "#fdca26"
                        ],
                        [
                          1,
                          "#f0f921"
                        ]
                      ]
                    },
                    "colorway": [
                      "#636efa",
                      "#EF553B",
                      "#00cc96",
                      "#ab63fa",
                      "#FFA15A",
                      "#19d3f3",
                      "#FF6692",
                      "#B6E880",
                      "#FF97FF",
                      "#FECB52"
                    ],
                    "font": {
                      "color": "#2a3f5f"
                    },
                    "geo": {
                      "bgcolor": "white",
                      "lakecolor": "white",
                      "landcolor": "#E5ECF6",
                      "showlakes": true,
                      "showland": true,
                      "subunitcolor": "white"
                    },
                    "hoverlabel": {
                      "align": "left"
                    },
                    "hovermode": "closest",
                    "mapbox": {
                      "style": "light"
                    },
                    "paper_bgcolor": "white",
                    "plot_bgcolor": "#E5ECF6",
                    "polar": {
                      "angularaxis": {
                        "gridcolor": "white",
                        "linecolor": "white",
                        "ticks": ""
                      },
                      "bgcolor": "#E5ECF6",
                      "radialaxis": {
                        "gridcolor": "white",
                        "linecolor": "white",
                        "ticks": ""
                      }
                    },
                    "scene": {
                      "xaxis": {
                        "backgroundcolor": "#E5ECF6",
                        "gridcolor": "white",
                        "gridwidth": 2,
                        "linecolor": "white",
                        "showbackground": true,
                        "ticks": "",
                        "zerolinecolor": "white"
                      },
                      "yaxis": {
                        "backgroundcolor": "#E5ECF6",
                        "gridcolor": "white",
                        "gridwidth": 2,
                        "linecolor": "white",
                        "showbackground": true,
                        "ticks": "",
                        "zerolinecolor": "white"
                      },
                      "zaxis": {
                        "backgroundcolor": "#E5ECF6",
                        "gridcolor": "white",
                        "gridwidth": 2,
                        "linecolor": "white",
                        "showbackground": true,
                        "ticks": "",
                        "zerolinecolor": "white"
                      }
                    },
                    "shapedefaults": {
                      "line": {
                        "color": "#2a3f5f"
                      }
                    },
                    "ternary": {
                      "aaxis": {
                        "gridcolor": "white",
                        "linecolor": "white",
                        "ticks": ""
                      },
                      "baxis": {
                        "gridcolor": "white",
                        "linecolor": "white",
                        "ticks": ""
                      },
                      "bgcolor": "#E5ECF6",
                      "caxis": {
                        "gridcolor": "white",
                        "linecolor": "white",
                        "ticks": ""
                      }
                    },
                    "title": {
                      "x": 0.05
                    },
                    "xaxis": {
                      "automargin": true,
                      "gridcolor": "white",
                      "linecolor": "white",
                      "ticks": "",
                      "title": {
                        "standoff": 15
                      },
                      "zerolinecolor": "white",
                      "zerolinewidth": 2
                    },
                    "yaxis": {
                      "automargin": true,
                      "gridcolor": "white",
                      "linecolor": "white",
                      "ticks": "",
                      "title": {
                        "standoff": 15
                      },
                      "zerolinecolor": "white",
                      "zerolinewidth": 2
                    }
                  }
                },
                "title": {
                  "text": "f(x)"
                },
                "xaxis": {
                  "anchor": "y",
                  "domain": [
                    0,
                    1
                  ],
                  "title": {
                    "text": "x"
                  }
                },
                "yaxis": {
                  "anchor": "x",
                  "domain": [
                    0,
                    1
                  ],
                  "title": {
                    "text": "y"
                  }
                }
              }
            }
          },
          "metadata": {},
          "output_type": "display_data"
        }
      ],
      "source": [
        "import plotly.express as px\n",
        "\n",
        "fig = px.line(x=xi, y=yi, title='f(x)')\n",
        "fig.show()\n"
      ]
    },
    {
      "cell_type": "code",
      "execution_count": 60,
      "metadata": {},
      "outputs": [
        {
          "data": {
            "application/vnd.plotly.v1+json": {
              "config": {
                "plotlyServerURL": "https://plot.ly"
              },
              "data": [
                {
                  "hovertemplate": "x=%{x}<br>y=%{y}<extra></extra>",
                  "legendgroup": "",
                  "line": {
                    "color": "#636efa",
                    "dash": "solid"
                  },
                  "marker": {
                    "symbol": "circle"
                  },
                  "mode": "lines",
                  "name": "",
                  "showlegend": false,
                  "type": "scattergl",
                  "x": [
                    0.1267106549364614,
                    0.12756598240469208,
                    0.12842130987292277,
                    0.12927663734115347,
                    0.13013196480938416,
                    0.13098729227761485,
                    0.13184261974584555,
                    0.13269794721407624,
                    0.13355327468230693,
                    0.13440860215053763,
                    0.13526392961876832,
                    0.136119257086999,
                    0.1369745845552297,
                    0.1378299120234604,
                    0.1386852394916911,
                    0.13954056695992179,
                    0.14039589442815248,
                    0.14125122189638317,
                    0.14210654936461387,
                    0.1429618768328446,
                    0.14381720430107528,
                    0.14467253176930597,
                    0.14552785923753667,
                    0.14638318670576736,
                    0.14723851417399805,
                    0.14809384164222875,
                    0.14894916911045944,
                    0.14980449657869013,
                    0.15065982404692083,
                    0.15151515151515152,
                    0.1523704789833822,
                    0.1532258064516129,
                    0.1540811339198436,
                    0.1549364613880743,
                    0.15579178885630499,
                    0.15664711632453568,
                    0.15750244379276637,
                    0.15835777126099707,
                    0.15921309872922776,
                    0.16006842619745845,
                    0.16092375366568915,
                    0.16177908113391984,
                    0.16263440860215053,
                    0.16348973607038123,
                    0.16434506353861192,
                    0.1652003910068426,
                    0.1660557184750733,
                    0.166911045943304,
                    0.1677663734115347,
                    0.1686217008797654,
                    0.1694770283479961,
                    0.1703323558162268,
                    0.1711876832844575,
                    0.17204301075268819,
                    0.17289833822091888,
                    0.17375366568914957,
                    0.17460899315738027,
                    0.17546432062561096,
                    0.17631964809384165,
                    0.17717497556207235,
                    0.17803030303030304,
                    0.17888563049853373,
                    0.17974095796676443,
                    0.18059628543499512,
                    0.1814516129032258,
                    0.1823069403714565,
                    0.1831622678396872,
                    0.1840175953079179,
                    0.18487292277614858,
                    0.18572825024437928,
                    0.18658357771260997,
                    0.18743890518084066,
                    0.18829423264907136,
                    0.18914956011730205,
                    0.19000488758553274,
                    0.19086021505376344,
                    0.19171554252199413,
                    0.19257086999022482,
                    0.19342619745845552,
                    0.1942815249266862,
                    0.1951368523949169,
                    0.1959921798631476,
                    0.1968475073313783,
                    0.19770283479960898,
                    0.19855816226783968,
                    0.19941348973607037,
                    0.20026881720430106,
                    0.20112414467253176,
                    0.20197947214076245,
                    0.20283479960899314,
                    0.20369012707722384,
                    0.20454545454545453,
                    0.20540078201368522,
                    0.20625610948191592,
                    0.2071114369501466,
                    0.2079667644183773,
                    0.208822091886608,
                    0.2096774193548387,
                    0.21053274682306938,
                    0.2113880742913001,
                    0.2122434017595308,
                    0.2130987292277615,
                    0.21395405669599218,
                    0.21480938416422288,
                    0.21566471163245357,
                    0.21652003910068426,
                    0.21737536656891496,
                    0.21823069403714565,
                    0.21908602150537634,
                    0.21994134897360704,
                    0.22079667644183773,
                    0.22165200391006842,
                    0.22250733137829912,
                    0.2233626588465298,
                    0.2242179863147605,
                    0.2250733137829912,
                    0.2259286412512219,
                    0.2267839687194526,
                    0.2276392961876833,
                    0.228494623655914,
                    0.2293499511241447,
                    0.23020527859237538,
                    0.23106060606060608,
                    0.23191593352883677,
                    0.23277126099706746,
                    0.23362658846529816,
                    0.23448191593352885,
                    0.23533724340175954,
                    0.23619257086999024,
                    0.23704789833822093,
                    0.23790322580645162,
                    0.23875855327468232,
                    0.239613880742913,
                    0.2404692082111437,
                    0.2413245356793744,
                    0.2421798631476051,
                    0.24303519061583578,
                    0.24389051808406648,
                    0.24474584555229717,
                    0.24560117302052786,
                    0.24645650048875856,
                    0.24731182795698925,
                    0.24816715542521994,
                    0.24902248289345064,
                    0.24987781036168133,
                    0.250733137829912,
                    0.2515884652981427,
                    0.2524437927663734,
                    0.2532991202346041,
                    0.2541544477028348,
                    0.2550097751710655,
                    0.2558651026392962,
                    0.2567204301075269,
                    0.25757575757575757,
                    0.25843108504398826,
                    0.25928641251221896,
                    0.26014173998044965,
                    0.26099706744868034,
                    0.26185239491691104,
                    0.26270772238514173,
                    0.2635630498533724,
                    0.2644183773216031,
                    0.2652737047898338,
                    0.2661290322580645,
                    0.2669843597262952,
                    0.2678396871945259,
                    0.2686950146627566,
                    0.2695503421309873,
                    0.27040566959921797,
                    0.27126099706744866,
                    0.27211632453567935,
                    0.27297165200391005,
                    0.27382697947214074,
                    0.27468230694037143,
                    0.27553763440860213,
                    0.2763929618768328,
                    0.2772482893450635,
                    0.2781036168132942,
                    0.2789589442815249,
                    0.2798142717497556,
                    0.2806695992179863,
                    0.281524926686217,
                    0.2823802541544477,
                    0.28323558162267837,
                    0.28409090909090906,
                    0.28494623655913975,
                    0.28580156402737045,
                    0.28665689149560114,
                    0.28751221896383183,
                    0.2883675464320625,
                    0.2892228739002932,
                    0.2900782013685239,
                    0.2909335288367546,
                    0.2917888563049853,
                    0.292644183773216,
                    0.2934995112414467,
                    0.2943548387096774,
                    0.2952101661779081,
                    0.29606549364613877,
                    0.29692082111436946,
                    0.2977761485826002,
                    0.2986314760508309,
                    0.2994868035190616,
                    0.3003421309872923,
                    0.301197458455523,
                    0.3020527859237537,
                    0.30290811339198437,
                    0.30376344086021506,
                    0.30461876832844575,
                    0.30547409579667645,
                    0.30632942326490714,
                    0.30718475073313783,
                    0.30804007820136853,
                    0.3088954056695992,
                    0.3097507331378299,
                    0.3106060606060606,
                    0.3114613880742913,
                    0.312316715542522,
                    0.3131720430107527,
                    0.3140273704789834,
                    0.3148826979472141,
                    0.31573802541544477,
                    0.31659335288367546,
                    0.31744868035190615,
                    0.31830400782013685,
                    0.31915933528836754,
                    0.32001466275659823,
                    0.3208699902248289,
                    0.3217253176930596,
                    0.3225806451612903,
                    0.323435972629521,
                    0.3242913000977517,
                    0.3251466275659824,
                    0.3260019550342131,
                    0.3268572825024438,
                    0.3277126099706745,
                    0.3285679374389052,
                    0.3294232649071359,
                    0.3302785923753666,
                    0.3311339198435973,
                    0.331989247311828,
                    0.3328445747800587,
                    0.3336999022482894,
                    0.3345552297165201,
                    0.33541055718475077,
                    0.33626588465298146,
                    0.33712121212121215,
                    0.33797653958944285,
                    0.33883186705767354,
                    0.33968719452590423,
                    0.34054252199413493,
                    0.3413978494623656,
                    0.3422531769305963,
                    0.343108504398827,
                    0.3439638318670577,
                    0.3448191593352884,
                    0.3456744868035191,
                    0.3465298142717498,
                    0.3473851417399805,
                    0.34824046920821117,
                    0.34909579667644186,
                    0.34995112414467255,
                    0.35080645161290325,
                    0.35166177908113394,
                    0.35251710654936463,
                    0.3533724340175953,
                    0.354227761485826,
                    0.3550830889540567,
                    0.3559384164222874,
                    0.3567937438905181,
                    0.3576490713587488,
                    0.3585043988269795,
                    0.3593597262952102,
                    0.3602150537634409,
                    0.36107038123167157,
                    0.36192570869990226,
                    0.36278103616813295,
                    0.36363636363636365,
                    0.36449169110459434,
                    0.36534701857282503,
                    0.3662023460410557,
                    0.3670576735092864,
                    0.3679130009775171,
                    0.3687683284457478,
                    0.3696236559139785,
                    0.3704789833822092,
                    0.3713343108504399,
                    0.3721896383186706,
                    0.3730449657869013,
                    0.37390029325513197,
                    0.37475562072336266,
                    0.37561094819159335,
                    0.37646627565982405,
                    0.37732160312805474,
                    0.37817693059628543,
                    0.3790322580645161,
                    0.3798875855327468,
                    0.3807429130009775,
                    0.3815982404692082,
                    0.3824535679374389,
                    0.3833088954056696,
                    0.3841642228739003,
                    0.385019550342131,
                    0.38587487781036167,
                    0.38673020527859236,
                    0.38758553274682306,
                    0.38844086021505375,
                    0.38929618768328444,
                    0.39015151515151514,
                    0.39100684261974583,
                    0.3918621700879765,
                    0.3927174975562072,
                    0.3935728250244379,
                    0.3944281524926686,
                    0.3952834799608993,
                    0.39613880742913,
                    0.3969941348973607,
                    0.3978494623655914,
                    0.39870478983382207,
                    0.39956011730205276,
                    0.40041544477028346,
                    0.40127077223851415,
                    0.40212609970674484,
                    0.40298142717497554,
                    0.40383675464320623,
                    0.4046920821114369,
                    0.4055474095796676,
                    0.4064027370478983,
                    0.40725806451612906,
                    0.40811339198435975,
                    0.40896871945259045,
                    0.40982404692082114,
                    0.41067937438905183,
                    0.4115347018572825,
                    0.4123900293255132,
                    0.4132453567937439,
                    0.4141006842619746,
                    0.4149560117302053,
                    0.415811339198436,
                    0.4166666666666667,
                    0.4175219941348974,
                    0.41837732160312807,
                    0.41923264907135877,
                    0.42008797653958946,
                    0.42094330400782015,
                    0.42179863147605084,
                    0.42265395894428154,
                    0.42350928641251223,
                    0.4243646138807429,
                    0.4252199413489736,
                    0.4260752688172043,
                    0.426930596285435,
                    0.4277859237536657,
                    0.4286412512218964,
                    0.4294965786901271,
                    0.4303519061583578,
                    0.43120723362658847,
                    0.43206256109481916,
                    0.43291788856304986,
                    0.43377321603128055,
                    0.43462854349951124,
                    0.43548387096774194,
                    0.43633919843597263,
                    0.4371945259042033,
                    0.438049853372434,
                    0.4389051808406647,
                    0.4397605083088954,
                    0.4406158357771261,
                    0.4414711632453568,
                    0.4423264907135875,
                    0.4431818181818182,
                    0.44403714565004887,
                    0.44489247311827956,
                    0.44574780058651026,
                    0.44660312805474095,
                    0.44745845552297164,
                    0.44831378299120234,
                    0.44916911045943303,
                    0.4500244379276637,
                    0.4508797653958944,
                    0.4517350928641251,
                    0.4525904203323558,
                    0.4534457478005865,
                    0.4543010752688172,
                    0.4551564027370479,
                    0.4560117302052786,
                    0.45686705767350927,
                    0.45772238514173996,
                    0.45857771260997066,
                    0.45943304007820135,
                    0.46028836754643204,
                    0.46114369501466274,
                    0.46199902248289343,
                    0.4628543499511241,
                    0.4637096774193548,
                    0.4645650048875855,
                    0.4654203323558162,
                    0.4662756598240469,
                    0.4671309872922776,
                    0.4679863147605083,
                    0.468841642228739,
                    0.4696969696969697,
                    0.4705522971652004,
                    0.4714076246334311,
                    0.4722629521016618,
                    0.4731182795698925,
                    0.4739736070381232,
                    0.4748289345063539,
                    0.4756842619745846,
                    0.47653958944281527,
                    0.47739491691104596,
                    0.47825024437927666,
                    0.47910557184750735,
                    0.47996089931573804,
                    0.48081622678396874,
                    0.48167155425219943,
                    0.4825268817204301,
                    0.4833822091886608,
                    0.4842375366568915,
                    0.4850928641251222,
                    0.4859481915933529,
                    0.4868035190615836,
                    0.4876588465298143,
                    0.488514173998045,
                    0.48936950146627567,
                    0.49022482893450636,
                    0.49108015640273706,
                    0.49193548387096775,
                    0.49279081133919844,
                    0.49364613880742914,
                    0.49450146627565983,
                    0.4953567937438905,
                    0.4962121212121212,
                    0.4970674486803519,
                    0.4979227761485826,
                    0.4987781036168133,
                    0.499633431085044,
                    0.5004887585532747,
                    0.5013440860215054,
                    0.5021994134897361,
                    0.5030547409579668,
                    0.5039100684261975,
                    0.5047653958944281,
                    0.5056207233626588,
                    0.5064760508308895,
                    0.5073313782991202,
                    0.5081867057673509,
                    0.5090420332355816,
                    0.5098973607038123,
                    0.510752688172043,
                    0.5116080156402737,
                    0.5124633431085044,
                    0.5133186705767351,
                    0.5141739980449658,
                    0.5150293255131965,
                    0.5158846529814272,
                    0.5167399804496579,
                    0.5175953079178885,
                    0.5184506353861192,
                    0.5193059628543499,
                    0.5201612903225806,
                    0.5210166177908113,
                    0.521871945259042,
                    0.5227272727272727,
                    0.5235826001955034,
                    0.5244379276637341,
                    0.5252932551319648,
                    0.5261485826001955,
                    0.5270039100684262,
                    0.5278592375366569,
                    0.5287145650048876,
                    0.5295698924731183,
                    0.530425219941349,
                    0.5312805474095796,
                    0.5321358748778104,
                    0.532991202346041,
                    0.5338465298142718,
                    0.5347018572825024,
                    0.5355571847507332,
                    0.5364125122189638,
                    0.5372678396871946,
                    0.5381231671554252,
                    0.538978494623656,
                    0.5398338220918866,
                    0.5406891495601174,
                    0.541544477028348,
                    0.5423998044965788,
                    0.5432551319648093,
                    0.5441104594330402,
                    0.5449657869012707,
                    0.5458211143695015,
                    0.5466764418377321,
                    0.5475317693059629,
                    0.5483870967741935,
                    0.5492424242424243,
                    0.5500977517106549,
                    0.5509530791788857,
                    0.5518084066471163,
                    0.5526637341153471,
                    0.5535190615835777,
                    0.5543743890518085,
                    0.555229716520039,
                    0.5560850439882699,
                    0.5569403714565004,
                    0.5577956989247312,
                    0.5586510263929618,
                    0.5595063538611926,
                    0.5603616813294232,
                    0.561217008797654,
                    0.5620723362658846,
                    0.5629276637341154,
                    0.563782991202346,
                    0.5646383186705768,
                    0.5654936461388074,
                    0.5663489736070382,
                    0.5672043010752688,
                    0.5680596285434996,
                    0.5689149560117301,
                    0.569770283479961,
                    0.5706256109481915,
                    0.5714809384164223,
                    0.5723362658846529,
                    0.5731915933528837,
                    0.5740469208211143,
                    0.5749022482893451,
                    0.5757575757575757,
                    0.5766129032258065,
                    0.5774682306940371,
                    0.5783235581622679,
                    0.5791788856304985,
                    0.5800342130987293,
                    0.5808895405669598,
                    0.5817448680351907,
                    0.5826001955034212,
                    0.583455522971652,
                    0.5843108504398826,
                    0.5851661779081134,
                    0.586021505376344,
                    0.5868768328445748,
                    0.5877321603128054,
                    0.5885874877810362,
                    0.5894428152492668,
                    0.5902981427174976,
                    0.5911534701857282,
                    0.592008797653959,
                    0.5928641251221896,
                    0.5937194525904204,
                    0.594574780058651,
                    0.5954301075268817,
                    0.5962854349951124,
                    0.5971407624633431,
                    0.5979960899315738,
                    0.5988514173998045,
                    0.5997067448680352,
                    0.6005620723362659,
                    0.6014173998044966,
                    0.6022727272727273,
                    0.603128054740958,
                    0.6039833822091887,
                    0.6048387096774194,
                    0.6056940371456501,
                    0.6065493646138808,
                    0.6074046920821115,
                    0.6082600195503421,
                    0.6091153470185728,
                    0.6099706744868035,
                    0.6108260019550342,
                    0.6116813294232649,
                    0.6125366568914956,
                    0.6133919843597263,
                    0.614247311827957,
                    0.6151026392961877,
                    0.6159579667644184,
                    0.6168132942326491,
                    0.6176686217008798,
                    0.6185239491691105,
                    0.6193792766373412,
                    0.6202346041055719,
                    0.6210899315738025,
                    0.6219452590420332,
                    0.6228005865102639,
                    0.6236559139784946,
                    0.6245112414467253,
                    0.625366568914956,
                    0.6262218963831867,
                    0.6270772238514174,
                    0.6279325513196481,
                    0.6287878787878788,
                    0.6296432062561095,
                    0.6304985337243402,
                    0.6313538611925709,
                    0.6322091886608016,
                    0.6330645161290323,
                    0.6339198435972629,
                    0.6347751710654936,
                    0.6356304985337243,
                    0.636485826001955,
                    0.6373411534701857,
                    0.6381964809384164,
                    0.6390518084066471,
                    0.6399071358748778,
                    0.6407624633431085,
                    0.6416177908113392,
                    0.6424731182795699,
                    0.6433284457478006,
                    0.6441837732160313,
                    0.645039100684262,
                    0.6458944281524927,
                    0.6467497556207233,
                    0.647605083088954,
                    0.6484604105571847,
                    0.6493157380254154,
                    0.6501710654936461,
                    0.6510263929618768,
                    0.6518817204301075,
                    0.6527370478983382,
                    0.6535923753665689,
                    0.6544477028347996,
                    0.6553030303030303,
                    0.656158357771261,
                    0.6570136852394917,
                    0.6578690127077224,
                    0.658724340175953,
                    0.6595796676441837,
                    0.6604349951124144,
                    0.6612903225806451,
                    0.6621456500488758,
                    0.6630009775171065,
                    0.6638563049853372,
                    0.6647116324535679,
                    0.6655669599217986,
                    0.6664222873900293,
                    0.66727761485826,
                    0.6681329423264907,
                    0.6689882697947214,
                    0.6698435972629521,
                    0.6706989247311828,
                    0.6715542521994134,
                    0.6724095796676441,
                    0.6732649071358748,
                    0.6741202346041055,
                    0.6749755620723362,
                    0.6758308895405669,
                    0.6766862170087976,
                    0.6775415444770283,
                    0.678396871945259,
                    0.6792521994134897,
                    0.6801075268817204,
                    0.6809628543499511,
                    0.6818181818181818,
                    0.6826735092864125,
                    0.6835288367546432,
                    0.6843841642228738,
                    0.6852394916911045,
                    0.6860948191593352,
                    0.6869501466275659,
                    0.6878054740957966,
                    0.6886608015640274,
                    0.6895161290322581,
                    0.6903714565004888,
                    0.6912267839687195,
                    0.6920821114369502,
                    0.6929374389051809,
                    0.6937927663734116,
                    0.6946480938416423,
                    0.695503421309873,
                    0.6963587487781037,
                    0.6972140762463344,
                    0.698069403714565,
                    0.6989247311827957,
                    0.6997800586510264,
                    0.7006353861192571,
                    0.7014907135874878,
                    0.7023460410557185,
                    0.7032013685239492,
                    0.7040566959921799,
                    0.7049120234604106,
                    0.7057673509286413,
                    0.706622678396872,
                    0.7074780058651027,
                    0.7083333333333334,
                    0.7091886608015641,
                    0.7100439882697948,
                    0.7108993157380255,
                    0.7117546432062561,
                    0.7126099706744868,
                    0.7134652981427175,
                    0.7143206256109482,
                    0.7151759530791789,
                    0.7160312805474096,
                    0.7168866080156403,
                    0.717741935483871,
                    0.7185972629521017,
                    0.7194525904203324,
                    0.7203079178885631,
                    0.7211632453567938,
                    0.7220185728250245,
                    0.7228739002932552,
                    0.7237292277614858,
                    0.7245845552297165,
                    0.7254398826979472,
                    0.7262952101661779,
                    0.7271505376344086,
                    0.7280058651026393,
                    0.72886119257087,
                    0.7297165200391007,
                    0.7305718475073314,
                    0.7314271749755621,
                    0.7322825024437928,
                    0.7331378299120235,
                    0.7339931573802542,
                    0.7348484848484849,
                    0.7357038123167156,
                    0.7365591397849462,
                    0.7374144672531769,
                    0.7382697947214076,
                    0.7391251221896383,
                    0.739980449657869,
                    0.7408357771260997,
                    0.7416911045943304,
                    0.7425464320625611,
                    0.7434017595307918,
                    0.7442570869990225,
                    0.7451124144672532,
                    0.7459677419354839,
                    0.7468230694037146,
                    0.7476783968719453,
                    0.748533724340176,
                    0.7493890518084066,
                    0.7502443792766373,
                    0.751099706744868,
                    0.7519550342130987,
                    0.7528103616813294,
                    0.7536656891495601,
                    0.7545210166177908,
                    0.7553763440860215,
                    0.7562316715542522,
                    0.7570869990224829,
                    0.7579423264907136,
                    0.7587976539589443,
                    0.759652981427175,
                    0.7605083088954057,
                    0.7613636363636364,
                    0.762218963831867,
                    0.7630742913000977,
                    0.7639296187683284,
                    0.7647849462365591,
                    0.7656402737047898,
                    0.7664956011730205,
                    0.7673509286412512,
                    0.7682062561094819,
                    0.7690615835777126,
                    0.7699169110459433,
                    0.770772238514174,
                    0.7716275659824047,
                    0.7724828934506354,
                    0.7733382209188661,
                    0.7741935483870968,
                    0.7750488758553274,
                    0.7759042033235581,
                    0.7767595307917888,
                    0.7776148582600195,
                    0.7784701857282502,
                    0.7793255131964809,
                    0.7801808406647116,
                    0.7810361681329423,
                    0.781891495601173,
                    0.7827468230694037,
                    0.7836021505376344,
                    0.7844574780058651,
                    0.7853128054740958,
                    0.7861681329423265,
                    0.7870234604105572,
                    0.7878787878787878,
                    0.7887341153470185,
                    0.7895894428152492,
                    0.7904447702834799,
                    0.7913000977517106,
                    0.7921554252199413,
                    0.793010752688172,
                    0.7938660801564027,
                    0.7947214076246334,
                    0.7955767350928641,
                    0.7964320625610948,
                    0.7972873900293255,
                    0.7981427174975562,
                    0.7989980449657869,
                    0.7998533724340176,
                    0.8007086999022482,
                    0.8015640273704789,
                    0.8024193548387096,
                    0.8032746823069403,
                    0.804130009775171,
                    0.8049853372434017,
                    0.8058406647116324,
                    0.8066959921798631,
                    0.8075513196480938,
                    0.8084066471163245,
                    0.8092619745845552,
                    0.8101173020527859,
                    0.8109726295210166,
                    0.8118279569892473,
                    0.812683284457478,
                    0.8135386119257088,
                    0.8143939393939394,
                    0.8152492668621701,
                    0.8161045943304008,
                    0.8169599217986315,
                    0.8178152492668622,
                    0.8186705767350929,
                    0.8195259042033236,
                    0.8203812316715543,
                    0.821236559139785,
                    0.8220918866080157,
                    0.8229472140762464,
                    0.8238025415444771,
                    0.8246578690127078,
                    0.8255131964809385,
                    0.8263685239491692,
                    0.8272238514173998,
                    0.8280791788856305,
                    0.8289345063538612,
                    0.8297898338220919,
                    0.8306451612903226,
                    0.8315004887585533,
                    0.832355816226784,
                    0.8332111436950147,
                    0.8340664711632454,
                    0.8349217986314761,
                    0.8357771260997068,
                    0.8366324535679375,
                    0.8374877810361682,
                    0.8383431085043989,
                    0.8391984359726296,
                    0.8400537634408602,
                    0.8409090909090909,
                    0.8417644183773216,
                    0.8426197458455523,
                    0.843475073313783,
                    0.8443304007820137,
                    0.8451857282502444,
                    0.8460410557184751,
                    0.8468963831867058,
                    0.8477517106549365,
                    0.8486070381231672,
                    0.8494623655913979,
                    0.8503176930596286,
                    0.8511730205278593,
                    0.85202834799609,
                    0.8528836754643206,
                    0.8537390029325513,
                    0.854594330400782,
                    0.8554496578690127,
                    0.8563049853372434,
                    0.8571603128054741,
                    0.8580156402737048,
                    0.8588709677419355,
                    0.8597262952101662,
                    0.8605816226783969,
                    0.8614369501466276,
                    0.8622922776148583,
                    0.863147605083089,
                    0.8640029325513197,
                    0.8648582600195504,
                    0.865713587487781,
                    0.8665689149560117,
                    0.8674242424242424,
                    0.8682795698924731,
                    0.8691348973607038,
                    0.8699902248289345,
                    0.8708455522971652,
                    0.8717008797653959,
                    0.8725562072336266,
                    0.8734115347018573,
                    0.874266862170088,
                    0.8751221896383187,
                    0.8759775171065494,
                    0.8768328445747801,
                    0.8776881720430108,
                    0.8785434995112414,
                    0.8793988269794721,
                    0.8802541544477028,
                    0.8811094819159335,
                    0.8819648093841642,
                    0.8828201368523949,
                    0.8836754643206256,
                    0.8845307917888563,
                    0.885386119257087,
                    0.8862414467253177,
                    0.8870967741935484,
                    0.8879521016617791,
                    0.8888074291300098,
                    0.8896627565982405,
                    0.8905180840664711,
                    0.8913734115347018,
                    0.8922287390029325,
                    0.8930840664711632,
                    0.8939393939393939,
                    0.8947947214076246,
                    0.8956500488758553,
                    0.896505376344086,
                    0.8973607038123167,
                    0.8982160312805474,
                    0.8990713587487781,
                    0.8999266862170088,
                    0.9007820136852395,
                    0.9016373411534702,
                    0.9024926686217009,
                    0.9033479960899315,
                    0.9042033235581622,
                    0.9050586510263929,
                    0.9059139784946236,
                    0.9067693059628543,
                    0.907624633431085,
                    0.9084799608993157,
                    0.9093352883675464,
                    0.9101906158357771,
                    0.9110459433040078,
                    0.9119012707722385,
                    0.9127565982404692,
                    0.9136119257086999,
                    0.9144672531769306,
                    0.9153225806451613,
                    0.916177908113392,
                    0.9170332355816226,
                    0.9178885630498533,
                    0.918743890518084,
                    0.9195992179863147,
                    0.9204545454545454,
                    0.9213098729227761,
                    0.9221652003910068,
                    0.9230205278592375,
                    0.9238758553274682,
                    0.9247311827956989,
                    0.9255865102639296,
                    0.9264418377321603,
                    0.927297165200391,
                    0.9281524926686217,
                    0.9290078201368523,
                    0.929863147605083,
                    0.9307184750733137,
                    0.9315738025415444,
                    0.9324291300097751,
                    0.9332844574780058,
                    0.9341397849462365,
                    0.9349951124144672,
                    0.9358504398826979,
                    0.9367057673509286,
                    0.9375610948191593,
                    0.9384164222873901,
                    0.9392717497556208,
                    0.9401270772238515,
                    0.9409824046920822,
                    0.9418377321603129,
                    0.9426930596285436,
                    0.9435483870967742,
                    0.9444037145650049,
                    0.9452590420332356,
                    0.9461143695014663,
                    0.946969696969697,
                    0.9478250244379277,
                    0.9486803519061584,
                    0.9495356793743891,
                    0.9503910068426198,
                    0.9512463343108505,
                    0.9521016617790812,
                    0.9529569892473119,
                    0.9538123167155426,
                    0.9546676441837733,
                    0.955522971652004,
                    0.9563782991202346,
                    0.9572336265884653,
                    0.958088954056696,
                    0.9589442815249267,
                    0.9597996089931574,
                    0.9606549364613881,
                    0.9615102639296188,
                    0.9623655913978495,
                    0.9632209188660802,
                    0.9640762463343109,
                    0.9649315738025416,
                    0.9657869012707723,
                    0.966642228739003,
                    0.9674975562072337,
                    0.9683528836754643,
                    0.969208211143695,
                    0.9700635386119257,
                    0.9709188660801564,
                    0.9717741935483871,
                    0.9726295210166178,
                    0.9734848484848485,
                    0.9743401759530792,
                    0.9751955034213099,
                    0.9760508308895406,
                    0.9769061583577713,
                    0.977761485826002,
                    0.9786168132942327,
                    0.9794721407624634,
                    0.980327468230694,
                    0.9811827956989247,
                    0.9820381231671554,
                    0.9828934506353861,
                    0.9837487781036168,
                    0.9846041055718475,
                    0.9854594330400782,
                    0.9863147605083089,
                    0.9871700879765396,
                    0.9880254154447703,
                    0.988880742913001,
                    0.9897360703812317,
                    0.9905913978494624,
                    0.9914467253176931,
                    0.9923020527859238,
                    0.9931573802541545,
                    0.9940127077223851,
                    0.9948680351906158,
                    0.9957233626588465,
                    0.9965786901270772,
                    0.9974340175953079,
                    0.9982893450635386
                  ],
                  "xaxis": "x",
                  "y": [
                    2.3671451297564827,
                    -0.9156289931632576,
                    -4.066274816212471,
                    -7.081751364729591,
                    -9.95989220828072,
                    -12.699326945679744,
                    -15.299406752422765,
                    -17.760134039214297,
                    -20.082096223493053,
                    -22.266403576931168,
                    -24.31463107985336,
                    -26.2287641875353,
                    -28.01114839264044,
                    -29.664442451917726,
                    -31.191575133125813,
                    -32.59570532937667,
                    -33.8801853822287,
                    -35.048527451458476,
                    -36.104372768141154,
                    -37.05146360804465,
                    -37.89361782423873,
                    -38.63470578079223,
                    -39.278629533418524,
                    -39.82930410764348,
                    -40.290640730311566,
                    -40.66653187599027,
                    -40.960837995807864,
                    -41.17737580248371,
                    -41.31990799157836,
                    -41.39213428535202,
                    -41.397683691908455,
                    -41.34010787848708,
                    -41.22287556388216,
                    -41.04936784086493,
                    -40.822874345224584,
                    -40.54659019357509,
                    -40.223613617368606,
                    -39.856944225644504,
                    -39.44948183386604,
                    -39.004025800805024,
                    -38.52327481976568,
                    -38.00982711459093,
                    -37.46618099475338,
                    -36.8947357274711,
                    -36.297792688258944,
                    -35.67755675449508,
                    -35.03613790961603,
                    -34.37555302835056,
                    -33.697727816008594,
                    -33.00449887728861,
                    -32.297615892323606,
                    -31.57874387977698,
                    -30.849465528744695,
                    -30.111283583020363,
                    -29.36562326294071,
                    -28.613834711553853,
                    -27.857195453247265,
                    -27.096912854311768,
                    -26.334126576064897,
                    -25.569911012250287,
                    -24.805277703471862,
                    -24.041177722277382,
                    -23.278504023375145,
                    -22.518093754225767,
                    -21.76073052191568,
                    -21.00714661287962,
                    -20.258025162587703,
                    -19.51400227282357,
                    -18.77566907466349,
                    -18.04357373566638,
                    -17.31822341016298,
                    -16.600086131882467,
                    -15.88959264843411,
                    -15.187138197449688,
                    -14.493084224416329,
                    -13.807760042444762,
                    -13.131464434401982,
                    -12.464467198005604,
                    -11.807010634604225,
                    -11.159310982505195,
                    -10.52155979581062,
                    -9.893925269801889,
                    -9.276553514011455,
                    -8.669569774154592,
                    -8.073079604167932,
                    -7.48716998962839,
                    -6.911910423861384,
                    -6.347353938071498,
                    -5.793538086838062,
                    -5.250485890335211,
                    -4.71820673462865,
                    -4.196697231408067,
                    -3.6859420385002104,
                    -3.1859146424957907,
                    -2.696578104816272,
                    -2.217885772518962,
                    -1.7497819551251506,
                    -1.2922025687266,
                    -0.8450757486094063,
                    -0.40832243159962683,
                    0.01814309068818633,
                    0.43441264654874623,
                    0.8405836857086132,
                    1.2367588065818336,
                    1.6230453081986478,
                    1.999554765778196,
                    2.3664026289459468,
                    2.7237078416301657,
                    3.0715924826993595,
                    3.410181426437187,
                    3.739602021979544,
                    4.059983790868874,
                    4.3714581419117104,
                    4.67415810255251,
                    4.9682180660084025,
                    5.253773553435725,
                    5.530960990425688,
                    5.799917497156503,
                    6.0607806915530364,
                    6.3136885048310525,
                    6.558779008827338,
                    6.796190254544894,
                    7.026060121357914,
                    7.2485261763534385,
                    7.463725543301036,
                    7.671794780766698,
                    7.872869768907288,
                    8.06708560450298,
                    8.254576503796734,
                    8.435475712744731,
                    8.609915424278293,
                    8.778026702213552,
                    8.939939411454546,
                    9.09578215414015,
                    9.245682211427754,
                    9.389765490595929,
                    9.528156477165586,
                    9.66097819177544,
                    9.788352151529418,
                    9.910398335564341,
                    10.027235154604398,
                    10.138979424254028,
                    10.245746341823805,
                    10.347649466472468,
                    10.444800702465502,
                    10.537310285364919,
                    10.625286770961111,
                    10.708837026785979,
                    10.788066226036829,
                    10.86307784375673,
                    10.933973655127511,
                    11.000853735734488,
                    11.063816463668417,
                    11.122958523340053,
                    11.178374910891614,
                    11.230158941085431,
                    11.278402255568588,
                    11.323194832410403,
                    11.364624996813518,
                    11.402779432915224,
                    11.437743196582868,
                    11.469599729132256,
                    11.49843087188488,
                    11.524316881493851,
                    11.547336445972615,
                    11.567566701356137,
                    11.585083248938687,
                    11.599960173026775,
                    11.612270059157657,
                    11.622084012724216,
                    11.629471677969967,
                    11.634501257296803,
                    11.63723953084924,
                    11.637751876338157,
                    11.636102289056677,
                    11.632353402063645,
                    11.626566506494001,
                    11.618801571970437,
                    11.609117267082667,
                    11.597570979909992,
                    11.584218838565436,
                    11.569115731726367,
                    11.552315329144957,
                    11.533870102105325,
                    11.513831343814298,
                    11.49224918971038,
                    11.469172637664284,
                    11.444649568072284,
                    11.418726763810522,
                    11.391449930051182,
                    11.362863713922208,
                    11.333011723997805,
                    11.301936549620015,
                    11.269679780027122,
                    11.236282023294235,
                    11.201782925069667,
                    11.166221187104563,
                    11.129634585572171,
                    11.092059989161534,
                    11.05353337695188,
                    11.014089856055953,
                    10.973763679035256,
                    10.932588261076459,
                    10.890596196929259,
                    10.847819277608924,
                    10.804288506850702,
                    10.760034117325326,
                    10.7150855866073,
                    10.669471652898915,
                    10.623220330508424,
                    10.576358925080688,
                    10.528914048583614,
                    10.480911634048057,
                    10.432376950063999,
                    10.38333461503202,
                    10.333808611170513,
                    10.28382229828215,
                    10.233398427282136,
                    10.182559153485078,
                    10.131326049654978,
                    10.079720118820534,
                    10.027761806859639,
                    9.975471014850308,
                    9.922867111191765,
                    9.869968943503906,
                    9.816794850298194,
                    9.763362672429375,
                    9.70968976432872,
                    9.65579300501787,
                    9.601688808913378,
                    9.547393136419114,
                    9.49292150430692,
                    9.43828899589813,
                    9.383510271038272,
                    9.328599575874035,
                    9.27357075243427,
                    9.218437248012394,
                    9.163212124366476,
                    9.107908066726344,
                    9.052537392613683,
                    8.997112060484573,
                    8.941643678191479,
                    8.886143511268157,
                    8.83062249104214,
                    8.775091222577004,
                    8.719559992448092,
                    8.664038776351543,
                    8.608537246553018,
                    8.553064779177472,
                    8.497630461343578,
                    8.442243098144859,
                    8.386911219477005,
                    8.331643086723743,
                    8.276446699293233,
                    8.221329801011919,
                    8.166299886382836,
                    8.111364206702433,
                    8.056529776045368,
                    8.001803377118318,
                    7.947191566981262,
                    7.892700682646221,
                    7.838336846547992,
                    7.7841059718953005,
                    7.730013767903269,
                    7.676065744905061,
                    7.622267219352226,
                    7.568623318702329,
                    7.51513898619505,
                    7.461818985521232,
                    7.4086679053859275,
                    7.355690163967969,
                    7.302890013278317,
                    7.250271543418084,
                    7.197838686741619,
                    7.145595221921671,
                    7.093544777921906,
                    7.0416908378798055,
                    6.990036742898264,
                    6.938585695750381,
                    6.887340764498392,
                    6.836304886029271,
                    6.785480869508096,
                    6.7348713997505065,
                    6.684479040516381,
                    6.634306237728924,
                    6.584355322615286,
                    6.534628514776069,
                    6.485127925181645,
                    6.435855559097519,
                    6.386813318942887,
                    6.338003007079603,
                    6.289426328535643,
                    6.24108489366561,
                    6.192980220746259,
                    6.145113738510755,
                    6.097486788623504,
                    6.050100628096191,
                    6.002956431644202,
                    5.956055293988329,
                    5.909398232101219,
                    5.862986187398701,
                    5.816820027881469,
                    5.770900550220003,
                    5.725228481794716,
                    5.679804482683571,
                    5.634629147601352,
                    5.589703007795343,
                    5.5450265328907244,
                    5.500600132693602,
                    5.456424158948571,
                    5.412498907055724,
                    5.36882461774385,
                    5.325401478702119,
                    5.282229626173476,
                    5.239309146508626,
                    5.196640077680271,
                    5.154222410759966,
                    5.112056091362064,
                    5.070141021048812,
                    5.028477058697666,
                    4.987064021842986,
                    4.945901687977355,
                    4.904989795820766,
                    4.864328046562865,
                    4.823916105070052,
                    4.783753601063405,
                    4.743840130266056,
                    4.704175255524907,
                    4.664758507899837,
                    4.625589387727424,
                    4.58666736566068,
                    4.547991883675393,
                    4.509562356056259,
                    4.471378170358468,
                    4.433438688341405,
                    4.395743246878026,
                    4.358291158846698,
                    4.321081713993487,
                    4.284114179774687,
                    4.247387802180535,
                    4.210901806531974,
                    4.174655398261501,
                    4.138647763671768,
                    4.102878070674108,
                    4.067345469508222,
                    4.0320490934438995,
                    3.996988059463237,
                    3.962161468923555,
                    3.927568408207485,
                    3.8932079493499705,
                    3.8590791506528226,
                    3.825181057281629,
                    3.7915127018461727,
                    3.7580731049657885,
                    3.724861275820076,
                    3.691876212684005,
                    3.659116903449054,
                    3.6265823261293813,
                    3.594271449356064,
                    3.562183232855681,
                    3.5303166279175375,
                    3.4986705778470872,
                    3.467244018407213,
                    3.4360358782473956,
                    3.405045079320207,
                    3.374270537288317,
                    3.343711161917538,
                    3.313365857460409,
                    3.2832335230285956,
                    3.2533130529543532,
                    3.223603337143172,
                    3.1941032614146914,
                    3.1648117078342857,
                    3.1357275550363015,
                    3.106849678536368,
                    3.0781769510351444,
                    3.0497082427147624,
                    3.0214424215237705,
                    2.9933783534561336,
                    2.9655149028205336,
                    2.9378509325029696,
                    2.9103853042204215,
                    2.883116878766779,
                    2.856044516252854,
                    2.8291670763375354,
                    2.8024834184522143,
                    2.775992402019443,
                    2.7496928866635306,
                    2.7235837324151033,
                    2.6976637999092294,
                    2.6719319505777372,
                    2.6463870468347133,
                    2.6210279522565787,
                    2.5958535317564557,
                    2.5708626517522384,
                    2.5460541803305508,
                    2.5214269874035824,
                    2.4969799448622396,
                    2.472711926722876,
                    2.4486218092712195,
                    2.424708471199151,
                    2.4009707937363642,
                    2.3774076607814556,
                    2.354017959024444,
                    2.330800578066611,
                    2.3077544105350483,
                    2.2848783521955753,
                    2.2621713020588508,
                    2.2396321624829807,
                    2.2172598392754326,
                    2.1950532417864626,
                    2.1730112830026,
                    2.151132879634203,
                    2.1294169522020745,
                    2.1078624251180402,
                    2.0864682267647523,
                    2.0652332895699885,
                    2.044156550079355,
                    2.023236949026603,
                    2.002473431398898,
                    1.9818649465003897,
                    1.9614104480138679,
                    1.9411088940583934,
                    1.920959247245135,
                    1.900960474729191,
                    1.8811115482618033,
                    1.8614114442371386,
                    1.841859143737936,
                    1.8224536325800922,
                    1.8031939013523177,
                    1.7840789454559731,
                    1.7651077651422797,
                    1.746279365546273,
                    1.7275927567204963,
                    1.7090469536653208,
                    1.6906409763583565,
                    1.6723738497817853,
                    1.654244603947229,
                    1.6362522739199248,
                    1.6183958998406294,
                    1.600674526946333,
                    1.5830872055884955,
                    1.5656329912504847,
                    1.5483109445639944,
                    1.5311201313224265,
                    1.514059622494291,
                    1.4971284942348244,
                    1.4803258278962552,
                    1.4636507100365421,
                    1.447102232426818,
                    1.430679492058484,
                    1.4143815911478943,
                    1.398207637141061,
                    1.3821567427162498,
                    1.3662280257858412,
                    1.3504206094979523,
                    1.3347336222356154,
                    1.3191661976162472,
                    1.3037174744889455,
                    1.2883865969323574,
                    1.2731727142502018,
                    1.2580749809673106,
                    1.2430925568231919,
                    1.2282246067660925,
                    1.2134703009466803,
                    1.1988288147087207,
                    1.1842993285813639,
                    1.1698810282698215,
                    1.155573104645522,
                    1.1413747537346577,
                    1.1272851767074847,
                    1.113303579866773,
                    1.0994291746346947,
                    1.0856611775398448,
                    1.071998810203515,
                    1.0584412993264423,
                    1.0449878766729952,
                    1.0316377790561395,
                    1.0183902483225313,
                    1.005244531336022,
                    0.9921998799606335,
                    0.979255551044267,
                    0.9664108064009967,
                    0.9536649127932761,
                    0.9410171419137119,
                    0.9284667703667941,
                    0.9160130796498377,
                    0.9036553561336844,
                    0.8913928910433637,
                    0.8792249804381025,
                    0.8671509251914766,
                    0.85517003097034,
                    0.843281608214792,
                    0.8314849721173553,
                    0.8197794426008765,
                    0.8081643442980732,
                    0.7966390065293687,
                    0.7852027632810329,
                    0.7738549531837531,
                    0.7625949194894655,
                    0.7514220100497429,
                    0.7403355772924518,
                    0.7293349781998821,
                    0.7184195742849596,
                    0.7075887315689862,
                    0.6968418205579077,
                    0.6861782162191872,
                    0.6755972979586256,
                    0.6650984495963476,
                    0.654681059343622,
                    0.6443445197790104,
                    0.6340882278243005,
                    0.6239115847212059,
                    0.6138139960068779,
                    0.6037948714900542,
                    0.5938536252268292,
                    0.5839896754970632,
                    0.5742024447796654,
                    0.5644913597284735,
                    0.55485585114811,
                    0.5452953539697527,
                    0.5358093072267217,
                    0.5263971540303689,
                    0.5170583415451449,
                    0.5077923209651052,
                    0.49859854748910803,
                    0.48947648029637847,
                    0.4804255825224849,
                    0.4714453212347309,
                    0.46253516740829326,
                    0.45369459590113836,
                    0.44492308543053866,
                    0.43622011854868104,
                    0.42758518161828596,
                    0.4190177647883562,
                    0.4105173619701962,
                    0.4020834708134963,
                    0.3937155926820165,
                    0.38541323262968163,
                    0.3771758993767196,
                    0.3690031052853343,
                    0.3608943663369153,
                    0.3528492021072776,
                    0.3448671357429842,
                    0.33694769393829566,
                    0.3290904069112757,
                    0.3212948083802865,
                    0.3135604355403649,
                    0.3058868290404966,
                    0.29827353295950526,
                    0.2907200947834892,
                    0.28322606538234885,
                    0.2757909989866929,
                    0.26841445316532886,
                    0.2610959888020827,
                    0.253835170072943,
                    0.2466315644233134,
                    0.23948474254589244,
                    0.23239427835768783,
                    0.225359748977734,
                    0.21838073470493946,
                    0.21145681899541485,
                    0.2045875884409152,
                    0.1977726327463952,
                    0.19101154470829992,
                    0.18430392019292058,
                    0.17764935811400387,
                    0.1710474604117674,
                    0.16449783203114743,
                    0.15800008090042464,
                    0.15155381790995878,
                    0.14515865689098756,
                    0.138814214594253,
                    0.13252011066957917,
                    0.12627596764423896,
                    0.1200814109032241,
                    0.11393606866754696,
                    0.10783957197422946,
                    0.10179155465594598,
                    0.09579165332037426,
                    0.0898395073303249,
                    0.0839347587831681,
                    0.07807705249155804,
                    0.07226603596284874,
                    0.0665013593797861,
                    0.060782675580626784,
                    0.05510964003991681,
                    0.04948191084844815,
                    0.04389914869475128,
                    0.03836101684536545,
                    0.032867181125920145,
                    0.027417309902184217,
                    0.022011074061093282,
                    0.01664814699212328,
                    0.011328204569161626,
                    0.0060509251306909324,
                    0.0008159894626444642,
                    -0.004376919219884974,
                    -0.009528115291931294,
                    -0.014637910735594138,
                    -0.019706615158340823,
                    -0.024734535811178467,
                    -0.029721977605452376,
                    -0.03466924313129944,
                    -0.039576632674976533,
                    -0.04444444423597261,
                    -0.04927297354423979,
                    -0.05406251407761912,
                    -0.058813357078357734,
                    -0.06352579157078345,
                    -0.06820010437760554,
                    -0.07283658013651853,
                    -0.07743550131671927,
                    -0.08199714823626784,
                    -0.08652179907726348,
                    -0.09100972990243746,
                    -0.09546121467185405,
                    -0.09987652525851923,
                    -0.10425593146390259,
                    -0.10859970103429235,
                    -0.11290809967647952,
                    -0.11718139107311781,
                    -0.12141983689818064,
                    -0.1256236968324292,
                    -0.12979322857891265,
                    -0.13392868787740878,
                    -0.1380303285204974,
                    -0.1420984023676439,
                    -0.14613315936041832,
                    -0.15013484753688175,
                    -0.154103713047119,
                    -0.1580400001666948,
                    -0.1619439513115051,
                    -0.16581580705223897,
                    -0.16965580612833245,
                    -0.17346418546249517,
                    -0.17724118017409082,
                    -0.1809870235937614,
                    -0.18470194727647207,
                    -0.1883861810156704,
                    -0.19203995285723996,
                    -0.195663489112264,
                    -0.19925701437076276,
                    -0.2028207515152794,
                    -0.20635492173345962,
                    -0.20985974453180006,
                    -0.21333543774850913,
                    -0.21678221756626015,
                    -0.2202002985249874,
                    -0.22358989353466088,
                    -0.22695121388830947,
                    -0.23028446927397353,
                    -0.23358986778765262,
                    -0.23686761594535521,
                    -0.24011791869530005,
                    -0.24334097943063665,
                    -0.2465370000007379,
                    -0.24970618072362863,
                    -0.2528487203984356,
                    -0.2559648163157715,
                    -0.2590546642709533,
                    -0.2621184585746563,
                    -0.2651563920648888,
                    -0.2681686561183274,
                    -0.2711554406618267,
                    -0.27411693418353833,
                    -0.27705332374409597,
                    -0.27996479498789684,
                    -0.2828515321541456,
                    -0.2857137180871955,
                    -0.28855153424853297,
                    -0.2913651607266535,
                    -0.2941547762480082,
                    -0.2969205581876688,
                    -0.29966268257980966,
                    -0.30238132412811286,
                    -0.30507665621644475,
                    -0.3077488509188829,
                    -0.3103980790097216,
                    -0.3130245099737694,
                    -0.3156283120170253,
                    -0.31820965207554835,
                    -0.32076869582592843,
                    -0.3233056076955296,
                    -0.32582055087151124,
                    -0.328313687310574,
                    -0.3307851777491816,
                    -0.33323518171244143,
                    -0.3356638575235691,
                    -0.3380713623139588,
                    -0.3404578520316314,
                    -0.3428234814507747,
                    -0.3451684041811213,
                    -0.3474927726768621,
                    -0.34979673824559127,
                    -0.35208045105714375,
                    -0.3543440601527787,
                    -0.35658771345391943,
                    -0.3588115577706984,
                    -0.36101573881062177,
                    -0.3632004011872334,
                    -0.36536568842897366,
                    -0.3675117429872059,
                    -0.36963870624454476,
                    -0.37174671852348834,
                    -0.3738359190947903,
                    -0.3759064461851396,
                    -0.3779584369856734,
                    -0.3799920276602409,
                    -0.38200735335282404,
                    -0.38400454819588736,
                    -0.3859837453181451,
                    -0.3879450768524786,
                    -0.38988867394352983,
                    -0.39181466675558674,
                    -0.3937231844799387,
                    -0.3956143553427728,
                    -0.39748830661260465,
                    -0.3993451646073529,
                    -0.401185054702019,
                    -0.40300810133672377,
                    -0.40481442802250567,
                    -0.40660415734950867,
                    -0.408377410994565,
                    -0.4101343097269278,
                    -0.4118749734162976,
                    -0.41359952104007974,
                    -0.4153080706893341,
                    -0.41700073957638983,
                    -0.41867764404150853,
                    -0.42033889955939585,
                    -0.4219846207464597,
                    -0.4236149213669107,
                    -0.42522991433964175,
                    -0.42682971174496687,
                    -0.428414424830765,
                    -0.42998416401886197,
                    -0.4315390389120614,
                    -0.4330791582999208,
                    -0.43460463016531725,
                    -0.4361155616907322,
                    -0.43761205926376756,
                    -0.4390942284845448,
                    -0.4405621741709294,
                    -0.44201600036466343,
                    -0.4434558103374344,
                    -0.44488170659721354,
                    -0.44629379089369653,
                    -0.44769216422423136,
                    -0.4490769268398215,
                    -0.4504481782507179,
                    -0.45180601723243374,
                    -0.45315054183101133,
                    -0.45448184936902614,
                    -0.4558000364509408,
                    -0.4571051989685349,
                    -0.45839743210690875,
                    -0.4596768303494586,
                    -0.460943487483426,
                    -0.4621974966053167,
                    -0.46343895012632025,
                    -0.46466793977746895,
                    -0.46588455661446276,
                    -0.46708889102382367,
                    -0.4682810327273522,
                    -0.4694610707872872,
                    -0.4706290936116491,
                    -0.47178518895904276,
                    -0.47292944394387076,
                    -0.47406194504083365,
                    -0.47518277809065174,
                    -0.47629202830418627,
                    -0.4773897802671339,
                    -0.47847611794636546,
                    -0.4795511246926083,
                    -0.4806148832461792,
                    -0.48166747574204677,
                    -0.48270898371370374,
                    -0.4837394880982724,
                    -0.4847590692409611,
                    -0.48576780689955346,
                    -0.48676578024841016,
                    -0.48775306788434264,
                    -0.4887297478295122,
                    -0.48969589753650244,
                    -0.4906515938928199,
                    -0.49159691322499277,
                    -0.4925319313028764,
                    -0.4934567233435149,
                    -0.4943713640164195,
                    -0.49527592744679194,
                    -0.49617048722007867,
                    -0.49705511638559396,
                    -0.49792988746166905,
                    -0.4987948724386699,
                    -0.499650142783486,
                    -0.5004957694433598,
                    -0.501331822850051,
                    -0.5021583729234814,
                    -0.5029754890759867,
                    -0.5037832402158097,
                    -0.5045816947512541,
                    -0.5053709205943405,
                    -0.5061509851643543,
                    -0.5069219553918807,
                    -0.5076838977228062,
                    -0.5084368781211857,
                    -0.5091809620738174,
                    -0.5099162145929153,
                    -0.5106427002203375,
                    -0.511360483031503,
                    -0.512069626638052,
                    -0.5127701941913827,
                    -0.5134622483869893,
                    -0.5141458514676853,
                    -0.5148210652262646,
                    -0.5154879510094599,
                    -0.5161465697216422,
                    -0.5167969818275254,
                    -0.5174392473558113,
                    -0.5180734259022072,
                    -0.5186995766334282,
                    -0.5193177582897615,
                    -0.5199280291881803,
                    -0.5205304472261957,
                    -0.5211250698841925,
                    -0.5217119542295399,
                    -0.5222911569187436,
                    -0.5228627342013406,
                    -0.5234267419223751,
                    -0.5239832355257099,
                    -0.5245322700570534,
                    -0.5250739001669572,
                    -0.5256081801135846,
                    -0.5261351637659231,
                    -0.5266549046065864,
                    -0.5271674557347559,
                    -0.5276728698688639,
                    -0.5281711993499895,
                    -0.5286624961440114,
                    -0.5291468118446045,
                    -0.5296241976765058,
                    -0.5300947044977756,
                    -0.5305583828024583,
                    -0.5310152827240112,
                    -0.531465454037371,
                    -0.531908946161257,
                    -0.5323458081621627,
                    -0.5327760887558168,
                    -0.5331998363102216,
                    -0.5336170988481309,
                    -0.5340279240497211,
                    -0.5344323592553284,
                    -0.5348304514677306,
                    -0.5352222473545705,
                    -0.5356077932511895,
                    -0.5359871351627049,
                    -0.5363603187669841,
                    -0.5367273894162562,
                    -0.5370883921408226,
                    -0.5374433716500194,
                    -0.5377923723357437,
                    -0.5381354382738922,
                    -0.5384726132274548,
                    -0.5388039406484834,
                    -0.5391294636806333,
                    -0.5394492251608192,
                    -0.5397632676223076,
                    -0.5400716332965891,
                    -0.5403743641154111,
                    -0.5406715017134717,
                    -0.5409630874302477,
                    -0.54124916231232,
                    -0.541529767115364,
                    -0.5418049423066051,
                    -0.5420747280669492,
                    -0.5423391642927248,
                    -0.5425982905979755,
                    -0.5428521463166023,
                    -0.543100770504613,
                    -0.543344201941875,
                    -0.5435824791340511,
                    -0.5438156403147845,
                    -0.5440437234482517,
                    -0.544266766229909,
                    -0.5444848060896832,
                    -0.5446978801933884,
                    -0.5449060254443059,
                    -0.5451092784861257,
                    -0.5453076757034767,
                    -0.5455012532253991,
                    -0.5456900469260367,
                    -0.5458740924266807,
                    -0.5460534250981932,
                    -0.54622808006237,
                    -0.5463980921937902,
                    -0.5465634961216983,
                    -0.5467243262321133,
                    -0.5468806166690408,
                    -0.5470324013363974,
                    -0.5471797139003374,
                    -0.547322587790009,
                    -0.5474610562002482,
                    -0.5475951520926496,
                    -0.5477249081975674,
                    -0.5478503570158677,
                    -0.5479715308197833,
                    -0.5480884616560284,
                    -0.5482011813465778,
                    -0.5483097214898784,
                    -0.5484141134633801,
                    -0.5485143884247905,
                    -0.5486105773132978,
                    -0.5487027108517979,
                    -0.5487908195483884,
                    -0.5488749336969949,
                    -0.5489550833803032,
                    -0.5490312984705158,
                    -0.5491036086307801,
                    -0.5491720433168756,
                    -0.5492366317791288,
                    -0.5492974030634618,
                    -0.5493543860125287,
                    -0.5494076092681599,
                    -0.5494571012718595,
                    -0.5495028902669477,
                    -0.549545004299609,
                    -0.5495834712205586,
                    -0.5496183186857783,
                    -0.5496495741590357,
                    -0.5496772649127832,
                    -0.5497014180288926,
                    -0.5497220604010247,
                    -0.5497392187353748,
                    -0.5497529195524369,
                    -0.5497631891876842,
                    -0.549770053793733,
                    -0.5497735393412078,
                    -0.5497736716196717,
                    -0.5497704762402223,
                    -0.5497639786349834,
                    -0.5497542040596683,
                    -0.549741177594889,
                    -0.5497249241465133,
                    -0.549705468447546,
                    -0.5496828350593737,
                    -0.5496570483728789,
                    -0.5496281326094345,
                    -0.549596111822657,
                    -0.5495610098991843,
                    -0.5495228505597257,
                    -0.5494816573610519,
                    -0.5494374536960817,
                    -0.549390262795969,
                    -0.5493401077306989,
                    -0.5492870114104169,
                    -0.549230996586771,
                    -0.5491720858536578,
                    -0.5491103016484449,
                    -0.54904566625382,
                    -0.5489782017975864,
                    -0.5489079302544467,
                    -0.5488348734476589,
                    -0.5487590530492189,
                    -0.5486804905809759,
                    -0.5485992074164164,
                    -0.5485152247813677,
                    -0.5484285637545492,
                    -0.5483392452693898,
                    -0.5482472901145906,
                    -0.5481527189353466,
                    -0.5480555522341909,
                    -0.5479558103721738,
                    -0.5478535135696193,
                    -0.5477486819080191,
                    -0.5476413353294798,
                    -0.5475314936389518,
                    -0.5474191765045971,
                    -0.5473044034590873,
                    -0.547187193900533,
                    -0.5470675670931777,
                    -0.5469455421684997,
                    -0.546821138126121,
                    -0.546694373834911,
                    -0.5465652680335708,
                    -0.5464338393320382,
                    -0.5463001062116944,
                    -0.546164087027246,
                    -0.5460258000063997,
                    -0.5458852632518424,
                    -0.5457424947415226,
                    -0.5455975123298611,
                    -0.5454503337487038,
                    -0.545300976606899,
                    -0.5451494583932944,
                    -0.5449957964762931,
                    -0.544840008104373,
                    -0.5446821104080012,
                    -0.544522120399407,
                    -0.5443600549747344,
                    -0.5441959309131985,
                    -0.5440297648789134,
                    -0.5438615734221793,
                    -0.5436913729788987,
                    -0.5435191798722201,
                    -0.5433450103138473,
                    -0.5431688804034767,
                    -0.5429908061303654,
                    -0.5428108033747925,
                    -0.5426288879071816,
                    -0.5424450753900053,
                    -0.5422593813786398,
                    -0.542071821321354,
                    -0.5418824105607586,
                    -0.5416911643341199,
                    -0.5414980977742474,
                    -0.5413032259101201,
                    -0.5411065636676987,
                    -0.5409081258708338,
                    -0.5407079272417957
                  ],
                  "yaxis": "y"
                }
              ],
              "layout": {
                "legend": {
                  "tracegroupgap": 0
                },
                "template": {
                  "data": {
                    "bar": [
                      {
                        "error_x": {
                          "color": "#2a3f5f"
                        },
                        "error_y": {
                          "color": "#2a3f5f"
                        },
                        "marker": {
                          "line": {
                            "color": "#E5ECF6",
                            "width": 0.5
                          },
                          "pattern": {
                            "fillmode": "overlay",
                            "size": 10,
                            "solidity": 0.2
                          }
                        },
                        "type": "bar"
                      }
                    ],
                    "barpolar": [
                      {
                        "marker": {
                          "line": {
                            "color": "#E5ECF6",
                            "width": 0.5
                          },
                          "pattern": {
                            "fillmode": "overlay",
                            "size": 10,
                            "solidity": 0.2
                          }
                        },
                        "type": "barpolar"
                      }
                    ],
                    "carpet": [
                      {
                        "aaxis": {
                          "endlinecolor": "#2a3f5f",
                          "gridcolor": "white",
                          "linecolor": "white",
                          "minorgridcolor": "white",
                          "startlinecolor": "#2a3f5f"
                        },
                        "baxis": {
                          "endlinecolor": "#2a3f5f",
                          "gridcolor": "white",
                          "linecolor": "white",
                          "minorgridcolor": "white",
                          "startlinecolor": "#2a3f5f"
                        },
                        "type": "carpet"
                      }
                    ],
                    "choropleth": [
                      {
                        "colorbar": {
                          "outlinewidth": 0,
                          "ticks": ""
                        },
                        "type": "choropleth"
                      }
                    ],
                    "contour": [
                      {
                        "colorbar": {
                          "outlinewidth": 0,
                          "ticks": ""
                        },
                        "colorscale": [
                          [
                            0,
                            "#0d0887"
                          ],
                          [
                            0.1111111111111111,
                            "#46039f"
                          ],
                          [
                            0.2222222222222222,
                            "#7201a8"
                          ],
                          [
                            0.3333333333333333,
                            "#9c179e"
                          ],
                          [
                            0.4444444444444444,
                            "#bd3786"
                          ],
                          [
                            0.5555555555555556,
                            "#d8576b"
                          ],
                          [
                            0.6666666666666666,
                            "#ed7953"
                          ],
                          [
                            0.7777777777777778,
                            "#fb9f3a"
                          ],
                          [
                            0.8888888888888888,
                            "#fdca26"
                          ],
                          [
                            1,
                            "#f0f921"
                          ]
                        ],
                        "type": "contour"
                      }
                    ],
                    "contourcarpet": [
                      {
                        "colorbar": {
                          "outlinewidth": 0,
                          "ticks": ""
                        },
                        "type": "contourcarpet"
                      }
                    ],
                    "heatmap": [
                      {
                        "colorbar": {
                          "outlinewidth": 0,
                          "ticks": ""
                        },
                        "colorscale": [
                          [
                            0,
                            "#0d0887"
                          ],
                          [
                            0.1111111111111111,
                            "#46039f"
                          ],
                          [
                            0.2222222222222222,
                            "#7201a8"
                          ],
                          [
                            0.3333333333333333,
                            "#9c179e"
                          ],
                          [
                            0.4444444444444444,
                            "#bd3786"
                          ],
                          [
                            0.5555555555555556,
                            "#d8576b"
                          ],
                          [
                            0.6666666666666666,
                            "#ed7953"
                          ],
                          [
                            0.7777777777777778,
                            "#fb9f3a"
                          ],
                          [
                            0.8888888888888888,
                            "#fdca26"
                          ],
                          [
                            1,
                            "#f0f921"
                          ]
                        ],
                        "type": "heatmap"
                      }
                    ],
                    "heatmapgl": [
                      {
                        "colorbar": {
                          "outlinewidth": 0,
                          "ticks": ""
                        },
                        "colorscale": [
                          [
                            0,
                            "#0d0887"
                          ],
                          [
                            0.1111111111111111,
                            "#46039f"
                          ],
                          [
                            0.2222222222222222,
                            "#7201a8"
                          ],
                          [
                            0.3333333333333333,
                            "#9c179e"
                          ],
                          [
                            0.4444444444444444,
                            "#bd3786"
                          ],
                          [
                            0.5555555555555556,
                            "#d8576b"
                          ],
                          [
                            0.6666666666666666,
                            "#ed7953"
                          ],
                          [
                            0.7777777777777778,
                            "#fb9f3a"
                          ],
                          [
                            0.8888888888888888,
                            "#fdca26"
                          ],
                          [
                            1,
                            "#f0f921"
                          ]
                        ],
                        "type": "heatmapgl"
                      }
                    ],
                    "histogram": [
                      {
                        "marker": {
                          "pattern": {
                            "fillmode": "overlay",
                            "size": 10,
                            "solidity": 0.2
                          }
                        },
                        "type": "histogram"
                      }
                    ],
                    "histogram2d": [
                      {
                        "colorbar": {
                          "outlinewidth": 0,
                          "ticks": ""
                        },
                        "colorscale": [
                          [
                            0,
                            "#0d0887"
                          ],
                          [
                            0.1111111111111111,
                            "#46039f"
                          ],
                          [
                            0.2222222222222222,
                            "#7201a8"
                          ],
                          [
                            0.3333333333333333,
                            "#9c179e"
                          ],
                          [
                            0.4444444444444444,
                            "#bd3786"
                          ],
                          [
                            0.5555555555555556,
                            "#d8576b"
                          ],
                          [
                            0.6666666666666666,
                            "#ed7953"
                          ],
                          [
                            0.7777777777777778,
                            "#fb9f3a"
                          ],
                          [
                            0.8888888888888888,
                            "#fdca26"
                          ],
                          [
                            1,
                            "#f0f921"
                          ]
                        ],
                        "type": "histogram2d"
                      }
                    ],
                    "histogram2dcontour": [
                      {
                        "colorbar": {
                          "outlinewidth": 0,
                          "ticks": ""
                        },
                        "colorscale": [
                          [
                            0,
                            "#0d0887"
                          ],
                          [
                            0.1111111111111111,
                            "#46039f"
                          ],
                          [
                            0.2222222222222222,
                            "#7201a8"
                          ],
                          [
                            0.3333333333333333,
                            "#9c179e"
                          ],
                          [
                            0.4444444444444444,
                            "#bd3786"
                          ],
                          [
                            0.5555555555555556,
                            "#d8576b"
                          ],
                          [
                            0.6666666666666666,
                            "#ed7953"
                          ],
                          [
                            0.7777777777777778,
                            "#fb9f3a"
                          ],
                          [
                            0.8888888888888888,
                            "#fdca26"
                          ],
                          [
                            1,
                            "#f0f921"
                          ]
                        ],
                        "type": "histogram2dcontour"
                      }
                    ],
                    "mesh3d": [
                      {
                        "colorbar": {
                          "outlinewidth": 0,
                          "ticks": ""
                        },
                        "type": "mesh3d"
                      }
                    ],
                    "parcoords": [
                      {
                        "line": {
                          "colorbar": {
                            "outlinewidth": 0,
                            "ticks": ""
                          }
                        },
                        "type": "parcoords"
                      }
                    ],
                    "pie": [
                      {
                        "automargin": true,
                        "type": "pie"
                      }
                    ],
                    "scatter": [
                      {
                        "fillpattern": {
                          "fillmode": "overlay",
                          "size": 10,
                          "solidity": 0.2
                        },
                        "type": "scatter"
                      }
                    ],
                    "scatter3d": [
                      {
                        "line": {
                          "colorbar": {
                            "outlinewidth": 0,
                            "ticks": ""
                          }
                        },
                        "marker": {
                          "colorbar": {
                            "outlinewidth": 0,
                            "ticks": ""
                          }
                        },
                        "type": "scatter3d"
                      }
                    ],
                    "scattercarpet": [
                      {
                        "marker": {
                          "colorbar": {
                            "outlinewidth": 0,
                            "ticks": ""
                          }
                        },
                        "type": "scattercarpet"
                      }
                    ],
                    "scattergeo": [
                      {
                        "marker": {
                          "colorbar": {
                            "outlinewidth": 0,
                            "ticks": ""
                          }
                        },
                        "type": "scattergeo"
                      }
                    ],
                    "scattergl": [
                      {
                        "marker": {
                          "colorbar": {
                            "outlinewidth": 0,
                            "ticks": ""
                          }
                        },
                        "type": "scattergl"
                      }
                    ],
                    "scattermapbox": [
                      {
                        "marker": {
                          "colorbar": {
                            "outlinewidth": 0,
                            "ticks": ""
                          }
                        },
                        "type": "scattermapbox"
                      }
                    ],
                    "scatterpolar": [
                      {
                        "marker": {
                          "colorbar": {
                            "outlinewidth": 0,
                            "ticks": ""
                          }
                        },
                        "type": "scatterpolar"
                      }
                    ],
                    "scatterpolargl": [
                      {
                        "marker": {
                          "colorbar": {
                            "outlinewidth": 0,
                            "ticks": ""
                          }
                        },
                        "type": "scatterpolargl"
                      }
                    ],
                    "scatterternary": [
                      {
                        "marker": {
                          "colorbar": {
                            "outlinewidth": 0,
                            "ticks": ""
                          }
                        },
                        "type": "scatterternary"
                      }
                    ],
                    "surface": [
                      {
                        "colorbar": {
                          "outlinewidth": 0,
                          "ticks": ""
                        },
                        "colorscale": [
                          [
                            0,
                            "#0d0887"
                          ],
                          [
                            0.1111111111111111,
                            "#46039f"
                          ],
                          [
                            0.2222222222222222,
                            "#7201a8"
                          ],
                          [
                            0.3333333333333333,
                            "#9c179e"
                          ],
                          [
                            0.4444444444444444,
                            "#bd3786"
                          ],
                          [
                            0.5555555555555556,
                            "#d8576b"
                          ],
                          [
                            0.6666666666666666,
                            "#ed7953"
                          ],
                          [
                            0.7777777777777778,
                            "#fb9f3a"
                          ],
                          [
                            0.8888888888888888,
                            "#fdca26"
                          ],
                          [
                            1,
                            "#f0f921"
                          ]
                        ],
                        "type": "surface"
                      }
                    ],
                    "table": [
                      {
                        "cells": {
                          "fill": {
                            "color": "#EBF0F8"
                          },
                          "line": {
                            "color": "white"
                          }
                        },
                        "header": {
                          "fill": {
                            "color": "#C8D4E3"
                          },
                          "line": {
                            "color": "white"
                          }
                        },
                        "type": "table"
                      }
                    ]
                  },
                  "layout": {
                    "annotationdefaults": {
                      "arrowcolor": "#2a3f5f",
                      "arrowhead": 0,
                      "arrowwidth": 1
                    },
                    "autotypenumbers": "strict",
                    "coloraxis": {
                      "colorbar": {
                        "outlinewidth": 0,
                        "ticks": ""
                      }
                    },
                    "colorscale": {
                      "diverging": [
                        [
                          0,
                          "#8e0152"
                        ],
                        [
                          0.1,
                          "#c51b7d"
                        ],
                        [
                          0.2,
                          "#de77ae"
                        ],
                        [
                          0.3,
                          "#f1b6da"
                        ],
                        [
                          0.4,
                          "#fde0ef"
                        ],
                        [
                          0.5,
                          "#f7f7f7"
                        ],
                        [
                          0.6,
                          "#e6f5d0"
                        ],
                        [
                          0.7,
                          "#b8e186"
                        ],
                        [
                          0.8,
                          "#7fbc41"
                        ],
                        [
                          0.9,
                          "#4d9221"
                        ],
                        [
                          1,
                          "#276419"
                        ]
                      ],
                      "sequential": [
                        [
                          0,
                          "#0d0887"
                        ],
                        [
                          0.1111111111111111,
                          "#46039f"
                        ],
                        [
                          0.2222222222222222,
                          "#7201a8"
                        ],
                        [
                          0.3333333333333333,
                          "#9c179e"
                        ],
                        [
                          0.4444444444444444,
                          "#bd3786"
                        ],
                        [
                          0.5555555555555556,
                          "#d8576b"
                        ],
                        [
                          0.6666666666666666,
                          "#ed7953"
                        ],
                        [
                          0.7777777777777778,
                          "#fb9f3a"
                        ],
                        [
                          0.8888888888888888,
                          "#fdca26"
                        ],
                        [
                          1,
                          "#f0f921"
                        ]
                      ],
                      "sequentialminus": [
                        [
                          0,
                          "#0d0887"
                        ],
                        [
                          0.1111111111111111,
                          "#46039f"
                        ],
                        [
                          0.2222222222222222,
                          "#7201a8"
                        ],
                        [
                          0.3333333333333333,
                          "#9c179e"
                        ],
                        [
                          0.4444444444444444,
                          "#bd3786"
                        ],
                        [
                          0.5555555555555556,
                          "#d8576b"
                        ],
                        [
                          0.6666666666666666,
                          "#ed7953"
                        ],
                        [
                          0.7777777777777778,
                          "#fb9f3a"
                        ],
                        [
                          0.8888888888888888,
                          "#fdca26"
                        ],
                        [
                          1,
                          "#f0f921"
                        ]
                      ]
                    },
                    "colorway": [
                      "#636efa",
                      "#EF553B",
                      "#00cc96",
                      "#ab63fa",
                      "#FFA15A",
                      "#19d3f3",
                      "#FF6692",
                      "#B6E880",
                      "#FF97FF",
                      "#FECB52"
                    ],
                    "font": {
                      "color": "#2a3f5f"
                    },
                    "geo": {
                      "bgcolor": "white",
                      "lakecolor": "white",
                      "landcolor": "#E5ECF6",
                      "showlakes": true,
                      "showland": true,
                      "subunitcolor": "white"
                    },
                    "hoverlabel": {
                      "align": "left"
                    },
                    "hovermode": "closest",
                    "mapbox": {
                      "style": "light"
                    },
                    "paper_bgcolor": "white",
                    "plot_bgcolor": "#E5ECF6",
                    "polar": {
                      "angularaxis": {
                        "gridcolor": "white",
                        "linecolor": "white",
                        "ticks": ""
                      },
                      "bgcolor": "#E5ECF6",
                      "radialaxis": {
                        "gridcolor": "white",
                        "linecolor": "white",
                        "ticks": ""
                      }
                    },
                    "scene": {
                      "xaxis": {
                        "backgroundcolor": "#E5ECF6",
                        "gridcolor": "white",
                        "gridwidth": 2,
                        "linecolor": "white",
                        "showbackground": true,
                        "ticks": "",
                        "zerolinecolor": "white"
                      },
                      "yaxis": {
                        "backgroundcolor": "#E5ECF6",
                        "gridcolor": "white",
                        "gridwidth": 2,
                        "linecolor": "white",
                        "showbackground": true,
                        "ticks": "",
                        "zerolinecolor": "white"
                      },
                      "zaxis": {
                        "backgroundcolor": "#E5ECF6",
                        "gridcolor": "white",
                        "gridwidth": 2,
                        "linecolor": "white",
                        "showbackground": true,
                        "ticks": "",
                        "zerolinecolor": "white"
                      }
                    },
                    "shapedefaults": {
                      "line": {
                        "color": "#2a3f5f"
                      }
                    },
                    "ternary": {
                      "aaxis": {
                        "gridcolor": "white",
                        "linecolor": "white",
                        "ticks": ""
                      },
                      "baxis": {
                        "gridcolor": "white",
                        "linecolor": "white",
                        "ticks": ""
                      },
                      "bgcolor": "#E5ECF6",
                      "caxis": {
                        "gridcolor": "white",
                        "linecolor": "white",
                        "ticks": ""
                      }
                    },
                    "title": {
                      "x": 0.05
                    },
                    "xaxis": {
                      "automargin": true,
                      "gridcolor": "white",
                      "linecolor": "white",
                      "ticks": "",
                      "title": {
                        "standoff": 15
                      },
                      "zerolinecolor": "white",
                      "zerolinewidth": 2
                    },
                    "yaxis": {
                      "automargin": true,
                      "gridcolor": "white",
                      "linecolor": "white",
                      "ticks": "",
                      "title": {
                        "standoff": 15
                      },
                      "zerolinecolor": "white",
                      "zerolinewidth": 2
                    }
                  }
                },
                "title": {
                  "text": "df(x)/dx"
                },
                "xaxis": {
                  "anchor": "y",
                  "domain": [
                    0,
                    1
                  ],
                  "title": {
                    "text": "x"
                  }
                },
                "yaxis": {
                  "anchor": "x",
                  "domain": [
                    0,
                    1
                  ],
                  "title": {
                    "text": "y"
                  }
                }
              }
            }
          },
          "metadata": {},
          "output_type": "display_data"
        }
      ],
      "source": [
        "dyi = high_order_discrete(xi, yi)\n",
        "fig = px.line(x=xi[2:-2], y=dyi, title='df(x)/dx')\n",
        "fig.show()\n"
      ]
    },
    {
      "attachments": {},
      "cell_type": "markdown",
      "metadata": {},
      "source": [
        "## Análise de erro\n",
        "\n",
        "Apesar das equações de diferenças finitas obtidas anteriormente sugerirem que a redução do passo $\\Delta x$ melhora a qualidade da aproximação para a derivada, isso só é verdade até certo ponto, na prática a redução do espaçamento da malha é limitada pelos erros de arredondamento. Erros de arredondamento estão presentes na solução numérica de um problema devido à aritmética de precisão finita utilizada pelos computadores. No método de diferenças finitas (MDF), se o passo da malha for demasiadamente pequeno, os erros de arredondamento nos cálculos passam a dominar o erro local de truncamento das expressões de diferenças finitas, e o erro relativo percentual efetivamente aumenta. Para ilustrar esse fato vamos calcular numericamente a derivada primeira da função $f(x) = x\\text{e}^x$ no ponto $x=2$ utilizando a equação de diferenças centrais de segunda ordem. Sabemos que a derivada dessa função é $f'(x)=(x+1)\\text{e}^x$, vamos utilizar o valor exato de $f'(2)$ para calcular o erro relativo das aproximações realizadas com os diferentes $\\Delta x$. O erro relativo percentual, dado por\n",
        "\n",
        "\\begin{equation*}\n",
        "E_\\text{rel} = \\left|\\frac{\\text{valor exato $-$ valor aproximado}}{\\text{valor exato}}\\right|\\cdot 100,\n",
        "\\end{equation*}\n",
        "\n",
        "diminui quadráticamente cada vez que $\\Delta x$ é reduzido pela metade."
      ]
    },
    {
      "cell_type": "code",
      "execution_count": 61,
      "metadata": {},
      "outputs": [
        {
          "data": {
            "application/vnd.plotly.v1+json": {
              "config": {
                "plotlyServerURL": "https://plot.ly"
              },
              "data": [
                {
                  "hovertemplate": "step size (h)=%{x}<br>relative error=%{y}<extra></extra>",
                  "legendgroup": "",
                  "marker": {
                    "color": "#636efa",
                    "symbol": "circle"
                  },
                  "mode": "markers",
                  "name": "",
                  "orientation": "v",
                  "showlegend": false,
                  "type": "scatter",
                  "x": [
                    0.125,
                    0.0625,
                    0.03125,
                    0.015625,
                    0.0078125,
                    0.00390625,
                    0.001953125,
                    0.0009765625,
                    0.00048828125,
                    0.000244140625,
                    0.0001220703125,
                    0.00006103515625,
                    0.000030517578125,
                    0.0000152587890625,
                    0.00000762939453125,
                    0.000003814697265625,
                    0.0000019073486328125,
                    9.5367431640625e-7,
                    4.76837158203125e-7,
                    2.384185791015625e-7,
                    1.1920928955078125e-7,
                    5.960464477539063e-8,
                    2.9802322387695312e-8,
                    1.4901161193847656e-8,
                    7.450580596923828e-9,
                    3.725290298461914e-9,
                    1.862645149230957e-9,
                    9.313225746154785e-10,
                    4.656612873077393e-10,
                    2.3283064365386963e-10,
                    1.1641532182693481e-10,
                    5.820766091346741e-11,
                    2.9103830456733704e-11,
                    1.4551915228366852e-11,
                    7.275957614183426e-12,
                    3.637978807091713e-12,
                    1.8189894035458565e-12
                  ],
                  "xaxis": "x",
                  "y": [
                    0.4345027227852672,
                    0.1085366178601804,
                    0.0271285905331986,
                    0.006781799926457072,
                    0.0016954282511421315,
                    0.00042385570573037074,
                    0.0001059638407607075,
                    0.000026490953242508327,
                    0.000006622737517294687,
                    0.0000016556712773189703,
                    4.139067687704256e-7,
                    1.0343281850713832e-7,
                    2.5838948285929816e-8,
                    6.40765760447659e-9,
                    1.9437124479265238e-9,
                    3.682023926735596e-10,
                    3.682023926735596e-10,
                    3.833157754667679e-9,
                    3.682023926735596e-10,
                    3.682023926735596e-10,
                    3.397908357140347e-8,
                    3.324267878605635e-8,
                    1.0120084592886328e-7,
                    1.6768620350097597e-7,
                    1.6768620350097597e-7,
                    3.700878953587025e-7,
                    0.0000014456360930780595,
                    0.0000028565566977993685,
                    0.000005747828883955487,
                    0.0000028565566977993685,
                    0.0000028565566977993685,
                    0.000031560985629220055,
                    0.00010610918367885764,
                    0.00024377935298693535,
                    0.00030690132424537544,
                    0.00030690132424537544,
                    0.0007944600302192461
                  ],
                  "yaxis": "y"
                }
              ],
              "layout": {
                "legend": {
                  "tracegroupgap": 0
                },
                "template": {
                  "data": {
                    "bar": [
                      {
                        "error_x": {
                          "color": "#2a3f5f"
                        },
                        "error_y": {
                          "color": "#2a3f5f"
                        },
                        "marker": {
                          "line": {
                            "color": "#E5ECF6",
                            "width": 0.5
                          },
                          "pattern": {
                            "fillmode": "overlay",
                            "size": 10,
                            "solidity": 0.2
                          }
                        },
                        "type": "bar"
                      }
                    ],
                    "barpolar": [
                      {
                        "marker": {
                          "line": {
                            "color": "#E5ECF6",
                            "width": 0.5
                          },
                          "pattern": {
                            "fillmode": "overlay",
                            "size": 10,
                            "solidity": 0.2
                          }
                        },
                        "type": "barpolar"
                      }
                    ],
                    "carpet": [
                      {
                        "aaxis": {
                          "endlinecolor": "#2a3f5f",
                          "gridcolor": "white",
                          "linecolor": "white",
                          "minorgridcolor": "white",
                          "startlinecolor": "#2a3f5f"
                        },
                        "baxis": {
                          "endlinecolor": "#2a3f5f",
                          "gridcolor": "white",
                          "linecolor": "white",
                          "minorgridcolor": "white",
                          "startlinecolor": "#2a3f5f"
                        },
                        "type": "carpet"
                      }
                    ],
                    "choropleth": [
                      {
                        "colorbar": {
                          "outlinewidth": 0,
                          "ticks": ""
                        },
                        "type": "choropleth"
                      }
                    ],
                    "contour": [
                      {
                        "colorbar": {
                          "outlinewidth": 0,
                          "ticks": ""
                        },
                        "colorscale": [
                          [
                            0,
                            "#0d0887"
                          ],
                          [
                            0.1111111111111111,
                            "#46039f"
                          ],
                          [
                            0.2222222222222222,
                            "#7201a8"
                          ],
                          [
                            0.3333333333333333,
                            "#9c179e"
                          ],
                          [
                            0.4444444444444444,
                            "#bd3786"
                          ],
                          [
                            0.5555555555555556,
                            "#d8576b"
                          ],
                          [
                            0.6666666666666666,
                            "#ed7953"
                          ],
                          [
                            0.7777777777777778,
                            "#fb9f3a"
                          ],
                          [
                            0.8888888888888888,
                            "#fdca26"
                          ],
                          [
                            1,
                            "#f0f921"
                          ]
                        ],
                        "type": "contour"
                      }
                    ],
                    "contourcarpet": [
                      {
                        "colorbar": {
                          "outlinewidth": 0,
                          "ticks": ""
                        },
                        "type": "contourcarpet"
                      }
                    ],
                    "heatmap": [
                      {
                        "colorbar": {
                          "outlinewidth": 0,
                          "ticks": ""
                        },
                        "colorscale": [
                          [
                            0,
                            "#0d0887"
                          ],
                          [
                            0.1111111111111111,
                            "#46039f"
                          ],
                          [
                            0.2222222222222222,
                            "#7201a8"
                          ],
                          [
                            0.3333333333333333,
                            "#9c179e"
                          ],
                          [
                            0.4444444444444444,
                            "#bd3786"
                          ],
                          [
                            0.5555555555555556,
                            "#d8576b"
                          ],
                          [
                            0.6666666666666666,
                            "#ed7953"
                          ],
                          [
                            0.7777777777777778,
                            "#fb9f3a"
                          ],
                          [
                            0.8888888888888888,
                            "#fdca26"
                          ],
                          [
                            1,
                            "#f0f921"
                          ]
                        ],
                        "type": "heatmap"
                      }
                    ],
                    "heatmapgl": [
                      {
                        "colorbar": {
                          "outlinewidth": 0,
                          "ticks": ""
                        },
                        "colorscale": [
                          [
                            0,
                            "#0d0887"
                          ],
                          [
                            0.1111111111111111,
                            "#46039f"
                          ],
                          [
                            0.2222222222222222,
                            "#7201a8"
                          ],
                          [
                            0.3333333333333333,
                            "#9c179e"
                          ],
                          [
                            0.4444444444444444,
                            "#bd3786"
                          ],
                          [
                            0.5555555555555556,
                            "#d8576b"
                          ],
                          [
                            0.6666666666666666,
                            "#ed7953"
                          ],
                          [
                            0.7777777777777778,
                            "#fb9f3a"
                          ],
                          [
                            0.8888888888888888,
                            "#fdca26"
                          ],
                          [
                            1,
                            "#f0f921"
                          ]
                        ],
                        "type": "heatmapgl"
                      }
                    ],
                    "histogram": [
                      {
                        "marker": {
                          "pattern": {
                            "fillmode": "overlay",
                            "size": 10,
                            "solidity": 0.2
                          }
                        },
                        "type": "histogram"
                      }
                    ],
                    "histogram2d": [
                      {
                        "colorbar": {
                          "outlinewidth": 0,
                          "ticks": ""
                        },
                        "colorscale": [
                          [
                            0,
                            "#0d0887"
                          ],
                          [
                            0.1111111111111111,
                            "#46039f"
                          ],
                          [
                            0.2222222222222222,
                            "#7201a8"
                          ],
                          [
                            0.3333333333333333,
                            "#9c179e"
                          ],
                          [
                            0.4444444444444444,
                            "#bd3786"
                          ],
                          [
                            0.5555555555555556,
                            "#d8576b"
                          ],
                          [
                            0.6666666666666666,
                            "#ed7953"
                          ],
                          [
                            0.7777777777777778,
                            "#fb9f3a"
                          ],
                          [
                            0.8888888888888888,
                            "#fdca26"
                          ],
                          [
                            1,
                            "#f0f921"
                          ]
                        ],
                        "type": "histogram2d"
                      }
                    ],
                    "histogram2dcontour": [
                      {
                        "colorbar": {
                          "outlinewidth": 0,
                          "ticks": ""
                        },
                        "colorscale": [
                          [
                            0,
                            "#0d0887"
                          ],
                          [
                            0.1111111111111111,
                            "#46039f"
                          ],
                          [
                            0.2222222222222222,
                            "#7201a8"
                          ],
                          [
                            0.3333333333333333,
                            "#9c179e"
                          ],
                          [
                            0.4444444444444444,
                            "#bd3786"
                          ],
                          [
                            0.5555555555555556,
                            "#d8576b"
                          ],
                          [
                            0.6666666666666666,
                            "#ed7953"
                          ],
                          [
                            0.7777777777777778,
                            "#fb9f3a"
                          ],
                          [
                            0.8888888888888888,
                            "#fdca26"
                          ],
                          [
                            1,
                            "#f0f921"
                          ]
                        ],
                        "type": "histogram2dcontour"
                      }
                    ],
                    "mesh3d": [
                      {
                        "colorbar": {
                          "outlinewidth": 0,
                          "ticks": ""
                        },
                        "type": "mesh3d"
                      }
                    ],
                    "parcoords": [
                      {
                        "line": {
                          "colorbar": {
                            "outlinewidth": 0,
                            "ticks": ""
                          }
                        },
                        "type": "parcoords"
                      }
                    ],
                    "pie": [
                      {
                        "automargin": true,
                        "type": "pie"
                      }
                    ],
                    "scatter": [
                      {
                        "fillpattern": {
                          "fillmode": "overlay",
                          "size": 10,
                          "solidity": 0.2
                        },
                        "type": "scatter"
                      }
                    ],
                    "scatter3d": [
                      {
                        "line": {
                          "colorbar": {
                            "outlinewidth": 0,
                            "ticks": ""
                          }
                        },
                        "marker": {
                          "colorbar": {
                            "outlinewidth": 0,
                            "ticks": ""
                          }
                        },
                        "type": "scatter3d"
                      }
                    ],
                    "scattercarpet": [
                      {
                        "marker": {
                          "colorbar": {
                            "outlinewidth": 0,
                            "ticks": ""
                          }
                        },
                        "type": "scattercarpet"
                      }
                    ],
                    "scattergeo": [
                      {
                        "marker": {
                          "colorbar": {
                            "outlinewidth": 0,
                            "ticks": ""
                          }
                        },
                        "type": "scattergeo"
                      }
                    ],
                    "scattergl": [
                      {
                        "marker": {
                          "colorbar": {
                            "outlinewidth": 0,
                            "ticks": ""
                          }
                        },
                        "type": "scattergl"
                      }
                    ],
                    "scattermapbox": [
                      {
                        "marker": {
                          "colorbar": {
                            "outlinewidth": 0,
                            "ticks": ""
                          }
                        },
                        "type": "scattermapbox"
                      }
                    ],
                    "scatterpolar": [
                      {
                        "marker": {
                          "colorbar": {
                            "outlinewidth": 0,
                            "ticks": ""
                          }
                        },
                        "type": "scatterpolar"
                      }
                    ],
                    "scatterpolargl": [
                      {
                        "marker": {
                          "colorbar": {
                            "outlinewidth": 0,
                            "ticks": ""
                          }
                        },
                        "type": "scatterpolargl"
                      }
                    ],
                    "scatterternary": [
                      {
                        "marker": {
                          "colorbar": {
                            "outlinewidth": 0,
                            "ticks": ""
                          }
                        },
                        "type": "scatterternary"
                      }
                    ],
                    "surface": [
                      {
                        "colorbar": {
                          "outlinewidth": 0,
                          "ticks": ""
                        },
                        "colorscale": [
                          [
                            0,
                            "#0d0887"
                          ],
                          [
                            0.1111111111111111,
                            "#46039f"
                          ],
                          [
                            0.2222222222222222,
                            "#7201a8"
                          ],
                          [
                            0.3333333333333333,
                            "#9c179e"
                          ],
                          [
                            0.4444444444444444,
                            "#bd3786"
                          ],
                          [
                            0.5555555555555556,
                            "#d8576b"
                          ],
                          [
                            0.6666666666666666,
                            "#ed7953"
                          ],
                          [
                            0.7777777777777778,
                            "#fb9f3a"
                          ],
                          [
                            0.8888888888888888,
                            "#fdca26"
                          ],
                          [
                            1,
                            "#f0f921"
                          ]
                        ],
                        "type": "surface"
                      }
                    ],
                    "table": [
                      {
                        "cells": {
                          "fill": {
                            "color": "#EBF0F8"
                          },
                          "line": {
                            "color": "white"
                          }
                        },
                        "header": {
                          "fill": {
                            "color": "#C8D4E3"
                          },
                          "line": {
                            "color": "white"
                          }
                        },
                        "type": "table"
                      }
                    ]
                  },
                  "layout": {
                    "annotationdefaults": {
                      "arrowcolor": "#2a3f5f",
                      "arrowhead": 0,
                      "arrowwidth": 1
                    },
                    "autotypenumbers": "strict",
                    "coloraxis": {
                      "colorbar": {
                        "outlinewidth": 0,
                        "ticks": ""
                      }
                    },
                    "colorscale": {
                      "diverging": [
                        [
                          0,
                          "#8e0152"
                        ],
                        [
                          0.1,
                          "#c51b7d"
                        ],
                        [
                          0.2,
                          "#de77ae"
                        ],
                        [
                          0.3,
                          "#f1b6da"
                        ],
                        [
                          0.4,
                          "#fde0ef"
                        ],
                        [
                          0.5,
                          "#f7f7f7"
                        ],
                        [
                          0.6,
                          "#e6f5d0"
                        ],
                        [
                          0.7,
                          "#b8e186"
                        ],
                        [
                          0.8,
                          "#7fbc41"
                        ],
                        [
                          0.9,
                          "#4d9221"
                        ],
                        [
                          1,
                          "#276419"
                        ]
                      ],
                      "sequential": [
                        [
                          0,
                          "#0d0887"
                        ],
                        [
                          0.1111111111111111,
                          "#46039f"
                        ],
                        [
                          0.2222222222222222,
                          "#7201a8"
                        ],
                        [
                          0.3333333333333333,
                          "#9c179e"
                        ],
                        [
                          0.4444444444444444,
                          "#bd3786"
                        ],
                        [
                          0.5555555555555556,
                          "#d8576b"
                        ],
                        [
                          0.6666666666666666,
                          "#ed7953"
                        ],
                        [
                          0.7777777777777778,
                          "#fb9f3a"
                        ],
                        [
                          0.8888888888888888,
                          "#fdca26"
                        ],
                        [
                          1,
                          "#f0f921"
                        ]
                      ],
                      "sequentialminus": [
                        [
                          0,
                          "#0d0887"
                        ],
                        [
                          0.1111111111111111,
                          "#46039f"
                        ],
                        [
                          0.2222222222222222,
                          "#7201a8"
                        ],
                        [
                          0.3333333333333333,
                          "#9c179e"
                        ],
                        [
                          0.4444444444444444,
                          "#bd3786"
                        ],
                        [
                          0.5555555555555556,
                          "#d8576b"
                        ],
                        [
                          0.6666666666666666,
                          "#ed7953"
                        ],
                        [
                          0.7777777777777778,
                          "#fb9f3a"
                        ],
                        [
                          0.8888888888888888,
                          "#fdca26"
                        ],
                        [
                          1,
                          "#f0f921"
                        ]
                      ]
                    },
                    "colorway": [
                      "#636efa",
                      "#EF553B",
                      "#00cc96",
                      "#ab63fa",
                      "#FFA15A",
                      "#19d3f3",
                      "#FF6692",
                      "#B6E880",
                      "#FF97FF",
                      "#FECB52"
                    ],
                    "font": {
                      "color": "#2a3f5f"
                    },
                    "geo": {
                      "bgcolor": "white",
                      "lakecolor": "white",
                      "landcolor": "#E5ECF6",
                      "showlakes": true,
                      "showland": true,
                      "subunitcolor": "white"
                    },
                    "hoverlabel": {
                      "align": "left"
                    },
                    "hovermode": "closest",
                    "mapbox": {
                      "style": "light"
                    },
                    "paper_bgcolor": "white",
                    "plot_bgcolor": "#E5ECF6",
                    "polar": {
                      "angularaxis": {
                        "gridcolor": "white",
                        "linecolor": "white",
                        "ticks": ""
                      },
                      "bgcolor": "#E5ECF6",
                      "radialaxis": {
                        "gridcolor": "white",
                        "linecolor": "white",
                        "ticks": ""
                      }
                    },
                    "scene": {
                      "xaxis": {
                        "backgroundcolor": "#E5ECF6",
                        "gridcolor": "white",
                        "gridwidth": 2,
                        "linecolor": "white",
                        "showbackground": true,
                        "ticks": "",
                        "zerolinecolor": "white"
                      },
                      "yaxis": {
                        "backgroundcolor": "#E5ECF6",
                        "gridcolor": "white",
                        "gridwidth": 2,
                        "linecolor": "white",
                        "showbackground": true,
                        "ticks": "",
                        "zerolinecolor": "white"
                      },
                      "zaxis": {
                        "backgroundcolor": "#E5ECF6",
                        "gridcolor": "white",
                        "gridwidth": 2,
                        "linecolor": "white",
                        "showbackground": true,
                        "ticks": "",
                        "zerolinecolor": "white"
                      }
                    },
                    "shapedefaults": {
                      "line": {
                        "color": "#2a3f5f"
                      }
                    },
                    "ternary": {
                      "aaxis": {
                        "gridcolor": "white",
                        "linecolor": "white",
                        "ticks": ""
                      },
                      "baxis": {
                        "gridcolor": "white",
                        "linecolor": "white",
                        "ticks": ""
                      },
                      "bgcolor": "#E5ECF6",
                      "caxis": {
                        "gridcolor": "white",
                        "linecolor": "white",
                        "ticks": ""
                      }
                    },
                    "title": {
                      "x": 0.05
                    },
                    "xaxis": {
                      "automargin": true,
                      "gridcolor": "white",
                      "linecolor": "white",
                      "ticks": "",
                      "title": {
                        "standoff": 15
                      },
                      "zerolinecolor": "white",
                      "zerolinewidth": 2
                    },
                    "yaxis": {
                      "automargin": true,
                      "gridcolor": "white",
                      "linecolor": "white",
                      "ticks": "",
                      "title": {
                        "standoff": 15
                      },
                      "zerolinecolor": "white",
                      "zerolinewidth": 2
                    }
                  }
                },
                "title": {
                  "text": "Relative error in central difference"
                },
                "width": 640,
                "xaxis": {
                  "anchor": "y",
                  "domain": [
                    0,
                    1
                  ],
                  "title": {
                    "text": "step size (h)"
                  },
                  "type": "log"
                },
                "yaxis": {
                  "anchor": "x",
                  "domain": [
                    0,
                    1
                  ],
                  "title": {
                    "text": "relative error"
                  },
                  "type": "log"
                }
              }
            }
          },
          "metadata": {},
          "output_type": "display_data"
        }
      ],
      "source": [
        "def f(x):\n",
        "    '''our test funcion f'''\n",
        "    return x*np.exp(x)\n",
        "\n",
        "\n",
        "def df(x):\n",
        "    '''derivative of f'''\n",
        "    return (x+1)*np.exp(x)\n",
        "\n",
        "\n",
        "# derivative of f at x0\n",
        "x0 = 2\n",
        "\n",
        "# steps to use\n",
        "hs = [2**-i for i in range(3, 40)]\n",
        "\n",
        "errel = []\n",
        "for h in hs:\n",
        "    errel.append(100*abs(central(f, x0, h) - df(x0))/df(x0))\n",
        "\n",
        "fig = px.scatter(x=hs,\n",
        "                 y=errel,\n",
        "                 title='Relative error in central difference', \n",
        "                 log_x=True, \n",
        "                 log_y=True, \n",
        "                 width=640,\n",
        "                 labels={\n",
        "                     \"x\": \"step size (h)\",\n",
        "                     \"y\": \"relative error\"}\n",
        "                 )\n",
        "fig.show()\n"
      ]
    },
    {
      "attachments": {},
      "cell_type": "markdown",
      "metadata": {},
      "source": [
        "## Aproximações para a derivada segunda\n",
        "\n",
        "Expressões para derivadas de ordem superior podem ser obtidas com o mesmo procedimento com o qual obtivemos as fórmulas para a derivada primeira, isto é, por meio de manipulações adequadas da série de Taylor. Como exemplo, vamos determinar uma aproximação de diferenças centrais de segunda ordem para a segunda derivada de $f$. Para tal vamos utilizar ainda as expansões em série de Taylor anteriores. Queremos combiná-las para que a primeira derivada de $f$ seja eliminada, pois estamos interessados na segunda derivada. Por sua vez, as derivadas de ordem superior a dois que permanecerem na expansão farão parte do ELT. Assim,\n",
        "\n",
        "\\begin{equation*}\n",
        "f(x_i + \\Delta x) - f(x_i - \\Delta x) = 2f(x_i) + (\\Delta x)^2 \\left.\\frac{d^2f}{dx^2}\\right|_{x_i} + \\mathcal O(\\Delta x)^4.\n",
        "\\end{equation*}\n",
        "\n",
        "Rearranjando os termos, obtemos\n",
        "\n",
        "\\begin{equation*}\n",
        "f''_i  = \\frac{{f_{i + 1}  - 2f_i  + f_{i - 1} }}\n",
        "{{h^2}} + \\mathcal O(h^2),\n",
        "\\end{equation*}\n",
        "\n",
        "que é a fórmula de diferenças finitas centrais de segunda ordem para derivadas segundas. Esta expressão é a aproximação mais comum encontrada na literatura para derivadas de segunda ordem.\n",
        "\n",
        "Aproximações de diferenças avançadas e atrasadas de $\\mathcal O(\\Delta x)$ para a segunda derivada podem ser obtidas manipulando-se convenientemente as expansões de $f(x_i\\pm\\Delta x)$ e $f(x_i\\pm 2\\Delta x)$, nesse caso toma-se os sinais positivos para a aproximação avançada e os negativos para a atrasada. Aproximações avançadas e atrasadas de ordem superior podem também ser obtidas pelas expansões em série de Taylor, simplesmente utilizando mais termos dessa série.\n",
        "\n",
        "Nos casos em que o problema é dependente do tempo devemos considerar a expansão em série de Taylor de uma função de duas variáveis independentes, supondo que $f=f(x,t)$, a expansão em torno do ponto $x_i$ fornece:\n",
        "\n",
        "\\begin{gather*}\n",
        "f(x_i + \\Delta x, t) = f(x_i, t) + (\\Delta x)\\left.\\frac{\\partial f}{\\partial x}\\right|_{x_i} +\n",
        "\\frac{{(\\Delta x)^2}}{{2!}}\\left.\\frac{\\partial^2f}{\\partial x^2}\\right|_{x_i} + \\cdots\\,, \\\\\n",
        "f(x_i - \\Delta x, t) = f(x_i, t) - (\\Delta x)\\left.\\frac{\\partial f}{\\partial x}\\right|_{x_i} +\n",
        "\\frac{{(\\Delta x)^2}}{{2!}}\\left.\\frac{\\partial^2f}{\\partial x^2}\\right|_{x_i} + \\cdots\\,.\n",
        "\\end{gather*}\n",
        "\n",
        "Assim, podemos gerar aproximações de primeira ou segunda ordem para as\n",
        "derivadas parciais, como por exemplo:\n",
        "\n",
        "\\begin{align*}\n",
        "\\left.\\frac{\\partial f}{\\partial x}\\right|_{x_i} &= \\frac{{f(x_i + \\Delta x, t) - f(x_i, t)}}{\\Delta x} + \\mathcal O(\\Delta x), && \\text{(avançada)}\\\\[6pt]\n",
        "\\left.\\frac{\\partial f}{\\partial x}\\right|_{x_i} &= \\frac{{f(x_i, t) - f(x_i - \\Delta x, t)}}{\\Delta x} + \\mathcal O(\\Delta x), && \\text{(atrasada)}\\\\[6pt]\n",
        "\\left.\\frac{\\partial f}{\\partial x}\\right|_{x_i} &= \\frac{{f(x_i + \\Delta x, t) - f(x_i - \\Delta x, t)}}{{2\\Delta x}} + \\mathcal O(\\Delta x)^2 && \\text{(central)}\\\\\n",
        "\\left.\\frac{\\partial^2f}{\\partial x^2}\\right|_{x_i} &= \\frac{{f(x_i + \\Delta x, t) - 2f(x_i, t) + f(x_i - \\Delta x, t)}}{{\\Delta x^2}} + \\mathcal O(\\Delta x)^2. && \\text{(central)}\n",
        "\\end{align*}\n",
        "\n",
        "É fácil mostrar que existem expressões equivalentes para o tempo, ou seja,\n",
        "\n",
        "\\begin{align*}\n",
        "\\left.\\frac{\\partial f}{\\partial t}\\right|_{t_i} &= \\frac{{f(x, t_i+\\Delta t) - f(x, t_i)}}{\\Delta t} + \\mathcal O(\\Delta t), && \\text{(avançada)}\\\\[6pt]\n",
        "\\left.\\frac{\\partial f}{\\partial t}\\right|_{t_i} &= \\frac{{f(x, t_i) - f(x, t_i-\\Delta t)}}{\\Delta t} + \\mathcal O(\\Delta t), && \\text{(atrasada)}\\\\[6pt]\n",
        "\\left.\\frac{\\partial f}{\\partial t}\\right|_{t_i} &= \\frac{{f(x, t_i + \\Delta t) - f(x, t_i - \\Delta t)}}{{2\\Delta t}} + \\mathcal O(\\Delta t)^2 && \\text{(central)}\\\\\n",
        "\\left.\\frac{\\partial^2 f}{\\partial t^2}\\right|_{t_i} &= \\frac{{f(x, t_i + \\Delta t) - 2f(x, t_i) + f(x, t_i - \\Delta t)}}{{\\Delta t^2}} + \\mathcal O(\\Delta t)^2. && \\text{(central)}\n",
        "\\end{align*}\n",
        "\n",
        "Com as expansões em série de Taylor de $f(x,y)$ em torno do ponto $(x_i,y_j)$ — em que o índice $j$ está associado à coordenada $y$ —, podemos também determinar expressões envolvendo derivadas parciais mistas com outras variáveis espaciais, isto é, do tipo $\\frac{\\partial^2f}{\\partial x\\partial y}$.\n",
        "\n",
        "Como estamos interessados agora em obter uma expressão que relacione a variação de $f$ com incrementos em $x$ e $y$, simultaneamente, devemos utilizar a expansão em série de Taylor de funções de duas variáveis, dada por:\n",
        "\n",
        "\\begin{equation*}\n",
        "\\begin{split}\n",
        "f(x_i  + \\Delta x,y_j  + \\Delta y) &= f(x_i ,y_j ) + (\\Delta x)\\left. {\\frac{{\\partial f}}\n",
        "{{\\partial x}}} \\right|_{x_i ,y_j }  + (\\Delta y)\\left. {\\frac{{\\partial f}}\n",
        "{{\\partial y}}} \\right|_{x_i ,y_j }  + \\frac{{(\\Delta x)^2 }}\n",
        "{{2!}}\\left. {\\frac{{\\partial ^2 f}}\n",
        "{{\\partial x^2 }}} \\right|_{x_i ,y_j } \\\\\n",
        "&\\quad+ 2\\frac{{(\\Delta x)(\\Delta y)}}\n",
        "{{2!}}\\left. {\\frac{{\\partial ^2 f}}\n",
        "{{\\partial x\\partial y}}} \\right|_{x_i ,y_j }  + \\frac{{(\\Delta y)^2 }}\n",
        "{{2!}}\\left. {\\frac{{\\partial ^2 f}}\n",
        "{{\\partial y^2 }}} \\right|_{x_i ,y_j }  +  \\cdots.\n",
        "\\end{split}\n",
        "\\end{equation*}\n",
        "\n",
        "Após algumas manipulações algébricas, a combinação adequada das expansões de $f(x_i\\pm\\Delta x, y_j-\\Delta y)$ e $f(x_i\\pm\\Delta x, y_j+\\Delta y)$ até termos de segunda ordem fornece\n",
        "\n",
        "\\begin{equation*}\n",
        "\\left. {\\frac{{\\partial ^2 f}}\n",
        "{{\\partial x\\partial y}}} \\right|_{x_i ,y_j }  = \\frac{{f_{i + 1,j + 1}  - f_{i + 1,j - 1}  - f_{i - 1,j + 1}  + f_{i - 1,j - 1} }}\n",
        "{{4(\\Delta x)(\\Delta y)}} + \\mathcal O[(\\Delta x)^2 (\\Delta y)^2 ].\n",
        "\\end{equation*}"
      ]
    },
    {
      "cell_type": "code",
      "execution_count": null,
      "metadata": {},
      "outputs": [],
      "source": []
    }
  ],
  "metadata": {
    "colab": {
      "provenance": []
    },
    "kernelspec": {
      "display_name": "Python 3 (ipykernel)",
      "language": "python",
      "name": "python3"
    },
    "language_info": {
      "codemirror_mode": {
        "name": "ipython",
        "version": 3
      },
      "file_extension": ".py",
      "mimetype": "text/x-python",
      "name": "python",
      "nbconvert_exporter": "python",
      "pygments_lexer": "ipython3",
      "version": "3.10.8"
    },
    "vscode": {
      "interpreter": {
        "hash": "c6f5971c4b8f55c07f21d358e9303b9e57f31eec2f7748b3e83dfc05726d64d8"
      }
    }
  },
  "nbformat": 4,
  "nbformat_minor": 0
}
