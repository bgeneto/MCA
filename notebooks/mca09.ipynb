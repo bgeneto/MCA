{
 "cells": [
  {
   "cell_type": "markdown",
   "metadata": {
    "id": "c8ca80e5-5cf2-48fa-a048-b10764f133c3"
   },
   "source": [
    "<div class=\"unb\">\n",
    "<h1>Universidade de Brasília</h1>\n",
    "<h2>Instituto de Física</h2>\n",
    "<h3>Métodos Computacionais A (MCA)</h3>\n",
    "<h4>Prof. Bernhard Enders</h4>\n",
    "</div>"
   ]
  },
  {
   "cell_type": "markdown",
   "metadata": {
    "id": "060dc954-dbfb-4c68-99b7-35fa98d15b76"
   },
   "source": [
    "# **➲ AULA 19.12: Equações Diferenciais Ordinárias (EDO) e Problemas de Valor Inicial (PVI)**\n",
    "\n",
    "## Aproximações por Diferenças Finitas\n",
    "\n",
    "A solução de uma equação diferencial (ED) implica na determinação dos valores da variável dependente em cada ponto do intervalo de interesse. Computacionalmente, podemos lidar apenas com uma região contínua se for possível determinar uma expressão analítica para a solução da equação diferencial. Nesse caso, o computador pode ser utilizado para calcular a solução em qualquer ponto desejado da região, com o uso da solução analítica. Contudo, no caso de técnicas numéricas de solução, não é possível tratar a região de interesse como contínua, já que, em geral, os métodos numéricos obtêm a solução do problema em pontos preestabelecidos. O processo de transformação do domínio contínuo em domínio discreto é chamado de discretização, onde o conjunto de pontos discretos escolhidos para representar o domínio de interesse é chamado de malha. A Figura abaixo mostra uma malha de pontos uniformemente espaçados, o passo da malha é definido como sendo a distância entre dois pontos adjacentes e é dado por $Δx = x_i − x_{i-1}$.\n",
    "\n",
    "<div style=\"margin:auto; text-align:center; width:75%;\">\n",
    "  <center>\n",
    "  <img src=\"https://raw.githubusercontent.com/bgeneto/MCA/main/imagens/malha.png\" align=\"center\"/>\n",
    "  <p style=\"text-align:center; font-style:italic;\">\n",
    "    Uma malha de pontos uniformemente espaçados.\n",
    "  </p> \n",
    "  </center>\n",
    "</div>\n",
    "\n",
    "Para que seja possível tratar numericamente as equações diferenciais, elas devem ser expressas sob a forma de operações aritméticas que o computador possa executar. Essen- cialmente, devemos representar os operadores diferenciais (contínuos) presentes na ED por expressões algébricas (discretas), ou seja, devemos discretizar a ED. Portanto, antes de resolver a ED numericamente é preciso encontrar, para os termos que nela aparecem, as respectivas expressões escritas em função dos pontos (finitos) da malha. Essas expressões são denominadas aproximações por diferenças finitas. O resultado final desse processo é uma equação algébrica denominada equação de diferenças finitas (EDF). A EDF é escrita para cada ponto da região discretizada em que se deseja calcular a solução do problema. Resolvendo-se as EDFs, encontra-se a solução aproximada do problema. Tal solução não é exata devido a:\n",
    "\n",
    "- erros inerentes ao processo de discretização das equação;\n",
    "- erros de arredondamento nos cálculos feitos pelo computador;\n",
    "- erros na aproximação numérica das condições auxiliares.  \n",
    "\n",
    "Pode-se obter uma aproximação de diferenças finitas diretamente da definição de derivada de uma função $f$ contínua,\n",
    "\n",
    "\\begin{equation*}\n",
    "\\frac{df}{dx} = \\lim_{\\Delta x\\to 0}\\frac{f(x+\\Delta x)-f(x)}{\\Delta x}.\n",
    "\\end{equation*}\n",
    "\n",
    "Para tanto, basta que $\\Delta x$ assuma um valor fixo (não-nulo) — que chamaremos de $h$ — ao invés de tender a zero, para que o lado direito da equação represente uma aproximação (avançada) de diferenças finitas:\n",
    "\n",
    "\\begin{equation*}\n",
    "\\frac{df}{dx} \\approx \\frac{f(x+h)-f(x)}{h}.\n",
    "\\end{equation*}\n",
    "\n",
    "Desse modo, utilizando-se dois valores de $f$ separados por uma distância (finita) $\\Delta x$, a expressão representa uma aproximação algébrica para a primeira derivada de $f$. Essa situação está ilustrada na figura abaixo, onde os dois pontos, $x$ e $x+\\Delta x$, afastados entre si por uma distância $\\Delta x$, formam a reta secante cuja declividade serve de aproximação para a derivada da função $f$ no ponto $x$. Quando a separação $\\Delta x$ diminui, a reta secante se aproxima da reta tangente (derivada real), melhorando assim o valor estimado para a derivada.\n",
    "\n",
    "\n",
    "<div style=\"margin:auto; text-align:center; width:75%;\">\n",
    "  <center>\n",
    "  <img src=\"https://raw.githubusercontent.com/bgeneto/MCA/main/imagens/derivada.png\" align=\"center\"/>\n",
    "  <p style=\"text-align:center; font-style:italic;\">\n",
    "    Aproximação da derivada primeira da função genérica f(x) no ponto x por uma reta secante.\n",
    "  </p> \n",
    "  </center>\n",
    "</div>\n",
    "\n",
    "Aproximações de diferenças finitas, como a mostrada anteriormente, podem ser obtidas de várias formas. As técnicas mais comuns são a expansão em série de Taylor e a interpolação polinomial. O método da expansão em série de Taylor será utilizado na obtenção de aproximações de diferenças finitas de primeira e segunda ordem para as derivadas primeira, segunda e mista de uma função $f$. A técnica de interpolação é geralmente utilizada no contexto em que se faz necessário o uso de malhas cujo espaçamento não é uniforme.\n"
   ]
  },
  {
   "cell_type": "markdown",
   "metadata": {},
   "source": [
    "## Implementação em Python\n",
    "\n",
    "Vamos agora implementar as aproximações obtidas aqui em um módulo python."
   ]
  },
  {
   "cell_type": "code",
   "execution_count": 12,
   "metadata": {},
   "outputs": [
    {
     "data": {
      "text/html": [
       "\n",
       "    <style>\n",
       "    div.unb {    \n",
       "      background-image: linear-gradient(rgba(255,255,255,0.5), rgba(255,255,255,0.5)), url(\"https://upload.wikimedia.org/wikipedia/commons/c/c3/Webysther_20160322_-_Logo_UnB_%28sem_texto%29.svg\");\n",
       "      background-repeat: no-repeat;\n",
       "      background-size: 50% auto;\n",
       "      background-position: left center;\n",
       "    }    \n",
       "    div.aviso {    \n",
       "      color: #356A89;\n",
       "      background-color: #D4EAF7;\n",
       "      border-left: 5px solid #3C82E3;\n",
       "      padding: 0.5em;\n",
       "    }\n",
       "    </style>  \n",
       "    "
      ],
      "text/plain": [
       "<IPython.core.display.HTML object>"
      ]
     },
     "metadata": {},
     "output_type": "display_data"
    },
    {
     "data": {
      "text/html": [
       "\n",
       "    <style>\n",
       "    div.unb {    \n",
       "      background-image: linear-gradient(rgba(255,255,255,0.5), rgba(255,255,255,0.5)), url(\"https://upload.wikimedia.org/wikipedia/commons/c/c3/Webysther_20160322_-_Logo_UnB_%28sem_texto%29.svg\");\n",
       "      background-repeat: no-repeat;\n",
       "      background-size: 50% auto;\n",
       "      background-position: left center;\n",
       "    }    \n",
       "    div.aviso {    \n",
       "      color: #356A89;\n",
       "      background-color: #D4EAF7;\n",
       "      border-left: 5px solid #3C82E3;\n",
       "      padding: 0.5em;\n",
       "    }\n",
       "    </style>  \n",
       "    "
      ],
      "text/plain": [
       "<IPython.core.display.HTML object>"
      ]
     },
     "metadata": {},
     "output_type": "display_data"
    }
   ],
   "source": [
    "import math\n",
    "import numpy as np\n",
    "\n",
    "x0 = math.pi\n",
    "\n",
    "\n",
    "def f(x):\n",
    "    return np.sin(1/x)\n",
    "\n",
    "\n",
    "def g(x):\n",
    "    return x*x\n"
   ]
  },
  {
   "cell_type": "code",
   "execution_count": 13,
   "metadata": {
    "tags": [
     "hide-input"
    ]
   },
   "outputs": [
    {
     "data": {
      "text/html": [
       "\n",
       "    <style>\n",
       "    div.unb {    \n",
       "      background-image: linear-gradient(rgba(255,255,255,0.5), rgba(255,255,255,0.5)), url(\"https://upload.wikimedia.org/wikipedia/commons/c/c3/Webysther_20160322_-_Logo_UnB_%28sem_texto%29.svg\");\n",
       "      background-repeat: no-repeat;\n",
       "      background-size: 50% auto;\n",
       "      background-position: left center;\n",
       "    }    \n",
       "    div.aviso {    \n",
       "      color: #356A89;\n",
       "      background-color: #D4EAF7;\n",
       "      border-left: 5px solid #3C82E3;\n",
       "      padding: 0.5em;\n",
       "    }\n",
       "    </style>  \n",
       "    "
      ],
      "text/plain": [
       "<IPython.core.display.HTML object>"
      ]
     },
     "metadata": {},
     "output_type": "display_data"
    },
    {
     "data": {
      "text/html": [
       "\n",
       "    <style>\n",
       "    div.unb {    \n",
       "      background-image: linear-gradient(rgba(255,255,255,0.5), rgba(255,255,255,0.5)), url(\"https://upload.wikimedia.org/wikipedia/commons/c/c3/Webysther_20160322_-_Logo_UnB_%28sem_texto%29.svg\");\n",
       "      background-repeat: no-repeat;\n",
       "      background-size: 50% auto;\n",
       "      background-position: left center;\n",
       "    }    \n",
       "    div.aviso {    \n",
       "      color: #356A89;\n",
       "      background-color: #D4EAF7;\n",
       "      border-left: 5px solid #3C82E3;\n",
       "      padding: 0.5em;\n",
       "    }\n",
       "    </style>  \n",
       "    "
      ],
      "text/plain": [
       "<IPython.core.display.HTML object>"
      ]
     },
     "metadata": {},
     "output_type": "display_data"
    }
   ],
   "source": [
    "from IPython.display import Math, HTML, display\n",
    "\n",
    "def css_styling():\n",
    "  display(HTML(\n",
    "    \"\"\"\n",
    "    <style>\n",
    "    div.unb {    \n",
    "      background-image: linear-gradient(rgba(255,255,255,0.5), rgba(255,255,255,0.5)), url(\"https://upload.wikimedia.org/wikipedia/commons/c/c3/Webysther_20160322_-_Logo_UnB_%28sem_texto%29.svg\");\n",
    "      background-repeat: no-repeat;\n",
    "      background-size: 50% auto;\n",
    "      background-position: left center;\n",
    "    }    \n",
    "    div.aviso {    \n",
    "      color: #356A89;\n",
    "      background-color: #D4EAF7;\n",
    "      border-left: 5px solid #3C82E3;\n",
    "      padding: 0.5em;\n",
    "    }\n",
    "    </style>  \n",
    "    \"\"\"\n",
    "  ))\n",
    "\n",
    "get_ipython().events.register('pre_run_cell', css_styling)"
   ]
  },
  {
   "cell_type": "code",
   "execution_count": null,
   "metadata": {},
   "outputs": [],
   "source": []
  }
 ],
 "metadata": {
  "colab": {
   "provenance": []
  },
  "kernelspec": {
   "display_name": "Python 3 (ipykernel)",
   "language": "python",
   "name": "python3"
  },
  "language_info": {
   "codemirror_mode": {
    "name": "ipython",
    "version": 3
   },
   "file_extension": ".py",
   "mimetype": "text/x-python",
   "name": "python",
   "nbconvert_exporter": "python",
   "pygments_lexer": "ipython3",
   "version": "3.9.2"
  },
  "toc-showmarkdowntxt": false,
  "toc-showtags": true,
  "vscode": {
   "interpreter": {
    "hash": "c6f5971c4b8f55c07f21d358e9303b9e57f31eec2f7748b3e83dfc05726d64d8"
   }
  }
 },
 "nbformat": 4,
 "nbformat_minor": 4
}
