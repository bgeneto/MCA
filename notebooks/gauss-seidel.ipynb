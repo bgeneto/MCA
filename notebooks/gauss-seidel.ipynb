{
 "cells": [
  {
   "cell_type": "code",
   "execution_count": 13,
   "id": "efaadc2b-fd87-45c8-a0e3-10c63e683bf8",
   "metadata": {},
   "outputs": [
    {
     "name": "stdout",
     "output_type": "stream",
     "text": [
      "(55, [-0.8920917350693124, 2.8071462032478927, -0.35659340708848203])\n",
      "(55, [-0.8920917350693124, 2.8071462032478927, -0.35659340708848203])\n",
      "(50, [-0.889136280293271, 2.8013797523989283, -0.35550969776238406])\n",
      "(50, [-0.889136280293271, 2.8013797523989283, -0.35550969776238406])\n",
      "numpy [-0.89628582  2.81532937 -0.3581313 ]\n",
      "scipy [-0.89628582  2.81532937 -0.3581313 ]\n"
     ]
    }
   ],
   "source": [
    "import math\n",
    "import numpy as np \n",
    "import scipy as sp\n",
    "\n",
    "# ativando modo livro/literal...\n",
    "def gauss_seidel1(a, b, x0, tol, maxiter=1000):\n",
    "    n = len(b)\n",
    "    x = x0[:]\n",
    "    k = 0\n",
    "    while k < maxiter:\n",
    "        for i in range(n):\n",
    "            s = 0.0\n",
    "            for j in range(n):\n",
    "                if j < i:\n",
    "                    s = s + a[i][j]*x[j]\n",
    "                elif j > i:\n",
    "                    s = s + a[i][j]*x0[j]\n",
    "            # calcula o novo valor \n",
    "            x[i] = (b[i] - s)/a[i][i]\n",
    "        # no livro isso (incremento) está no passo/posição errada\n",
    "        k = k + 1\n",
    "        # no critério de convergência o livro fala uma coisa no texto (norma inf)\n",
    "        # mas faz outra (norma 2) no algoritmo 7.2 (passo 4)\n",
    "        if all(abs(x[i] - x0[i]) < tol for i in range(n)):\n",
    "            break\n",
    "        for i in range(n):\n",
    "            x0[i] = x[i] \n",
    "    return k, x\n",
    "\n",
    "\n",
    "# ativando modo tolo...\n",
    "def gauss_seidel2(a, b, x0, tol, maxiter=1000):\n",
    "    n = len(b)\n",
    "    x = x0[:]\n",
    "    k = 0\n",
    "    while k < maxiter:\n",
    "        k = k + 1\n",
    "        for i in range(n):\n",
    "            s = 0.0\n",
    "            for j in range(n):\n",
    "                if j == i:\n",
    "                    continue\n",
    "                s = s + a[i][j]*x[j]\n",
    "            # guarda o valor antigo antes de atualizar\n",
    "            x0[i] = x[i]\n",
    "            # agora atualizamos o valor \n",
    "            x[i] = (b[i] - s)/a[i][i]\n",
    "        # no critério de convergência o livro fala uma coisa no texto (norma inf)\n",
    "        # mas faz outra (norma 2) no algoritmo 7.2 (passo 4)\n",
    "        if all(abs(x[i] - x0[i]) < tol for i in range(n)):\n",
    "            break\n",
    "    return k, x\n",
    "\n",
    "\n",
    "# ativando modo esperto (eu acho)...\n",
    "def gauss_seidel3(a, b, x0, tol, maxiter=1000):\n",
    "    n = len(b)\n",
    "    x_old = x0.copy()\n",
    "    x = x0.copy()\n",
    "    k = 0\n",
    "    for k in range(1, int(maxiter)+1):\n",
    "        for i in range(n):\n",
    "            # jeito mais \"pythônico\" de somar condicionalmente :-)\n",
    "            s = sum(a[i][j]*x[j] for j in range(n) if j != i)\n",
    "            # guarda o valor antigo antes de atualizar\n",
    "            x_old[i] = x[i]\n",
    "            # agora atualizamos o valor \n",
    "            x[i] = (b[i] - s)/a[i,i]\n",
    "        # usando critério de convergência melhor (erro percentual)\n",
    "        if all(abs(x[i] - x_old[i])/abs(x[i]) < tol for i in range(n)):\n",
    "            return k, x\n",
    "    return k, x\n",
    "\n",
    "\n",
    "# ativando modo IA (solução do chatgpt)...\n",
    "def gauss_seidel_chatgpt(A, b, x0, tolerance, max_iterations=1000):\n",
    "    n = len(A)\n",
    "    x = x0.copy()\n",
    "    iteration = 0\n",
    "    for iteration in range(1, int(max_iterations)+1):\n",
    "        x_new = x.copy()\n",
    "        for i in range(n):\n",
    "            s = np.dot(A[i, :i], x_new[:i]) + np.dot(A[i, i + 1:], x[i + 1:])\n",
    "            x_new[i] = (b[i] - s) / A[i, i]\n",
    "        if np.allclose(x, x_new, rtol=tolerance):\n",
    "            return iteration, x_new\n",
    "        x = x_new\n",
    "    return iteration, x\n",
    "\n",
    "# define no problema/exemplo:\n",
    "#a = [[10, -1, 2, 0], [-1, 11, -1, 3], [2, -1, 10, -1], [0, 3, -1, 8]]\n",
    "#b = [6, 25, -11, 15]\n",
    "#n = len(b)\n",
    "\n",
    "n = 3\n",
    "a = np.random.rand(n,n)\n",
    "b = np.random.rand(n,)\n",
    "\n",
    "# tolerância \n",
    "tol = 1e-3\n",
    "\n",
    "x0 = [0]*n\n",
    "print(gauss_seidel1(a, b, x0, tol))\n",
    "\n",
    "# como a rotina usa/reaproveita a variável x0 \n",
    "# temos que reinicializar os valores \n",
    "x0 = [0]*n\n",
    "print(gauss_seidel2(a, b, x0, tol))\n",
    "\n",
    "x0 = [0]*n\n",
    "print(gauss_seidel3(a, b, x0, tol))\n",
    "\n",
    "x0 = [0]*n\n",
    "print(gauss_seidel_chatgpt(a, b, x0, tol))\n",
    "\n",
    "print('numpy', np.linalg.solve(a, b))\n",
    "\n",
    "print('scipy', sp.linalg.solve(a, b))"
   ]
  },
  {
   "cell_type": "code",
   "execution_count": 17,
   "id": "bfa3f7d3-c748-4ffa-9443-dd4bb3d00abd",
   "metadata": {},
   "outputs": [
    {
     "name": "stdout",
     "output_type": "stream",
     "text": [
      "5.63 µs ± 34.4 ns per loop (mean ± std. dev. of 7 runs, 100,000 loops each)\n"
     ]
    }
   ],
   "source": [
    "%%timeit\n",
    "x0 = [0]*n\n",
    "# livro (método mais tolo ainda)\n",
    "gauss_seidel1(a, b, x0, n, tol)"
   ]
  },
  {
   "cell_type": "code",
   "execution_count": 18,
   "id": "d39089dd-7bfc-4dba-9987-79df78e280c8",
   "metadata": {},
   "outputs": [
    {
     "name": "stdout",
     "output_type": "stream",
     "text": [
      "5.63 µs ± 29.8 ns per loop (mean ± std. dev. of 7 runs, 100,000 loops each)\n"
     ]
    }
   ],
   "source": [
    "%%timeit\n",
    "x0 = [0]*n\n",
    "# implementação tola\n",
    "gauss_seidel2(a, b, x0, n, tol)"
   ]
  },
  {
   "cell_type": "code",
   "execution_count": 19,
   "id": "88abc03b-f1a6-497f-af83-38275f61dfa1",
   "metadata": {},
   "outputs": [
    {
     "name": "stdout",
     "output_type": "stream",
     "text": [
      "652 ns ± 5.55 ns per loop (mean ± std. dev. of 7 runs, 1,000,000 loops each)\n"
     ]
    }
   ],
   "source": [
    "%%timeit\n",
    "x0 = [0]*n\n",
    "# implementação esperta (esperança é a última que morre)\n",
    "gauss_seidel3(a, b, x0, n, tol)"
   ]
  },
  {
   "cell_type": "code",
   "execution_count": 20,
   "id": "50d3bb06-4093-4990-ab7f-c625d1127375",
   "metadata": {},
   "outputs": [
    {
     "name": "stdout",
     "output_type": "stream",
     "text": [
      "473 ns ± 4.26 ns per loop (mean ± std. dev. of 7 runs, 1,000,000 loops each)\n"
     ]
    }
   ],
   "source": [
    "%%timeit\n",
    "x0 = [0]*n\n",
    "# chatgpt\n",
    "gauss_seidel_chatgpt(a, b, x0, n, tol)"
   ]
  },
  {
   "cell_type": "code",
   "execution_count": 21,
   "id": "f1cbe86c-a7a4-4acd-97f2-27c18c1543ac",
   "metadata": {},
   "outputs": [
    {
     "name": "stdout",
     "output_type": "stream",
     "text": [
      "4.39 µs ± 19.3 ns per loop (mean ± std. dev. of 7 runs, 100,000 loops each)\n"
     ]
    }
   ],
   "source": [
    "%%timeit \n",
    "x = np.linalg.solve(a, b)"
   ]
  },
  {
   "cell_type": "code",
   "execution_count": 22,
   "id": "bb82e9f8-d211-48a0-b96e-997077e7204c",
   "metadata": {},
   "outputs": [
    {
     "name": "stdout",
     "output_type": "stream",
     "text": [
      "17.5 µs ± 88.7 ns per loop (mean ± std. dev. of 7 runs, 100,000 loops each)\n"
     ]
    }
   ],
   "source": [
    "%%timeit\n",
    "x = sp.linalg.solve(a, b)"
   ]
  },
  {
   "cell_type": "code",
   "execution_count": null,
   "id": "cad906f9-5a38-4301-a750-a3b26dec4ddc",
   "metadata": {},
   "outputs": [],
   "source": []
  }
 ],
 "metadata": {
  "kernelspec": {
   "display_name": "Python 3 (ipykernel)",
   "language": "python",
   "name": "python3"
  },
  "language_info": {
   "codemirror_mode": {
    "name": "ipython",
    "version": 3
   },
   "file_extension": ".py",
   "mimetype": "text/x-python",
   "name": "python",
   "nbconvert_exporter": "python",
   "pygments_lexer": "ipython3",
   "version": "3.10.5"
  }
 },
 "nbformat": 4,
 "nbformat_minor": 5
}
