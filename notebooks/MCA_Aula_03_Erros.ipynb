{
  "nbformat": 4,
  "nbformat_minor": 0,
  "metadata": {
    "colab": {
      "provenance": []
    },
    "kernelspec": {
      "name": "python3",
      "display_name": "Python 3"
    },
    "language_info": {
      "name": "python"
    }
  },
  "cells": [
    {
      "cell_type": "markdown",
      "source": [
        "<div class=\"markdown-google-sans\">\n",
        "\n",
        "# Universidade de Brasília\n",
        "## Instituto de Física\n",
        "---\n",
        "### Métodos Computacionais A (MCA) - Prof. Bernhard Enders\n",
        "---\n",
        "\n",
        "</div>"
      ],
      "metadata": {
        "id": "qs-b4OP4hzWm"
      }
    },
    {
      "cell_type": "markdown",
      "source": [
        "<div class=\"markdown-google-sans\">\n",
        "\n",
        "## **➲ Aula 03 - Erros Numéricos**\n",
        "\n",
        "### ➥ Fiz tudo certo mas o resultado está errado!\n",
        "\n",
        "Vejamos um exemplo no qual erros de cancelamento e arredondamento pode ocorrer.\n",
        "A área de um triângulo qualquer pode ser calculada usando a Fórmula de Herão (ou Heron de Alexandria):\n",
        "\n",
        "$$\n",
        "\\sqrt{p(p-a)(p-b)(p-c)}\n",
        "$$\n",
        "\n",
        "sendo a, b e c os comprimentos dos lados do triângulo e $p=\\frac{a+b+c}{2}$ o semiperímetro do triângulo.\n",
        "\n",
        "**<font color='red'>Exercício 1:</font>** Determine a área do triângulo retângulo de lados a=3, b=4 e c=5 usando a fórmula tradicional $A = \\frac{B \\times h}{2}$ e compare seu resultado usando a fórmula de Herão. \n",
        "\n",
        "</div>"
      ],
      "metadata": {
        "id": "mcfrEwo0ruK4"
      }
    },
    {
      "cell_type": "code",
      "source": [
        "# lados do triângulo\n",
        "a=3; b=4; c=5;\n",
        "area = (b*a)/2.0\n",
        "print(area)\n",
        "import math\n",
        "p = (a + b + c)/2.0\n",
        "area2 = math.sqrt(p*(p-a)*(p-b)*(p-c))\n",
        "print(area2)"
      ],
      "metadata": {
        "id": "yTwqTarPsAtZ",
        "colab": {
          "base_uri": "https://localhost:8080/"
        },
        "outputId": "5cf0fd83-e3a3-4412-8080-09b7acd5d4fd"
      },
      "execution_count": null,
      "outputs": [
        {
          "output_type": "stream",
          "name": "stdout",
          "text": [
            "6.0\n",
            "6.0\n"
          ]
        }
      ]
    },
    {
      "cell_type": "markdown",
      "source": [
        "<div class=\"markdown-google-sans\">\n",
        "\n",
        "**<font color='red'>Exercício 2:</font>** Repita o exercício anterior para os seguintes triângulos\n",
        "\n",
        "(A) a=100000; b=99999.99979; c=0.00029\n",
        "\n",
        "(B) a=100000; b=100000; c=1.00005\n",
        "\n",
        "(C) a=99999.99996; b=99999.99994; c=0.00003\n",
        "\n",
        "</div>"
      ],
      "metadata": {
        "id": "0wBXF3a_tx9I"
      }
    },
    {
      "cell_type": "code",
      "source": [
        "# (A)\n",
        "a=100000; b=99999.99979; c=0.00029\n",
        "area = (b*a)/2.0\n",
        "print(area)\n",
        "import math\n",
        "p = (a + b + c)/2.0\n",
        "area2 = math.sqrt(p*(p-a)*(p-b)*(p-c))\n",
        "print(area2)"
      ],
      "metadata": {
        "colab": {
          "base_uri": "https://localhost:8080/"
        },
        "id": "7e8DeggMq6Qf",
        "outputId": "8072a58d-a250-4004-85a8-b07a7cb2c93d"
      },
      "execution_count": null,
      "outputs": [
        {
          "output_type": "stream",
          "name": "stdout",
          "text": [
            "4999999989.5\n",
            "9.999999809638329\n"
          ]
        }
      ]
    },
    {
      "cell_type": "code",
      "source": [
        "# (B)\n",
        "a=100000; b=100000; c=1.00005\n",
        "area = (b*a)/2.0\n",
        "print(area)\n",
        "import math\n",
        "p = (a + b + c)/2.0\n",
        "area2 = math.sqrt(p*(p-a)*(p-b)*(p-c))\n",
        "print(area2)"
      ],
      "metadata": {
        "colab": {
          "base_uri": "https://localhost:8080/"
        },
        "id": "FiNv_LZGrbUb",
        "outputId": "0f825da9-6032-4074-a93a-788222f53d1f"
      },
      "execution_count": null,
      "outputs": [
        {
          "output_type": "stream",
          "name": "stdout",
          "text": [
            "5000000000.0\n",
            "50002.49999949365\n"
          ]
        }
      ]
    },
    {
      "cell_type": "code",
      "source": [
        "# (C)\n",
        "a=99999.99996; b=99999.99994; c=0.00003\n",
        "area = (b*a)/2.0\n",
        "print(area)\n",
        "import math\n",
        "p = (a + b + c)/2.0\n",
        "area2 = math.sqrt(p*(p-a)*(p-b)*(p-c))\n",
        "print(area2)"
      ],
      "metadata": {
        "colab": {
          "base_uri": "https://localhost:8080/"
        },
        "id": "iikE6CrNr8fi",
        "outputId": "855a427e-47c0-4b16-ff1a-034af8bad0db"
      },
      "execution_count": null,
      "outputs": [
        {
          "output_type": "stream",
          "name": "stdout",
          "text": [
            "4999999995.0\n",
            "1.1180333905130204\n"
          ]
        }
      ]
    },
    {
      "cell_type": "markdown",
      "source": [
        "<div class=\"markdown-google-sans\">\n",
        "\n",
        "Aonde está o problema? Existe alguma expressão mais precisa para a área?\n",
        "\n",
        "$$\n",
        "A = \\frac{1}{4}\\sqrt{(a+(b+c))\\times(c-(a-b))\\times(c+(a-b))\\times(a+(b-c))}\n",
        "$$\n",
        "\n",
        "OBS: não remover nenhum parêntese!\n",
        "</div>"
      ],
      "metadata": {
        "id": "L6ieRwm00U7e"
      }
    },
    {
      "cell_type": "code",
      "source": [
        "# (B)\n",
        "a=100000; b=100000; c=1.00005\n",
        "area = (b*a)/2.0\n",
        "print(area)\n",
        "import math\n",
        "p = (a + b + c)/2.0\n",
        "area2 = math.sqrt(p*(p-a)*(p-b)*(p-c))\n",
        "print(area2)\n",
        "area3 = 0.25*math.sqrt((a+(b+c))*(c-(a-b))*(c+(a-b))*(a+(b-c)))\n",
        "print(area3)"
      ],
      "metadata": {
        "colab": {
          "base_uri": "https://localhost:8080/"
        },
        "id": "G3vpSuSPs6ZD",
        "outputId": "6962db26-db6b-403d-e587-ae728f13a40b"
      },
      "execution_count": null,
      "outputs": [
        {
          "output_type": "stream",
          "name": "stdout",
          "text": [
            "5000000000.0\n",
            "50002.49999949365\n",
            "50002.499999374915\n"
          ]
        }
      ]
    },
    {
      "cell_type": "code",
      "source": [
        "# (C)\n",
        "a=99999.99996; b=99999.99994; c=0.00003\n",
        "area = (b*a)/2.0\n",
        "print(area)\n",
        "import math\n",
        "p = (a + b + c)/2.0\n",
        "area2 = math.sqrt(p*(p-a)*(p-b)*(p-c))\n",
        "print(area2)\n",
        "area3 = 0.25*math.sqrt((a+(b+c))*(c-(a-b))*(c+(a-b))*(a+(b-c)))\n",
        "print(area3)"
      ],
      "metadata": {
        "colab": {
          "base_uri": "https://localhost:8080/"
        },
        "id": "M_eGDaIZtShR",
        "outputId": "4903600c-a3b0-4d0f-aab9-07ac820ce5da"
      },
      "execution_count": null,
      "outputs": [
        {
          "output_type": "stream",
          "name": "stdout",
          "text": [
            "4999999995.0\n",
            "1.1180333905130204\n",
            "1.1180336853952004\n"
          ]
        }
      ]
    },
    {
      "cell_type": "markdown",
      "source": [
        "<div class=\"markdown-google-sans\">\n",
        "\n",
        "E se a gente ordenar os lados antes de calcular a área, tal que a > b > c?\n",
        "\n",
        "</div>"
      ],
      "metadata": {
        "id": "f_RDdEdhuZqh"
      }
    },
    {
      "cell_type": "code",
      "source": [
        "# (B)\n",
        "lst = sorted([100000, 100000, 1.00005], reverse=True)\n",
        "a, b, c = lst\n",
        "print(a, b, c)\n",
        "area = (b*a)/2.0\n",
        "print(area)\n",
        "import math\n",
        "p = (a + b + c)/2.0\n",
        "area2 = math.sqrt(p*(p-a)*(p-b)*(p-c))\n",
        "print(area2)\n",
        "area3 = 0.25*math.sqrt((a+(b+c))*(c-(a-b))*(c+(a-b))*(a+(b-c)))\n",
        "print(area3)"
      ],
      "metadata": {
        "colab": {
          "base_uri": "https://localhost:8080/"
        },
        "id": "yllKSaI1us7P",
        "outputId": "8d3b7015-1558-4a37-ed12-c0a0de38e492"
      },
      "execution_count": null,
      "outputs": [
        {
          "output_type": "stream",
          "name": "stdout",
          "text": [
            "100000 100000 1.00005\n",
            "5000000000.0\n",
            "50002.49999949365\n",
            "50002.499999374915\n"
          ]
        }
      ]
    },
    {
      "cell_type": "code",
      "source": [
        "# (C)\n",
        "lst = sorted([99999.99996, 99999.99994, 0.00003], reverse=True)\n",
        "a, b, c = lst\n",
        "print(a, b, c)\n",
        "area = (b*a)/2.0\n",
        "print(area)\n",
        "import math\n",
        "p = (a + b + c)/2.0\n",
        "area2 = math.sqrt(p*(p-a)*(p-b)*(p-c))\n",
        "print(area2)\n",
        "area3 = 0.25*math.sqrt((a+(b+c))*(c-(a-b))*(c+(a-b))*(a+(b-c)))\n",
        "print(area3)"
      ],
      "metadata": {
        "colab": {
          "base_uri": "https://localhost:8080/"
        },
        "id": "dRmh7WlQvOkh",
        "outputId": "01ed321b-e55b-4be0-a706-27e605ae0797"
      },
      "execution_count": null,
      "outputs": [
        {
          "output_type": "stream",
          "name": "stdout",
          "text": [
            "99999.99996 99999.99994 3e-05\n",
            "4999999995.0\n",
            "1.1180333905130204\n",
            "1.1180336853952004\n"
          ]
        }
      ]
    },
    {
      "cell_type": "markdown",
      "source": [
        "<div class=\"markdown-google-sans\">\n",
        "\n",
        "Determine o valor de $x$ para o qual $f(x) = 0$.\n",
        "\n",
        "$$\n",
        "f(x) = (((x - 0.5) + x) - 0.5) + x\n",
        "$$\n",
        "\n",
        "OBS: não remover nenhum parêntese!\n",
        "</div>"
      ],
      "metadata": {
        "id": "831Omyugwfmv"
      }
    },
    {
      "cell_type": "code",
      "source": [
        "def f(x):\n",
        "  return (((x - 0.5) + x) - 0.5) + x\n",
        "\n",
        "if f(1./3.) == 0.0:\n",
        "  print('f(x) = 0')\n",
        "else:\n",
        "  print('f(x) != 0')\n",
        "\n",
        "print(f(1./3.))"
      ],
      "metadata": {
        "colab": {
          "base_uri": "https://localhost:8080/"
        },
        "id": "a9rfC-cgw13g",
        "outputId": "d7cf39a5-a266-4f5c-9e4b-8caa9711db91"
      },
      "execution_count": null,
      "outputs": [
        {
          "output_type": "stream",
          "name": "stdout",
          "text": [
            "f(x) != 0\n",
            "-5.551115123125783e-17\n"
          ]
        }
      ]
    }
  ]
}