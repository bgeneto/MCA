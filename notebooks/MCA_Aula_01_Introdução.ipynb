{
 "cells": [
  {
   "cell_type": "markdown",
   "metadata": {
    "id": "qs-b4OP4hzWm"
   },
   "source": [
    "# Universidade de Brasília\n",
    "## Instituto de Física\n",
    "---\n",
    "### Métodos Computacionais A (MCA) \n",
    "#### Prof. Bernhard Enders\n",
    "---\n"
   ]
  },
  {
   "cell_type": "markdown",
   "metadata": {
    "id": "wgE5OgbHirDl"
   },
   "source": [
    "# **➲ Aula 01 - Introdução à Disciplina**\n",
    "\n",
    "## ➥ O que será visto?\n",
    "---\n",
    "\n",
    "* Introdução ao Python.\n",
    "* Evitando erros numéricos. \n",
    "* Zero e gráficos de funções.\n",
    "* Equações não lineares.\n",
    "* Aproximação de funções (interpolação e extrapolação).\n",
    "* Diferenciação numérica.\n",
    "* Integração numérica.\n",
    "* Equações diferenciais ordinárias.\n",
    "* Autovalores e autovetores.\n",
    "* Tópicos avançados em computação científica.\n",
    "\n",
    "## ➥ Como será visto?\n",
    "---\n",
    "\n",
    "Utilizaremos a linguagem de programação **Python** para implementar as soluções numéricas dos problemas propostos. Faremos exercícios práticos usando Python no ambiente [aprender3](https://aprender3.unb.br).\n",
    "\n",
    "## ➥ Por que usar Python?\n",
    "---\n",
    "\n",
    "Python e Fortran são linguagens de programação muito diferentes em suas características e funcionalidades. Cada uma possui vantagens e desvantagens em relação ao uso em computação científica. Abaixo, apresento algumas das vantagens e desvantagens do uso de Python e Fortran em computação científica:\n",
    "\n",
    "**➭ Vantagens do uso de Python em computação científica:**\n",
    "\n",
    "- Facilidade de uso: Python é uma linguagem muito fácil de aprender e usar. Sua sintaxe é simples e legível, o que torna o desenvolvimento de códigos mais rápido e intuitivo.\n",
    "\n",
    "- Grande comunidade: Python tem uma grande comunidade de desenvolvedores e cientistas de dados, o que significa que há muitos pacotes e bibliotecas disponíveis para diferentes tarefas em ciência de dados, aprendizado de máquina e análise numérica.\n",
    "\n",
    "- Versatilidade: Python é uma linguagem geral e pode ser usada em diferentes tipos de tarefas de computação científica. Além disso, o Python pode ser facilmente integrado a outras linguagens, como C e Fortran, para aumentar a eficiência de códigos críticos em termos de desempenho.\n",
    "\n",
    "- Visualização: Python oferece várias bibliotecas para visualização de dados, como o Matplotlib, o Plotly e o Seaborn, tornando a visualização de resultados de análise de dados uma tarefa muito fácil.\n",
    "\n",
    "**➭ Desvantagens do uso de Python em computação científica:**\n",
    "\n",
    "- Desempenho: Python é uma linguagem interpretada, o que significa que ela é mais lenta que Fortran para executar códigos. Embora existam bibliotecas em Python, como NumPy, SciPy e Numba, que podem acelerar o processamento de dados, mesmo assim elas ainda podem ser mais lentas do que Fortran.\n",
    "\n",
    "- Custo computacional: Python é uma linguagem de alto nível e, por isso, exige mais recursos do computador para executar os códigos. Isso pode ser um problema em problemas de grande escala, que exigem mais recursos computacionais.\n",
    "\n",
    "**➭ Vantagens do uso de Fortran em computação científica:**\n",
    "\n",
    "- Desempenho: Fortran é uma linguagem de baixo nível e compilada, o que significa que ela é muito mais rápida que Python na execução de códigos numéricos e matemáticos.\n",
    "\n",
    "- Eficiência computacional: Fortran é especialmente eficiente em cálculos numéricos intensivos, como simulações e modelagem matemática.\n",
    "\n",
    "**➭ Desvantagens do uso de Fortran em computação científica:**\n",
    "\n",
    "- Curva de aprendizado: Fortran é uma linguagem mais difícil de aprender e de usar do que Python. Sua sintaxe é menos legível e pode levar mais tempo para desenvolver códigos em comparação com Python.\n",
    "\n",
    "- Menor comunidade: A comunidade de desenvolvedores de Fortran é menor do que a de Python, o que significa que há menos pacotes e bibliotecas disponíveis para tarefas específicas de ciência de dados."
   ]
  },
  {
   "cell_type": "markdown",
   "metadata": {},
   "source": [
    "## ➥ Mas será que os benefícios compensam o prejuízo?\n",
    "---\n",
    "\n",
    "Vamos verificar na prática quão fácil é desenvolver uma aplicação em Python e qual é o prejuízo final — em desempenho — com o seguinte exemplo:"
   ]
  },
  {
   "cell_type": "markdown",
   "metadata": {},
   "source": [
    "<div class=\"alert alert-block alert-info\">\n",
    "<b>&#9997; Exemplo:</b> Escreva um programa que calcule a quantidade de divisores de cada um dos números inteiros compreendidos no intervalo [a, b].\n",
    "</div>"
   ]
  },
  {
   "cell_type": "code",
   "execution_count": 2,
   "metadata": {},
   "outputs": [],
   "source": [
    "import os\n",
    "import openai\n",
    "from IPython.display import Markdown\n",
    "\n",
    "openai.api_key = os.getenv(\"OPENAI_API_KEY\")\n",
    "\n",
    "MODEL = \"gpt-3.5-turbo\"\n",
    "response = openai.ChatCompletion.create(\n",
    "    model=MODEL,\n",
    "    messages=[\n",
    "        {\"role\": \"system\", \"content\": \"Act as a senior Python developer\"},\n",
    "        {\"role\": \"user\", \"content\": \"Write a Python function to compute the number of divisors of an integer number n\"},\n",
    "    ],\n",
    "    temperature=0.3,\n",
    "    max_tokens=512,\n",
    "    top_p=1,\n",
    "    frequency_penalty=0,\n",
    "    presence_penalty=0\n",
    ")\n",
    "\n",
    "text = response[\"choices\"][0][\"message\"][\"content\"]"
   ]
  },
  {
   "cell_type": "code",
   "execution_count": 5,
   "metadata": {},
   "outputs": [
    {
     "data": {
      "text/markdown": [
       "Sure, here's a Python function that computes the number of divisors of an integer number n:\n",
       "\n",
       "```python\n",
       "def num_divisors(n):\n",
       "    \"\"\"\n",
       "    Computes the number of divisors of an integer number n.\n",
       "    \"\"\"\n",
       "    count = 0\n",
       "    for i in range(1, n+1):\n",
       "        if n % i == 0:\n",
       "            count += 1\n",
       "    return count\n",
       "```\n",
       "\n",
       "This function works by iterating over all the integers from 1 to n, and checking if each integer is a divisor of n. If it is, then the count of divisors is incremented. Finally, the function returns the count of divisors."
      ],
      "text/plain": [
       "<IPython.core.display.Markdown object>"
      ]
     },
     "execution_count": 5,
     "metadata": {},
     "output_type": "execute_result"
    }
   ],
   "source": [
    "Markdown(text)"
   ]
  },
  {
   "cell_type": "code",
   "execution_count": 6,
   "metadata": {},
   "outputs": [],
   "source": [
    "response = openai.ChatCompletion.create(\n",
    "    model=MODEL,\n",
    "    messages=[\n",
    "        {\"role\": \"system\", \"content\": \"Act as a senior Python developer\"},\n",
    "        {\"role\": \"user\", \"content\": \"Write a Python function to compute the number of divisors of an integer number n. Use vectorization with numpy.\"},\n",
    "    ],\n",
    "    temperature=0.3,\n",
    "    max_tokens=512,\n",
    "    top_p=1,\n",
    "    frequency_penalty=0,\n",
    "    presence_penalty=0\n",
    ")\n",
    "\n",
    "text = response[\"choices\"][0][\"message\"][\"content\"]"
   ]
  },
  {
   "cell_type": "code",
   "execution_count": 8,
   "metadata": {},
   "outputs": [
    {
     "data": {
      "text/markdown": [
       "Sure, here's the Python function to compute the number of divisors of an integer number n using vectorization with numpy:\n",
       "\n",
       "```python\n",
       "import numpy as np\n",
       "\n",
       "def num_divisors(n):\n",
       "    # Create an array of integers from 1 to n\n",
       "    arr = np.arange(1, n+1)\n",
       "    # Use vectorization to check which elements of arr divide n\n",
       "    divisors = arr[n % arr == 0]\n",
       "    # Return the number of divisors\n",
       "    return len(divisors)\n",
       "```\n",
       "\n",
       "Here's how you can use this function:\n",
       "\n",
       "```python\n",
       ">>> num_divisors(10)\n",
       "4\n",
       ">>> num_divisors(15)\n",
       "4\n",
       ">>> num_divisors(28)\n",
       "6\n",
       "```\n",
       "\n",
       "This function creates an array of integers from 1 to n using `np.arange(1, n+1)`. It then uses vectorization to check which elements of this array divide n by checking which elements of `n % arr` are equal to 0. The resulting array of divisors is then returned, and its length is computed using `len()` to get the number of divisors."
      ],
      "text/plain": [
       "<IPython.core.display.Markdown object>"
      ]
     },
     "execution_count": 8,
     "metadata": {},
     "output_type": "execute_result"
    }
   ],
   "source": [
    "Markdown(text)"
   ]
  },
  {
   "cell_type": "code",
   "execution_count": null,
   "metadata": {},
   "outputs": [],
   "source": []
  }
 ],
 "metadata": {
  "colab": {
   "provenance": []
  },
  "kernelspec": {
   "display_name": "Python 3 (ipykernel)",
   "language": "python",
   "name": "python3"
  },
  "language_info": {
   "codemirror_mode": {
    "name": "ipython",
    "version": 3
   },
   "file_extension": ".py",
   "mimetype": "text/x-python",
   "name": "python",
   "nbconvert_exporter": "python",
   "pygments_lexer": "ipython3",
   "version": "3.10.9"
  },
  "vscode": {
   "interpreter": {
    "hash": "c6f5971c4b8f55c07f21d358e9303b9e57f31eec2f7748b3e83dfc05726d64d8"
   }
  }
 },
 "nbformat": 4,
 "nbformat_minor": 4
}
