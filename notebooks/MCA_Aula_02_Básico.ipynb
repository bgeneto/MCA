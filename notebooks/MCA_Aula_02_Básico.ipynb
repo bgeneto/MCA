{
  "nbformat": 4,
  "nbformat_minor": 0,
  "metadata": {
    "colab": {
      "provenance": []
    },
    "kernelspec": {
      "name": "python3",
      "display_name": "Python 3"
    },
    "language_info": {
      "name": "python"
    }
  },
  "cells": [
    {
      "cell_type": "markdown",
      "source": [
        "<div class=\"markdown-google-sans\">\n",
        "\n",
        "# Universidade de Brasília\n",
        "## Instituto de Física\n",
        "---\n",
        "### Métodos Computacionais A (MCA) - Prof. Bernhard Enders\n",
        "---\n",
        "\n",
        "</div>"
      ],
      "metadata": {
        "id": "qs-b4OP4hzWm"
      }
    },
    {
      "cell_type": "markdown",
      "source": [
        "<div class=\"markdown-google-sans\">\n",
        "\n",
        "## **➲ Aula 02 - Python Básico**\n",
        "\n",
        "### ➥ Quais são os tipos de dados nativos em Python?\n",
        "\n",
        "Python é uma linguagem de programação dinamicamente tipada. Mas isso não significa que ela não possua tipos de dados intrínsecos.\n",
        "\n",
        "</div>"
      ],
      "metadata": {
        "id": "mcfrEwo0ruK4"
      }
    },
    {
      "cell_type": "code",
      "source": [
        "# cria uma variável do tipo int (número inteiro)\n",
        "duzia = 12"
      ],
      "metadata": {
        "id": "yTwqTarPsAtZ"
      },
      "execution_count": null,
      "outputs": []
    },
    {
      "cell_type": "code",
      "source": [
        "# verifica o tipo da variável \n",
        "type(duzia)"
      ],
      "metadata": {
        "colab": {
          "base_uri": "https://localhost:8080/"
        },
        "id": "ZD5VElVusXgp",
        "outputId": "62a00da8-bbf1-41d9-a843-c21e1028050b"
      },
      "execution_count": null,
      "outputs": [
        {
          "output_type": "execute_result",
          "data": {
            "text/plain": [
              "int"
            ]
          },
          "metadata": {},
          "execution_count": 4
        }
      ]
    },
    {
      "cell_type": "code",
      "source": [
        "# verifica o tamanho (em bytes) da memória utilizada pela variável\n",
        "import sys\n",
        "sys.getsizeof(duzia)"
      ],
      "metadata": {
        "colab": {
          "base_uri": "https://localhost:8080/"
        },
        "id": "leSx_WYssvQ0",
        "outputId": "ead9c247-db7f-49a0-9caf-519bff748e0a"
      },
      "execution_count": null,
      "outputs": [
        {
          "output_type": "execute_result",
          "data": {
            "text/plain": [
              "28"
            ]
          },
          "metadata": {},
          "execution_count": 5
        }
      ]
    },
    {
      "cell_type": "markdown",
      "source": [
        "<div class=\"markdown-google-sans\">\n",
        "\n",
        "Note que um número inteiro em Python ocupa **28 bytes**! Mas o esperado seriam 32 ou 64 bits, isto é, **4 ou 8 bytes**! Qual é a lógica disso? \n",
        "\n",
        "Ocorre que, em Python, int é uma classe e esse é o tamanho (em bytes) utilizado pela 'class int' com todas as suas referências (propriedades, métodos etc...). Com isso Python pode armazenar números gigantescos em uma variável inteira:\n",
        "\n",
        "</div>"
      ],
      "metadata": {
        "id": "0wBXF3a_tx9I"
      }
    },
    {
      "cell_type": "code",
      "source": [
        "duzia = 19223372036854775808\n",
        "print(type(duzia), 'size =', sys.getsizeof(duzia), 'bytes')\n",
        "print(duzia)"
      ],
      "metadata": {
        "colab": {
          "base_uri": "https://localhost:8080/"
        },
        "id": "lVWRnQvzwqpo",
        "outputId": "9c69af14-d443-494e-8593-acaf80aee602"
      },
      "execution_count": null,
      "outputs": [
        {
          "output_type": "stream",
          "name": "stdout",
          "text": [
            "<class 'int'> size = 36 bytes\n",
            "19223372036854775808\n"
          ]
        }
      ]
    },
    {
      "cell_type": "code",
      "source": [
        "# modifica a variável para float (número real)\n",
        "duzia = 12.0\n",
        "print(type(duzia), 'size =', sys.getsizeof(duzia), 'bytes')"
      ],
      "metadata": {
        "colab": {
          "base_uri": "https://localhost:8080/"
        },
        "id": "0kAv9dMtwfPM",
        "outputId": "f3dc7efb-02f8-4d48-b298-fc306d94ac77"
      },
      "execution_count": null,
      "outputs": [
        {
          "output_type": "stream",
          "name": "stdout",
          "text": [
            "<class 'float'> size = 24 bytes\n"
          ]
        }
      ]
    },
    {
      "cell_type": "code",
      "source": [
        "duzia = 1.7976931348623159e+308\n",
        "print(type(duzia), 'size =', sys.getsizeof(duzia), 'bytes')\n",
        "print(duzia)"
      ],
      "metadata": {
        "colab": {
          "base_uri": "https://localhost:8080/"
        },
        "id": "3lqwdhwfxs8p",
        "outputId": "ad181c51-a0e0-411b-9522-4b5ead587d04"
      },
      "execution_count": null,
      "outputs": [
        {
          "output_type": "stream",
          "name": "stdout",
          "text": [
            "<class 'float'> size = 24 bytes\n",
            "inf\n"
          ]
        }
      ]
    },
    {
      "cell_type": "markdown",
      "source": [
        "<div class=\"markdown-google-sans\">\n",
        "\n",
        "<font color='red'>ATENÇÃO:</font> Percebeu como o valor float ocupa menos memória que o valor int? Isso ocorre porque, em Python, valores que ultrapassam os limites da representação float são tidos como infinito (inf).\n",
        "\n",
        "</div>"
      ],
      "metadata": {
        "id": "cqq_bRiBzso2"
      }
    },
    {
      "cell_type": "markdown",
      "source": [
        "<div class=\"markdown-google-sans\">\n",
        "\n",
        "Continua...\n",
        "\n",
        "</div>"
      ],
      "metadata": {
        "id": "L6ieRwm00U7e"
      }
    }
  ]
}