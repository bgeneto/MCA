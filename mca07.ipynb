{
  "cells": [
    {
      "cell_type": "markdown",
      "metadata": {
        "id": "c8ca80e5-5cf2-48fa-a048-b10764f133c3"
      },
      "source": [
        "# Universidade de Brasília\n",
        "## Instituto de Física\n",
        "---\n",
        "### Métodos Computacionais A (MCA) \n",
        "#### Prof. Bernhard Enders\n",
        "---"
      ]
    },
    {
      "cell_type": "markdown",
      "metadata": {
        "id": "060dc954-dbfb-4c68-99b7-35fa98d15b76"
      },
      "source": [
        "# **➲ AULA 06.12: Integração Numérica**\n",
        "\n",
        "## O problema da integração analítica\n",
        "---\n",
        "\n",
        "A integral definida, para uma função contínua $f$ em um  intervalo [a,b], é dada por:\n",
        "\n",
        "$$\n",
        "\\int_a^b f(x) dx = F(b) - F(a),\n",
        "$$\n",
        "\n",
        "na qual\n",
        "\n",
        "$$\n",
        "f(x) = \\frac{dF}{dx}. \n",
        "$$\n",
        "\n",
        "O grande problema desse procedimento é que precisamos obter uma forma analítica para a antiderivada/primitiva $F(x)$ e muitas vezes isso não é uma tarefa fácil e algumas vezes até mesmo impossível. \n",
        "\n",
        "Se ao invés de obter uma solução exata (forma analítica) buscarmos valores aproximados de $F(x)$, então teremos um problema relativamente fácil de resolver, chamado de **integração numérica**.\n"
      ]
    },
    {
      "attachments": {},
      "cell_type": "markdown",
      "metadata": {
        "id": "B1vgyzMLVUUk"
      },
      "source": [
        "## Somas de Riemann e integração numérica\n",
        "---\n",
        "\n",
        "A integral definida de uma função contínua $f$ sobre o intervalo [a,b], expressa por $\\int_a^b f(x)dx$, também pode ser definida como o limite de uma soma de Riemann quando o número de subdivisões se aproxima do infinito. Ou seja,\n",
        "\n",
        "$$\n",
        "I = \\int_a^b f(x) dx = \\lim_{n\\to∞}\\sum_{i=1}^n f(x_i^*)(x_i - x_{i-1})\n",
        "$$\n",
        "\n",
        "na qual $n$ é o número de subintervalos/subdivisões e os pontos (de integração) $x_i^*$ podem ser escolhidos de diversas formas, desde que $x_{i-1}\\leq x_{i}^{*} \\leq x_{i}$.\n",
        "\n",
        "Chamamos a quantidade $(x_i - x_{i-1})$ de **passo da malha**, que é geralmente representado por $\\Delta x$ ou $h$. Assim, temos que\n",
        "\n",
        "$$\n",
        "\\begin{align*}\n",
        "\\Delta x &= x_i - x_{i-1} \\\\\n",
        "&= \\frac{b-a}{n}.\n",
        "\\end{align*}\n",
        "$$\n",
        "\n",
        "De modo que \n",
        "\n",
        "$$\n",
        "I = \\lim_{n\\to∞}\\sum_{i=1}^n f(x_i^*)\\Delta x.\n",
        "$$\n",
        "\n",
        "### Tipos de somas de Riemann\n",
        "\n",
        "Escolhas específicas do conjunto de pontos $x_{i}^{*}$ nos dão diferentes tipos de soma de Riemann:\n",
        "\n",
        "- Soma de Riemann à **esquerda**: Se $x_{i}^{*}=x_{i-1}$, $∀i ∈ \\{0,\\ldots,n-1\\}$;\n",
        "- Soma de Riemann à **direita**: Se $x_{i}^{*}=x_{i}$, $∀i ∈ \\{1,\\ldots,n\\}$;\n",
        "- Soma de Riemann **média**: Se $x_{i}^{*}=\\frac{1}{2}(x_{i-1}+x_{i})$, $∀i ∈ \\{0,\\ldots,n\\}$;\n",
        "- Soma de Riemann **trapezoidal**: corresponde à média aritmética entre a soma à esquerda e a soma à direita.\n",
        "- Soma de Riemann **superior**: $x_{i}^{*}$ é escolhido tal que $f(x_i^*) = \\max(f(x_{i-1}), f(x_{i}))$\n",
        "- Soma de Riemann **inferior**: $x_{i}^{*}$ é escolhido tal que $f(x_i^*) = \\min(f(x_{i-1}), f(x_{i}))$\n",
        "\n",
        "**NOTA 1**: Qualquer soma de Riemann em dada partição — isto é, qualquer soma obtida pela escolha de $x_{i}^{*}$ entre $\\displaystyle x_{i-1}$ e $\\displaystyle x_{i}$ —  está compreendida entre os valores obtidos pelas somas de Riemann superior e inferior. \n",
        "\n",
        "**NOTA 2**: Uma função é definida como integrável por Riemann se a soma inferior e superior forem se aproximando conforme a partição se afina. Este fato pode ser também usado para a integração numérica.\n",
        "\n",
        "<br>\n",
        "<div style=\"margin:auto; text-align:center; width:75%;\">\n",
        "  <center>\n",
        "  <img src=\"https://upload.wikimedia.org/wikipedia/commons/2/2a/Riemann_sum_convergence.png\" width=\"500\" align=\"center\"/>\n",
        "  <p style=\"text-align:center\"><em>Representação gráfica dos diversos tipos de somas de Riemann.</em></p> \n",
        "  </center>\n",
        "</div>\n"
      ]
    },
    {
      "attachments": {},
      "cell_type": "markdown",
      "metadata": {
        "id": "U1xuX8jXee3x"
      },
      "source": [
        "## Soma de Riemann à esquerda\n",
        "---\n",
        "\n",
        "Na soma de Riemann à esquerda, aproxima-se a função pelo seu valor no ponto final à esquerda, dando múltiplos retângulos com base $Δx ≡ h$ e altura $f(x_i)$. Tomando  $i = 0, 1, ... n-1$ e adicionando as áreas, temos então a seguinte aproximação para a integral definida.\n",
        "\n",
        "$$\n",
        "I_\\text{esq} ≈ h[f(a)+f(a+h)+f(a+2h)+...+f(b-h)].\n",
        "$$\n",
        "\n",
        "Note que $x_0=a, x_1 = a+h, x_2=a+2h,\\ldots$, de modo que podemos construir todos os pontos da malha com a seguinte relação de recorrência:\n",
        "\n",
        "$$\n",
        "x_i = a + ih, \\forall i \\in \\{ 0,1,\\ldots,n-1\\}\n",
        "$$\n",
        "\n",
        "<br>\n",
        "<div>\n",
        "  <center>\n",
        "  <img src=\"https://upload.wikimedia.org/wikipedia/commons/1/19/Riemann_sum_%28leftbox%29.gif\" align=\"center\"/>\n",
        "  <p style=\"text-align:center\"><em>Animação da soma de Riemann à esquerda para valores crescentes de $n$.</em></p> \n",
        "  </center>\n",
        "  <!--https://upload.wikimedia.org/wikipedia/commons/c/c9/LeftRiemann2.svg-->\n",
        "</div>\n",
        "\n",
        "\n",
        "A soma de Riemann à esquerda resulta em uma superestimação se $f$ está monotonicamente decrescendo nesse intervalo, e em uma subestimação se $f$ está monotonicamente crescendo.\n"
      ]
    },
    {
      "attachments": {},
      "cell_type": "markdown",
      "metadata": {
        "id": "A3iH6819qX8o"
      },
      "source": [
        "## Soma de Riemann à direita\n",
        "---\n",
        "\n",
        "Nessa soma, aproxima-se $f$ de seu valor no ponto à direita de cada subintervalo. São gerados, então, múltiplos retângulos de base $h$ e altura $f(a + ih)$. Tomando para $i = 1,2,...,n$ e adicionando as áreas resultantes se produz\n",
        "\n",
        "$$\n",
        "\\begin{align*}\n",
        "I_\\text{dir} &≈ h\\left[f(a+h)+f(a+2h)+...+f(b)\\right]\\\\\n",
        "  &≈ h\\left[f(x_1)+f(x_2)+...+f(x_n)\\right].\\\\\n",
        "\\end{align*}\n",
        "$$\n",
        "\n",
        "\n",
        "<br>\n",
        "<div>\n",
        "\n",
        "  <center>\n",
        "  <img src=\"https://upload.wikimedia.org/wikipedia/commons/6/61/Riemann_sum_%28rightbox%29.gif\" align=\"center\"/>\n",
        "  <p style=\"text-align:center\"><em>Animação da soma de Riemann à direita para valores crescentes de $n$.</em></p> \n",
        "  </center>\n",
        "  <!--https://upload.wikimedia.org/wikipedia/commons/4/45/RightRiemann2.svg-->\n",
        "</div>\n",
        "\n",
        "\n",
        "\n",
        "A soma de Riemann à direita resulta em uma subestimação se $f$ está monotonicamente decrescendo, e uma superestimação se $f$ está monotonicamente crescendo. "
      ]
    },
    {
      "attachments": {},
      "cell_type": "markdown",
      "metadata": {
        "id": "jxejUEZgrnAi"
      },
      "source": [
        "## Soma de Riemann média\n",
        "---\n",
        "Aqui, aproximamos $f$ no ponto médio dos intervalos,  expressamos $f(a+h/2)$ para o primeiro intervalo, para o próximo temos $f(a+3h/2)$ e assim por diante, até $f(b-h/2)$. Somando as áreas temos\n",
        "\n",
        "$$\n",
        "I_\\text{med} ≈ {\\displaystyle h\\left[f(a+{\\frac {h}{2}})+f(a+{\\frac {3h}{2}})+...+f(b-{\\frac {h}{2}})\\right].}\n",
        "$$\n",
        "\n",
        "Este esquema é equivalente ao método de integração numérica chamado de **Método do Ponto Médio**, que corresponde à soma de áreas de retângulos de bases iguais a $h$ e alturas $f(\\bar x_i)$, com $\\bar x_i = \\frac{1}{2}(x_{i-1}+x_i)$.\n",
        "\n",
        "<br>\n",
        "<div>\n",
        "  <center>\n",
        "  <img src=\"https://upload.wikimedia.org/wikipedia/commons/c/c3/Riemann_sum_%28middlebox%29.gif\" align=\"center\"/>\n",
        "  <p style=\"text-align:center\"><em>Animação da soma de Riemann média para valores crescentes de $n$.</em></p> \n",
        "  </center>\n",
        "  <!--https://upload.wikimedia.org/wikipedia/commons/d/d2/MidRiemann2.svg-->\n",
        "</div>\n",
        "\n",
        "\n",
        "\n",
        "\n",
        "\n"
      ]
    },
    {
      "attachments": {},
      "cell_type": "markdown",
      "metadata": {
        "id": "YuhPY32xt884"
      },
      "source": [
        "## Soma de Riemann trapezoidal\n",
        "---\n",
        "\n",
        "Nesse caso, os valores da função $f$ no intervalo são aproximados pela média aritmética dos valores finais das somas de Riemann à direita e à esquerda. Dessa mesma maneira, temos que \n",
        "\n",
        "$$\n",
        "I_\\text{trap} = \\frac{1}{2}(I_\\text{esq} + I_\\text{dir}),\n",
        "$$\n",
        "\n",
        "o que resulta em:\n",
        "\n",
        "$$\n",
        "\\begin{align*}\n",
        "I_\\text{trap} &≈ \\frac{1}{2}\\left\\{h[f(a)+f(a+h)+f(a+2h)+...+f(b-h)] + h[f(a+h)+f(a+2h)+...+f(b)]\\right\\}\\\\\n",
        "&≈ \\frac{h}{2}\\left[f(a)+2f(a+h)+2f(a+2h)+...+2f(b-h)+f(b)\\right] \n",
        "\\end{align*}\n",
        "$$\n",
        "\n",
        "Como $x_i = a + ih,\\ \\forall i \\in \\{0,1,\\ldots,n\\}$, reescrevemos:\n",
        "\n",
        "$$\n",
        "\\begin{align*}\n",
        "I_\\text{trap} &≈ \\frac{h}{2}\\left[f(x_0)+2f(x_1)+2f(x_2)+...+2f(x_{n-1})+f(x_n)\\right]\\\\\n",
        "  &≈ \\frac{h}{2}\\left[f(a) + 2\\sum_{i=1}^{n-1}f(x_i) + f(b)\\right].\n",
        "\\end{align*}\n",
        "$$\n",
        "\n",
        "<div class=\"alert alert-block alert-info\"> \n",
        "  <b>NOTA:</b> Esta fórmula coincide com a chamada regra do trapézio para integração numérica, na qual utiliza-se um polinômio interpolador de Lagrange de primeiro grau (uma reta) para aproximar os valores de $f(x_i)$ em cada intervalo $[x_{i-1},x_i]$.  \n",
        "</div>\n",
        "\n",
        "<br>\n",
        "<div style=\"background-color: white\">\n",
        "  <center>\n",
        "  <img src=\"https://upload.wikimedia.org/wikipedia/commons/7/76/TrapRiemann2.svg\" align=\"center\"/>\n",
        "  <p style=\"text-align:center\"><em>Representação gráfica de uma soma de Riemann trapezoidal.</em></p> \n",
        "  </center>\n",
        "</div>\n",
        "\n"
      ]
    },
    {
      "attachments": {},
      "cell_type": "markdown",
      "metadata": {
        "id": "O0mUrz6K-mk0"
      },
      "source": [
        "## Implementações e testes em Python\n",
        "Para testar nossa implementação vamos utilizar uma integral definida simples e bem conhecida:\n",
        "\n",
        "$$\n",
        "I = \\int_0^{π/2} \\text{sen}(x) \\, \\text{d}x = 1\n",
        "$$\n",
        "\n",
        "Note — veja figura abaixo — que esta função é monótona crescente no intervalo [0,1]. Assim, esperamos uma subestimação do valor da integral para a soma de Riemann à esquerda e uma superestimação para a soma de Riemann à direita."
      ]
    },
    {
      "cell_type": "code",
      "execution_count": 27,
      "metadata": {
        "colab": {
          "base_uri": "https://localhost:8080/",
          "height": 281
        },
        "id": "79bQvG_UQLvz",
        "outputId": "ac244980-724e-4274-997e-0840e4a6c837",
        "tags": [
          "\"hide-input\"",
          "remove_cell",
          "hide-input"
        ]
      },
      "outputs": [
        {
          "data": {
            "image/png": "[encoded data removed]",
            "text/plain": [
              "<Figure size 800x400 with 1 Axes>"
            ]
          },
          "metadata": {
            "needs_background": "light"
          },
          "output_type": "display_data"
        }
      ],
      "source": [
        "import math\n",
        "import matplotlib.pyplot as plt\n",
        "import numpy as np\n",
        "\n",
        "x = np.linspace(0, math.pi/2, 100)\n",
        "y = np.sin(x)\n",
        "\n",
        "plt.figure(figsize=(8, 4), dpi=100)\n",
        "plt.fill_between(x, y, step=\"pre\", alpha=0.4)\n",
        "plt.title('f(x) = sen (x), ∀x ∈ {0,...,π/2}')\n",
        "plt.plot(x, y)\n",
        "plt.show()"
      ]
    },
    {
      "attachments": {},
      "cell_type": "markdown",
      "metadata": {
        "id": "rBwTemnLQPe-"
      },
      "source": [
        "Para calcular e exibir os erros relativo e absoluto em relação ao valor aproximado pelas somas de Riemann, vamos utilizar a seguinte função: "
      ]
    },
    {
      "cell_type": "code",
      "execution_count": 28,
      "metadata": {
        "id": "uWWwCgHTQdwK"
      },
      "outputs": [],
      "source": [
        "import math\n",
        "\n",
        "def mostra_erro(val):\n",
        "  '''função para imprimir os erros absoluto e relativo'''\n",
        "  \n",
        "  # imprime o valor calculado\n",
        "  print('Valor aproximado =', val)\n",
        "  # erro absoluto\n",
        "  erro = abs(1 - val)\n",
        "  print('Erro absoluto = ', erro)\n",
        "  # erro percentual \n",
        "  print('Erro percentual =', 100*erro)\n"
      ]
    },
    {
      "cell_type": "markdown",
      "metadata": {
        "id": "46GV7ZYNSHKy"
      },
      "source": [
        "Vamos fixar nossa função teste, o intervalo de integração e o número de subintervalos para todos os casos:"
      ]
    },
    {
      "cell_type": "code",
      "execution_count": 29,
      "metadata": {
        "id": "Dh9IpK38SOob"
      },
      "outputs": [],
      "source": [
        "# nossa função teste\n",
        "f = lambda x: math.sin(x)\n",
        "\n",
        "# intervalo\n",
        "a, b = 0, 0.5*math.pi\n",
        "\n",
        "# número de subintervalos\n",
        "n = 16"
      ]
    },
    {
      "attachments": {},
      "cell_type": "markdown",
      "metadata": {
        "id": "dBk_b4DGQPuD"
      },
      "source": [
        "\n",
        "Agora estamos prontos para realizar algumas implementações ingênuas das somas de Riemann utilizadas para aproximar a integral definida de uma função $f$ no intervalo $[a,b]$ contendo $n$ subintervalos. O teste/validação de cada implementação é feito na sequência de cada definição/função."
      ]
    },
    {
      "cell_type": "code",
      "execution_count": 30,
      "metadata": {
        "id": "Pq9ljgDQv-9O"
      },
      "outputs": [],
      "source": [
        "def riemann_esq(f, a, b, n):\n",
        "  \"\"\"Aproximação do valor da integral definida de uma função f \n",
        "     no intervalo [a,b] utilizando o método da soma de Riemann \n",
        "     à esquerda.\n",
        "\n",
        "  Args:\n",
        "    f (callable): função a ser integrada.\n",
        "    a (float): início do intervalo de integração.\n",
        "    b (float): fim do intervalo de integração.\n",
        "    n (int): número de subintervalos utilizados na soma.\n",
        "\n",
        "  Returns:\n",
        "    float: valor da soma/integral.\n",
        "  \"\"\"\n",
        "  h = (b - a)/n\n",
        "  soma = 0.0\n",
        "  for i in range(0, n):\n",
        "    xi = a + i*h\n",
        "    soma = soma + f(xi)\n",
        "  \n",
        "  return h*soma"
      ]
    },
    {
      "cell_type": "code",
      "execution_count": 31,
      "metadata": {
        "colab": {
          "base_uri": "https://localhost:8080/"
        },
        "id": "matpRcu6RP5n",
        "outputId": "d13a8a74-b05f-43c6-87f6-22e78134610f"
      },
      "outputs": [
        {
          "name": "stdout",
          "output_type": "stream",
          "text": [
            "Valor aproximado = 0.9501092952727316\n",
            "Erro absoluto =  0.04989070472726842\n",
            "Erro percentual = 4.9890704727268425\n"
          ]
        }
      ],
      "source": [
        "# teste/validação da implementação\n",
        "vesq = riemann_esq(f, a, b, n)\n",
        "\n",
        "# imprime o valor e os erros \n",
        "mostra_erro(vesq)"
      ]
    },
    {
      "cell_type": "code",
      "execution_count": 32,
      "metadata": {
        "id": "cggwh7tJzqHa"
      },
      "outputs": [],
      "source": [
        "def riemann_dir(f, a, b, n):\n",
        "  \"\"\"Aproximação do valor da integral definida de uma função f \n",
        "     no intervalo [a,b] utilizando o método da soma de Riemann \n",
        "     à direita.\n",
        "\n",
        "  Args:\n",
        "    f (callable): função a ser integrada.\n",
        "    a (float): início do intervalo de integração.\n",
        "    b (float): fim do intervalo de integração.\n",
        "    n (int): número de subintervalos utilizados na soma.\n",
        "\n",
        "  Returns:\n",
        "    float: valor da soma/integral.\n",
        "  \"\"\"\n",
        "  h = (b - a)/n\n",
        "  soma = 0.0\n",
        "  for i in range(1, n+1):\n",
        "    xi = a + i*h\n",
        "    soma = soma + f(xi)\n",
        "  \n",
        "  return h*soma"
      ]
    },
    {
      "cell_type": "code",
      "execution_count": 33,
      "metadata": {
        "colab": {
          "base_uri": "https://localhost:8080/"
        },
        "id": "wnCqPV9SwI5c",
        "outputId": "64792430-a684-45d3-881e-ff1f1def4e38"
      },
      "outputs": [
        {
          "name": "stdout",
          "output_type": "stream",
          "text": [
            "Valor aproximado = 1.0482840656974126\n",
            "Erro absoluto =  0.048284065697412615\n",
            "Erro percentual = 4.8284065697412615\n"
          ]
        }
      ],
      "source": [
        "# teste da soma de Riemann à direita\n",
        "vdir = riemann_dir(f, a, b, n)\n",
        "\n",
        "# imprime o valor e os erros \n",
        "mostra_erro(vdir)"
      ]
    },
    {
      "cell_type": "code",
      "execution_count": 34,
      "metadata": {
        "id": "vT9b-UlY7g0I"
      },
      "outputs": [],
      "source": [
        "def riemann_med(f, a, b, n):\n",
        "  \"\"\"Aproximação do valor da integral definida de uma função f \n",
        "     no intervalo [a,b] utilizando o método da soma de Riemann \n",
        "     média.\n",
        "\n",
        "  Args:\n",
        "    f (callable): função a ser integrada.\n",
        "    a (float): início do intervalo de integração.\n",
        "    b (float): fim do intervalo de integração.\n",
        "    n (int): número de subintervalos utilizados na soma.\n",
        "\n",
        "  Returns:\n",
        "    float: valor da soma/integral.\n",
        "  \"\"\"\n",
        "  h = (b - a)/n\n",
        "  soma = 0.0\n",
        "  for i in range(0, n):\n",
        "    xi = a + h*(i + 0.5)\n",
        "    soma = soma + f(xi)\n",
        "  \n",
        "  return h*soma"
      ]
    },
    {
      "cell_type": "code",
      "execution_count": 35,
      "metadata": {
        "colab": {
          "base_uri": "https://localhost:8080/"
        },
        "id": "GN-VIXrs7g0M",
        "outputId": "9b93de9b-6a03-47a2-981a-c7a526057a26"
      },
      "outputs": [
        {
          "name": "stdout",
          "output_type": "stream",
          "text": [
            "Valor aproximado = 1.0004017081549652\n",
            "Erro absoluto =  0.00040170815496520795\n",
            "Erro percentual = 0.040170815496520795\n"
          ]
        }
      ],
      "source": [
        "# teste da soma de Riemann média\n",
        "vmed = riemann_med(f, a, b, n)\n",
        "\n",
        "# imprime o valor e os erros \n",
        "mostra_erro(vmed)"
      ]
    },
    {
      "cell_type": "code",
      "execution_count": 36,
      "metadata": {
        "id": "qL1SGiV1-mk7"
      },
      "outputs": [],
      "source": [
        "def riemann_trap(f, a, b, n):\n",
        "  \"\"\"Aproximação do valor da integral definida de uma função f \n",
        "     no intervalo [a,b] utilizando a média aritmética das somas\n",
        "     de Riemann esquerda e direita. \n",
        "\n",
        "  Args:\n",
        "    f (callable): função a ser integrada.\n",
        "    a (float): início do intervalo de integração.\n",
        "    b (float): fim do intervalo de integração.\n",
        "    n (int): número de subintervalos utilizados na soma.\n",
        "\n",
        "  Returns:\n",
        "    float: valor da soma/integral.\n",
        "  \"\"\"\n",
        "   \n",
        "  return 0.5*(riemann_esq(f, a, b, n) + riemann_dir(f, a, b, n))"
      ]
    },
    {
      "cell_type": "code",
      "execution_count": 37,
      "metadata": {
        "colab": {
          "base_uri": "https://localhost:8080/"
        },
        "id": "R77Mh_s9-mlD",
        "outputId": "d463359e-10b8-4f25-c3cd-bacf35856c4e"
      },
      "outputs": [
        {
          "name": "stdout",
          "output_type": "stream",
          "text": [
            "Valor aproximado = 0.999196680485072\n",
            "Erro absoluto =  0.0008033195149279582\n",
            "Erro percentual = 0.08033195149279582\n"
          ]
        }
      ],
      "source": [
        "# teste da soma de Riemann trapezoidal\n",
        "vtrap = riemann_trap(f, a, b, n)\n",
        "\n",
        "# imprime o valor e os erros \n",
        "mostra_erro(vtrap)"
      ]
    },
    {
      "attachments": {},
      "cell_type": "markdown",
      "metadata": {
        "id": "KVz0I9DdF9XV"
      },
      "source": [
        "Outra implementação equivalente, porém mais eficiente, da soma trapezoidal seria utilizar a fórmula simplificada da área do triângulo ao invés de calcular duas somas de Riemann:"
      ]
    },
    {
      "cell_type": "code",
      "execution_count": 38,
      "metadata": {
        "id": "GMTAaG1LGQzT"
      },
      "outputs": [],
      "source": [
        "def riemann_trap2(f, a, b, n):\n",
        "  \"\"\"Aproximação do valor da integral definida de uma função f \n",
        "     no intervalo [a,b] utilizando o método da soma de Riemann \n",
        "     trapezoidal.\n",
        "\n",
        "  Args:\n",
        "    f (callable): função a ser integrada.\n",
        "    a (float): início do intervalo de integração.\n",
        "    b (float): fim do intervalo de integração.\n",
        "    n (int): número de subintervalos utilizados na soma.\n",
        "\n",
        "  Returns:\n",
        "    float: valor da soma/integral.\n",
        "  \"\"\"\n",
        "   \n",
        "  h = (b - a)/n\n",
        "  soma = f(a) + f(b)\n",
        "  for i in range(1, n):\n",
        "    xi = a + i*h\n",
        "    soma = soma + 2*f(xi)\n",
        "  \n",
        "  return 0.5*h*soma"
      ]
    },
    {
      "cell_type": "code",
      "execution_count": 39,
      "metadata": {
        "colab": {
          "base_uri": "https://localhost:8080/"
        },
        "id": "7KJ5KLlWGQzV",
        "outputId": "35183137-d11d-45f8-ef93-4ba7278ac3ae"
      },
      "outputs": [
        {
          "name": "stdout",
          "output_type": "stream",
          "text": [
            "Valor aproximado = 0.999196680485072\n",
            "Erro absoluto =  0.0008033195149279582\n",
            "Erro percentual = 0.08033195149279582\n"
          ]
        }
      ],
      "source": [
        "# teste da soma de Riemann trapezoidal\n",
        "vtrap2 = riemann_trap2(f, a, b, n)\n",
        "\n",
        "# imprime o valor e os erros \n",
        "mostra_erro(vtrap2)"
      ]
    },
    {
      "cell_type": "markdown",
      "metadata": {
        "id": "y8hFpTnVIjE5"
      },
      "source": [
        "Algumas observações importantes:\n",
        "  - note que o valor aproximado (e, consequentemente, o erro) usando a fórmula do trapézio é igual ao valor obtido usando a média aritmética das somas de Riemann. \n",
        "  - o erro do esquema trapezoidal é o dobro do erro obtido com a soma de Riemaan média (método do ponto médio)."
      ]
    },
    {
      "attachments": {},
      "cell_type": "markdown",
      "metadata": {
        "id": "HUJ--BrrWdCF"
      },
      "source": [
        "## Exemplo prático\n",
        "---\n",
        "\n",
        "Como exemplo, utilizaremos o caso de um móvel partindo do repouso e ganhando velocidade rapidamente, tal que sua função horário da velocidade seja dada por (com $t$ em segundos e $v$ em m/s):\n",
        "\n",
        "$$\n",
        "v(t) = 3t^2e^{t^3}.\n",
        "$$\n",
        "\n",
        "Gostaríamos de saber qual a posição do móvel em determinado instante $T$ (em segundos), ou seja, precisamos computar\n",
        "\n",
        "$$\n",
        "\\int_0^T v(t) dt = \\int_0^T 3t^2e^{t^3} dt.\n",
        "$$\n",
        "\n",
        "Felizmente, nesse caso, a primitiva pode ser facilmente obtida e é dada por \n",
        "\n",
        "$$\n",
        "\\int_0^T 3t^2e^{t^3} dt = \\left[e^{t^3}\\right]_0^T\n",
        "$$\n",
        "\n",
        "Assim, para $T=1$ s, temos que a posição da partícula (em metros) é igual a \n",
        "\n",
        "$$\n",
        "\\left[e^{t^3}\\right]_0^1 = 1,71828...\n",
        "$$\n",
        "\n"
      ]
    },
    {
      "attachments": {},
      "cell_type": "markdown",
      "metadata": {
        "id": "126gZ-ZkePUp"
      },
      "source": [
        "Como sabemos, calcular a integral definida de uma função $f(x)$ é equivalente a computar a área compreendida entre o gráfico de $y=f(x)$ e o eixo $x$ entre os pontos $a$ e $b$, é o que mostra a figura abaixo para o nosso exemplo.\n",
        "\n",
        "<br>\n",
        "<div>\n",
        "  <center>\n",
        "  <img src=\"https://cloud.bgeneto.com.br:4433/s/taYEjZfAPRFJ2FX/download?path=&files=integralarea.png\" align=\"center\"/>\n",
        "  <p style=\"text-align:center\"><em>A integral definida corresponde ao valor da área abaixo do gráfico.</em></p> \n",
        "  </center>\n",
        "</div>"
      ]
    },
    {
      "attachments": {},
      "cell_type": "markdown",
      "metadata": {
        "id": "jQrkoznvgVw0"
      },
      "source": [
        "## Resolução\n",
        "\n",
        "A ideia básica da integração numérica via regra do trapézio é dividir a área desejada em subintervalos interligadas por linhas retas (interpolação de Lagrange linear). Em nosso caso, teríamos algo assim:\n",
        "\n",
        "<br>\n",
        "<div>\n",
        "  <center>\n",
        "  <img src=\"https://cloud.bgeneto.com.br:4433/s/taYEjZfAPRFJ2FX/download?path=&files=integralarea2.png\" align=\"center\"/>\n",
        "  <p style=\"text-align:center\"><em>Aproximação da área por meio da regra trapezoidal.</em></p> \n",
        "  </center>\n",
        "</div>\n",
        "<br>\n",
        "\n",
        "\n",
        "Vejamos o quão boa é esta aproximação para diversos valores de $n$. Para tanto, vamos comparar o resultado aproximado com o valor exato para diversos valores crescentes de $n$ (ou decrescentes de $h$). "
      ]
    },
    {
      "cell_type": "code",
      "execution_count": 40,
      "metadata": {
        "id": "oOs39b_NW6h6"
      },
      "outputs": [],
      "source": [
        "from numpy import exp\n",
        "\n",
        "def velocidade(t):\n",
        "  '''velocidade em função do tempo'''\n",
        "  return 3*(t**2)*exp(t**3)\n",
        "\n",
        "def analitica(a, b):\n",
        "  '''valor exato da integral no intervalo [a,b]'''\n",
        "  return exp(b**3) - exp(a**3)"
      ]
    },
    {
      "cell_type": "code",
      "execution_count": 41,
      "metadata": {
        "id": "Hpz3R7by2BfY"
      },
      "outputs": [],
      "source": [
        "# intervalo \n",
        "a = 0\n",
        "b = 1\n",
        "\n",
        "# número de subintervalos\n",
        "ns = [2**i for i in range(2,9)]\n",
        "\n",
        "lst = []\n",
        "for n in ns:\n",
        "  # solução aproximada \n",
        "  aprox = riemann_trap(velocidade, a, b, n)\n",
        "  \n",
        "  # solução exata\n",
        "  exata = analitica(a, b)\n",
        "  \n",
        "  # erro absoluto \n",
        "  erro = abs(aprox - exata)\n",
        "  \n",
        "  # erro percentual \n",
        "  erro_perc = 100*erro/exata\n",
        "  \n",
        "  lst.append([aprox, erro, erro_perc])"
      ]
    },
    {
      "cell_type": "code",
      "execution_count": 42,
      "metadata": {
        "colab": {
          "base_uri": "https://localhost:8080/",
          "height": 269
        },
        "id": "t3PS_Xem8hAW",
        "outputId": "a9d1163f-cde8-4365-aed9-ec6b3dbf7075"
      },
      "outputs": [
        {
          "data": {
            "text/html": [
              "<div>\n",
              "<style scoped>\n",
              "    .dataframe tbody tr th:only-of-type {\n",
              "        vertical-align: middle;\n",
              "    }\n",
              "\n",
              "    .dataframe tbody tr th {\n",
              "        vertical-align: top;\n",
              "    }\n",
              "\n",
              "    .dataframe thead th {\n",
              "        text-align: right;\n",
              "    }\n",
              "</style>\n",
              "<table border=\"1\" class=\"dataframe\">\n",
              "  <thead>\n",
              "    <tr style=\"text-align: right;\">\n",
              "      <th></th>\n",
              "      <th>aproximado</th>\n",
              "      <th>erro</th>\n",
              "      <th>percentual</th>\n",
              "      <th>dif_erro</th>\n",
              "    </tr>\n",
              "  </thead>\n",
              "  <tbody>\n",
              "    <tr>\n",
              "      <th>4</th>\n",
              "      <td>1.922717</td>\n",
              "      <td>0.204435</td>\n",
              "      <td>11.897636</td>\n",
              "      <td>NaN</td>\n",
              "    </tr>\n",
              "    <tr>\n",
              "      <th>8</th>\n",
              "      <td>1.770846</td>\n",
              "      <td>0.052564</td>\n",
              "      <td>3.059109</td>\n",
              "      <td>3.889249</td>\n",
              "    </tr>\n",
              "    <tr>\n",
              "      <th>16</th>\n",
              "      <td>1.731521</td>\n",
              "      <td>0.013239</td>\n",
              "      <td>0.770499</td>\n",
              "      <td>3.970294</td>\n",
              "    </tr>\n",
              "    <tr>\n",
              "      <th>32</th>\n",
              "      <td>1.721598</td>\n",
              "      <td>0.003316</td>\n",
              "      <td>0.192990</td>\n",
              "      <td>3.992432</td>\n",
              "    </tr>\n",
              "    <tr>\n",
              "      <th>64</th>\n",
              "      <td>1.719111</td>\n",
              "      <td>0.000829</td>\n",
              "      <td>0.048270</td>\n",
              "      <td>3.998099</td>\n",
              "    </tr>\n",
              "    <tr>\n",
              "      <th>128</th>\n",
              "      <td>1.718489</td>\n",
              "      <td>0.000207</td>\n",
              "      <td>0.012069</td>\n",
              "      <td>3.999524</td>\n",
              "    </tr>\n",
              "    <tr>\n",
              "      <th>256</th>\n",
              "      <td>1.718334</td>\n",
              "      <td>0.000052</td>\n",
              "      <td>0.003017</td>\n",
              "      <td>3.999881</td>\n",
              "    </tr>\n",
              "  </tbody>\n",
              "</table>\n",
              "</div>"
            ],
            "text/plain": [
              "     aproximado      erro  percentual  dif_erro\n",
              "4      1.922717  0.204435   11.897636       NaN\n",
              "8      1.770846  0.052564    3.059109  3.889249\n",
              "16     1.731521  0.013239    0.770499  3.970294\n",
              "32     1.721598  0.003316    0.192990  3.992432\n",
              "64     1.719111  0.000829    0.048270  3.998099\n",
              "128    1.718489  0.000207    0.012069  3.999524\n",
              "256    1.718334  0.000052    0.003017  3.999881"
            ]
          },
          "metadata": {},
          "output_type": "display_data"
        },
        {
          "name": "stdout",
          "output_type": "stream",
          "text": [
            "Tabela: erro e taxa de convergência do método do trapézio\n"
          ]
        }
      ],
      "source": [
        "# exibe uma tabela com os resultados\n",
        "import pandas as pd\n",
        "df = pd.DataFrame(data=lst, columns=['aproximado', 'erro', 'percentual'], index=ns)\n",
        "df['dif_erro'] = df.erro.shift()/df.erro\n",
        "display(df)\n",
        "print('Tabela: erro e taxa de convergência do método do trapézio')"
      ]
    },
    {
      "attachments": {},
      "cell_type": "markdown",
      "metadata": {},
      "source": [
        "Note que a convergência do método é quadrática, isto é, que o erro quadruplica quando $n$ dobra (ou quando $h$ cai pela metade). Isso significa que o erro de truncamento desse método é de ordem $\\mathcal O(h^2)$."
      ]
    },
    {
      "attachments": {},
      "cell_type": "markdown",
      "metadata": {},
      "source": [
        "Vamos agora verificar que o método do ponto médio (soma de Riemann média) também possui convergência quadrática porém nos dá um erro ligeiramente menor (metade em relação ao método do trapézio)."
      ]
    },
    {
      "cell_type": "code",
      "execution_count": 43,
      "metadata": {},
      "outputs": [
        {
          "data": {
            "text/html": [
              "<div>\n",
              "<style scoped>\n",
              "    .dataframe tbody tr th:only-of-type {\n",
              "        vertical-align: middle;\n",
              "    }\n",
              "\n",
              "    .dataframe tbody tr th {\n",
              "        vertical-align: top;\n",
              "    }\n",
              "\n",
              "    .dataframe thead th {\n",
              "        text-align: right;\n",
              "    }\n",
              "</style>\n",
              "<table border=\"1\" class=\"dataframe\">\n",
              "  <thead>\n",
              "    <tr style=\"text-align: right;\">\n",
              "      <th></th>\n",
              "      <th>aproximado</th>\n",
              "      <th>erro</th>\n",
              "      <th>percentual</th>\n",
              "      <th>dif_erro</th>\n",
              "    </tr>\n",
              "  </thead>\n",
              "  <tbody>\n",
              "    <tr>\n",
              "      <th>4</th>\n",
              "      <td>1.618975</td>\n",
              "      <td>0.099307</td>\n",
              "      <td>5.779418</td>\n",
              "      <td>NaN</td>\n",
              "    </tr>\n",
              "    <tr>\n",
              "      <th>8</th>\n",
              "      <td>1.692196</td>\n",
              "      <td>0.026085</td>\n",
              "      <td>1.518110</td>\n",
              "      <td>3.806981</td>\n",
              "    </tr>\n",
              "    <tr>\n",
              "      <th>16</th>\n",
              "      <td>1.711675</td>\n",
              "      <td>0.006607</td>\n",
              "      <td>0.384519</td>\n",
              "      <td>3.948073</td>\n",
              "    </tr>\n",
              "    <tr>\n",
              "      <th>32</th>\n",
              "      <td>1.716625</td>\n",
              "      <td>0.001657</td>\n",
              "      <td>0.096449</td>\n",
              "      <td>3.986759</td>\n",
              "    </tr>\n",
              "    <tr>\n",
              "      <th>64</th>\n",
              "      <td>1.717867</td>\n",
              "      <td>0.000415</td>\n",
              "      <td>0.024132</td>\n",
              "      <td>3.996673</td>\n",
              "    </tr>\n",
              "    <tr>\n",
              "      <th>128</th>\n",
              "      <td>1.718178</td>\n",
              "      <td>0.000104</td>\n",
              "      <td>0.006034</td>\n",
              "      <td>3.999167</td>\n",
              "    </tr>\n",
              "    <tr>\n",
              "      <th>256</th>\n",
              "      <td>1.718256</td>\n",
              "      <td>0.000026</td>\n",
              "      <td>0.001509</td>\n",
              "      <td>3.999792</td>\n",
              "    </tr>\n",
              "  </tbody>\n",
              "</table>\n",
              "</div>"
            ],
            "text/plain": [
              "     aproximado      erro  percentual  dif_erro\n",
              "4      1.618975  0.099307    5.779418       NaN\n",
              "8      1.692196  0.026085    1.518110  3.806981\n",
              "16     1.711675  0.006607    0.384519  3.948073\n",
              "32     1.716625  0.001657    0.096449  3.986759\n",
              "64     1.717867  0.000415    0.024132  3.996673\n",
              "128    1.718178  0.000104    0.006034  3.999167\n",
              "256    1.718256  0.000026    0.001509  3.999792"
            ]
          },
          "metadata": {},
          "output_type": "display_data"
        },
        {
          "name": "stdout",
          "output_type": "stream",
          "text": [
            "Tabela: erro e taxa de convergência do método do ponto médio\n"
          ]
        }
      ],
      "source": [
        "# número de subintervalos\n",
        "ns = [2**i for i in range(2,9)]\n",
        "\n",
        "lst = []\n",
        "for n in ns:\n",
        "  # solução aproximada \n",
        "  aprox = riemann_med(velocidade, a, b, n)\n",
        "  \n",
        "  # solução exata\n",
        "  exata = analitica(a, b)\n",
        "  \n",
        "  # erro absoluto \n",
        "  erro = abs(aprox - exata)\n",
        "  \n",
        "  # erro percentual \n",
        "  erro_perc = 100*erro/exata\n",
        "  \n",
        "  lst.append([aprox, erro, erro_perc])\n",
        "\n",
        "df = pd.DataFrame(data=lst, columns=['aproximado', 'erro', 'percentual'], index=ns)\n",
        "df['dif_erro'] = df.erro.shift()/df.erro\n",
        "display(df)\n",
        "print('Tabela: erro e taxa de convergência do método do ponto médio')"
      ]
    },
    {
      "attachments": {},
      "cell_type": "markdown",
      "metadata": {
        "id": "9-sWL_UhgRz2"
      },
      "source": [
        "### Otimizando o código via vetorização\n",
        "\n",
        "A performance de códigos que utilizam comandos de repetição em Python tende a ser baixa quando comparada com linguagens compiladas de alto desempenho (leia-se: Fortran ou C/C++). \n",
        "\n",
        "Por esse motivo, buscamos otimizar, sempre que possível, nosso código em Python reescrevendo-o sem loops. Tal técnica é chamada de **vetorização**. \n",
        "\n",
        "Vamos vetorizar nossas somas de Riemann e verificar qual ganho de desempenho obteremos. Para tanto, note que a nossa malha $x_i = a + ih$ é igualmente espaçada e foi produzida (dentro de um loop) com comandos da seguinte forma:"
      ]
    },
    {
      "cell_type": "code",
      "execution_count": 44,
      "metadata": {},
      "outputs": [
        {
          "name": "stdout",
          "output_type": "stream",
          "text": [
            "0.0 , 0.25 , 0.5 , 0.75 , "
          ]
        }
      ],
      "source": [
        "n = 4\n",
        "h = (b - a)/n\n",
        "for i in range(0, n):\n",
        "  xi = a + i*h\n",
        "  print(xi, end=' , ')"
      ]
    },
    {
      "attachments": {},
      "cell_type": "markdown",
      "metadata": {
        "id": "jmgpyQRKit-o"
      },
      "source": [
        "Note que os valores $x_i$ são sobrescritos a cada iteração. Podemos armazenar todos os valores $x_i$ sem a necessidade de um loop (explícito) com o comando:"
      ]
    },
    {
      "cell_type": "code",
      "execution_count": 45,
      "metadata": {
        "colab": {
          "base_uri": "https://localhost:8080/"
        },
        "id": "kwAdSowOh2Mr",
        "outputId": "31ef31b9-7f76-49e0-80ca-b1b99a79a315"
      },
      "outputs": [
        {
          "data": {
            "text/plain": [
              "array([0.  , 0.25, 0.5 , 0.75])"
            ]
          },
          "execution_count": 45,
          "metadata": {},
          "output_type": "execute_result"
        }
      ],
      "source": [
        "from numpy import linspace\n",
        "\n",
        "xi = linspace(a, b, n, endpoint=False)\n",
        "xi"
      ]
    },
    {
      "attachments": {},
      "cell_type": "markdown",
      "metadata": {},
      "source": [
        "Com isso trocamos memória por desempenho. Isto é, utilizamos mais memória (por armazenar todos os valores $x_i$) mas ganhamos desempenho ao executar várias instruções por vez. \n",
        "Para compara a performance (e a correção) da versão otimizada, utilizaremos a seguinte função:"
      ]
    },
    {
      "cell_type": "code",
      "execution_count": 46,
      "metadata": {
        "id": "5W3grGeZjMCW"
      },
      "outputs": [],
      "source": [
        "def compara_versoes(f1, f2, a, b, n):\n",
        "  '''Compara os resultados e a performance de duas versões de uma função.'''\n",
        "  exata = analitica(a, b)\n",
        "  aprox = f1(velocidade, a, b, n)\n",
        "  aprox_opt = f2(velocidade, a, b, n)\n",
        "  print('exata =', exata)\n",
        "  print('aprox =', aprox)\n",
        "  print('optim =', aprox_opt)\n",
        "  # comparação de tempo de execução\n",
        "  t = %timeit -o -q f1(velocidade, a, b, 512)\n",
        "  topt = %timeit -o -q f2(velocidade, a, b, 512)\n",
        "  print('ganho = {:.2f}x'.format(t.average/topt.average))\n"
      ]
    },
    {
      "attachments": {},
      "cell_type": "markdown",
      "metadata": {},
      "source": [
        "Seguem as implementações otimizadas/vetorizadas:"
      ]
    },
    {
      "cell_type": "code",
      "execution_count": 47,
      "metadata": {},
      "outputs": [],
      "source": [
        "from math import fsum \n",
        "\n",
        "def riemann_esq_opt(f, a, b, n):\n",
        "  '''Versão otimizada via vetorização da soma de Riemann.'''\n",
        "  xi = linspace(a, b, n+1)\n",
        "  res = fsum( f(xi[:-1]) )\n",
        "  return (xi[1] - xi[0])*res"
      ]
    },
    {
      "cell_type": "code",
      "execution_count": 48,
      "metadata": {},
      "outputs": [
        {
          "name": "stdout",
          "output_type": "stream",
          "text": [
            "exata = 1.718281828459045\n",
            "aprox = 1.7103310739104152\n",
            "optim = 1.7103310739104152\n",
            "ganho = 8.30x\n"
          ]
        }
      ],
      "source": [
        "compara_versoes(riemann_esq, riemann_esq_opt, a, b, 512)"
      ]
    },
    {
      "cell_type": "code",
      "execution_count": 49,
      "metadata": {
        "colab": {
          "base_uri": "https://localhost:8080/"
        },
        "id": "8y616Ja9jcVh",
        "outputId": "91aabc09-bfed-412b-d421-bc56264c2d7b"
      },
      "outputs": [],
      "source": [
        "def riemann_dir_opt(f, a, b, n):\n",
        "  '''Versão otimizada via vetorização da soma de Riemann.'''\n",
        "  xi = linspace(a, b, n+1)\n",
        "  res = fsum( f(xi[1:]) )\n",
        "  return (xi[1] - xi[0])*res"
      ]
    },
    {
      "cell_type": "code",
      "execution_count": 50,
      "metadata": {},
      "outputs": [
        {
          "name": "stdout",
          "output_type": "stream",
          "text": [
            "exata = 1.718281828459045\n",
            "aprox = 1.7262585064990423\n",
            "optim = 1.7262585064990423\n",
            "ganho = 8.19x\n"
          ]
        }
      ],
      "source": [
        "compara_versoes(riemann_dir, riemann_dir_opt, a, b, 512)"
      ]
    },
    {
      "cell_type": "code",
      "execution_count": 51,
      "metadata": {},
      "outputs": [],
      "source": [
        "def riemann_med_opt(f, a, b, n):\n",
        "  '''Versão otimizada via vetorização da soma de Riemann.'''\n",
        "  h = (b - a)/n\n",
        "  xi = linspace(a+h/2, b-h/2, n)\n",
        "  res = fsum( f(xi) )\n",
        "  return h*res"
      ]
    },
    {
      "cell_type": "code",
      "execution_count": 52,
      "metadata": {},
      "outputs": [
        {
          "name": "stdout",
          "output_type": "stream",
          "text": [
            "exata = 1.718281828459045\n",
            "aprox = 1.7182753475982557\n",
            "optim = 1.7182753475982557\n",
            "ganho = 8.22x\n"
          ]
        }
      ],
      "source": [
        "compara_versoes(riemann_med, riemann_med_opt, a, b, 512)"
      ]
    },
    {
      "attachments": {},
      "cell_type": "markdown",
      "metadata": {},
      "source": [
        "\n",
        "<div class=\"alert alert-block alert-info\">\n",
        "  <b>🖉 Tarefa:</b> \n",
        "  Implementar a versão otimizada da soma de Riemann trapezoidal.\n",
        "</div>"
      ]
    },
    {
      "cell_type": "markdown",
      "metadata": {},
      "source": []
    }
  ],
  "metadata": {
    "colab": {
      "provenance": []
    },
    "kernelspec": {
      "display_name": "Python 3",
      "language": "python",
      "name": "python3"
    },
    "language_info": {
      "codemirror_mode": {
        "name": "ipython",
        "version": 3
      },
      "file_extension": ".py",
      "mimetype": "text/x-python",
      "name": "python",
      "nbconvert_exporter": "python",
      "pygments_lexer": "ipython3",
      "version": "3.9.7"
    },
    "vscode": {
      "interpreter": {
        "hash": "f1ca52c2298dd5109d735b7fbaa5dda618194d7834c215ebc23f5459f9bd6a2e"
      }
    }
  },
  "nbformat": 4,
  "nbformat_minor": 0
}
