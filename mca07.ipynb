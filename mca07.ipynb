{
  "nbformat": 4,
  "nbformat_minor": 0,
  "metadata": {
    "colab": {
      "provenance": []
    },
    "kernelspec": {
      "name": "python3",
      "display_name": "Python 3"
    },
    "language_info": {
      "name": "python"
    }
  },
  "cells": [
    {
      "cell_type": "markdown",
      "metadata": {
        "id": "c8ca80e5-5cf2-48fa-a048-b10764f133c3"
      },
      "source": [
        "# Universidade de Brasília\n",
        "## Instituto de Física\n",
        "---\n",
        "### Métodos Computacionais A (MCA) \n",
        "#### Prof. Bernhard Enders\n",
        "---"
      ]
    },
    {
      "cell_type": "markdown",
      "metadata": {
        "id": "060dc954-dbfb-4c68-99b7-35fa98d15b76"
      },
      "source": [
        "# **➲ AULA 06.12: Integração Numérica**\n",
        "\n",
        "## O problema da integração analítica\n",
        "---\n",
        "\n",
        "A integral definida, para uma função contínua $f$ em um  intervalo [a,b], é dada por:\n",
        "\n",
        "$$\n",
        "\\int_a^b f(x) dx = F(b) - F(a),\n",
        "$$\n",
        "\n",
        "na qual\n",
        "\n",
        "$$\n",
        "f(x) = \\frac{dF}{dx}. \n",
        "$$\n",
        "\n",
        "O grande problema desse procedimento é que precisamos obter uma forma analítica para a antiderivada/primitiva $F(x)$ e muitas vezes isso não é uma tarefa fácil e algumas vezes até mesmo impossível. \n",
        "\n",
        "Se ao invés de obter uma solução exata (forma analítica) buscarmos valores aproximados de $F(x)$, então teremos um problema relativamente fácil de resolver, chamado de **integração numérica**.\n"
      ]
    },
    {
      "cell_type": "markdown",
      "source": [
        "## Somas de Riemann e integração numérica\n",
        "---\n",
        "\n",
        "A integral definida de uma função contínua $f$ sobre o intervalo [a,b], expressa por $\\int_a^b f(x)dx$, também pode ser definida como o limite de uma soma de Riemann quando o número de subdivisões se aproxima do infinito. Ou seja,\n",
        "\n",
        "$$\n",
        "I = \\int_a^b f(x) dx = \\lim_{n\\to∞}\\sum_{i=1}^n f(x_i^*)(x_i - x_{i-1})\n",
        "$$\n",
        "\n",
        "na qual $n$ é o número de subintervalos/subdivisões e os pontos (de integração) $x_i^*$ podem ser escolhidos de diversas formas, desde que $x_{i-1}\\leq x_{i}^{*} \\leq x_{i}$.\n",
        "\n",
        "Chamamos a quantidade $(x_i - x_{i-1})$ de **passo da malha**, que é geralmente representado por $\\Delta x$ ou $h$. Assim, temos que\n",
        "\n",
        "$$\n",
        "\\begin{align}\n",
        "\\Delta x &= x_i - x_{i-1} \\\\\n",
        "&= \\frac{b-a}{n}.\n",
        "\\end{align}\n",
        "$$\n",
        "\n",
        "De modo que \n",
        "\n",
        "$$\n",
        "I = \\lim_{n\\to∞}\\sum_{i=1}^n f(x_i^*)\\Delta x.\n",
        "$$\n",
        "\n",
        "### Tipos de somas de Riemann\n",
        "\n",
        "Escolhas específicas do conjunto de pontos $x_{i}^{*}$ nos dão diferentes tipos de soma de Riemann:\n",
        "\n",
        "- Soma de Riemann à **esquerda**: Se $x_{i}^{*}=x_{i-1}$, $∀i ∈ \\{0,\\ldots,n-1\\}$;\n",
        "- Soma de Riemann à **direita**: Se $x_{i}^{*}=x_{i}$, $∀i ∈ \\{1,\\ldots,n\\}$;\n",
        "- Soma de Riemann **média**: Se $x_{i}^{*}=\\frac{1}{2}(x_{i-1}+x_{i})$, $∀i ∈ \\{0,\\ldots,n\\}$;\n",
        "- Soma de Riemann **trapezoidal**: corresponde à média aritmética entre a soma à esquerda e a soma à direita.\n",
        "- Soma de Riemann **superior**: $x_{i}^{*}$ é escolhido tal que $f(x_i^*) = \\max(f(x_{i-1}), f(x_{i}))$\n",
        "- Soma de Riemann **inferior**: $x_{i}^{*}$ é escolhido tal que $f(x_i^*) = \\min(f(x_{i-1}), f(x_{i}))$\n",
        "\n",
        "**NOTA 1**: Qualquer soma de Riemann em dada partição — isto é, qualquer soma obtida pela escolha de $x_{i}^{*}$ entre $\\displaystyle x_{i-1}$ e $\\displaystyle x_{i}$ —  está compreendida entre os valores obtidos pelas somas de Riemann superior e inferior. \n",
        "\n",
        "**NOTA 2**: Uma função é definida como integrável por Riemann se a soma inferior e superior forem se aproximando conforme a partição se afina. Este fato pode ser também usado para a integração numérica.\n",
        "\n",
        "<div>\n",
        "  <br>\n",
        "  <center>\n",
        "  <img src=\"https://upload.wikimedia.org/wikipedia/commons/2/2a/Riemann_sum_convergence.png\" width=\"500\" align=\"center\"/>\n",
        "  <p><em>Representação gráfica dos diversos tipos de somas de Riemann.</em></p> \n",
        "  </center>\n",
        "</div>\n"
      ],
      "metadata": {
        "id": "B1vgyzMLVUUk"
      }
    },
    {
      "cell_type": "markdown",
      "source": [
        "## Soma de Riemann à esquerda\n",
        "---\n",
        "\n",
        "Na soma de Riemann à esquerda, aproxima-se a função pelo seu valor no ponto final à esquerda, dando múltiplos retângulos com base $Δx ≡ h$ e altura $f(x_i)$. Tomando  $i = 0, 1, ... n-1$ e adicionando as áreas, temos então a seguinte aproximação para a integral definida.\n",
        "\n",
        "$$\n",
        "I ≈ h[f(a)+f(a+h)+f(a+2h)+...+f(b-h)].\n",
        "$$\n",
        "\n",
        "Note que $x_0=a, x_1 = a+h, x_2=a+2h,\\ldots$, de modo que podemos construir todos os pontos da malha com a seguinte relação de recorrência:\n",
        "\n",
        "$$\n",
        "x_i = a + ih, \\forall i \\in \\{ 0,1,\\ldots,n-1\\}\n",
        "$$\n",
        "\n",
        "\n",
        "<div>\n",
        "  <br>\n",
        "  <center>\n",
        "  <img src=\"https://upload.wikimedia.org/wikipedia/commons/1/19/Riemann_sum_%28leftbox%29.gif\" align=\"center\"/>\n",
        "  <p><em>Animação da soma de Riemann à esquerda para valores crescentes de $n$.</em></p> \n",
        "  </center>\n",
        "  <!--https://upload.wikimedia.org/wikipedia/commons/c/c9/LeftRiemann2.svg-->\n",
        "</div>\n",
        "\n",
        "\n",
        "A soma de Riemann à esquerda resulta em uma superestimação se $f$ está monotonicamente decrescendo nesse intervalo, e em uma subestimação se $f$ está monotonicamente crescendo.\n"
      ],
      "metadata": {
        "id": "U1xuX8jXee3x"
      }
    },
    {
      "cell_type": "markdown",
      "source": [
        "## Soma de Riemann à direita\n",
        "---\n",
        "Nessa soma, aproxima-se $f$ de seu valor no ponto à direita de cada subintervalo. São gerados, então, múltiplos retângulos de base $h$ e altura $f(a + ih)$. Tomando para $i = 1,2,...,n$ e adicionando as áreas resultantes se produz\n",
        "\n",
        "$$\n",
        "\\begin{align}\n",
        "I &≈ h\\left[f(a+h)+f(a+2h)+...+f(b)\\right]\\\\\n",
        "  &≈ h\\left[f(x_1)+f(x_2)+...+f(x_n)\\right].\\\\\n",
        "\\end{align}\n",
        "$$\n",
        "\n",
        "\n",
        "<div>\n",
        "  <br>\n",
        "  <center>\n",
        "  <img src=\"https://upload.wikimedia.org/wikipedia/commons/6/61/Riemann_sum_%28rightbox%29.gif\" align=\"center\"/>\n",
        "  <p><em>Animação da soma de Riemann à direita para valores crescentes de $n$.</em></p> \n",
        "  </center>\n",
        "  <!--https://upload.wikimedia.org/wikipedia/commons/4/45/RightRiemann2.svg-->\n",
        "</div>\n",
        "\n",
        "\n",
        "\n",
        "A soma de Riemann à direita resulta em uma subestimação se $f$ está monotonicamente decrescendo, e uma superestimação se $f$ está monotonicamente crescendo. "
      ],
      "metadata": {
        "id": "A3iH6819qX8o"
      }
    },
    {
      "cell_type": "markdown",
      "source": [
        "## Soma de Riemann média\n",
        "---\n",
        "Aqui, aproximamos $f$ no ponto médio dos intervalos,  expressamos $f(a+h/2)$ para o primeiro intervalo, para o próximo temos $f(a+3h/2)$ e assim por diante, até $f(b-h/2)$. Somando as áreas temos\n",
        "\n",
        "$$\n",
        "I ≈ {\\displaystyle h\\left[f(a+{\\frac {h}{2}})+f(a+{\\frac {3h}{2}})+...+f(b-{\\frac {h}{2}})\\right].}\n",
        "$$\n",
        "\n",
        "Este esquema é equivalente ao método de integração numérica chamado de **Método do Ponto Médio**, que corresponde à soma de áreas de retângulos de bases iguais a $h$ e alturas $f(\\bar x_i)$, com $\\bar x_i = \\frac{1}{2}(x_{i-1}+x_i)$.\n",
        "\n",
        "\n",
        "<div>\n",
        "  <br>\n",
        "  <center>\n",
        "  <img src=\"https://upload.wikimedia.org/wikipedia/commons/c/c3/Riemann_sum_%28middlebox%29.gif\" align=\"center\"/>\n",
        "  <p><em>Animação da soma de Riemann média para valores crescentes de $n$.</em></p> \n",
        "  </center>\n",
        "  <!--https://upload.wikimedia.org/wikipedia/commons/d/d2/MidRiemann2.svg-->\n",
        "</div>\n",
        "\n",
        "\n",
        "\n",
        "\n",
        "\n"
      ],
      "metadata": {
        "id": "jxejUEZgrnAi"
      }
    },
    {
      "cell_type": "markdown",
      "source": [
        "## Soma de Riemann trapezoidal\n",
        "---\n",
        "\n",
        "Nesse caso, os valores da função $f$ no intervalo são aproximados pela média aritmética dos valores finais das somas de Riemann à direita e à esquerda. Dessa mesma maneira, temos que \n",
        "\n",
        "\n",
        "\n",
        "$$\n",
        "\\begin{align}\n",
        "I &≈ \\frac{1}{2}\\left\\{h[f(a)+f(a+h)+f(a+2h)+...+f(b-h)] + h[f(a+h)+f(a+2h)+...+f(b)]\\right\\}\\\\\n",
        "&≈ \\frac{h}{2}\\left[f(a)+2f(a+h)+2f(a+2h)+...+2f(b-h)+f(b)\\right] \n",
        "\\end{align}\n",
        "$$\n",
        "\n",
        "Como $x_i = a + ih,\\ \\forall i \\in \\{0,1,\\ldots,n\\}$, reescrevemos:\n",
        "\n",
        "$$\n",
        "\\begin{align}\n",
        "I &≈ \\frac{h}{2}\\left[f(x_0)+2f(x_1)+2f(x_2)+...+2f(x_{n-1})+f(x_n)\\right]\\\\\n",
        "  &≈ \\frac{h}{2}\\left[f(a) + 2\\sum_{i=1}^{n-1}f(x_i) + f(b)\\right].\n",
        "\\end{align}\n",
        "$$\n",
        "\n",
        "**NOTA**: Esta fórmula coincide com a chamada regra do trapézio para integração numérica, na qual utiliza-se um polinômio interpolador de Lagrange de primeiro grau (uma reta) para aproximar os valores de $f(x_i)$ em cada intervalo $[x_{i-1},x_i]$.  \n",
        "\n",
        "<div class=\"warn\">\n",
        "As of IPython 2.0, the user interface has changed significantly\n",
        "</div>\n",
        "\n",
        "<div class=\"alert alert-warning\">\n",
        "  <br>\n",
        "  <center>\n",
        "  <img src=\"https://upload.wikimedia.org/wikipedia/commons/7/76/TrapRiemann2.svg\" align=\"center\"/>\n",
        "  <p><em>Representação gráfica de uma soma de Riemann trapezoidal.</em></p> \n",
        "  </center>\n",
        "</div>\n",
        "\n"
      ],
      "metadata": {
        "id": "YuhPY32xt884"
      }
    },
    {
      "cell_type": "markdown",
      "source": [
        "## Implementações e testes em Python\n",
        "Para testar nossa implementação vamos utilizar uma integral definida simples e bem conhecida:\n",
        "\n",
        "$$\n",
        "I = \\int_0^{π/2} \\sin(x) \\, \\text{d}x = 1\n",
        "$$\n",
        "\n",
        "Note (vide figura abaixo) que esta função é monótona crescente no intervalo [0,1]. Assim, esperamos uma subestimação do valor da integral para a soma de Riemann à esquerda e uma superestimação para a soma de Riemann à direita."
      ],
      "metadata": {
        "id": "O0mUrz6K-mk0"
      }
    },
    {
      "cell_type": "code",
      "source": [
        "import math\n",
        "import matplotlib.pyplot as plt\n",
        "import numpy as np\n",
        "\n",
        "x = np.linspace(0, math.pi/2, 100)\n",
        "y = np.sin(x)\n",
        "plt.fill_between(x, y, step=\"pre\", alpha=0.4)\n",
        "plt.title('f(x) = sen (x), ∀x ∈ {0,...,π/2}')\n",
        "plt.plot(x, y)\n",
        "plt.show()"
      ],
      "metadata": {
        "colab": {
          "base_uri": "https://localhost:8080/",
          "height": 281
        },
        "id": "79bQvG_UQLvz",
        "outputId": "ac244980-724e-4274-997e-0840e4a6c837"
      },
      "execution_count": 8,
      "outputs": [
        {
          "output_type": "display_data",
          "data": {
            "text/plain": [
              "<Figure size 432x288 with 1 Axes>"
            ],
            "image/png": "[encoded data removed]"
          },
          "metadata": {
            "needs_background": "light"
          }
        }
      ]
    },
    {
      "cell_type": "markdown",
      "source": [
        "Para calcular e exibir os erros relativo e absoluto, vamos utilizar a seguinte função: "
      ],
      "metadata": {
        "id": "rBwTemnLQPe-"
      }
    },
    {
      "cell_type": "code",
      "source": [
        "import math\n",
        "\n",
        "def mostra_erro(val):\n",
        "  '''função para imprimir os erros absoluto e relativo'''\n",
        "  \n",
        "  # imprime o valor calculado\n",
        "  print('Valor aproximado =', val)\n",
        "  # erro absoluto\n",
        "  erro = abs(1 - val)\n",
        "  print('Erro absoluto = ', erro)\n",
        "  # erro percentual \n",
        "  print('Erro percentual =', 100*erro)\n"
      ],
      "metadata": {
        "id": "uWWwCgHTQdwK"
      },
      "execution_count": 9,
      "outputs": []
    },
    {
      "cell_type": "markdown",
      "source": [
        "Vamos fixar nossa função teste, o intervalo de integração e o número de subintervalos para todos os casos:"
      ],
      "metadata": {
        "id": "46GV7ZYNSHKy"
      }
    },
    {
      "cell_type": "code",
      "source": [
        "# nossa função teste\n",
        "f = lambda x: math.sin(x)\n",
        "# intervalo\n",
        "a, b = 0, 0.5*math.pi\n",
        "# número de subintervalos\n",
        "n = 16"
      ],
      "metadata": {
        "id": "Dh9IpK38SOob"
      },
      "execution_count": 10,
      "outputs": []
    },
    {
      "cell_type": "markdown",
      "source": [
        "\n",
        "Seguem abaixo algumas implementações ingênuas das somas de Riemann utilizadas para aproximar a integral definida de uma função $f$ no intervalo $[a,b]$ contendo $n$ subintervalos. O teste/validação de cada implementação é feito na sequência de cada definição/função."
      ],
      "metadata": {
        "id": "dBk_b4DGQPuD"
      }
    },
    {
      "cell_type": "code",
      "source": [
        "def riemann_esq(f, a, b, n):\n",
        "  \"\"\"Aproximação do valor da integral definida de uma função f \n",
        "     no intervalo [a,b] utilizando o método da soma de Riemann \n",
        "     à esquerda.\n",
        "\n",
        "  Args:\n",
        "    f (callable): função a ser integrada.\n",
        "    a (float): início do intervalo de integração.\n",
        "    b (float): fim do intervalo de integração.\n",
        "    n (int): número de subintervalos utilizados na soma.\n",
        "\n",
        "  Returns:\n",
        "    float: valor da soma/integral.\n",
        "  \"\"\"\n",
        "  h = (b - a)/n\n",
        "  soma = 0.0\n",
        "  for i in range(n):\n",
        "    xi = a + i*h\n",
        "    soma = soma + f(xi)\n",
        "  \n",
        "  return h*soma"
      ],
      "metadata": {
        "id": "Pq9ljgDQv-9O"
      },
      "execution_count": 11,
      "outputs": []
    },
    {
      "cell_type": "code",
      "source": [
        "# teste da soma de Riemann trapezoidal\n",
        "vesq = riemann_esq(f, a, b, n)\n",
        "\n",
        "# imprime o valor e os erros \n",
        "mostra_erro(vesq)"
      ],
      "metadata": {
        "colab": {
          "base_uri": "https://localhost:8080/"
        },
        "id": "matpRcu6RP5n",
        "outputId": "d13a8a74-b05f-43c6-87f6-22e78134610f"
      },
      "execution_count": 12,
      "outputs": [
        {
          "output_type": "stream",
          "name": "stdout",
          "text": [
            "Valor aproximado = 0.9501092952727316\n",
            "Erro absoluto =  0.04989070472726842\n",
            "Erro percentual = 4.9890704727268425\n"
          ]
        }
      ]
    },
    {
      "cell_type": "code",
      "source": [
        "def riemann_dir(f, a, b, n):\n",
        "  \"\"\"Aproximação do valor da integral definida de uma função f \n",
        "     no intervalo [a,b] utilizando o método da soma de Riemann \n",
        "     à direita.\n",
        "\n",
        "  Args:\n",
        "    f (callable): função a ser integrada.\n",
        "    a (float): início do intervalo de integração.\n",
        "    b (float): fim do intervalo de integração.\n",
        "    n (int): número de subintervalos utilizados na soma.\n",
        "\n",
        "  Returns:\n",
        "    float: valor da soma/integral.\n",
        "  \"\"\"\n",
        "  h = (b - a)/n\n",
        "  soma = 0.0\n",
        "  for i in range(1, n+1):\n",
        "    xi = a + i*h\n",
        "    soma = soma + f(xi)\n",
        "  \n",
        "  return h*soma"
      ],
      "metadata": {
        "id": "cggwh7tJzqHa"
      },
      "execution_count": 13,
      "outputs": []
    },
    {
      "cell_type": "code",
      "source": [
        "# teste da soma de Riemann à direita\n",
        "vdir = riemann_dir(f, a, b, n)\n",
        "\n",
        "# imprime o valor e os erros \n",
        "mostra_erro(vdir)"
      ],
      "metadata": {
        "id": "wnCqPV9SwI5c",
        "colab": {
          "base_uri": "https://localhost:8080/"
        },
        "outputId": "64792430-a684-45d3-881e-ff1f1def4e38"
      },
      "execution_count": 14,
      "outputs": [
        {
          "output_type": "stream",
          "name": "stdout",
          "text": [
            "Valor aproximado = 1.0482840656974126\n",
            "Erro absoluto =  0.048284065697412615\n",
            "Erro percentual = 4.8284065697412615\n"
          ]
        }
      ]
    },
    {
      "cell_type": "code",
      "source": [
        "def riemann_med(f, a, b, n):\n",
        "  \"\"\"Aproximação do valor da integral definida de uma função f \n",
        "     no intervalo [a,b] utilizando o método da soma de Riemann \n",
        "     média.\n",
        "\n",
        "  Args:\n",
        "    f (callable): função a ser integrada.\n",
        "    a (float): início do intervalo de integração.\n",
        "    b (float): fim do intervalo de integração.\n",
        "    n (int): número de subintervalos utilizados na soma.\n",
        "\n",
        "  Returns:\n",
        "    float: valor da soma/integral.\n",
        "  \"\"\"\n",
        "  h = (b - a)/n\n",
        "  soma = 0.0\n",
        "  for i in range(0, n):\n",
        "    xi = a + h*(i + 0.5)\n",
        "    soma = soma + f(xi)\n",
        "  \n",
        "  return h*soma"
      ],
      "metadata": {
        "id": "vT9b-UlY7g0I"
      },
      "execution_count": 15,
      "outputs": []
    },
    {
      "cell_type": "code",
      "source": [
        "# teste da soma de Riemann média\n",
        "vmed = riemann_med(f, a, b, n)\n",
        "\n",
        "# imprime o valor e os erros \n",
        "mostra_erro(vmed)"
      ],
      "metadata": {
        "colab": {
          "base_uri": "https://localhost:8080/"
        },
        "outputId": "9b93de9b-6a03-47a2-981a-c7a526057a26",
        "id": "GN-VIXrs7g0M"
      },
      "execution_count": 16,
      "outputs": [
        {
          "output_type": "stream",
          "name": "stdout",
          "text": [
            "Valor aproximado = 1.0004017081549652\n",
            "Erro absoluto =  0.00040170815496520795\n",
            "Erro percentual = 0.040170815496520795\n"
          ]
        }
      ]
    },
    {
      "cell_type": "code",
      "source": [
        "def riemann_trap(f, a, b, n):\n",
        "  \"\"\"Aproximação do valor da integral definida de uma função f \n",
        "     no intervalo [a,b] utilizando a média aritmética das somas\n",
        "     de Riemann esquerda e direita. \n",
        "\n",
        "  Args:\n",
        "    f (callable): função a ser integrada.\n",
        "    a (float): início do intervalo de integração.\n",
        "    b (float): fim do intervalo de integração.\n",
        "    n (int): número de subintervalos utilizados na soma.\n",
        "\n",
        "  Returns:\n",
        "    float: valor da soma/integral.\n",
        "  \"\"\"\n",
        "   \n",
        "  return 0.5*(riemann_esq(f, a, b, n) + riemann_dir(f, a, b, n))"
      ],
      "metadata": {
        "id": "qL1SGiV1-mk7"
      },
      "execution_count": 17,
      "outputs": []
    },
    {
      "cell_type": "code",
      "source": [
        "# teste da soma de Riemann trapezoidal\n",
        "vtrap = riemann_trap(f, a, b, n)\n",
        "\n",
        "# imprime o valor e os erros \n",
        "mostra_erro(vtrap)"
      ],
      "metadata": {
        "colab": {
          "base_uri": "https://localhost:8080/"
        },
        "outputId": "d463359e-10b8-4f25-c3cd-bacf35856c4e",
        "id": "R77Mh_s9-mlD"
      },
      "execution_count": 18,
      "outputs": [
        {
          "output_type": "stream",
          "name": "stdout",
          "text": [
            "Valor aproximado = 0.999196680485072\n",
            "Erro absoluto =  0.0008033195149279582\n",
            "Erro percentual = 0.08033195149279582\n"
          ]
        }
      ]
    },
    {
      "cell_type": "markdown",
      "source": [
        "Outra implementação (mais eficiente) equivalente seria utilizar a fórmula simplificada da média aritmética ao invés de calcular duas somas de Riemann:"
      ],
      "metadata": {
        "id": "KVz0I9DdF9XV"
      }
    },
    {
      "cell_type": "code",
      "source": [
        "def riemann_trap2(f, a, b, n):\n",
        "  \"\"\"Aproximação do valor da integral definida de uma função f \n",
        "     no intervalo [a,b] utilizando o método da soma de Riemann \n",
        "     trapezoidal.\n",
        "\n",
        "  Args:\n",
        "    f (callable): função a ser integrada.\n",
        "    a (float): início do intervalo de integração.\n",
        "    b (float): fim do intervalo de integração.\n",
        "    n (int): número de subintervalos utilizados na soma.\n",
        "\n",
        "  Returns:\n",
        "    float: valor da soma/integral.\n",
        "  \"\"\"\n",
        "   \n",
        "  h = (b - a)/n\n",
        "  soma = f(a) + f(b)\n",
        "  for i in range(1, n):\n",
        "    xi = a + i*h\n",
        "    soma = soma + 2*f(xi)\n",
        "  \n",
        "  return 0.5*h*soma"
      ],
      "metadata": {
        "id": "GMTAaG1LGQzT"
      },
      "execution_count": 19,
      "outputs": []
    },
    {
      "cell_type": "code",
      "source": [
        "# teste da soma de Riemann trapezoidal\n",
        "vtrap2 = riemann_trap2(f, a, b, n)\n",
        "\n",
        "# imprime o valor e os erros \n",
        "mostra_erro(vtrap2)"
      ],
      "metadata": {
        "colab": {
          "base_uri": "https://localhost:8080/"
        },
        "outputId": "35183137-d11d-45f8-ef93-4ba7278ac3ae",
        "id": "7KJ5KLlWGQzV"
      },
      "execution_count": 20,
      "outputs": [
        {
          "output_type": "stream",
          "name": "stdout",
          "text": [
            "Valor aproximado = 0.9991966804850723\n",
            "Erro absoluto =  0.0008033195149277361\n",
            "Erro percentual = 0.08033195149277361\n"
          ]
        }
      ]
    },
    {
      "cell_type": "markdown",
      "source": [
        "Algumas observações importantes:\n",
        "  - note que o valor aproximado (e, consequentemente, o erro) usando a fórmula do trapézio é igual ao valor obtido usando a média aritmética das somas de Riemann. \n",
        "  - o erro do esquema trapezoidal é o dobro do erro obtido com a soma de Riemaan média (método do ponto médio)."
      ],
      "metadata": {
        "id": "y8hFpTnVIjE5"
      }
    },
    {
      "cell_type": "markdown",
      "source": [
        "## Exemplo prático\n",
        "---\n",
        "\n",
        "Como exemplo, utilizaremos o caso de um móvel partindo do repouso e ganhando velocidade rapidamente, tal que sua função horário da velocidade seja dada por (com $t$ em segundos e $v$ em m/s):\n",
        "\n",
        "$$\n",
        "v(t) = 3t^2e^{t^3}.\n",
        "$$\n",
        "\n",
        "Gostaríamos de saber qual a posição do móvel em determinado instante $T$ (em segundos), ou seja, precisamos computar\n",
        "\n",
        "$$\n",
        "\\int_0^T v(t) dt = \\int_0^T 3t^2e^{t^3} dt.\n",
        "$$\n",
        "\n",
        "Felizmente, nesse caso, a primitiva pode ser facilmente obtida e é dada por \n",
        "\n",
        "$$\n",
        "\\int_0^T 3t^2e^{t^3} dt = \\left[e^{t^3}\\right]_0^T\n",
        "$$\n",
        "\n",
        "Assim, para $T=1$s, temos que a posição da partícula (em metros) é igual a \n",
        "\n",
        "$$\n",
        "\\left[e^{t^3}\\right]_0^1 = 1,71828...\n",
        "$$\n",
        "\n"
      ],
      "metadata": {
        "id": "HUJ--BrrWdCF"
      }
    },
    {
      "cell_type": "markdown",
      "source": [
        "Como sabemos, calcular a integral definida de uma função $f(x)$ é equivalente a computar a área compreendida entre o gráfico de $y=f(x)$ e o eixo $x$ entre os pontos $a$ e $b$, é o que mostra a figura abaixo para o nosso exemplo.\n",
        "\n",
        "![](https://cloud.bgeneto.com.br:4433/s/taYEjZfAPRFJ2FX/download?path=&files=integralarea.png)"
      ],
      "metadata": {
        "id": "126gZ-ZkePUp"
      }
    },
    {
      "cell_type": "markdown",
      "source": [
        "## A regra do trapézio (composta)\n",
        "\n",
        "A ideia básica da integração numérica via regra do trapézio é dividir a área desejada em regiões interligadas por linhas retas. Em nosso caso, teríamos algo assim:\n",
        "\n",
        "![](https://cloud.bgeneto.com.br:4433/s/taYEjZfAPRFJ2FX/download?path=&files=integralarea2.png)\n",
        "\n",
        "Nesse caso, escolhemos $h = 0,2$, resultando em $n = 5$, isto é, 5 subintervalos/áreas. Cuja área total (a integral aproximada entre 0 e 1) será dada por\n",
        "\n",
        "$$\n",
        "\\int_0^1 v(t) dt = \\frac{v(0) + v(0.2)}{2}h + \\frac{v(0.2) + v(0.4)}{2}h  + \\frac{v(0.4) + v(0.6)}{2}h + \\frac{v(0.6) + v(0.8)}{2}h + \\frac{v(0.8) + v(1.0)}{2}h\n",
        "$$\n",
        "\n",
        "Como $v(t) = 3t^2e^{t^3}$, podemos calcular os valores das bases dos trapézios para obter a segunite aproximação para a integral\n",
        "\n",
        "$$\n",
        "\\int_0^1 v(t) dt ≈ 1.895\\,\\text{m}\n",
        "$$\n",
        "\n",
        "Comparada com valor exato, temos um erro percentual de cerca de 10%. Podemos melhorar esta aproximação utilizando mais trapézios, isto é, diminuindo suficientemente o valor do passo $h$.  \n",
        "\n",
        "Em geral, dada uma função $y = f(x)$, queremos aproximar a integral definida $\\int_a^b f(x) dx$ por $n$ trapézios de igual altura, ou seja,\n",
        "\n",
        "$$\n",
        "\\begin{align}\n",
        "\\int_a^b f(x) dx &= \\int_{x_0}^{x_1} f(x) dx + \\int_{x_1}^{x_2} f(x) dx + \\ldots + \\int_{x_{n-1}}^{x_n} f(x) dx \\\\\n",
        "&≈ \\frac{f(x_0) + f(x_1)}{2}h + \\frac{f(x_1) + f(x_2)}{2}h + \\ldots + \\frac{f(x_{n-1}) + f(x_n)}{2}h \\\\\n",
        "&≈ \\frac{h}{2}\\left[ f(x_0) + 2f(x_1) + 2f(x_2) + \\ldots + 2f(x_{n-1}) + f(x_n)\\right]\n",
        "\\end{align}\n",
        "$$\n",
        "\n",
        "Ou, em notação mais compacta:\n",
        "\n",
        "$$\n",
        "\\int_a^b f(x) dx ≈ \\frac{h}{2}\\left[f(a) + 2\\sum_{i=1}^{n-1}f(x_i) + f(b)\\right]\n",
        "$$\n",
        "\n",
        "Desde que tenhamos a garantia de que $f(x_0) = f(a)$ e $f(x_n) = f(b)$, infelizmente isso não é sempre verdade, dependendo da escolha de $h$ e dos erros de arredondamento/cancelamento.\n",
        "\n",
        "O erro desta regra pode ser estimado em:\n",
        "\n",
        "$$\n",
        "ϵ = -\\frac{b-a}{12}h^2f''(μ), \\text{com}\\ \\mu \\in (a,b)\n",
        "$$"
      ],
      "metadata": {
        "id": "jQrkoznvgVw0"
      }
    },
    {
      "cell_type": "markdown",
      "source": [
        "### Tarefa:\n",
        "\n",
        "Implementar uma função de integração numérica via regra dos trapézios composta e comparar o resultado do exemplo com o exato para diversos valores de $h$ (ou $n$). Note que a convergência do método é quadrática, isto é, que o erro de truncamento é de ordem $\\mathcal O(h^2)$.\n"
      ],
      "metadata": {
        "id": "K7xxUXL1y92G"
      }
    },
    {
      "cell_type": "code",
      "source": [
        "from numpy import exp\n",
        "\n",
        "def vel(t):\n",
        "  return 3*(t**2)*exp(t**3)\n",
        "\n",
        "def trapezio(f, a, b, n):\n",
        "  h = (b - a)/n\n",
        "  res = 0.5*(f(a) + f(b))\n",
        "  for i in range(1, n):\n",
        "    x = a + i*h\n",
        "    res = res + f(x)\n",
        "  return h*res"
      ],
      "metadata": {
        "id": "oOs39b_NW6h6"
      },
      "execution_count": 21,
      "outputs": []
    },
    {
      "cell_type": "code",
      "source": [
        "def analitica(a, b):\n",
        "  return exp(b**3) - exp(a**3)"
      ],
      "metadata": {
        "id": "2wXwn1nx1Hkc"
      },
      "execution_count": 22,
      "outputs": []
    },
    {
      "cell_type": "code",
      "source": [
        "# intervalo \n",
        "a = 0\n",
        "b = 1\n",
        "\n",
        "lst = []\n",
        "# número de subintervalos\n",
        "ns = [2**i for i in range(2,9)]\n",
        "\n",
        "for n in ns:\n",
        "  # solução aproximada \n",
        "  aprox = trapezio(vel, a, b, n)\n",
        "  # solução exata\n",
        "  exata = analitica(a, b)\n",
        "  # erro absoluto \n",
        "  erro = aprox - exata\n",
        "  # erro percentual \n",
        "  erro_perc = 100*abs(erro)/exata\n",
        "  lst.append([aprox, erro, erro_perc])"
      ],
      "metadata": {
        "id": "Hpz3R7by2BfY"
      },
      "execution_count": 23,
      "outputs": []
    },
    {
      "cell_type": "code",
      "source": [
        "import pandas as pd\n",
        "df = pd.DataFrame(data=lst, columns=['aprox', 'err', 'perc'], index=ns)\n",
        "df['err_dif'] = df.err.shift()/df.err\n",
        "df"
      ],
      "metadata": {
        "colab": {
          "base_uri": "https://localhost:8080/",
          "height": 269
        },
        "id": "t3PS_Xem8hAW",
        "outputId": "a9d1163f-cde8-4365-aed9-ec6b3dbf7075"
      },
      "execution_count": 24,
      "outputs": [
        {
          "output_type": "execute_result",
          "data": {
            "text/plain": [
              "        aprox       err       perc   err_dif\n",
              "4    1.922717  0.204435  11.897636       NaN\n",
              "8    1.770846  0.052564   3.059109  3.889249\n",
              "16   1.731521  0.013239   0.770499  3.970294\n",
              "32   1.721598  0.003316   0.192990  3.992432\n",
              "64   1.719111  0.000829   0.048270  3.998099\n",
              "128  1.718489  0.000207   0.012069  3.999524\n",
              "256  1.718334  0.000052   0.003017  3.999881"
            ],
            "text/html": [
              "\n",
              "  <div id=\"df-8a508627-3523-42c0-84df-191480d02cf5\">\n",
              "    <div class=\"colab-df-container\">\n",
              "      <div>\n",
              "<style scoped>\n",
              "    .dataframe tbody tr th:only-of-type {\n",
              "        vertical-align: middle;\n",
              "    }\n",
              "\n",
              "    .dataframe tbody tr th {\n",
              "        vertical-align: top;\n",
              "    }\n",
              "\n",
              "    .dataframe thead th {\n",
              "        text-align: right;\n",
              "    }\n",
              "</style>\n",
              "<table border=\"1\" class=\"dataframe\">\n",
              "  <thead>\n",
              "    <tr style=\"text-align: right;\">\n",
              "      <th></th>\n",
              "      <th>aprox</th>\n",
              "      <th>err</th>\n",
              "      <th>perc</th>\n",
              "      <th>err_dif</th>\n",
              "    </tr>\n",
              "  </thead>\n",
              "  <tbody>\n",
              "    <tr>\n",
              "      <th>4</th>\n",
              "      <td>1.922717</td>\n",
              "      <td>0.204435</td>\n",
              "      <td>11.897636</td>\n",
              "      <td>NaN</td>\n",
              "    </tr>\n",
              "    <tr>\n",
              "      <th>8</th>\n",
              "      <td>1.770846</td>\n",
              "      <td>0.052564</td>\n",
              "      <td>3.059109</td>\n",
              "      <td>3.889249</td>\n",
              "    </tr>\n",
              "    <tr>\n",
              "      <th>16</th>\n",
              "      <td>1.731521</td>\n",
              "      <td>0.013239</td>\n",
              "      <td>0.770499</td>\n",
              "      <td>3.970294</td>\n",
              "    </tr>\n",
              "    <tr>\n",
              "      <th>32</th>\n",
              "      <td>1.721598</td>\n",
              "      <td>0.003316</td>\n",
              "      <td>0.192990</td>\n",
              "      <td>3.992432</td>\n",
              "    </tr>\n",
              "    <tr>\n",
              "      <th>64</th>\n",
              "      <td>1.719111</td>\n",
              "      <td>0.000829</td>\n",
              "      <td>0.048270</td>\n",
              "      <td>3.998099</td>\n",
              "    </tr>\n",
              "    <tr>\n",
              "      <th>128</th>\n",
              "      <td>1.718489</td>\n",
              "      <td>0.000207</td>\n",
              "      <td>0.012069</td>\n",
              "      <td>3.999524</td>\n",
              "    </tr>\n",
              "    <tr>\n",
              "      <th>256</th>\n",
              "      <td>1.718334</td>\n",
              "      <td>0.000052</td>\n",
              "      <td>0.003017</td>\n",
              "      <td>3.999881</td>\n",
              "    </tr>\n",
              "  </tbody>\n",
              "</table>\n",
              "</div>\n",
              "      <button class=\"colab-df-convert\" onclick=\"convertToInteractive('df-8a508627-3523-42c0-84df-191480d02cf5')\"\n",
              "              title=\"Convert this dataframe to an interactive table.\"\n",
              "              style=\"display:none;\">\n",
              "        \n",
              "  <svg xmlns=\"http://www.w3.org/2000/svg\" height=\"24px\"viewBox=\"0 0 24 24\"\n",
              "       width=\"24px\">\n",
              "    <path d=\"M0 0h24v24H0V0z\" fill=\"none\"/>\n",
              "    <path d=\"M18.56 5.44l.94 2.06.94-2.06 2.06-.94-2.06-.94-.94-2.06-.94 2.06-2.06.94zm-11 1L8.5 8.5l.94-2.06 2.06-.94-2.06-.94L8.5 2.5l-.94 2.06-2.06.94zm10 10l.94 2.06.94-2.06 2.06-.94-2.06-.94-.94-2.06-.94 2.06-2.06.94z\"/><path d=\"M17.41 7.96l-1.37-1.37c-.4-.4-.92-.59-1.43-.59-.52 0-1.04.2-1.43.59L10.3 9.45l-7.72 7.72c-.78.78-.78 2.05 0 2.83L4 21.41c.39.39.9.59 1.41.59.51 0 1.02-.2 1.41-.59l7.78-7.78 2.81-2.81c.8-.78.8-2.07 0-2.86zM5.41 20L4 18.59l7.72-7.72 1.47 1.35L5.41 20z\"/>\n",
              "  </svg>\n",
              "      </button>\n",
              "      \n",
              "  <style>\n",
              "    .colab-df-container {\n",
              "      display:flex;\n",
              "      flex-wrap:wrap;\n",
              "      gap: 12px;\n",
              "    }\n",
              "\n",
              "    .colab-df-convert {\n",
              "      background-color: #E8F0FE;\n",
              "      border: none;\n",
              "      border-radius: 50%;\n",
              "      cursor: pointer;\n",
              "      display: none;\n",
              "      fill: #1967D2;\n",
              "      height: 32px;\n",
              "      padding: 0 0 0 0;\n",
              "      width: 32px;\n",
              "    }\n",
              "\n",
              "    .colab-df-convert:hover {\n",
              "      background-color: #E2EBFA;\n",
              "      box-shadow: 0px 1px 2px rgba(60, 64, 67, 0.3), 0px 1px 3px 1px rgba(60, 64, 67, 0.15);\n",
              "      fill: #174EA6;\n",
              "    }\n",
              "\n",
              "    [theme=dark] .colab-df-convert {\n",
              "      background-color: #3B4455;\n",
              "      fill: #D2E3FC;\n",
              "    }\n",
              "\n",
              "    [theme=dark] .colab-df-convert:hover {\n",
              "      background-color: #434B5C;\n",
              "      box-shadow: 0px 1px 3px 1px rgba(0, 0, 0, 0.15);\n",
              "      filter: drop-shadow(0px 1px 2px rgba(0, 0, 0, 0.3));\n",
              "      fill: #FFFFFF;\n",
              "    }\n",
              "  </style>\n",
              "\n",
              "      <script>\n",
              "        const buttonEl =\n",
              "          document.querySelector('#df-8a508627-3523-42c0-84df-191480d02cf5 button.colab-df-convert');\n",
              "        buttonEl.style.display =\n",
              "          google.colab.kernel.accessAllowed ? 'block' : 'none';\n",
              "\n",
              "        async function convertToInteractive(key) {\n",
              "          const element = document.querySelector('#df-8a508627-3523-42c0-84df-191480d02cf5');\n",
              "          const dataTable =\n",
              "            await google.colab.kernel.invokeFunction('convertToInteractive',\n",
              "                                                     [key], {});\n",
              "          if (!dataTable) return;\n",
              "\n",
              "          const docLinkHtml = 'Like what you see? Visit the ' +\n",
              "            '<a target=\"_blank\" href=https://colab.research.google.com/notebooks/data_table.ipynb>data table notebook</a>'\n",
              "            + ' to learn more about interactive tables.';\n",
              "          element.innerHTML = '';\n",
              "          dataTable['output_type'] = 'display_data';\n",
              "          await google.colab.output.renderOutput(dataTable, element);\n",
              "          const docLink = document.createElement('div');\n",
              "          docLink.innerHTML = docLinkHtml;\n",
              "          element.appendChild(docLink);\n",
              "        }\n",
              "      </script>\n",
              "    </div>\n",
              "  </div>\n",
              "  "
            ]
          },
          "metadata": {},
          "execution_count": 24
        }
      ]
    },
    {
      "cell_type": "markdown",
      "source": [
        "### Otimizando via vetorização\n",
        "\n",
        "A performance de códigos que utilizam comandos de repetição em Python tende a ser baixa quando comparada com linguagens compiladas de alto desempenho (leia-se: Fortran ou C/C++). \n",
        "\n",
        "Por esse motivo, buscamos otimizar, sempre que possível, nosso código em Python reescrevendo-o sem loops. Tal técnica é chamada de **vetorização**. \n",
        "\n",
        "Vamos utilizar o método do trapézio para exemplificar o procedimento de vetorização. Para tanto note que a nossa malha $x_i = a + ih$ é igualmente espaçada e foi produzida (dentro de um loop) com o seguinte comando:\n",
        "\n",
        "```python\n",
        "for i in range(1, n):\n",
        "  x = a + i*h\n",
        "```"
      ],
      "metadata": {
        "id": "9-sWL_UhgRz2"
      }
    },
    {
      "cell_type": "markdown",
      "source": [
        "Podemos armazenar todos os valores $x_i$ sem a necessidade de um loop (explícito) com o comando:"
      ],
      "metadata": {
        "id": "jmgpyQRKit-o"
      }
    },
    {
      "cell_type": "code",
      "source": [
        "from numpy import linspace\n",
        "\n",
        "x = linspace(a, b, n+1) \n",
        "x"
      ],
      "metadata": {
        "colab": {
          "base_uri": "https://localhost:8080/"
        },
        "id": "kwAdSowOh2Mr",
        "outputId": "31ef31b9-7f76-49e0-80ca-b1b99a79a315"
      },
      "execution_count": 25,
      "outputs": [
        {
          "output_type": "execute_result",
          "data": {
            "text/plain": [
              "array([0.        , 0.00390625, 0.0078125 , 0.01171875, 0.015625  ,\n",
              "       0.01953125, 0.0234375 , 0.02734375, 0.03125   , 0.03515625,\n",
              "       0.0390625 , 0.04296875, 0.046875  , 0.05078125, 0.0546875 ,\n",
              "       0.05859375, 0.0625    , 0.06640625, 0.0703125 , 0.07421875,\n",
              "       0.078125  , 0.08203125, 0.0859375 , 0.08984375, 0.09375   ,\n",
              "       0.09765625, 0.1015625 , 0.10546875, 0.109375  , 0.11328125,\n",
              "       0.1171875 , 0.12109375, 0.125     , 0.12890625, 0.1328125 ,\n",
              "       0.13671875, 0.140625  , 0.14453125, 0.1484375 , 0.15234375,\n",
              "       0.15625   , 0.16015625, 0.1640625 , 0.16796875, 0.171875  ,\n",
              "       0.17578125, 0.1796875 , 0.18359375, 0.1875    , 0.19140625,\n",
              "       0.1953125 , 0.19921875, 0.203125  , 0.20703125, 0.2109375 ,\n",
              "       0.21484375, 0.21875   , 0.22265625, 0.2265625 , 0.23046875,\n",
              "       0.234375  , 0.23828125, 0.2421875 , 0.24609375, 0.25      ,\n",
              "       0.25390625, 0.2578125 , 0.26171875, 0.265625  , 0.26953125,\n",
              "       0.2734375 , 0.27734375, 0.28125   , 0.28515625, 0.2890625 ,\n",
              "       0.29296875, 0.296875  , 0.30078125, 0.3046875 , 0.30859375,\n",
              "       0.3125    , 0.31640625, 0.3203125 , 0.32421875, 0.328125  ,\n",
              "       0.33203125, 0.3359375 , 0.33984375, 0.34375   , 0.34765625,\n",
              "       0.3515625 , 0.35546875, 0.359375  , 0.36328125, 0.3671875 ,\n",
              "       0.37109375, 0.375     , 0.37890625, 0.3828125 , 0.38671875,\n",
              "       0.390625  , 0.39453125, 0.3984375 , 0.40234375, 0.40625   ,\n",
              "       0.41015625, 0.4140625 , 0.41796875, 0.421875  , 0.42578125,\n",
              "       0.4296875 , 0.43359375, 0.4375    , 0.44140625, 0.4453125 ,\n",
              "       0.44921875, 0.453125  , 0.45703125, 0.4609375 , 0.46484375,\n",
              "       0.46875   , 0.47265625, 0.4765625 , 0.48046875, 0.484375  ,\n",
              "       0.48828125, 0.4921875 , 0.49609375, 0.5       , 0.50390625,\n",
              "       0.5078125 , 0.51171875, 0.515625  , 0.51953125, 0.5234375 ,\n",
              "       0.52734375, 0.53125   , 0.53515625, 0.5390625 , 0.54296875,\n",
              "       0.546875  , 0.55078125, 0.5546875 , 0.55859375, 0.5625    ,\n",
              "       0.56640625, 0.5703125 , 0.57421875, 0.578125  , 0.58203125,\n",
              "       0.5859375 , 0.58984375, 0.59375   , 0.59765625, 0.6015625 ,\n",
              "       0.60546875, 0.609375  , 0.61328125, 0.6171875 , 0.62109375,\n",
              "       0.625     , 0.62890625, 0.6328125 , 0.63671875, 0.640625  ,\n",
              "       0.64453125, 0.6484375 , 0.65234375, 0.65625   , 0.66015625,\n",
              "       0.6640625 , 0.66796875, 0.671875  , 0.67578125, 0.6796875 ,\n",
              "       0.68359375, 0.6875    , 0.69140625, 0.6953125 , 0.69921875,\n",
              "       0.703125  , 0.70703125, 0.7109375 , 0.71484375, 0.71875   ,\n",
              "       0.72265625, 0.7265625 , 0.73046875, 0.734375  , 0.73828125,\n",
              "       0.7421875 , 0.74609375, 0.75      , 0.75390625, 0.7578125 ,\n",
              "       0.76171875, 0.765625  , 0.76953125, 0.7734375 , 0.77734375,\n",
              "       0.78125   , 0.78515625, 0.7890625 , 0.79296875, 0.796875  ,\n",
              "       0.80078125, 0.8046875 , 0.80859375, 0.8125    , 0.81640625,\n",
              "       0.8203125 , 0.82421875, 0.828125  , 0.83203125, 0.8359375 ,\n",
              "       0.83984375, 0.84375   , 0.84765625, 0.8515625 , 0.85546875,\n",
              "       0.859375  , 0.86328125, 0.8671875 , 0.87109375, 0.875     ,\n",
              "       0.87890625, 0.8828125 , 0.88671875, 0.890625  , 0.89453125,\n",
              "       0.8984375 , 0.90234375, 0.90625   , 0.91015625, 0.9140625 ,\n",
              "       0.91796875, 0.921875  , 0.92578125, 0.9296875 , 0.93359375,\n",
              "       0.9375    , 0.94140625, 0.9453125 , 0.94921875, 0.953125  ,\n",
              "       0.95703125, 0.9609375 , 0.96484375, 0.96875   , 0.97265625,\n",
              "       0.9765625 , 0.98046875, 0.984375  , 0.98828125, 0.9921875 ,\n",
              "       0.99609375, 1.        ])"
            ]
          },
          "metadata": {},
          "execution_count": 25
        }
      ]
    },
    {
      "cell_type": "code",
      "source": [
        "from math import fsum \n",
        "\n",
        "def trapezio_vetor(f, a, b, n):\n",
        "  '''versão vetorizada'''\n",
        "  res = 0.5*(f(a) + f(b))\n",
        "  x = linspace(a, b, n+1) \n",
        "  res = sum(f(x)) - res\n",
        "  return (x[1] - x[0])*res\n",
        "\n",
        "def trapezio_vetor_prec(f, a, b, n):\n",
        "  '''versão com melhor precisão usando fsum'''\n",
        "  res = 0.5*(f(a) + f(b))\n",
        "  x = linspace(a, b, n+1) \n",
        "  res = fsum(f(x)) - res\n",
        "  return (x[1] - x[0])*res"
      ],
      "metadata": {
        "id": "5W3grGeZjMCW"
      },
      "execution_count": 26,
      "outputs": []
    },
    {
      "cell_type": "code",
      "source": [
        "%%timeit\n",
        "trapezio(vel, a, b, n)"
      ],
      "metadata": {
        "colab": {
          "base_uri": "https://localhost:8080/"
        },
        "id": "8y616Ja9jcVh",
        "outputId": "91aabc09-bfed-412b-d421-bc56264c2d7b"
      },
      "execution_count": 27,
      "outputs": [
        {
          "output_type": "stream",
          "name": "stdout",
          "text": [
            "343 µs ± 12.9 µs per loop (mean ± std. dev. of 7 runs, 1000 loops each)\n"
          ]
        }
      ]
    },
    {
      "cell_type": "code",
      "source": [
        "%%timeit\n",
        "trapezio_vetor(vel, a, b, n)"
      ],
      "metadata": {
        "colab": {
          "base_uri": "https://localhost:8080/"
        },
        "id": "uYf_rl_8kwj3",
        "outputId": "ad6bc078-01c5-4327-eef6-6fb005630111"
      },
      "execution_count": 28,
      "outputs": [
        {
          "output_type": "stream",
          "name": "stdout",
          "text": [
            "136 µs ± 6.11 µs per loop (mean ± std. dev. of 7 runs, 10000 loops each)\n"
          ]
        }
      ]
    },
    {
      "cell_type": "code",
      "source": [
        "%%timeit\n",
        "trapezio_vetor_prec(vel, a, b, n)"
      ],
      "metadata": {
        "id": "ancWJoD1oo-l",
        "outputId": "38d691f0-45ca-4b5c-f2ce-fd6cacd19005",
        "colab": {
          "base_uri": "https://localhost:8080/"
        }
      },
      "execution_count": 29,
      "outputs": [
        {
          "output_type": "stream",
          "name": "stdout",
          "text": [
            "136 µs ± 5.65 µs per loop (mean ± std. dev. of 7 runs, 10000 loops each)\n"
          ]
        }
      ]
    },
    {
      "cell_type": "code",
      "source": [
        "#@title\n",
        "def pontomed(f, a, b, n):\n",
        "  h = (b-a)/n\n",
        "  f_sum = 0\n",
        "  for i in range(0, n, 1):\n",
        "    x = (a + h/2.0) + i*h\n",
        "    f_sum = f_sum + f(x)\n",
        "  return h*f_sum\n",
        "\n",
        "def pontomed_vetor(f, a, b, n):\n",
        "  h = (b-a)/n\n",
        "  x = linspace(a + h/2, b - h/2, n)\n",
        "  return h*sum(f(x))"
      ],
      "metadata": {
        "id": "22ppQfPkoqRN"
      },
      "execution_count": 30,
      "outputs": []
    },
    {
      "cell_type": "code",
      "source": [
        "from IPython.display import Math, HTML, display\n",
        "\n",
        "def css_styling():\n",
        "  display(HTML(\n",
        "    \"\"\"\n",
        "    <style>\n",
        "    div.warn {    \n",
        "      color: #356A89;\n",
        "      background-color: #D4EAF7;\n",
        "      border-left: 5px solid #3C82E3;\n",
        "      padding: 0.5em;\n",
        "    } \n",
        "    h1 {\n",
        "      color: red !important;\n",
        "    }\n",
        "    </style>\n",
        "    \"\"\"\n",
        "  ))\n",
        "\n",
        "get_ipython().events.register('pre_run_cell', css_styling)"
      ],
      "metadata": {
        "colab": {
          "base_uri": "https://localhost:8080/",
          "height": 17
        },
        "id": "T7bjEito02Zc",
        "outputId": "bb71197c-d4df-4793-e66e-71757de61276"
      },
      "execution_count": 47,
      "outputs": [
        {
          "output_type": "display_data",
          "data": {
            "text/plain": [
              "<IPython.core.display.HTML object>"
            ],
            "text/html": [
              "\n",
              "    <style>\n",
              "    div.warn {\n",
              "      background-color: #fcf2f2;\n",
              "      border-color: #dFb5b4;\n",
              "      border-left: 5px solid #dfb5b4;\n",
              "      padding: 0.5em;\n",
              "    } \n",
              "    h1 {\n",
              "      color: red;\n",
              "    }\n",
              "    </style>\n",
              "    "
            ]
          },
          "metadata": {}
        },
        {
          "output_type": "display_data",
          "data": {
            "text/plain": [
              "<IPython.core.display.HTML object>"
            ],
            "text/html": [
              "\n",
              "    <style>\n",
              "    div.warn {\n",
              "      background-color: #fcf2f2 !important;\n",
              "      border-color: #dFb5b4 !important;\n",
              "      border-left: 5px solid #dfb5b4 !important;\n",
              "      padding: 0.5em !important;\n",
              "    } \n",
              "    h1 {\n",
              "      color: red;\n",
              "    }\n",
              "    </style>\n",
              "    "
            ]
          },
          "metadata": {}
        },
        {
          "output_type": "display_data",
          "data": {
            "text/plain": [
              "<IPython.core.display.HTML object>"
            ],
            "text/html": [
              "\n",
              "    <style>\n",
              "    div.warn {    \n",
              "      color: #356A89;\n",
              "      background-color: #D4EAF7;\n",
              "      border-left: 5px solid #3C82E3;\n",
              "      padding: 0.5em;\n",
              "    } \n",
              "    h1 {\n",
              "      color: red;\n",
              "    }\n",
              "    </style>\n",
              "    "
            ]
          },
          "metadata": {}
        }
      ]
    },
    {
      "cell_type": "code",
      "source": [
        "#@title\n",
        "%%html\n",
        "<div class=\"warn\"><b>Warning:</b> remember to do bookeping</div>"
      ],
      "metadata": {
        "id": "EVpxTjLA0QS9",
        "colab": {
          "base_uri": "https://localhost:8080/",
          "height": 48
        },
        "cellView": "form",
        "outputId": "ff326c85-24a9-475a-eb9a-4a1f079f7491"
      },
      "execution_count": 46,
      "outputs": [
        {
          "output_type": "display_data",
          "data": {
            "text/plain": [
              "<IPython.core.display.HTML object>"
            ],
            "text/html": [
              "\n",
              "    <style>\n",
              "    div.warn {\n",
              "      background-color: #fcf2f2;\n",
              "      border-color: #dFb5b4;\n",
              "      border-left: 5px solid #dfb5b4;\n",
              "      padding: 0.5em;\n",
              "    } \n",
              "    h1 {\n",
              "      color: red;\n",
              "    }\n",
              "    </style>\n",
              "    "
            ]
          },
          "metadata": {}
        },
        {
          "output_type": "display_data",
          "data": {
            "text/plain": [
              "<IPython.core.display.HTML object>"
            ],
            "text/html": [
              "\n",
              "    <style>\n",
              "    div.warn {\n",
              "      background-color: #fcf2f2 !important;\n",
              "      border-color: #dFb5b4 !important;\n",
              "      border-left: 5px solid #dfb5b4 !important;\n",
              "      padding: 0.5em !important;\n",
              "    } \n",
              "    h1 {\n",
              "      color: red;\n",
              "    }\n",
              "    </style>\n",
              "    "
            ]
          },
          "metadata": {}
        },
        {
          "output_type": "display_data",
          "data": {
            "text/plain": [
              "<IPython.core.display.HTML object>"
            ],
            "text/html": [
              "\n",
              "    <style>\n",
              "    div.warn {    \n",
              "      color: #356A89;\n",
              "      background-color: #D4EAF7;\n",
              "      border-left: 5px solid #3C82E3;\n",
              "      padding: 0.5em;\n",
              "    } \n",
              "    h1 {\n",
              "      color: red;\n",
              "    }\n",
              "    </style>\n",
              "    "
            ]
          },
          "metadata": {}
        },
        {
          "output_type": "display_data",
          "data": {
            "text/plain": [
              "<IPython.core.display.HTML object>"
            ],
            "text/html": [
              "<div class=\"warn\"><b>Warning:</b> remember to do bookeping</div>\n"
            ]
          },
          "metadata": {}
        }
      ]
    }
  ]
}